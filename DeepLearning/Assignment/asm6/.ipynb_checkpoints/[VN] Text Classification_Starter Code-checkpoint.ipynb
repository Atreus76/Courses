{
 "cells": [
  {
   "cell_type": "markdown",
   "metadata": {
    "id": "3AkEoCKaHdpj"
   },
   "source": [
    "\n",
    "Trong notebook này, chúng ta sẽ thử quy trình lập trình RNN với Keras để phân loại các câu văn bản.\n",
    "\n",
    "I.   **Trước tiên**, chúng ta sẽ nhập các thư viện hữu ích.\n",
    "\n",
    "II.   **Sau đó**, chúng ta sẽ load dữ liệu và tạo ma trận word embedding bằng Glove.\n",
    "\n",
    "III.  **Chúng ta sẽ thử một mô hình RNN đơn giản** rồi đánh giá chất lượng của nó.\n",
    "\n",
    "IV. Cuối cùng, chúng ta sẽ sử dụng các kỹ thuật để gia tăng độ chính xác của mô hình."
   ]
  },
  {
   "cell_type": "markdown",
   "metadata": {
    "id": "_xY_w9I1cZni"
   },
   "source": [
    "**Task 1:** Thiết lập Fre GPU trong notebook này."
   ]
  },
  {
   "cell_type": "markdown",
   "metadata": {
    "id": "H4iAL0E0ciDS"
   },
   "source": [
    "## Gắn Google Drive cục bộ\n",
    "**Task 2:** Gắn Google vào Google Colab Driver.\n",
    " "
   ]
  },
  {
   "cell_type": "code",
   "execution_count": null,
   "metadata": {
    "id": "I8iz8Rp8H5pG"
   },
   "outputs": [],
   "source": [
    "## VIẾT CODE cho task 2 ở đây:"
   ]
  },
  {
   "cell_type": "markdown",
   "metadata": {
    "id": "LeAakuO9cD5s"
   },
   "source": [
    "# I. Nhập tất cả các thư viện hữu ích."
   ]
  },
  {
   "cell_type": "code",
   "execution_count": null,
   "metadata": {
    "id": "TWgEP6KSHmV_"
   },
   "outputs": [],
   "source": [
    "import sys, os, re, csv, codecs, numpy as np, pandas as pd\n",
    "import tensorflow.keras\n",
    "import datetime\n",
    "from tensorflow.keras import backend as K\n",
    "import tensorflow.keras.optimizers as Optimizer\n",
    "from tensorflow.keras.utils import to_categorical\n",
    "from tensorflow.keras.callbacks import ModelCheckpoint, TensorBoard\n",
    "from tensorflow.keras.preprocessing.text import Tokenizer\n",
    "from tensorflow.keras.preprocessing.sequence import pad_sequences\n",
    "from tensorflow.keras.layers import Dense, Input, LSTM, Embedding, Dropout, Activation\n",
    "from tensorflow.keras.layers import Bidirectional, GlobalMaxPool1D\n",
    "from tensorflow.keras.models import Model, load_model\n",
    "import tensorflow_addons as tfa\n",
    "\n",
    "from tensorflow.keras import initializers, regularizers, constraints, optimizers, layers\n",
    "from sklearn.metrics import confusion_matrix as CM\n",
    "from sklearn.metrics import confusion_matrix, f1_score, precision_score, recall_score\n",
    "import matplotlib.pyplot as plot\n",
    "import seaborn as sn"
   ]
  },
  {
   "cell_type": "markdown",
   "metadata": {
    "id": "ZvFTfBIscRwC"
   },
   "source": [
    "**Task 3**: Copy tập dữ liệu từ Google Drive vào Colab"
   ]
  },
  {
   "cell_type": "code",
   "execution_count": null,
   "metadata": {
    "id": "MzzQsanZIZfg"
   },
   "outputs": [],
   "source": [
    "## VIẾT CODE cho task 3 ở đây:"
   ]
  },
  {
   "cell_type": "markdown",
   "metadata": {
    "id": "D_GxFMl7dFJ-"
   },
   "source": [
    "# II. Load dữ liệu.\n",
    "\n",
    "## Về tập dữ liệu.\n",
    "Câu hỏi không hợp lệ là những câu hỏi nhằm đưa ra một tuyên bố thay vì tìm kiếm những câu trả lời hữu ích. Một số đặc điểm cho thấy câu hỏi không hợp lệ gồm:\n",
    "\n",
    "* Có giọng điệu không trung lập.\n",
    "* Có tính chê bai hoặc kích động.\n",
    "* Không có căn cứ thực tế.\n",
    "* Sử dụng nội dung khiêu dâm (loạn luân, thú tính, ấu dâm) để gây sốc, không phải để tìm kiếm câu trả lời xác thực.\n",
    "\n",
    "Dữ liệu bao gồm câu hỏi đã đề ra và liệu nó có được xác định là không hợp lệ hay không (target = 1)."
   ]
  },
  {
   "cell_type": "markdown",
   "metadata": {
    "id": "A9HhWwT-gpuN"
   },
   "source": [
    "**Task 4**: Load tập dữ liệu.\n",
    "* Load dữ liệu từ file CSV.\n",
    "* Xóa tất cả các hàng có giá trị NA.\n",
    "* Chia dữ liệu thành 3 tập: Tập huấn luyện, tập kiểm định và tập kiểm tra (0.9/0.05/0.05, random_seed = 9) với cùng một tỷ lệ số dữ liệu giữa mỗi lớp.\n",
    "* In ra mô tả của tập dữ liệu này.\n",
    " \n",
    "\n"
   ]
  },
  {
   "cell_type": "code",
   "execution_count": null,
   "metadata": {
    "id": "j9HMbZrqK1Rq"
   },
   "outputs": [],
   "source": [
    "def load_data(data_link):\n",
    "    '''\n",
    "    input: data link.\n",
    "    output:\n",
    "        train_set, validation_set và test_set(0.95/0.05/0.05) mà không có các giá trị NA.\n",
    "    '''\n",
    "    ## VIẾT CODE cho task 4 ở đây:\n",
    "\n",
    "\n",
    "    return train, validation, test\n",
    "\n",
    "train_set, validation_set, test_set = load_data('train.csv')\n",
    "print(train_set['label'].describe())\n",
    "print(validation_set['label'].describe())\n",
    "print(test_set['label'].describe())"
   ]
  },
  {
   "cell_type": "markdown",
   "metadata": {
    "id": "sIcOnRkbqofC"
   },
   "source": [
    "# Mã hóa dữ liệu văn bản.\n",
    "Hãy khai báo một số tham số cơ bản trước:"
   ]
  },
  {
   "cell_type": "code",
   "execution_count": null,
   "metadata": {
    "id": "0F3_zcCjHwzm"
   },
   "outputs": [],
   "source": [
    "embed_size = 50 # mỗi vectơ từ lớn bao nhiêu\n",
    "max_features = 20000 # cần sử dụng bao nhiêu từ duy nhất (tức là số hàng trong vectơ embedding)\n",
    "max_len = 50 # sử dụng số từ tối đa trong câu hỏi\n"
   ]
  },
  {
   "cell_type": "markdown",
   "metadata": {
    "id": "vT8m71iixjxt"
   },
   "source": [
    "**Task 5:** Mã hóa tập dữ liệu bằng Tokenizer và vectơ biểu diễn one-hot.\n",
    "* Mã hóa văn bản (cột question_text) bằng cách chuyển từng question text thành danh sách chỉ mục từ bằng [Tokenizer](https://stackoverflow.com/questions/51956000/what-does-keras-tokenizer-method-exactly-do) với **max_features** và tất cả các câu văn bản từ tập huấn luyện và tập kiểm định.\n",
    "* Chuyển từng danh sách chỉ mục từ thành độ dài như nhau - **max_len** (có cắt tỉa hoặc đệm nếu cần) bằng cách sử dụng [pad_sequences](https://keras.io/preprocessing/sequence/).\n",
    "* Mã hóa nhãn (cột nhãn) bằng cách sử dụng hàm [to_categorical](https://keras.io/utils/) trong Keras."
   ]
  },
  {
   "cell_type": "code",
   "execution_count": null,
   "metadata": {
    "id": "Q1MZKNs4xmfP"
   },
   "outputs": [],
   "source": [
    "def encoding_textdata(train_set, validation_set, test_set, max_features, max_len):\n",
    "    '''\n",
    "    Input:\n",
    "    - Train/validation/test dataset.\n",
    "    - max_features, max_len.\n",
    "    Output:\n",
    "    - X train/validation/test, y train/validation/test.\n",
    "    - Tokenizer.\n",
    "    '''\n",
    "    ## VIẾT CODE cho task 5 ở đây:\n",
    "\n",
    "    return (X_tr, y_tr), (X_va, y_va), (X_te, y_te), tokenizer\n",
    "\n",
    "(X_tr, y_tr), (X_va, y_va), (X_te, y_te), tokenizer = encoding_textdata(train_set, validation_set, test_set, max_features, max_len)"
   ]
  },
  {
   "cell_type": "markdown",
   "metadata": {
    "id": "9kpG-p30WUcc"
   },
   "source": [
    "**Task 6**: Tạo ma trận word embedding.\n",
    "* Đầu tiên, hãy viết một hàm để load [GloVe dictionary.](https://medium.com/analytics-vidhya/basics-of-using-pre-trained-glove-vectors-in-python-d38905f356db)\n",
    "* Sau đó, tạo ma trận word embedding bằng GloVe dictionary với các tham số sau:\n",
    "    - Shape của ma trận word embedding: (Number of word, embed_size).\n",
    "    - Embed size: 50. \n",
    "    - Number of words: Tối thiểu của (max_features, len(word_index)), trong khi word_index là dictionary của từ chứa trong tokenizer.\n",
    "    - Nếu một từ xuất hiện trong GloVe dictionary, chúng ta nên lấy giá trị khởi tạo của nó như trong GloVe dictionary. Nếu không, hãy lấy một giá trị ngẫu nhiên bình thường với mean và std làm mean và std của giá trị GloVe dictionary.\n",
    "    \n",
    "\n"
   ]
  },
  {
   "cell_type": "code",
   "execution_count": null,
   "metadata": {
    "id": "47s8-SncWT3V"
   },
   "outputs": [],
   "source": [
    "\n",
    "def get_coefs(word,*arr): \n",
    "    return word, np.asarray(arr, dtype='float32')\n",
    "def get_GloVe_dict(GloVe_link):\n",
    "    '''\n",
    "    input: GloVe link.\n",
    "    output: GloVe dictionary.\n",
    "    '''\n",
    "    ## VIẾT CODE cho task 6 ở đây:\n",
    "    \n",
    "GloVe_link = 'glove.6B.50d.txt'\n",
    "GloVe_dict = get_GloVe_dict(GloVe_link)"
   ]
  },
  {
   "cell_type": "code",
   "execution_count": null,
   "metadata": {
    "id": "DXRyFSLtr4_k"
   },
   "outputs": [],
   "source": [
    "def create_embedding_matrix(GloVe_dict, tokenizer, max_features):\n",
    "    '''\n",
    "    input: GloVe dictionaray, tokenizer từ tập huấn luyện và tập kiểm định, số lượng đặc trưng tối đa.\n",
    "    output: Word embedding matrix.\n",
    "    '''\n",
    "    \n",
    "    ## VIẾT CODE cho task 6 ở đây:\n",
    "    \n",
    "    \n",
    "    return embedding_matrix\n",
    "\n",
    "embedding_matrix = create_embedding_matrix(GloVe_dict, tokenizer, max_features)"
   ]
  },
  {
   "cell_type": "markdown",
   "metadata": {
    "id": "NWybjdQkqWrg"
   },
   "source": [
    "# III. Lập mô hình\n",
    "Chúng ta cần hoàn thành một số bước: \n",
    "\n",
    "Xây dựng mô hình.\n",
    "\n",
    "Biên dịch mô hình.\n",
    "\n",
    "Huấn luyện/khớp dữ liệu với mô hình.\n",
    "\n",
    "Đánh giá mô hình trên tập kiểm tra."
   ]
  },
  {
   "cell_type": "markdown",
   "metadata": {
    "id": "I6AMfqQkqcET"
   },
   "source": [
    "## Xây dựng mô hình\n",
    "**Task 7:** Chúng ta có thể xây dựng một mô hình dễ dàng gồm các layer khác nhau như:\n",
    "* Layer [Embedding](https://keras.io/layers/embeddings/) với max_features, embed_size và embedding_matrix.\n",
    "* [Bidirectional LSTM layer](https://keras.io/examples/nlp/bidirectional_lstm_imdb/?fbclid=IwAR3fEd6aWyeIDEhZSspjtCRiP0c0Jnz5-XdnUHQYwX8Tp8k9Ni4I8Q5tP9o) với số lượng trạng thái ẩn = 50, dropout_rate = 0.1 và recurrent_dropout_rate = 0.1.\n",
    "* GlobalMaxPool1D.\n",
    "* Dense với số nút = 50, activation = 'relu'.\n",
    "* Dropout với rate = 0.1.\n",
    "* Final dense với số nút = số class, activation = 'sigmoid'."
   ]
  },
  {
   "cell_type": "code",
   "execution_count": null,
   "metadata": {
    "id": "J7_eizWaqi_7"
   },
   "outputs": [],
   "source": [
    "def create_model(max_len, max_features, embed_size):\n",
    "    '''\n",
    "    input: max_len, max_features, embed_size\n",
    "    output: model.\n",
    "    '''\n",
    "    ## VIẾT CODE cho task 7 ở đây:\n",
    "    \n",
    "    \n",
    "    return model\n",
    "\n",
    "model = create_model(max_len, max_features, embed_size)"
   ]
  },
  {
   "cell_type": "markdown",
   "metadata": {
    "id": "lWcBKhzMux9Z"
   },
   "source": [
    "**Task 8:** Biên dịch mô hình và thiết lập callback. Sau đó in ra model summary.\n",
    "* [Biên dịch](https://keras.io/models/model/#compile) mô hình với Adam Optimizer, lr = 1e-2, loss phù hợp cho bài toán phân loại nhị phân và [\"F1-score\"](https://github.com/tensorflow/addons/issues/825) là phép đo.\n",
    "* In ra model summary."
   ]
  },
  {
   "cell_type": "code",
   "execution_count": null,
   "metadata": {
    "id": "P9l8EbG0ur1F"
   },
   "outputs": [],
   "source": [
    "def optimize(model):\n",
    "    '''\n",
    "    Input: \n",
    "        Mô hình.\n",
    "    Return: \n",
    "        Mô hình đã biên dịch.\n",
    "    '''\n",
    "    ## VIẾT CODE cho task 8 ở đây:\n",
    "    \n",
    "    return model\n",
    "\n",
    "model = optimize(model)\n",
    "print(model.summary())"
   ]
  },
  {
   "cell_type": "markdown",
   "metadata": {
    "id": "0BlenccGzLVr"
   },
   "source": [
    "**Task 9**: Thiết lập callback.\n",
    "* Tạo [tensorboard callback](https://www.tensorflow.org/tensorboard/tensorboard_in_notebooks) để lưu logs.\n",
    "* Tạo [checkpoint callback](https://machinelearningmastery.com/check-point-deep-learning-models-keras/) để lưu checkpoint với độ chính xác tốt nhất sau mỗi epoch.\n",
    "* Tạo [ReduceLROnPlateau](https://keras.io/callbacks/#reducelronplateau) callback với factor=0.3, patience=1 và \"Validation F1-score\" monitor.\n",
    "* Tạo [early stopping callback](https://keras.io/callbacks/#earlystopping) với patience=7, mode = 'max' và \"Validation F1-score\" monitor.\n",
    "\n"
   ]
  },
  {
   "cell_type": "code",
   "execution_count": null,
   "metadata": {
    "id": "I6x6dteutin0"
   },
   "outputs": [],
   "source": [
    "def callback_model(checkpoint_name, logs_name):\n",
    "    '''\n",
    "    Input: \n",
    "        Checkpoint name, logs name tốt nhất.\n",
    "    Return: \n",
    "        Callback list có chứa tensorboard callback và checkpoint callback.\n",
    "    '''\n",
    "    ## VIẾT CODE cho task 9 ở đây:\n",
    "\n",
    "    return callbacks_list\n",
    "\n",
    "checkpoint_name = 'weights.best.hdf5'\n",
    "logs_name = 'training_logs'\n",
    "callbacks_list = callback_model(checkpoint_name, logs_name)"
   ]
  },
  {
   "cell_type": "code",
   "execution_count": null,
   "metadata": {
    "id": "WHTwh8OyvGqa"
   },
   "outputs": [],
   "source": [
    "model.summary()"
   ]
  },
  {
   "cell_type": "markdown",
   "metadata": {
    "id": "9nDCsHAC2HwW"
   },
   "source": [
    "**Task 10:** Huấn luyện mô hình.\n",
    "\n",
    "* Huấn luyện mô hình với 20 epoch với batch_size = 4096.\n",
    "* Trả về mô hình có trọng số checkpoint tốt nhất.\n",
    "\n",
    "*Gợi ý*: Trước tiên hãy khớp mô hình, sau đó reload mô hình (hàm load_model) với trọng số checkpoint tốt nhất."
   ]
  },
  {
   "cell_type": "code",
   "execution_count": null,
   "metadata": {
    "id": "xttwiHh4u0ES"
   },
   "outputs": [],
   "source": [
    "def train_model(model, callbacks_list):\n",
    "    '''\n",
    "    Input: \n",
    "        Mô hình và callback list,\n",
    "    Return: \n",
    "        Mô hình với trọng số checkpoint tốt nhất.\n",
    "    '''\n",
    "    ## VIẾT CODE cho task 10 ở đây:\n",
    "\n",
    "    return model\n",
    "\n",
    "model = train_model(model, callbacks_list)\n"
   ]
  },
  {
   "cell_type": "markdown",
   "metadata": {
    "id": "QsG02Ao07Mc-"
   },
   "source": [
    "**Task 11:** Hiển thị tensorboard trong notebook."
   ]
  },
  {
   "cell_type": "code",
   "execution_count": null,
   "metadata": {
    "id": "jpBk-EKZ2Ut7"
   },
   "outputs": [],
   "source": [
    "## VIẾT CODE cho task 11 ở đây:"
   ]
  },
  {
   "cell_type": "markdown",
   "metadata": {
    "id": "4z1ed1CY8Rxh"
   },
   "source": [
    "**Task 12:** Dự đoán trên tập kiểm tra.\n",
    "\n",
    "* Hoàn thành hàm get_prediction_classes.\n",
    "* In ra precision, recall và F1 score."
   ]
  },
  {
   "cell_type": "code",
   "execution_count": null,
   "metadata": {
    "id": "gHTjBLZYvx26"
   },
   "outputs": [],
   "source": [
    "def get_prediction_classes(model, X, y):\n",
    "    ## VIẾT CODE cho task 12 ở đây:\n",
    "    '''\n",
    "    Input: \n",
    "        Mô hình và tập dữ liệu dự đoán. \n",
    "    Return: \n",
    "        Prediction list và groundtrurth list với predicted classes. \n",
    "    '''\n",
    "\n",
    "\n",
    "\n",
    "    return predictions, groundtruths\n",
    "\n",
    "\n",
    "test_predictions, test_groundtruths = get_prediction_classes(model,  X_te, y_te)\n",
    "print(precision_score(test_predictions, test_groundtruths))\n",
    "print(recall_score(test_predictions, test_groundtruths))\n",
    "print(f1_score(test_predictions, test_groundtruths))"
   ]
  },
  {
   "cell_type": "markdown",
   "metadata": {
    "id": "JJwQahjp8hZs"
   },
   "source": [
    "**Task 13:** Thực hiện kết quả dự đoán trên tập kiểm tra bằng cách sử dụng ma trận nhầm lẫn. Hãy nhớ hiển thị tên lớp trong ma trận nhầm lẫn."
   ]
  },
  {
   "cell_type": "code",
   "execution_count": null,
   "metadata": {
    "id": "5KKAmOGvv2Be"
   },
   "outputs": [],
   "source": [
    "def plot_confusion_matrix(predictions, groundtruth, class_names):\n",
    "    ## VIẾT CODE cho task 13 ở đây:\n",
    "\n",
    "\n",
    "\n",
    "\n",
    "    plot.show()\n",
    "class_names = ['valid', 'invalid']\n",
    "plot_confusion_matrix(test_predictions, test_groundtruths, class_names)"
   ]
  },
  {
   "cell_type": "markdown",
   "metadata": {
    "id": "fGmUAFDi87Z6"
   },
   "source": [
    "**Task 14**: Tinh chỉnh mô hình - tinh chỉnh mô hình bằng cách sử dụng một số phương pháp sau:\n",
    "* Tăng tối đa epoch, thay đổi batch size.\n",
    "* Thay thế LSTM bằng các nút GRU và kiểm tra xem nó có thay đổi gì không.\n",
    "* Thêm một layer LSTM/GRU khác hoặc thay thế nó bằng mô-đun Attention/Transformers, xem có cải thiện gì không.\n",
    "* Thử với Dense layer (add/# units/...).\n",
    "* Tìm các quy tắc tiền xử lý mà bạn có thể thêm để cải thiện chất lượng dữ liệu. \n",
    "* Find another GloVe dictionary. Tìm một GloVe dictionary khác.\n",
    "Yêu cầu: F1 score phải tăng thêm 2-3%."
   ]
  },
  {
   "cell_type": "code",
   "execution_count": null,
   "metadata": {
    "id": "ELLyczmROE8J"
   },
   "outputs": [],
   "source": [
    "## VIẾT CODE cho task 14 ở đây:"
   ]
  }
 ],
 "metadata": {
  "accelerator": "GPU",
  "colab": {
   "collapsed_sections": [],
   "name": "[VN] Text Classification_Starter Code.ipynb",
   "provenance": []
  },
  "kernelspec": {
   "display_name": "Python 3 (ipykernel)",
   "language": "python",
   "name": "python3"
  },
  "language_info": {
   "codemirror_mode": {
    "name": "ipython",
    "version": 3
   },
   "file_extension": ".py",
   "mimetype": "text/x-python",
   "name": "python",
   "nbconvert_exporter": "python",
   "pygments_lexer": "ipython3",
   "version": "3.9.13"
  }
 },
 "nbformat": 4,
 "nbformat_minor": 1
}
