{
 "cells": [
  {
   "cell_type": "markdown",
   "metadata": {
    "id": "wsALKyLw3pe1"
   },
   "source": [
    "# All Regression Notebook\n",
    "## Load dữ liệu\n",
    "Khai báo và load thư viện, sau đó load tập dữ liệu. Do tập dữ liệu không chứa tên cột nên chúng ta cần thêm nó vào bằng cách sử dụng list Python thủ công.\n",
    "\n",
    "Chúng ta có `all_train_data` và `all_test_data` đã được nối vào `DataFrame` tương ứng."
   ]
  },
  {
   "cell_type": "code",
   "execution_count": 1,
   "metadata": {
    "colab": {
     "base_uri": "https://localhost:8080/",
     "height": 560
    },
    "id": "KsgMGTek3pe2",
    "outputId": "5c22abf1-69fb-4945-def1-4db80de89f48"
   },
   "outputs": [
    {
     "name": "stdout",
     "output_type": "stream",
     "text": [
      "Train sets size: 2211246\n",
      "Train sets size: 4390848\n",
      "Train sets size: 6539292\n",
      "Train sets size: 8662896\n",
      "Train sets size: 10747620\n",
      "Test set size: 5400\n",
      "Test set size: 5400\n",
      "Test set size: 5400\n",
      "Test set size: 5400\n",
      "Test set size: 5400\n",
      "Test set size: 5400\n",
      "Test set size: 5400\n",
      "Test set size: 5400\n",
      "Test set size: 5400\n"
     ]
    },
    {
     "data": {
      "text/html": [
       "<div>\n",
       "<style scoped>\n",
       "    .dataframe tbody tr th:only-of-type {\n",
       "        vertical-align: middle;\n",
       "    }\n",
       "\n",
       "    .dataframe tbody tr th {\n",
       "        vertical-align: top;\n",
       "    }\n",
       "\n",
       "    .dataframe thead th {\n",
       "        text-align: right;\n",
       "    }\n",
       "</style>\n",
       "<table border=\"1\" class=\"dataframe\">\n",
       "  <thead>\n",
       "    <tr style=\"text-align: right;\">\n",
       "      <th></th>\n",
       "      <th>Popularity</th>\n",
       "      <th>Check-in</th>\n",
       "      <th>Activities</th>\n",
       "      <th>Category</th>\n",
       "      <th>F_1</th>\n",
       "      <th>F_2</th>\n",
       "      <th>F_3</th>\n",
       "      <th>F_4</th>\n",
       "      <th>F_5</th>\n",
       "      <th>F_6</th>\n",
       "      <th>...</th>\n",
       "      <th>Post_date_7</th>\n",
       "      <th>Base_date_1</th>\n",
       "      <th>Base_date_2</th>\n",
       "      <th>Base_date_3</th>\n",
       "      <th>Base_date_4</th>\n",
       "      <th>Base_date_5</th>\n",
       "      <th>Base_date_6</th>\n",
       "      <th>Base_date_7</th>\n",
       "      <th>Span count</th>\n",
       "      <th>bias</th>\n",
       "    </tr>\n",
       "  </thead>\n",
       "  <tbody>\n",
       "    <tr>\n",
       "      <th>0</th>\n",
       "      <td>634995</td>\n",
       "      <td>0</td>\n",
       "      <td>463</td>\n",
       "      <td>1</td>\n",
       "      <td>0.0</td>\n",
       "      <td>806.0</td>\n",
       "      <td>11.291045</td>\n",
       "      <td>1.0</td>\n",
       "      <td>70.495138</td>\n",
       "      <td>0.0</td>\n",
       "      <td>...</td>\n",
       "      <td>0</td>\n",
       "      <td>0</td>\n",
       "      <td>0</td>\n",
       "      <td>0</td>\n",
       "      <td>0</td>\n",
       "      <td>0</td>\n",
       "      <td>0</td>\n",
       "      <td>1</td>\n",
       "      <td>0</td>\n",
       "      <td>1</td>\n",
       "    </tr>\n",
       "    <tr>\n",
       "      <th>1</th>\n",
       "      <td>634995</td>\n",
       "      <td>0</td>\n",
       "      <td>463</td>\n",
       "      <td>1</td>\n",
       "      <td>0.0</td>\n",
       "      <td>806.0</td>\n",
       "      <td>11.291045</td>\n",
       "      <td>1.0</td>\n",
       "      <td>70.495138</td>\n",
       "      <td>0.0</td>\n",
       "      <td>...</td>\n",
       "      <td>0</td>\n",
       "      <td>0</td>\n",
       "      <td>0</td>\n",
       "      <td>0</td>\n",
       "      <td>0</td>\n",
       "      <td>0</td>\n",
       "      <td>1</td>\n",
       "      <td>0</td>\n",
       "      <td>0</td>\n",
       "      <td>1</td>\n",
       "    </tr>\n",
       "    <tr>\n",
       "      <th>2</th>\n",
       "      <td>634995</td>\n",
       "      <td>0</td>\n",
       "      <td>463</td>\n",
       "      <td>1</td>\n",
       "      <td>0.0</td>\n",
       "      <td>806.0</td>\n",
       "      <td>11.291045</td>\n",
       "      <td>1.0</td>\n",
       "      <td>70.495138</td>\n",
       "      <td>0.0</td>\n",
       "      <td>...</td>\n",
       "      <td>0</td>\n",
       "      <td>0</td>\n",
       "      <td>0</td>\n",
       "      <td>0</td>\n",
       "      <td>0</td>\n",
       "      <td>0</td>\n",
       "      <td>0</td>\n",
       "      <td>1</td>\n",
       "      <td>0</td>\n",
       "      <td>1</td>\n",
       "    </tr>\n",
       "    <tr>\n",
       "      <th>3</th>\n",
       "      <td>634995</td>\n",
       "      <td>0</td>\n",
       "      <td>463</td>\n",
       "      <td>1</td>\n",
       "      <td>0.0</td>\n",
       "      <td>806.0</td>\n",
       "      <td>11.291045</td>\n",
       "      <td>1.0</td>\n",
       "      <td>70.495138</td>\n",
       "      <td>0.0</td>\n",
       "      <td>...</td>\n",
       "      <td>0</td>\n",
       "      <td>0</td>\n",
       "      <td>1</td>\n",
       "      <td>0</td>\n",
       "      <td>0</td>\n",
       "      <td>0</td>\n",
       "      <td>0</td>\n",
       "      <td>0</td>\n",
       "      <td>0</td>\n",
       "      <td>1</td>\n",
       "    </tr>\n",
       "    <tr>\n",
       "      <th>4</th>\n",
       "      <td>634995</td>\n",
       "      <td>0</td>\n",
       "      <td>463</td>\n",
       "      <td>1</td>\n",
       "      <td>0.0</td>\n",
       "      <td>806.0</td>\n",
       "      <td>11.291045</td>\n",
       "      <td>1.0</td>\n",
       "      <td>70.495138</td>\n",
       "      <td>0.0</td>\n",
       "      <td>...</td>\n",
       "      <td>0</td>\n",
       "      <td>0</td>\n",
       "      <td>0</td>\n",
       "      <td>0</td>\n",
       "      <td>1</td>\n",
       "      <td>0</td>\n",
       "      <td>0</td>\n",
       "      <td>0</td>\n",
       "      <td>0</td>\n",
       "      <td>1</td>\n",
       "    </tr>\n",
       "  </tbody>\n",
       "</table>\n",
       "<p>5 rows × 55 columns</p>\n",
       "</div>"
      ],
      "text/plain": [
       "   Popularity  Check-in  Activities  Category  F_1    F_2        F_3  F_4  \\\n",
       "0      634995         0         463         1  0.0  806.0  11.291045  1.0   \n",
       "1      634995         0         463         1  0.0  806.0  11.291045  1.0   \n",
       "2      634995         0         463         1  0.0  806.0  11.291045  1.0   \n",
       "3      634995         0         463         1  0.0  806.0  11.291045  1.0   \n",
       "4      634995         0         463         1  0.0  806.0  11.291045  1.0   \n",
       "\n",
       "         F_5  F_6  ...  Post_date_7  Base_date_1  Base_date_2  Base_date_3  \\\n",
       "0  70.495138  0.0  ...            0            0            0            0   \n",
       "1  70.495138  0.0  ...            0            0            0            0   \n",
       "2  70.495138  0.0  ...            0            0            0            0   \n",
       "3  70.495138  0.0  ...            0            0            1            0   \n",
       "4  70.495138  0.0  ...            0            0            0            0   \n",
       "\n",
       "   Base_date_4  Base_date_5  Base_date_6  Base_date_7  Span count  bias  \n",
       "0            0            0            0            1           0     1  \n",
       "1            0            0            1            0           0     1  \n",
       "2            0            0            0            1           0     1  \n",
       "3            0            0            0            0           0     1  \n",
       "4            1            0            0            0           0     1  \n",
       "\n",
       "[5 rows x 55 columns]"
      ]
     },
     "execution_count": 1,
     "metadata": {},
     "output_type": "execute_result"
    }
   ],
   "source": [
    "import pandas\n",
    "import numpy as np\n",
    "import matplotlib.pyplot as plt\n",
    "%matplotlib inline\n",
    "\n",
    "columns_name = [\"Popularity\", \"Check-in\", \"Activities\", \"Category\"] \\\n",
    "            + [\"F_{:d}\".format(i) for i in range(1, 26)] \\\n",
    "            + [\"CC{:d}\".format(i) for i in range(1, 6)] \\\n",
    "            + [\"Base time\", \"Post length\", \"Post count\", \"Post promotion\", \"Span time\"] \\\n",
    "            + [\"Post_date_{:d}\".format(i) for i in range(1, 8)] \\\n",
    "            + [\"Base_date_{:d}\".format(i) for i in range(1, 8)] \\\n",
    "            + [\"Span count\"]\n",
    "all_train_data = [pandas.read_csv(\"Dataset/Training/Features_Variant_{:d}.csv\".format(d), header=None) for d in range(1, 6)]\n",
    "for data in all_train_data:\n",
    "    print(\"Train sets size: {:d}\".format(data.size))\n",
    "# Viết code nối dữ liệu huấn luyện\n",
    "train_data = pandas.concat(all_train_data)\n",
    "train_data.columns = columns_name\n",
    "\n",
    "all_test_data = [pandas.read_csv(\"Dataset/Testing/TestSet/Test_Case_{:d}.csv\".format(d), header=None) for d in range(1, 10)]\n",
    "for data in all_test_data:\n",
    "  print(\"Test set size: {:d}\".format(data.size))\n",
    "# Viết code nối dữ liệu kiểm tra\n",
    "test_data = pandas.concat(all_test_data)\n",
    "test_data.columns = columns_name\n",
    "\n",
    "train_data[\"bias\"] = 1\n",
    "test_data[\"bias\"] = 1\n",
    "\n",
    "train_data.head()\n"
   ]
  },
  {
   "cell_type": "markdown",
   "metadata": {
    "id": "gDfCdXgd3pe_"
   },
   "source": [
    "## Lựa chọn hạng mục phụ\n",
    "Cột Category chứa các index bất kỳ của hạng mục dữ liệu liên quan tới bản chất của chính bài đăng. Để đơn giản, chúng ta sẽ sử dụng hạng mục có lượng dữ liệu lớn nhất để thực hiện Hồi quy Tuyến tính.\n",
    "\n",
    "Tìm và lựa chọn hạng mục có nhiều bản ghi nhất sử dụng pandas. Lưu nó trong biến `largest_category`"
   ]
  },
  {
   "cell_type": "code",
   "execution_count": 2,
   "metadata": {
    "id": "ZRlw6ulC3pfB"
   },
   "outputs": [
    {
     "name": "stdout",
     "output_type": "stream",
     "text": [
      "9\n"
     ]
    }
   ],
   "source": [
    "# Viết code ở đây:\n",
    "largest_category = train_data['Category'].value_counts().idxmax()\n",
    "print(largest_category)"
   ]
  },
  {
   "cell_type": "code",
   "execution_count": 3,
   "metadata": {
    "id": "2yBrJGjv3pfH"
   },
   "outputs": [],
   "source": [
    "# Phân hạng các mô hình\n",
    "train_data = train_data.loc[train_data['Category'] == largest_category].drop('Category', axis=1)\n",
    "test_data = test_data.loc[test_data['Category'] == largest_category].drop('Category', axis=1)\n",
    "\n",
    "label = \"Span count\"\n",
    "features = [col for col in train_data.columns if col != label]\n",
    "\n",
    "train_features = train_data[features]\n",
    "train_labels = train_data[label]\n",
    "test_features = test_data[features]\n",
    "test_labels = test_data[label]"
   ]
  },
  {
   "cell_type": "code",
   "execution_count": 4,
   "metadata": {},
   "outputs": [
    {
     "data": {
      "text/html": [
       "<div>\n",
       "<style scoped>\n",
       "    .dataframe tbody tr th:only-of-type {\n",
       "        vertical-align: middle;\n",
       "    }\n",
       "\n",
       "    .dataframe tbody tr th {\n",
       "        vertical-align: top;\n",
       "    }\n",
       "\n",
       "    .dataframe thead th {\n",
       "        text-align: right;\n",
       "    }\n",
       "</style>\n",
       "<table border=\"1\" class=\"dataframe\">\n",
       "  <thead>\n",
       "    <tr style=\"text-align: right;\">\n",
       "      <th></th>\n",
       "      <th>Popularity</th>\n",
       "      <th>Check-in</th>\n",
       "      <th>Activities</th>\n",
       "      <th>F_1</th>\n",
       "      <th>F_2</th>\n",
       "      <th>F_3</th>\n",
       "      <th>F_4</th>\n",
       "      <th>F_5</th>\n",
       "      <th>F_6</th>\n",
       "      <th>F_7</th>\n",
       "      <th>...</th>\n",
       "      <th>Post_date_7</th>\n",
       "      <th>Base_date_1</th>\n",
       "      <th>Base_date_2</th>\n",
       "      <th>Base_date_3</th>\n",
       "      <th>Base_date_4</th>\n",
       "      <th>Base_date_5</th>\n",
       "      <th>Base_date_6</th>\n",
       "      <th>Base_date_7</th>\n",
       "      <th>Span count</th>\n",
       "      <th>bias</th>\n",
       "    </tr>\n",
       "  </thead>\n",
       "  <tbody>\n",
       "    <tr>\n",
       "      <th>0</th>\n",
       "      <td>1340759</td>\n",
       "      <td>33935</td>\n",
       "      <td>49392</td>\n",
       "      <td>0.0</td>\n",
       "      <td>768.0</td>\n",
       "      <td>77.200000</td>\n",
       "      <td>36.5</td>\n",
       "      <td>132.861432</td>\n",
       "      <td>0.0</td>\n",
       "      <td>275.0</td>\n",
       "      <td>...</td>\n",
       "      <td>0</td>\n",
       "      <td>0</td>\n",
       "      <td>0</td>\n",
       "      <td>0</td>\n",
       "      <td>0</td>\n",
       "      <td>1</td>\n",
       "      <td>0</td>\n",
       "      <td>0</td>\n",
       "      <td>35</td>\n",
       "      <td>1</td>\n",
       "    </tr>\n",
       "    <tr>\n",
       "      <th>4</th>\n",
       "      <td>4349418</td>\n",
       "      <td>0</td>\n",
       "      <td>614043</td>\n",
       "      <td>0.0</td>\n",
       "      <td>958.0</td>\n",
       "      <td>65.974194</td>\n",
       "      <td>24.0</td>\n",
       "      <td>126.960748</td>\n",
       "      <td>0.0</td>\n",
       "      <td>787.0</td>\n",
       "      <td>...</td>\n",
       "      <td>1</td>\n",
       "      <td>1</td>\n",
       "      <td>0</td>\n",
       "      <td>0</td>\n",
       "      <td>0</td>\n",
       "      <td>0</td>\n",
       "      <td>0</td>\n",
       "      <td>0</td>\n",
       "      <td>0</td>\n",
       "      <td>1</td>\n",
       "    </tr>\n",
       "    <tr>\n",
       "      <th>9</th>\n",
       "      <td>891159</td>\n",
       "      <td>0</td>\n",
       "      <td>106158</td>\n",
       "      <td>0.0</td>\n",
       "      <td>135.0</td>\n",
       "      <td>23.980000</td>\n",
       "      <td>11.0</td>\n",
       "      <td>28.596147</td>\n",
       "      <td>0.0</td>\n",
       "      <td>98.0</td>\n",
       "      <td>...</td>\n",
       "      <td>0</td>\n",
       "      <td>0</td>\n",
       "      <td>0</td>\n",
       "      <td>0</td>\n",
       "      <td>0</td>\n",
       "      <td>0</td>\n",
       "      <td>1</td>\n",
       "      <td>0</td>\n",
       "      <td>0</td>\n",
       "      <td>1</td>\n",
       "    </tr>\n",
       "    <tr>\n",
       "      <th>10</th>\n",
       "      <td>2900008</td>\n",
       "      <td>46</td>\n",
       "      <td>1125038</td>\n",
       "      <td>0.0</td>\n",
       "      <td>2092.0</td>\n",
       "      <td>71.985222</td>\n",
       "      <td>26.0</td>\n",
       "      <td>202.118155</td>\n",
       "      <td>0.0</td>\n",
       "      <td>2092.0</td>\n",
       "      <td>...</td>\n",
       "      <td>0</td>\n",
       "      <td>0</td>\n",
       "      <td>0</td>\n",
       "      <td>0</td>\n",
       "      <td>0</td>\n",
       "      <td>0</td>\n",
       "      <td>1</td>\n",
       "      <td>0</td>\n",
       "      <td>1</td>\n",
       "      <td>1</td>\n",
       "    </tr>\n",
       "    <tr>\n",
       "      <th>16</th>\n",
       "      <td>2900008</td>\n",
       "      <td>46</td>\n",
       "      <td>1125038</td>\n",
       "      <td>0.0</td>\n",
       "      <td>2092.0</td>\n",
       "      <td>71.985222</td>\n",
       "      <td>26.0</td>\n",
       "      <td>202.118155</td>\n",
       "      <td>0.0</td>\n",
       "      <td>2092.0</td>\n",
       "      <td>...</td>\n",
       "      <td>0</td>\n",
       "      <td>0</td>\n",
       "      <td>1</td>\n",
       "      <td>0</td>\n",
       "      <td>0</td>\n",
       "      <td>0</td>\n",
       "      <td>0</td>\n",
       "      <td>0</td>\n",
       "      <td>572</td>\n",
       "      <td>1</td>\n",
       "    </tr>\n",
       "  </tbody>\n",
       "</table>\n",
       "<p>5 rows × 54 columns</p>\n",
       "</div>"
      ],
      "text/plain": [
       "    Popularity  Check-in  Activities  F_1     F_2        F_3   F_4  \\\n",
       "0      1340759     33935       49392  0.0   768.0  77.200000  36.5   \n",
       "4      4349418         0      614043  0.0   958.0  65.974194  24.0   \n",
       "9       891159         0      106158  0.0   135.0  23.980000  11.0   \n",
       "10     2900008        46     1125038  0.0  2092.0  71.985222  26.0   \n",
       "16     2900008        46     1125038  0.0  2092.0  71.985222  26.0   \n",
       "\n",
       "           F_5  F_6     F_7  ...  Post_date_7  Base_date_1  Base_date_2  \\\n",
       "0   132.861432  0.0   275.0  ...            0            0            0   \n",
       "4   126.960748  0.0   787.0  ...            1            1            0   \n",
       "9    28.596147  0.0    98.0  ...            0            0            0   \n",
       "10  202.118155  0.0  2092.0  ...            0            0            0   \n",
       "16  202.118155  0.0  2092.0  ...            0            0            1   \n",
       "\n",
       "    Base_date_3  Base_date_4  Base_date_5  Base_date_6  Base_date_7  \\\n",
       "0             0            0            1            0            0   \n",
       "4             0            0            0            0            0   \n",
       "9             0            0            0            1            0   \n",
       "10            0            0            0            1            0   \n",
       "16            0            0            0            0            0   \n",
       "\n",
       "    Span count  bias  \n",
       "0           35     1  \n",
       "4            0     1  \n",
       "9            0     1  \n",
       "10           1     1  \n",
       "16         572     1  \n",
       "\n",
       "[5 rows x 54 columns]"
      ]
     },
     "execution_count": 4,
     "metadata": {},
     "output_type": "execute_result"
    }
   ],
   "source": [
    "test_data.head()"
   ]
  },
  {
   "cell_type": "code",
   "execution_count": 5,
   "metadata": {},
   "outputs": [
    {
     "data": {
      "text/html": [
       "<div>\n",
       "<style scoped>\n",
       "    .dataframe tbody tr th:only-of-type {\n",
       "        vertical-align: middle;\n",
       "    }\n",
       "\n",
       "    .dataframe tbody tr th {\n",
       "        vertical-align: top;\n",
       "    }\n",
       "\n",
       "    .dataframe thead th {\n",
       "        text-align: right;\n",
       "    }\n",
       "</style>\n",
       "<table border=\"1\" class=\"dataframe\">\n",
       "  <thead>\n",
       "    <tr style=\"text-align: right;\">\n",
       "      <th></th>\n",
       "      <th>Popularity</th>\n",
       "      <th>Check-in</th>\n",
       "      <th>Activities</th>\n",
       "      <th>F_1</th>\n",
       "      <th>F_2</th>\n",
       "      <th>F_3</th>\n",
       "      <th>F_4</th>\n",
       "      <th>F_5</th>\n",
       "      <th>F_6</th>\n",
       "      <th>F_7</th>\n",
       "      <th>...</th>\n",
       "      <th>Post_date_7</th>\n",
       "      <th>Base_date_1</th>\n",
       "      <th>Base_date_2</th>\n",
       "      <th>Base_date_3</th>\n",
       "      <th>Base_date_4</th>\n",
       "      <th>Base_date_5</th>\n",
       "      <th>Base_date_6</th>\n",
       "      <th>Base_date_7</th>\n",
       "      <th>Span count</th>\n",
       "      <th>bias</th>\n",
       "    </tr>\n",
       "  </thead>\n",
       "  <tbody>\n",
       "    <tr>\n",
       "      <th>349</th>\n",
       "      <td>1552629</td>\n",
       "      <td>0</td>\n",
       "      <td>64641</td>\n",
       "      <td>0.0</td>\n",
       "      <td>910.0</td>\n",
       "      <td>159.701923</td>\n",
       "      <td>125.0</td>\n",
       "      <td>153.676163</td>\n",
       "      <td>0.0</td>\n",
       "      <td>621.0</td>\n",
       "      <td>...</td>\n",
       "      <td>0</td>\n",
       "      <td>0</td>\n",
       "      <td>1</td>\n",
       "      <td>0</td>\n",
       "      <td>0</td>\n",
       "      <td>0</td>\n",
       "      <td>0</td>\n",
       "      <td>0</td>\n",
       "      <td>278</td>\n",
       "      <td>1</td>\n",
       "    </tr>\n",
       "    <tr>\n",
       "      <th>350</th>\n",
       "      <td>1552629</td>\n",
       "      <td>0</td>\n",
       "      <td>64641</td>\n",
       "      <td>0.0</td>\n",
       "      <td>910.0</td>\n",
       "      <td>159.701923</td>\n",
       "      <td>125.0</td>\n",
       "      <td>153.676163</td>\n",
       "      <td>0.0</td>\n",
       "      <td>621.0</td>\n",
       "      <td>...</td>\n",
       "      <td>0</td>\n",
       "      <td>0</td>\n",
       "      <td>0</td>\n",
       "      <td>0</td>\n",
       "      <td>1</td>\n",
       "      <td>0</td>\n",
       "      <td>0</td>\n",
       "      <td>0</td>\n",
       "      <td>21</td>\n",
       "      <td>1</td>\n",
       "    </tr>\n",
       "    <tr>\n",
       "      <th>351</th>\n",
       "      <td>1552629</td>\n",
       "      <td>0</td>\n",
       "      <td>64641</td>\n",
       "      <td>0.0</td>\n",
       "      <td>910.0</td>\n",
       "      <td>159.701923</td>\n",
       "      <td>125.0</td>\n",
       "      <td>153.676163</td>\n",
       "      <td>0.0</td>\n",
       "      <td>621.0</td>\n",
       "      <td>...</td>\n",
       "      <td>0</td>\n",
       "      <td>0</td>\n",
       "      <td>0</td>\n",
       "      <td>0</td>\n",
       "      <td>1</td>\n",
       "      <td>0</td>\n",
       "      <td>0</td>\n",
       "      <td>0</td>\n",
       "      <td>16</td>\n",
       "      <td>1</td>\n",
       "    </tr>\n",
       "    <tr>\n",
       "      <th>352</th>\n",
       "      <td>1552629</td>\n",
       "      <td>0</td>\n",
       "      <td>64641</td>\n",
       "      <td>0.0</td>\n",
       "      <td>910.0</td>\n",
       "      <td>159.701923</td>\n",
       "      <td>125.0</td>\n",
       "      <td>153.676163</td>\n",
       "      <td>0.0</td>\n",
       "      <td>621.0</td>\n",
       "      <td>...</td>\n",
       "      <td>1</td>\n",
       "      <td>0</td>\n",
       "      <td>0</td>\n",
       "      <td>1</td>\n",
       "      <td>0</td>\n",
       "      <td>0</td>\n",
       "      <td>0</td>\n",
       "      <td>0</td>\n",
       "      <td>3</td>\n",
       "      <td>1</td>\n",
       "    </tr>\n",
       "    <tr>\n",
       "      <th>353</th>\n",
       "      <td>1552629</td>\n",
       "      <td>0</td>\n",
       "      <td>64641</td>\n",
       "      <td>0.0</td>\n",
       "      <td>910.0</td>\n",
       "      <td>159.701923</td>\n",
       "      <td>125.0</td>\n",
       "      <td>153.676163</td>\n",
       "      <td>0.0</td>\n",
       "      <td>621.0</td>\n",
       "      <td>...</td>\n",
       "      <td>1</td>\n",
       "      <td>0</td>\n",
       "      <td>1</td>\n",
       "      <td>0</td>\n",
       "      <td>0</td>\n",
       "      <td>0</td>\n",
       "      <td>0</td>\n",
       "      <td>0</td>\n",
       "      <td>0</td>\n",
       "      <td>1</td>\n",
       "    </tr>\n",
       "  </tbody>\n",
       "</table>\n",
       "<p>5 rows × 54 columns</p>\n",
       "</div>"
      ],
      "text/plain": [
       "     Popularity  Check-in  Activities  F_1    F_2         F_3    F_4  \\\n",
       "349     1552629         0       64641  0.0  910.0  159.701923  125.0   \n",
       "350     1552629         0       64641  0.0  910.0  159.701923  125.0   \n",
       "351     1552629         0       64641  0.0  910.0  159.701923  125.0   \n",
       "352     1552629         0       64641  0.0  910.0  159.701923  125.0   \n",
       "353     1552629         0       64641  0.0  910.0  159.701923  125.0   \n",
       "\n",
       "            F_5  F_6    F_7  ...  Post_date_7  Base_date_1  Base_date_2  \\\n",
       "349  153.676163  0.0  621.0  ...            0            0            1   \n",
       "350  153.676163  0.0  621.0  ...            0            0            0   \n",
       "351  153.676163  0.0  621.0  ...            0            0            0   \n",
       "352  153.676163  0.0  621.0  ...            1            0            0   \n",
       "353  153.676163  0.0  621.0  ...            1            0            1   \n",
       "\n",
       "     Base_date_3  Base_date_4  Base_date_5  Base_date_6  Base_date_7  \\\n",
       "349            0            0            0            0            0   \n",
       "350            0            1            0            0            0   \n",
       "351            0            1            0            0            0   \n",
       "352            1            0            0            0            0   \n",
       "353            0            0            0            0            0   \n",
       "\n",
       "     Span count  bias  \n",
       "349         278     1  \n",
       "350          21     1  \n",
       "351          16     1  \n",
       "352           3     1  \n",
       "353           0     1  \n",
       "\n",
       "[5 rows x 54 columns]"
      ]
     },
     "execution_count": 5,
     "metadata": {},
     "output_type": "execute_result"
    }
   ],
   "source": [
    "train_data.head()"
   ]
  },
  {
   "cell_type": "markdown",
   "metadata": {
    "id": "luuprw_n3pfM"
   },
   "source": [
    "## Tương quan cơ bản\n",
    "Chúng ta sẽ vẽ ma trận tương quan giữa các biến CC. Tương quan rất hữu ích để xem liệu các đặc trưng có kết nối quá chặt chẽ không -  chúng ta không muốn chúng cùng nhau vì chúng sẽ tạo ra nhiễu giả gây overfit mô hình."
   ]
  },
  {
   "cell_type": "code",
   "execution_count": 4,
   "metadata": {
    "id": "B_FBwjw03pfO",
    "outputId": "4517d7d7-ecf0-45a3-9b04-a51585620d97"
   },
   "outputs": [
    {
     "name": "stdout",
     "output_type": "stream",
     "text": [
      "          CC1       CC2       CC3       CC4       CC5\n",
      "CC1  1.000000  0.581207  0.665784  0.998054 -0.054450\n",
      "CC2  0.581207  1.000000  0.074723  0.605900  0.686801\n",
      "CC3  0.665784  0.074723  1.000000  0.656649 -0.673494\n",
      "CC4  0.998054  0.605900  0.656649  1.000000 -0.029488\n",
      "CC5 -0.054450  0.686801 -0.673494 -0.029488  1.000000\n"
     ]
    }
   ],
   "source": [
    "# Viết code ở đây:\n",
    "CC_column_names = [f\"CC{i}\" for i in range(1, 6)]\n",
    "CC_columns = train_data[CC_column_names]\n",
    "corr_matrix = CC_columns.corr()\n",
    "print(corr_matrix)"
   ]
  },
  {
   "cell_type": "code",
   "execution_count": 5,
   "metadata": {},
   "outputs": [
    {
     "data": {
      "image/png": "[encoded data removed]",
      "text/plain": [
       "<Figure size 500x500 with 1 Axes>"
      ]
     },
     "metadata": {},
     "output_type": "display_data"
    }
   ],
   "source": [
    "fig, ax = plt.subplots(figsize=(5,5))\n",
    "ax.matshow(corr_matrix, cmap='coolwarm')\n",
    "# Set the column and row labels\n",
    "plt.xticks(range(len(corr_matrix.columns)), corr_matrix.columns, rotation=90)\n",
    "plt.yticks(range(len(corr_matrix.columns)), corr_matrix.columns)\n",
    "\n",
    "# Add annotations to the heatmap\n",
    "for i in range(len(corr_matrix.columns)):\n",
    "    for j in range(len(corr_matrix.columns)):\n",
    "        ax.text(j, i, f\"{corr_matrix.iat[i, j]:.2f}\", ha='center', va='center', color='black')\n",
    "plt.show()"
   ]
  },
  {
   "cell_type": "markdown",
   "metadata": {
    "id": "U7g4fYvJ3pfU"
   },
   "source": [
    "## Xây dựng mô hình Hồi quy\n",
    "\n",
    "__Nhiệm vụ của chúng ta là dự đoán số lượng bình luận bài đăng sẽ nhận được (cột \"Span count\")__ <br>\n",
    "\"Span time\" thì cần thiết trong khi tất cả các cột khác tùy chọn. <br>\n",
    "Thử mô hình Hồi quy đa biến đơn giản chỉ có các đặc trưng cơ bản: <br>\n",
    "[\"Popularity\", \"Base time\", \"Post length\", \"Post count\", \"Span time\", \"bias\"]. <br>\n",
    "\n",
    "In ra hệ số MSE từ sklearn hoặc RSS từ khóa học cho cả tập huấn luyện và tập kiểm tra."
   ]
  },
  {
   "cell_type": "code",
   "execution_count": 6,
   "metadata": {},
   "outputs": [],
   "source": [
    "simple_features = [\"Popularity\", \"Base time\", \"Post length\", \"Post count\", \"Span time\", \"bias\"]\n",
    "simple_train_features = train_data[simple_features]\n",
    "simple_test_features = test_data[simple_features]"
   ]
  },
  {
   "cell_type": "code",
   "execution_count": 7,
   "metadata": {
    "id": "wawBZN663pfV"
   },
   "outputs": [],
   "source": [
    "# Viết code ở đây:\n",
    "from sklearn.linear_model import LinearRegression\n",
    "from sklearn.metrics import mean_squared_error\n",
    "model = LinearRegression()\n",
    "model.fit(simple_train_features, train_labels)\n",
    "y_pred_train = model.predict(simple_train_features)\n",
    "y_pred = model.predict(simple_test_features)\n",
    "MSE_train = mean_squared_error(y_pred_train, train_labels)\n",
    "MSE = mean_squared_error(y_pred, test_labels)"
   ]
  },
  {
   "cell_type": "code",
   "execution_count": 8,
   "metadata": {},
   "outputs": [
    {
     "name": "stdout",
     "output_type": "stream",
     "text": [
      "MSE_train_set: 1689.566519860135\n",
      "MSE_test_set: 5340.589651601161\n"
     ]
    }
   ],
   "source": [
    "print(f\"MSE_train_set: {MSE_train}\")\n",
    "print(f\"MSE_test_set: {MSE}\")"
   ]
  },
  {
   "cell_type": "markdown",
   "metadata": {
    "id": "wQpTJVPA3pfb"
   },
   "source": [
    "### Hãy thử cải thiện với nhiều đặc trưng hơn\n",
    "Không phải mô hình tốt nhất chúng ta có thể sử dụng. Chúng ta có thể thử thêm nhiều đặc trưng liên quan. <br>Nối tất cả các thuộc tính CC vào các đặc trưng và thử lại với cùng số liệu."
   ]
  },
  {
   "cell_type": "code",
   "execution_count": 9,
   "metadata": {
    "id": "pgRc-PxW3pfc"
   },
   "outputs": [
    {
     "data": {
      "text/plain": [
       "['CC1',\n",
       " 'CC2',\n",
       " 'CC3',\n",
       " 'CC4',\n",
       " 'CC5',\n",
       " 'Popularity',\n",
       " 'Base time',\n",
       " 'Post length',\n",
       " 'Post count',\n",
       " 'Span time',\n",
       " 'bias']"
      ]
     },
     "execution_count": 9,
     "metadata": {},
     "output_type": "execute_result"
    }
   ],
   "source": [
    "# Viết code ở đây:\n",
    "large_features = CC_column_names + simple_features\n",
    "large_features"
   ]
  },
  {
   "cell_type": "code",
   "execution_count": 10,
   "metadata": {},
   "outputs": [],
   "source": [
    "large_train_features = train_data[large_features]\n",
    "large_test_features = test_data[large_features]"
   ]
  },
  {
   "cell_type": "code",
   "execution_count": 11,
   "metadata": {},
   "outputs": [
    {
     "data": {
      "text/plain": [
       "(110313, 11)"
      ]
     },
     "execution_count": 11,
     "metadata": {},
     "output_type": "execute_result"
    }
   ],
   "source": [
    "large_train_features.shape"
   ]
  },
  {
   "cell_type": "code",
   "execution_count": 14,
   "metadata": {},
   "outputs": [
    {
     "data": {
      "text/plain": [
       "(110313,)"
      ]
     },
     "execution_count": 14,
     "metadata": {},
     "output_type": "execute_result"
    }
   ],
   "source": [
    "train_labels.shape"
   ]
  },
  {
   "cell_type": "code",
   "execution_count": 11,
   "metadata": {},
   "outputs": [],
   "source": [
    "from sklearn.linear_model import LinearRegression\n",
    "from sklearn.metrics import mean_squared_error\n",
    "model2 = LinearRegression()\n",
    "model2.fit(large_train_features, train_labels)\n",
    "y_pred_train = model2.predict(large_train_features)\n",
    "y_pred = model2.predict(large_test_features)\n",
    "MSE_train = mean_squared_error(y_pred_train, train_labels)\n",
    "MSE = mean_squared_error(y_pred, test_labels)"
   ]
  },
  {
   "cell_type": "code",
   "execution_count": 12,
   "metadata": {},
   "outputs": [
    {
     "name": "stdout",
     "output_type": "stream",
     "text": [
      "MSE_train_set: 1535.018759014618\n",
      "MSE_test_set: 3878.532095628315\n"
     ]
    }
   ],
   "source": [
    "print(f\"MSE_train_set: {MSE_train}\")\n",
    "print(f\"MSE_test_set: {MSE}\")"
   ]
  },
  {
   "cell_type": "markdown",
   "metadata": {
    "id": "bxjlSr703pfi"
   },
   "source": [
    "Bài học rút ra: Tối ưu hóa sớm hiếm khi hữu ích.\n",
    "\n",
    "## Giải quyết overfit\n",
    "### Áp dụng cách giải cho overfit\n",
    "\n",
    "Sự khác biệt về hệ số huấn luyện và kiểm tra chỉ ra mô hình có thể overfitting. Hãy thử sửa chữa. Mở rộng hồi quy [RidgeCV](https://scikit-learn.org/stable/modules/generated/sklearn.linear_model.RidgeCV.html) (cv = 10) với alpha dọc theo logspace giữa 0 và 10, ghi nhận giá trị có chất lượng tốt nhất thành biến `best_alpha`, và *có thể tùy chọn vẽ một đồ thị cho độ lớn của các hệ số*."
   ]
  },
  {
   "cell_type": "code",
   "execution_count": 13,
   "metadata": {
    "id": "OVv4BUUP3pfk"
   },
   "outputs": [
    {
     "name": "stderr",
     "output_type": "stream",
     "text": [
      "C:\\Users\\Bang\\anaconda3\\lib\\site-packages\\sklearn\\linear_model\\_ridge.py:157: LinAlgWarning: Ill-conditioned matrix (rcond=1.55904e-18): result may not be accurate.\n",
      "  return linalg.solve(A, Xy, sym_pos=True, overwrite_a=True).T\n",
      "C:\\Users\\Bang\\anaconda3\\lib\\site-packages\\sklearn\\linear_model\\_ridge.py:157: LinAlgWarning: Ill-conditioned matrix (rcond=1.60312e-18): result may not be accurate.\n",
      "  return linalg.solve(A, Xy, sym_pos=True, overwrite_a=True).T\n",
      "C:\\Users\\Bang\\anaconda3\\lib\\site-packages\\sklearn\\linear_model\\_ridge.py:157: LinAlgWarning: Ill-conditioned matrix (rcond=1.51454e-18): result may not be accurate.\n",
      "  return linalg.solve(A, Xy, sym_pos=True, overwrite_a=True).T\n",
      "C:\\Users\\Bang\\anaconda3\\lib\\site-packages\\sklearn\\linear_model\\_ridge.py:157: LinAlgWarning: Ill-conditioned matrix (rcond=1.65078e-18): result may not be accurate.\n",
      "  return linalg.solve(A, Xy, sym_pos=True, overwrite_a=True).T\n",
      "C:\\Users\\Bang\\anaconda3\\lib\\site-packages\\sklearn\\linear_model\\_ridge.py:157: LinAlgWarning: Ill-conditioned matrix (rcond=1.51501e-18): result may not be accurate.\n",
      "  return linalg.solve(A, Xy, sym_pos=True, overwrite_a=True).T\n",
      "C:\\Users\\Bang\\anaconda3\\lib\\site-packages\\sklearn\\linear_model\\_ridge.py:157: LinAlgWarning: Ill-conditioned matrix (rcond=1.5415e-18): result may not be accurate.\n",
      "  return linalg.solve(A, Xy, sym_pos=True, overwrite_a=True).T\n",
      "C:\\Users\\Bang\\anaconda3\\lib\\site-packages\\sklearn\\linear_model\\_ridge.py:157: LinAlgWarning: Ill-conditioned matrix (rcond=1.68027e-18): result may not be accurate.\n",
      "  return linalg.solve(A, Xy, sym_pos=True, overwrite_a=True).T\n",
      "C:\\Users\\Bang\\anaconda3\\lib\\site-packages\\sklearn\\linear_model\\_ridge.py:157: LinAlgWarning: Ill-conditioned matrix (rcond=1.50755e-18): result may not be accurate.\n",
      "  return linalg.solve(A, Xy, sym_pos=True, overwrite_a=True).T\n",
      "C:\\Users\\Bang\\anaconda3\\lib\\site-packages\\sklearn\\linear_model\\_ridge.py:157: LinAlgWarning: Ill-conditioned matrix (rcond=1.5606e-18): result may not be accurate.\n",
      "  return linalg.solve(A, Xy, sym_pos=True, overwrite_a=True).T\n",
      "C:\\Users\\Bang\\anaconda3\\lib\\site-packages\\sklearn\\linear_model\\_ridge.py:157: LinAlgWarning: Ill-conditioned matrix (rcond=1.70064e-18): result may not be accurate.\n",
      "  return linalg.solve(A, Xy, sym_pos=True, overwrite_a=True).T\n",
      "C:\\Users\\Bang\\anaconda3\\lib\\site-packages\\sklearn\\linear_model\\_ridge.py:157: LinAlgWarning: Ill-conditioned matrix (rcond=1.42191e-18): result may not be accurate.\n",
      "  return linalg.solve(A, Xy, sym_pos=True, overwrite_a=True).T\n",
      "C:\\Users\\Bang\\anaconda3\\lib\\site-packages\\sklearn\\linear_model\\_ridge.py:157: LinAlgWarning: Ill-conditioned matrix (rcond=4.93012e-18): result may not be accurate.\n",
      "  return linalg.solve(A, Xy, sym_pos=True, overwrite_a=True).T\n",
      "C:\\Users\\Bang\\anaconda3\\lib\\site-packages\\sklearn\\linear_model\\_ridge.py:157: LinAlgWarning: Ill-conditioned matrix (rcond=5.06951e-18): result may not be accurate.\n",
      "  return linalg.solve(A, Xy, sym_pos=True, overwrite_a=True).T\n",
      "C:\\Users\\Bang\\anaconda3\\lib\\site-packages\\sklearn\\linear_model\\_ridge.py:157: LinAlgWarning: Ill-conditioned matrix (rcond=4.78938e-18): result may not be accurate.\n",
      "  return linalg.solve(A, Xy, sym_pos=True, overwrite_a=True).T\n",
      "C:\\Users\\Bang\\anaconda3\\lib\\site-packages\\sklearn\\linear_model\\_ridge.py:157: LinAlgWarning: Ill-conditioned matrix (rcond=5.22082e-18): result may not be accurate.\n",
      "  return linalg.solve(A, Xy, sym_pos=True, overwrite_a=True).T\n",
      "C:\\Users\\Bang\\anaconda3\\lib\\site-packages\\sklearn\\linear_model\\_ridge.py:157: LinAlgWarning: Ill-conditioned matrix (rcond=4.79098e-18): result may not be accurate.\n",
      "  return linalg.solve(A, Xy, sym_pos=True, overwrite_a=True).T\n",
      "C:\\Users\\Bang\\anaconda3\\lib\\site-packages\\sklearn\\linear_model\\_ridge.py:157: LinAlgWarning: Ill-conditioned matrix (rcond=4.87504e-18): result may not be accurate.\n",
      "  return linalg.solve(A, Xy, sym_pos=True, overwrite_a=True).T\n",
      "C:\\Users\\Bang\\anaconda3\\lib\\site-packages\\sklearn\\linear_model\\_ridge.py:157: LinAlgWarning: Ill-conditioned matrix (rcond=5.31377e-18): result may not be accurate.\n",
      "  return linalg.solve(A, Xy, sym_pos=True, overwrite_a=True).T\n",
      "C:\\Users\\Bang\\anaconda3\\lib\\site-packages\\sklearn\\linear_model\\_ridge.py:157: LinAlgWarning: Ill-conditioned matrix (rcond=4.76864e-18): result may not be accurate.\n",
      "  return linalg.solve(A, Xy, sym_pos=True, overwrite_a=True).T\n",
      "C:\\Users\\Bang\\anaconda3\\lib\\site-packages\\sklearn\\linear_model\\_ridge.py:157: LinAlgWarning: Ill-conditioned matrix (rcond=4.93506e-18): result may not be accurate.\n",
      "  return linalg.solve(A, Xy, sym_pos=True, overwrite_a=True).T\n",
      "C:\\Users\\Bang\\anaconda3\\lib\\site-packages\\sklearn\\linear_model\\_ridge.py:157: LinAlgWarning: Ill-conditioned matrix (rcond=5.37949e-18): result may not be accurate.\n",
      "  return linalg.solve(A, Xy, sym_pos=True, overwrite_a=True).T\n",
      "C:\\Users\\Bang\\anaconda3\\lib\\site-packages\\sklearn\\linear_model\\_ridge.py:157: LinAlgWarning: Ill-conditioned matrix (rcond=4.49703e-18): result may not be accurate.\n",
      "  return linalg.solve(A, Xy, sym_pos=True, overwrite_a=True).T\n",
      "C:\\Users\\Bang\\anaconda3\\lib\\site-packages\\sklearn\\linear_model\\_ridge.py:157: LinAlgWarning: Ill-conditioned matrix (rcond=1.55904e-17): result may not be accurate.\n",
      "  return linalg.solve(A, Xy, sym_pos=True, overwrite_a=True).T\n",
      "C:\\Users\\Bang\\anaconda3\\lib\\site-packages\\sklearn\\linear_model\\_ridge.py:157: LinAlgWarning: Ill-conditioned matrix (rcond=1.60312e-17): result may not be accurate.\n",
      "  return linalg.solve(A, Xy, sym_pos=True, overwrite_a=True).T\n",
      "C:\\Users\\Bang\\anaconda3\\lib\\site-packages\\sklearn\\linear_model\\_ridge.py:157: LinAlgWarning: Ill-conditioned matrix (rcond=1.51454e-17): result may not be accurate.\n",
      "  return linalg.solve(A, Xy, sym_pos=True, overwrite_a=True).T\n",
      "C:\\Users\\Bang\\anaconda3\\lib\\site-packages\\sklearn\\linear_model\\_ridge.py:157: LinAlgWarning: Ill-conditioned matrix (rcond=1.65103e-17): result may not be accurate.\n",
      "  return linalg.solve(A, Xy, sym_pos=True, overwrite_a=True).T\n",
      "C:\\Users\\Bang\\anaconda3\\lib\\site-packages\\sklearn\\linear_model\\_ridge.py:157: LinAlgWarning: Ill-conditioned matrix (rcond=1.51505e-17): result may not be accurate.\n",
      "  return linalg.solve(A, Xy, sym_pos=True, overwrite_a=True).T\n",
      "C:\\Users\\Bang\\anaconda3\\lib\\site-packages\\sklearn\\linear_model\\_ridge.py:157: LinAlgWarning: Ill-conditioned matrix (rcond=1.54166e-17): result may not be accurate.\n",
      "  return linalg.solve(A, Xy, sym_pos=True, overwrite_a=True).T\n",
      "C:\\Users\\Bang\\anaconda3\\lib\\site-packages\\sklearn\\linear_model\\_ridge.py:157: LinAlgWarning: Ill-conditioned matrix (rcond=1.68039e-17): result may not be accurate.\n",
      "  return linalg.solve(A, Xy, sym_pos=True, overwrite_a=True).T\n",
      "C:\\Users\\Bang\\anaconda3\\lib\\site-packages\\sklearn\\linear_model\\_ridge.py:157: LinAlgWarning: Ill-conditioned matrix (rcond=1.50811e-17): result may not be accurate.\n",
      "  return linalg.solve(A, Xy, sym_pos=True, overwrite_a=True).T\n",
      "C:\\Users\\Bang\\anaconda3\\lib\\site-packages\\sklearn\\linear_model\\_ridge.py:157: LinAlgWarning: Ill-conditioned matrix (rcond=1.5606e-17): result may not be accurate.\n",
      "  return linalg.solve(A, Xy, sym_pos=True, overwrite_a=True).T\n",
      "C:\\Users\\Bang\\anaconda3\\lib\\site-packages\\sklearn\\linear_model\\_ridge.py:157: LinAlgWarning: Ill-conditioned matrix (rcond=1.7013e-17): result may not be accurate.\n",
      "  return linalg.solve(A, Xy, sym_pos=True, overwrite_a=True).T\n",
      "C:\\Users\\Bang\\anaconda3\\lib\\site-packages\\sklearn\\linear_model\\_ridge.py:157: LinAlgWarning: Ill-conditioned matrix (rcond=1.42214e-17): result may not be accurate.\n",
      "  return linalg.solve(A, Xy, sym_pos=True, overwrite_a=True).T\n",
      "C:\\Users\\Bang\\anaconda3\\lib\\site-packages\\sklearn\\linear_model\\_ridge.py:157: LinAlgWarning: Ill-conditioned matrix (rcond=4.93012e-17): result may not be accurate.\n",
      "  return linalg.solve(A, Xy, sym_pos=True, overwrite_a=True).T\n",
      "C:\\Users\\Bang\\anaconda3\\lib\\site-packages\\sklearn\\linear_model\\_ridge.py:157: LinAlgWarning: Ill-conditioned matrix (rcond=5.06951e-17): result may not be accurate.\n",
      "  return linalg.solve(A, Xy, sym_pos=True, overwrite_a=True).T\n",
      "C:\\Users\\Bang\\anaconda3\\lib\\site-packages\\sklearn\\linear_model\\_ridge.py:157: LinAlgWarning: Ill-conditioned matrix (rcond=4.78938e-17): result may not be accurate.\n",
      "  return linalg.solve(A, Xy, sym_pos=True, overwrite_a=True).T\n",
      "C:\\Users\\Bang\\anaconda3\\lib\\site-packages\\sklearn\\linear_model\\_ridge.py:157: LinAlgWarning: Ill-conditioned matrix (rcond=5.22106e-17): result may not be accurate.\n",
      "  return linalg.solve(A, Xy, sym_pos=True, overwrite_a=True).T\n",
      "C:\\Users\\Bang\\anaconda3\\lib\\site-packages\\sklearn\\linear_model\\_ridge.py:157: LinAlgWarning: Ill-conditioned matrix (rcond=4.79101e-17): result may not be accurate.\n",
      "  return linalg.solve(A, Xy, sym_pos=True, overwrite_a=True).T\n",
      "C:\\Users\\Bang\\anaconda3\\lib\\site-packages\\sklearn\\linear_model\\_ridge.py:157: LinAlgWarning: Ill-conditioned matrix (rcond=4.8752e-17): result may not be accurate.\n",
      "  return linalg.solve(A, Xy, sym_pos=True, overwrite_a=True).T\n",
      "C:\\Users\\Bang\\anaconda3\\lib\\site-packages\\sklearn\\linear_model\\_ridge.py:157: LinAlgWarning: Ill-conditioned matrix (rcond=5.31389e-17): result may not be accurate.\n",
      "  return linalg.solve(A, Xy, sym_pos=True, overwrite_a=True).T\n",
      "C:\\Users\\Bang\\anaconda3\\lib\\site-packages\\sklearn\\linear_model\\_ridge.py:157: LinAlgWarning: Ill-conditioned matrix (rcond=4.7692e-17): result may not be accurate.\n",
      "  return linalg.solve(A, Xy, sym_pos=True, overwrite_a=True).T\n"
     ]
    },
    {
     "name": "stderr",
     "output_type": "stream",
     "text": [
      "C:\\Users\\Bang\\anaconda3\\lib\\site-packages\\sklearn\\linear_model\\_ridge.py:157: LinAlgWarning: Ill-conditioned matrix (rcond=4.93506e-17): result may not be accurate.\n",
      "  return linalg.solve(A, Xy, sym_pos=True, overwrite_a=True).T\n",
      "C:\\Users\\Bang\\anaconda3\\lib\\site-packages\\sklearn\\linear_model\\_ridge.py:157: LinAlgWarning: Ill-conditioned matrix (rcond=5.38015e-17): result may not be accurate.\n",
      "  return linalg.solve(A, Xy, sym_pos=True, overwrite_a=True).T\n",
      "C:\\Users\\Bang\\anaconda3\\lib\\site-packages\\sklearn\\linear_model\\_ridge.py:157: LinAlgWarning: Ill-conditioned matrix (rcond=4.49725e-17): result may not be accurate.\n",
      "  return linalg.solve(A, Xy, sym_pos=True, overwrite_a=True).T\n"
     ]
    },
    {
     "name": "stdout",
     "output_type": "stream",
     "text": [
      "Best alpha: 1.0\n",
      "Min MSE: 3878.532168643469\n"
     ]
    }
   ],
   "source": [
    "# Viết code ở đây:\n",
    "from sklearn.linear_model import RidgeCV\n",
    "l2_penalty_values = np.logspace(0, 10, num=21)\n",
    "MSE_list = []\n",
    "weights = []\n",
    "for l2_penalty in l2_penalty_values:\n",
    "    model = RidgeCV(alphas=[l2_penalty], cv=10)\n",
    "    model.fit(large_train_features, train_labels)\n",
    "    y_pred = model.predict(large_test_features)\n",
    "    MSE = mean_squared_error(y_pred, test_labels)\n",
    "    MSE_list.append(MSE)\n",
    "    new_weights = model.coef_\n",
    "    weights.append(new_weights)\n",
    "    \n",
    "min_MSE = min(MSE_list)\n",
    "min_index = MSE_list.index(min_MSE)\n",
    "best_alpha = l2_penalty_values[min_index]\n",
    "print(f\"Best alpha: {best_alpha}\")\n",
    "print(f\"Min MSE: {min_MSE}\")"
   ]
  },
  {
   "cell_type": "code",
   "execution_count": 14,
   "metadata": {
    "scrolled": true
   },
   "outputs": [
    {
     "data": {
      "text/plain": [
       "array([1.00000000e+00, 3.16227766e+00, 1.00000000e+01, 3.16227766e+01,\n",
       "       1.00000000e+02, 3.16227766e+02, 1.00000000e+03, 3.16227766e+03,\n",
       "       1.00000000e+04, 3.16227766e+04, 1.00000000e+05, 3.16227766e+05,\n",
       "       1.00000000e+06, 3.16227766e+06, 1.00000000e+07, 3.16227766e+07,\n",
       "       1.00000000e+08, 3.16227766e+08, 1.00000000e+09, 3.16227766e+09,\n",
       "       1.00000000e+10])"
      ]
     },
     "execution_count": 14,
     "metadata": {},
     "output_type": "execute_result"
    }
   ],
   "source": [
    "l2_penalty_values"
   ]
  },
  {
   "cell_type": "code",
   "execution_count": 15,
   "metadata": {
    "collapsed": true
   },
   "outputs": [
    {
     "data": {
      "text/plain": [
       "[3878.532168643469,\n",
       " 3878.532326530708,\n",
       " 3878.5328258093764,\n",
       " 3878.5344046209393,\n",
       " 3878.539396799388,\n",
       " 3878.5551788342304,\n",
       " 3878.6050398578195,\n",
       " 3878.7622540822526,\n",
       " 3879.254849681292,\n",
       " 3880.7682841720375,\n",
       " 3885.1493385359445,\n",
       " 3895.895147357515,\n",
       " 3914.1018540246914,\n",
       " 3931.9449730588753,\n",
       " 3944.5454123717586,\n",
       " 3960.263405276154,\n",
       " 3978.0177521312903,\n",
       " 3979.6827527216738,\n",
       " 4012.564437922529,\n",
       " 4262.379547547354,\n",
       " 4799.07932413713]"
      ]
     },
     "execution_count": 15,
     "metadata": {},
     "output_type": "execute_result"
    }
   ],
   "source": [
    "MSE_list"
   ]
  },
  {
   "cell_type": "code",
   "execution_count": 14,
   "metadata": {},
   "outputs": [
    {
     "data": {
      "text/html": [
       "<div>\n",
       "<style scoped>\n",
       "    .dataframe tbody tr th:only-of-type {\n",
       "        vertical-align: middle;\n",
       "    }\n",
       "\n",
       "    .dataframe tbody tr th {\n",
       "        vertical-align: top;\n",
       "    }\n",
       "\n",
       "    .dataframe thead th {\n",
       "        text-align: right;\n",
       "    }\n",
       "</style>\n",
       "<table border=\"1\" class=\"dataframe\">\n",
       "  <thead>\n",
       "    <tr style=\"text-align: right;\">\n",
       "      <th></th>\n",
       "      <th>0</th>\n",
       "      <th>1</th>\n",
       "      <th>2</th>\n",
       "      <th>3</th>\n",
       "      <th>4</th>\n",
       "      <th>5</th>\n",
       "      <th>6</th>\n",
       "      <th>7</th>\n",
       "      <th>8</th>\n",
       "      <th>9</th>\n",
       "      <th>10</th>\n",
       "    </tr>\n",
       "  </thead>\n",
       "  <tbody>\n",
       "    <tr>\n",
       "      <th>0</th>\n",
       "      <td>0.033801</td>\n",
       "      <td>0.082181</td>\n",
       "      <td>0.027187</td>\n",
       "      <td>-0.042422</td>\n",
       "      <td>0.055055</td>\n",
       "      <td>9.919798e-07</td>\n",
       "      <td>-0.430641</td>\n",
       "      <td>0.000307</td>\n",
       "      <td>0.011274</td>\n",
       "      <td>0.234792</td>\n",
       "      <td>0.0</td>\n",
       "    </tr>\n",
       "    <tr>\n",
       "      <th>1</th>\n",
       "      <td>0.033801</td>\n",
       "      <td>0.082195</td>\n",
       "      <td>0.027173</td>\n",
       "      <td>-0.042422</td>\n",
       "      <td>0.055041</td>\n",
       "      <td>9.919798e-07</td>\n",
       "      <td>-0.430641</td>\n",
       "      <td>0.000307</td>\n",
       "      <td>0.011274</td>\n",
       "      <td>0.234791</td>\n",
       "      <td>0.0</td>\n",
       "    </tr>\n",
       "    <tr>\n",
       "      <th>2</th>\n",
       "      <td>0.033801</td>\n",
       "      <td>0.082199</td>\n",
       "      <td>0.027168</td>\n",
       "      <td>-0.042422</td>\n",
       "      <td>0.055037</td>\n",
       "      <td>9.919798e-07</td>\n",
       "      <td>-0.430641</td>\n",
       "      <td>0.000307</td>\n",
       "      <td>0.011274</td>\n",
       "      <td>0.234789</td>\n",
       "      <td>0.0</td>\n",
       "    </tr>\n",
       "    <tr>\n",
       "      <th>3</th>\n",
       "      <td>0.033801</td>\n",
       "      <td>0.082201</td>\n",
       "      <td>0.027167</td>\n",
       "      <td>-0.042422</td>\n",
       "      <td>0.055036</td>\n",
       "      <td>9.919798e-07</td>\n",
       "      <td>-0.430641</td>\n",
       "      <td>0.000307</td>\n",
       "      <td>0.011274</td>\n",
       "      <td>0.234782</td>\n",
       "      <td>0.0</td>\n",
       "    </tr>\n",
       "    <tr>\n",
       "      <th>4</th>\n",
       "      <td>0.033800</td>\n",
       "      <td>0.082201</td>\n",
       "      <td>0.027167</td>\n",
       "      <td>-0.042421</td>\n",
       "      <td>0.055035</td>\n",
       "      <td>9.919799e-07</td>\n",
       "      <td>-0.430640</td>\n",
       "      <td>0.000307</td>\n",
       "      <td>0.011274</td>\n",
       "      <td>0.234761</td>\n",
       "      <td>0.0</td>\n",
       "    </tr>\n",
       "  </tbody>\n",
       "</table>\n",
       "</div>"
      ],
      "text/plain": [
       "         0         1         2         3         4             5         6   \\\n",
       "0  0.033801  0.082181  0.027187 -0.042422  0.055055  9.919798e-07 -0.430641   \n",
       "1  0.033801  0.082195  0.027173 -0.042422  0.055041  9.919798e-07 -0.430641   \n",
       "2  0.033801  0.082199  0.027168 -0.042422  0.055037  9.919798e-07 -0.430641   \n",
       "3  0.033801  0.082201  0.027167 -0.042422  0.055036  9.919798e-07 -0.430641   \n",
       "4  0.033800  0.082201  0.027167 -0.042421  0.055035  9.919799e-07 -0.430640   \n",
       "\n",
       "         7         8         9    10  \n",
       "0  0.000307  0.011274  0.234792  0.0  \n",
       "1  0.000307  0.011274  0.234791  0.0  \n",
       "2  0.000307  0.011274  0.234789  0.0  \n",
       "3  0.000307  0.011274  0.234782  0.0  \n",
       "4  0.000307  0.011274  0.234761  0.0  "
      ]
     },
     "execution_count": 14,
     "metadata": {},
     "output_type": "execute_result"
    }
   ],
   "source": [
    "weights_df = pandas.DataFrame(weights)\n",
    "weights_df.head()"
   ]
  },
  {
   "cell_type": "code",
   "execution_count": 15,
   "metadata": {},
   "outputs": [
    {
     "data": {
      "image/png": "[encoded data removed]",
      "text/plain": [
       "<Figure size 640x480 with 1 Axes>"
      ]
     },
     "metadata": {},
     "output_type": "display_data"
    }
   ],
   "source": [
    "# Vẽ đồ thị\n",
    "for i in range(len(weights_df.columns)):\n",
    "    plt.plot(l2_penalty_values, weights_df[i], '-')\n",
    "    plt.xscale('log')"
   ]
  },
  {
   "cell_type": "markdown",
   "metadata": {
    "id": "b1EfkDro3pfq"
   },
   "source": [
    "### Thử Hồi quy RidgeCV trên mọi cột\n",
    "Nó đã hoạt động, nhưng chúng ta cần tự hỏi liệu có tiếp tục sử dụng tập đặc trưng không hoàn thiện thay vì một tập hợp tối ưu nữa không. Mở rộng các đặc trưng cho tất cả các cột trừ nhãn được chỉ định. Hãy chạy và xem điều gì sẽ xảy ra."
   ]
  },
  {
   "cell_type": "code",
   "execution_count": 16,
   "metadata": {},
   "outputs": [
    {
     "name": "stderr",
     "output_type": "stream",
     "text": [
      "C:\\Users\\Bang\\anaconda3\\lib\\site-packages\\sklearn\\linear_model\\_ridge.py:157: LinAlgWarning: Ill-conditioned matrix (rcond=1.49917e-18): result may not be accurate.\n",
      "  return linalg.solve(A, Xy, sym_pos=True, overwrite_a=True).T\n",
      "C:\\Users\\Bang\\anaconda3\\lib\\site-packages\\sklearn\\linear_model\\_ridge.py:157: LinAlgWarning: Ill-conditioned matrix (rcond=1.54185e-18): result may not be accurate.\n",
      "  return linalg.solve(A, Xy, sym_pos=True, overwrite_a=True).T\n",
      "C:\\Users\\Bang\\anaconda3\\lib\\site-packages\\sklearn\\linear_model\\_ridge.py:157: LinAlgWarning: Ill-conditioned matrix (rcond=1.4556e-18): result may not be accurate.\n",
      "  return linalg.solve(A, Xy, sym_pos=True, overwrite_a=True).T\n",
      "C:\\Users\\Bang\\anaconda3\\lib\\site-packages\\sklearn\\linear_model\\_ridge.py:157: LinAlgWarning: Ill-conditioned matrix (rcond=1.58899e-18): result may not be accurate.\n",
      "  return linalg.solve(A, Xy, sym_pos=True, overwrite_a=True).T\n",
      "C:\\Users\\Bang\\anaconda3\\lib\\site-packages\\sklearn\\linear_model\\_ridge.py:157: LinAlgWarning: Ill-conditioned matrix (rcond=1.45639e-18): result may not be accurate.\n",
      "  return linalg.solve(A, Xy, sym_pos=True, overwrite_a=True).T\n",
      "C:\\Users\\Bang\\anaconda3\\lib\\site-packages\\sklearn\\linear_model\\_ridge.py:157: LinAlgWarning: Ill-conditioned matrix (rcond=1.48058e-18): result may not be accurate.\n",
      "  return linalg.solve(A, Xy, sym_pos=True, overwrite_a=True).T\n",
      "C:\\Users\\Bang\\anaconda3\\lib\\site-packages\\sklearn\\linear_model\\_ridge.py:157: LinAlgWarning: Ill-conditioned matrix (rcond=1.61904e-18): result may not be accurate.\n",
      "  return linalg.solve(A, Xy, sym_pos=True, overwrite_a=True).T\n",
      "C:\\Users\\Bang\\anaconda3\\lib\\site-packages\\sklearn\\linear_model\\_ridge.py:157: LinAlgWarning: Ill-conditioned matrix (rcond=1.44946e-18): result may not be accurate.\n",
      "  return linalg.solve(A, Xy, sym_pos=True, overwrite_a=True).T\n",
      "C:\\Users\\Bang\\anaconda3\\lib\\site-packages\\sklearn\\linear_model\\_ridge.py:157: LinAlgWarning: Ill-conditioned matrix (rcond=1.49873e-18): result may not be accurate.\n",
      "  return linalg.solve(A, Xy, sym_pos=True, overwrite_a=True).T\n",
      "C:\\Users\\Bang\\anaconda3\\lib\\site-packages\\sklearn\\linear_model\\_ridge.py:157: LinAlgWarning: Ill-conditioned matrix (rcond=1.63934e-18): result may not be accurate.\n",
      "  return linalg.solve(A, Xy, sym_pos=True, overwrite_a=True).T\n",
      "C:\\Users\\Bang\\anaconda3\\lib\\site-packages\\sklearn\\linear_model\\_ridge.py:157: LinAlgWarning: Ill-conditioned matrix (rcond=1.36768e-18): result may not be accurate.\n",
      "  return linalg.solve(A, Xy, sym_pos=True, overwrite_a=True).T\n",
      "C:\\Users\\Bang\\anaconda3\\lib\\site-packages\\sklearn\\linear_model\\_ridge.py:157: LinAlgWarning: Ill-conditioned matrix (rcond=4.73915e-18): result may not be accurate.\n",
      "  return linalg.solve(A, Xy, sym_pos=True, overwrite_a=True).T\n",
      "C:\\Users\\Bang\\anaconda3\\lib\\site-packages\\sklearn\\linear_model\\_ridge.py:157: LinAlgWarning: Ill-conditioned matrix (rcond=4.87453e-18): result may not be accurate.\n",
      "  return linalg.solve(A, Xy, sym_pos=True, overwrite_a=True).T\n",
      "C:\\Users\\Bang\\anaconda3\\lib\\site-packages\\sklearn\\linear_model\\_ridge.py:157: LinAlgWarning: Ill-conditioned matrix (rcond=4.60187e-18): result may not be accurate.\n",
      "  return linalg.solve(A, Xy, sym_pos=True, overwrite_a=True).T\n",
      "C:\\Users\\Bang\\anaconda3\\lib\\site-packages\\sklearn\\linear_model\\_ridge.py:157: LinAlgWarning: Ill-conditioned matrix (rcond=5.02534e-18): result may not be accurate.\n",
      "  return linalg.solve(A, Xy, sym_pos=True, overwrite_a=True).T\n",
      "C:\\Users\\Bang\\anaconda3\\lib\\site-packages\\sklearn\\linear_model\\_ridge.py:157: LinAlgWarning: Ill-conditioned matrix (rcond=4.60593e-18): result may not be accurate.\n",
      "  return linalg.solve(A, Xy, sym_pos=True, overwrite_a=True).T\n",
      "C:\\Users\\Bang\\anaconda3\\lib\\site-packages\\sklearn\\linear_model\\_ridge.py:157: LinAlgWarning: Ill-conditioned matrix (rcond=4.68235e-18): result may not be accurate.\n",
      "  return linalg.solve(A, Xy, sym_pos=True, overwrite_a=True).T\n",
      "C:\\Users\\Bang\\anaconda3\\lib\\site-packages\\sklearn\\linear_model\\_ridge.py:157: LinAlgWarning: Ill-conditioned matrix (rcond=5.11829e-18): result may not be accurate.\n",
      "  return linalg.solve(A, Xy, sym_pos=True, overwrite_a=True).T\n",
      "C:\\Users\\Bang\\anaconda3\\lib\\site-packages\\sklearn\\linear_model\\_ridge.py:157: LinAlgWarning: Ill-conditioned matrix (rcond=4.58419e-18): result may not be accurate.\n",
      "  return linalg.solve(A, Xy, sym_pos=True, overwrite_a=True).T\n",
      "C:\\Users\\Bang\\anaconda3\\lib\\site-packages\\sklearn\\linear_model\\_ridge.py:157: LinAlgWarning: Ill-conditioned matrix (rcond=4.73822e-18): result may not be accurate.\n",
      "  return linalg.solve(A, Xy, sym_pos=True, overwrite_a=True).T\n",
      "C:\\Users\\Bang\\anaconda3\\lib\\site-packages\\sklearn\\linear_model\\_ridge.py:157: LinAlgWarning: Ill-conditioned matrix (rcond=5.18588e-18): result may not be accurate.\n",
      "  return linalg.solve(A, Xy, sym_pos=True, overwrite_a=True).T\n",
      "C:\\Users\\Bang\\anaconda3\\lib\\site-packages\\sklearn\\linear_model\\_ridge.py:157: LinAlgWarning: Ill-conditioned matrix (rcond=4.32549e-18): result may not be accurate.\n",
      "  return linalg.solve(A, Xy, sym_pos=True, overwrite_a=True).T\n",
      "C:\\Users\\Bang\\anaconda3\\lib\\site-packages\\sklearn\\linear_model\\_ridge.py:157: LinAlgWarning: Ill-conditioned matrix (rcond=1.49746e-17): result may not be accurate.\n",
      "  return linalg.solve(A, Xy, sym_pos=True, overwrite_a=True).T\n",
      "C:\\Users\\Bang\\anaconda3\\lib\\site-packages\\sklearn\\linear_model\\_ridge.py:157: LinAlgWarning: Ill-conditioned matrix (rcond=1.54025e-17): result may not be accurate.\n",
      "  return linalg.solve(A, Xy, sym_pos=True, overwrite_a=True).T\n",
      "C:\\Users\\Bang\\anaconda3\\lib\\site-packages\\sklearn\\linear_model\\_ridge.py:157: LinAlgWarning: Ill-conditioned matrix (rcond=1.45409e-17): result may not be accurate.\n",
      "  return linalg.solve(A, Xy, sym_pos=True, overwrite_a=True).T\n",
      "C:\\Users\\Bang\\anaconda3\\lib\\site-packages\\sklearn\\linear_model\\_ridge.py:157: LinAlgWarning: Ill-conditioned matrix (rcond=1.58731e-17): result may not be accurate.\n",
      "  return linalg.solve(A, Xy, sym_pos=True, overwrite_a=True).T\n",
      "C:\\Users\\Bang\\anaconda3\\lib\\site-packages\\sklearn\\linear_model\\_ridge.py:157: LinAlgWarning: Ill-conditioned matrix (rcond=1.4549e-17): result may not be accurate.\n",
      "  return linalg.solve(A, Xy, sym_pos=True, overwrite_a=True).T\n",
      "C:\\Users\\Bang\\anaconda3\\lib\\site-packages\\sklearn\\linear_model\\_ridge.py:157: LinAlgWarning: Ill-conditioned matrix (rcond=1.47905e-17): result may not be accurate.\n",
      "  return linalg.solve(A, Xy, sym_pos=True, overwrite_a=True).T\n",
      "C:\\Users\\Bang\\anaconda3\\lib\\site-packages\\sklearn\\linear_model\\_ridge.py:157: LinAlgWarning: Ill-conditioned matrix (rcond=1.61726e-17): result may not be accurate.\n",
      "  return linalg.solve(A, Xy, sym_pos=True, overwrite_a=True).T\n",
      "C:\\Users\\Bang\\anaconda3\\lib\\site-packages\\sklearn\\linear_model\\_ridge.py:157: LinAlgWarning: Ill-conditioned matrix (rcond=1.44806e-17): result may not be accurate.\n",
      "  return linalg.solve(A, Xy, sym_pos=True, overwrite_a=True).T\n",
      "C:\\Users\\Bang\\anaconda3\\lib\\site-packages\\sklearn\\linear_model\\_ridge.py:157: LinAlgWarning: Ill-conditioned matrix (rcond=1.49718e-17): result may not be accurate.\n",
      "  return linalg.solve(A, Xy, sym_pos=True, overwrite_a=True).T\n",
      "C:\\Users\\Bang\\anaconda3\\lib\\site-packages\\sklearn\\linear_model\\_ridge.py:157: LinAlgWarning: Ill-conditioned matrix (rcond=1.63826e-17): result may not be accurate.\n",
      "  return linalg.solve(A, Xy, sym_pos=True, overwrite_a=True).T\n",
      "C:\\Users\\Bang\\anaconda3\\lib\\site-packages\\sklearn\\linear_model\\_ridge.py:157: LinAlgWarning: Ill-conditioned matrix (rcond=1.3665e-17): result may not be accurate.\n",
      "  return linalg.solve(A, Xy, sym_pos=True, overwrite_a=True).T\n",
      "C:\\Users\\Bang\\anaconda3\\lib\\site-packages\\sklearn\\linear_model\\_ridge.py:157: LinAlgWarning: Ill-conditioned matrix (rcond=4.72365e-17): result may not be accurate.\n",
      "  return linalg.solve(A, Xy, sym_pos=True, overwrite_a=True).T\n",
      "C:\\Users\\Bang\\anaconda3\\lib\\site-packages\\sklearn\\linear_model\\_ridge.py:157: LinAlgWarning: Ill-conditioned matrix (rcond=4.85872e-17): result may not be accurate.\n",
      "  return linalg.solve(A, Xy, sym_pos=True, overwrite_a=True).T\n",
      "C:\\Users\\Bang\\anaconda3\\lib\\site-packages\\sklearn\\linear_model\\_ridge.py:157: LinAlgWarning: Ill-conditioned matrix (rcond=4.58691e-17): result may not be accurate.\n",
      "  return linalg.solve(A, Xy, sym_pos=True, overwrite_a=True).T\n",
      "C:\\Users\\Bang\\anaconda3\\lib\\site-packages\\sklearn\\linear_model\\_ridge.py:157: LinAlgWarning: Ill-conditioned matrix (rcond=5.00671e-17): result may not be accurate.\n",
      "  return linalg.solve(A, Xy, sym_pos=True, overwrite_a=True).T\n"
     ]
    },
    {
     "name": "stderr",
     "output_type": "stream",
     "text": [
      "C:\\Users\\Bang\\anaconda3\\lib\\site-packages\\sklearn\\linear_model\\_ridge.py:157: LinAlgWarning: Ill-conditioned matrix (rcond=4.58939e-17): result may not be accurate.\n",
      "  return linalg.solve(A, Xy, sym_pos=True, overwrite_a=True).T\n",
      "C:\\Users\\Bang\\anaconda3\\lib\\site-packages\\sklearn\\linear_model\\_ridge.py:157: LinAlgWarning: Ill-conditioned matrix (rcond=4.66572e-17): result may not be accurate.\n",
      "  return linalg.solve(A, Xy, sym_pos=True, overwrite_a=True).T\n",
      "C:\\Users\\Bang\\anaconda3\\lib\\site-packages\\sklearn\\linear_model\\_ridge.py:157: LinAlgWarning: Ill-conditioned matrix (rcond=5.10174e-17): result may not be accurate.\n",
      "  return linalg.solve(A, Xy, sym_pos=True, overwrite_a=True).T\n",
      "C:\\Users\\Bang\\anaconda3\\lib\\site-packages\\sklearn\\linear_model\\_ridge.py:157: LinAlgWarning: Ill-conditioned matrix (rcond=4.56786e-17): result may not be accurate.\n",
      "  return linalg.solve(A, Xy, sym_pos=True, overwrite_a=True).T\n",
      "C:\\Users\\Bang\\anaconda3\\lib\\site-packages\\sklearn\\linear_model\\_ridge.py:157: LinAlgWarning: Ill-conditioned matrix (rcond=4.72293e-17): result may not be accurate.\n",
      "  return linalg.solve(A, Xy, sym_pos=True, overwrite_a=True).T\n",
      "C:\\Users\\Bang\\anaconda3\\lib\\site-packages\\sklearn\\linear_model\\_ridge.py:157: LinAlgWarning: Ill-conditioned matrix (rcond=5.16763e-17): result may not be accurate.\n",
      "  return linalg.solve(A, Xy, sym_pos=True, overwrite_a=True).T\n",
      "C:\\Users\\Bang\\anaconda3\\lib\\site-packages\\sklearn\\linear_model\\_ridge.py:157: LinAlgWarning: Ill-conditioned matrix (rcond=4.31167e-17): result may not be accurate.\n",
      "  return linalg.solve(A, Xy, sym_pos=True, overwrite_a=True).T\n"
     ]
    },
    {
     "name": "stdout",
     "output_type": "stream",
     "text": [
      "Best alpha: 316227766.01683795\n",
      "Min MSE: 3918.364550704454\n"
     ]
    }
   ],
   "source": [
    "all_features_MSE = []\n",
    "all_features_weights = []\n",
    "for l2_penalty in l2_penalty_values:\n",
    "    model = RidgeCV(alphas=[l2_penalty], cv=10)\n",
    "    model.fit(train_features, train_labels)\n",
    "    y_pred = model.predict(test_features)\n",
    "    MSE = mean_squared_error(y_pred, test_labels)\n",
    "    all_features_MSE.append(MSE)\n",
    "    new_weights = model.coef_\n",
    "    all_features_weights.append(new_weights)\n",
    "    \n",
    "min_MSE = min(all_features_MSE)\n",
    "min_index = all_features_MSE.index(min_MSE)\n",
    "best_alpha = l2_penalty_values[min_index]\n",
    "print(f\"Best alpha: {best_alpha}\")\n",
    "print(f\"Min MSE: {min_MSE}\")"
   ]
  },
  {
   "cell_type": "code",
   "execution_count": 17,
   "metadata": {},
   "outputs": [
    {
     "data": {
      "text/html": [
       "<div>\n",
       "<style scoped>\n",
       "    .dataframe tbody tr th:only-of-type {\n",
       "        vertical-align: middle;\n",
       "    }\n",
       "\n",
       "    .dataframe tbody tr th {\n",
       "        vertical-align: top;\n",
       "    }\n",
       "\n",
       "    .dataframe thead th {\n",
       "        text-align: right;\n",
       "    }\n",
       "</style>\n",
       "<table border=\"1\" class=\"dataframe\">\n",
       "  <thead>\n",
       "    <tr style=\"text-align: right;\">\n",
       "      <th></th>\n",
       "      <th>0</th>\n",
       "      <th>1</th>\n",
       "      <th>2</th>\n",
       "      <th>3</th>\n",
       "      <th>4</th>\n",
       "      <th>5</th>\n",
       "      <th>6</th>\n",
       "      <th>7</th>\n",
       "      <th>8</th>\n",
       "      <th>9</th>\n",
       "      <th>...</th>\n",
       "      <th>43</th>\n",
       "      <th>44</th>\n",
       "      <th>45</th>\n",
       "      <th>46</th>\n",
       "      <th>47</th>\n",
       "      <th>48</th>\n",
       "      <th>49</th>\n",
       "      <th>50</th>\n",
       "      <th>51</th>\n",
       "      <th>52</th>\n",
       "    </tr>\n",
       "  </thead>\n",
       "  <tbody>\n",
       "    <tr>\n",
       "      <th>0</th>\n",
       "      <td>5.584828e-07</td>\n",
       "      <td>-0.000012</td>\n",
       "      <td>-0.00001</td>\n",
       "      <td>-0.407997</td>\n",
       "      <td>0.000737</td>\n",
       "      <td>1.041295</td>\n",
       "      <td>-0.322638</td>\n",
       "      <td>-0.054556</td>\n",
       "      <td>0.085458</td>\n",
       "      <td>-0.008386</td>\n",
       "      <td>...</td>\n",
       "      <td>0.861062</td>\n",
       "      <td>0.235682</td>\n",
       "      <td>-0.292341</td>\n",
       "      <td>0.233161</td>\n",
       "      <td>0.922648</td>\n",
       "      <td>2.185546</td>\n",
       "      <td>-1.168388</td>\n",
       "      <td>-1.211681</td>\n",
       "      <td>-0.668945</td>\n",
       "      <td>0.0</td>\n",
       "    </tr>\n",
       "    <tr>\n",
       "      <th>1</th>\n",
       "      <td>5.584821e-07</td>\n",
       "      <td>-0.000012</td>\n",
       "      <td>-0.00001</td>\n",
       "      <td>-0.407531</td>\n",
       "      <td>0.000736</td>\n",
       "      <td>1.041200</td>\n",
       "      <td>-0.322604</td>\n",
       "      <td>-0.054512</td>\n",
       "      <td>0.085231</td>\n",
       "      <td>-0.008386</td>\n",
       "      <td>...</td>\n",
       "      <td>0.860704</td>\n",
       "      <td>0.235657</td>\n",
       "      <td>-0.292168</td>\n",
       "      <td>0.232982</td>\n",
       "      <td>0.922190</td>\n",
       "      <td>2.185013</td>\n",
       "      <td>-1.168227</td>\n",
       "      <td>-1.211239</td>\n",
       "      <td>-0.668552</td>\n",
       "      <td>0.0</td>\n",
       "    </tr>\n",
       "    <tr>\n",
       "      <th>2</th>\n",
       "      <td>5.584799e-07</td>\n",
       "      <td>-0.000012</td>\n",
       "      <td>-0.00001</td>\n",
       "      <td>-0.406065</td>\n",
       "      <td>0.000734</td>\n",
       "      <td>1.040900</td>\n",
       "      <td>-0.322498</td>\n",
       "      <td>-0.054371</td>\n",
       "      <td>0.084521</td>\n",
       "      <td>-0.008386</td>\n",
       "      <td>...</td>\n",
       "      <td>0.859574</td>\n",
       "      <td>0.235578</td>\n",
       "      <td>-0.291620</td>\n",
       "      <td>0.232417</td>\n",
       "      <td>0.920746</td>\n",
       "      <td>2.183330</td>\n",
       "      <td>-1.167718</td>\n",
       "      <td>-1.209843</td>\n",
       "      <td>-0.667311</td>\n",
       "      <td>0.0</td>\n",
       "    </tr>\n",
       "    <tr>\n",
       "      <th>3</th>\n",
       "      <td>5.584742e-07</td>\n",
       "      <td>-0.000012</td>\n",
       "      <td>-0.00001</td>\n",
       "      <td>-0.401514</td>\n",
       "      <td>0.000724</td>\n",
       "      <td>1.039954</td>\n",
       "      <td>-0.322162</td>\n",
       "      <td>-0.053927</td>\n",
       "      <td>0.082334</td>\n",
       "      <td>-0.008385</td>\n",
       "      <td>...</td>\n",
       "      <td>0.856021</td>\n",
       "      <td>0.235327</td>\n",
       "      <td>-0.289899</td>\n",
       "      <td>0.230641</td>\n",
       "      <td>0.916204</td>\n",
       "      <td>2.178032</td>\n",
       "      <td>-1.166112</td>\n",
       "      <td>-1.205454</td>\n",
       "      <td>-0.663412</td>\n",
       "      <td>0.0</td>\n",
       "    </tr>\n",
       "    <tr>\n",
       "      <th>4</th>\n",
       "      <td>5.584666e-07</td>\n",
       "      <td>-0.000012</td>\n",
       "      <td>-0.00001</td>\n",
       "      <td>-0.387895</td>\n",
       "      <td>0.000696</td>\n",
       "      <td>1.036982</td>\n",
       "      <td>-0.321119</td>\n",
       "      <td>-0.052539</td>\n",
       "      <td>0.075957</td>\n",
       "      <td>-0.008382</td>\n",
       "      <td>...</td>\n",
       "      <td>0.844985</td>\n",
       "      <td>0.234534</td>\n",
       "      <td>-0.284561</td>\n",
       "      <td>0.225138</td>\n",
       "      <td>0.902095</td>\n",
       "      <td>2.161502</td>\n",
       "      <td>-1.161061</td>\n",
       "      <td>-1.191793</td>\n",
       "      <td>-0.651320</td>\n",
       "      <td>0.0</td>\n",
       "    </tr>\n",
       "  </tbody>\n",
       "</table>\n",
       "<p>5 rows × 53 columns</p>\n",
       "</div>"
      ],
      "text/plain": [
       "             0         1        2         3         4         5         6   \\\n",
       "0  5.584828e-07 -0.000012 -0.00001 -0.407997  0.000737  1.041295 -0.322638   \n",
       "1  5.584821e-07 -0.000012 -0.00001 -0.407531  0.000736  1.041200 -0.322604   \n",
       "2  5.584799e-07 -0.000012 -0.00001 -0.406065  0.000734  1.040900 -0.322498   \n",
       "3  5.584742e-07 -0.000012 -0.00001 -0.401514  0.000724  1.039954 -0.322162   \n",
       "4  5.584666e-07 -0.000012 -0.00001 -0.387895  0.000696  1.036982 -0.321119   \n",
       "\n",
       "         7         8         9   ...        43        44        45        46  \\\n",
       "0 -0.054556  0.085458 -0.008386  ...  0.861062  0.235682 -0.292341  0.233161   \n",
       "1 -0.054512  0.085231 -0.008386  ...  0.860704  0.235657 -0.292168  0.232982   \n",
       "2 -0.054371  0.084521 -0.008386  ...  0.859574  0.235578 -0.291620  0.232417   \n",
       "3 -0.053927  0.082334 -0.008385  ...  0.856021  0.235327 -0.289899  0.230641   \n",
       "4 -0.052539  0.075957 -0.008382  ...  0.844985  0.234534 -0.284561  0.225138   \n",
       "\n",
       "         47        48        49        50        51   52  \n",
       "0  0.922648  2.185546 -1.168388 -1.211681 -0.668945  0.0  \n",
       "1  0.922190  2.185013 -1.168227 -1.211239 -0.668552  0.0  \n",
       "2  0.920746  2.183330 -1.167718 -1.209843 -0.667311  0.0  \n",
       "3  0.916204  2.178032 -1.166112 -1.205454 -0.663412  0.0  \n",
       "4  0.902095  2.161502 -1.161061 -1.191793 -0.651320  0.0  \n",
       "\n",
       "[5 rows x 53 columns]"
      ]
     },
     "execution_count": 17,
     "metadata": {},
     "output_type": "execute_result"
    }
   ],
   "source": [
    "all_features_weights_df = pandas.DataFrame(all_features_weights)\n",
    "all_features_weights_df.head()"
   ]
  },
  {
   "cell_type": "code",
   "execution_count": 18,
   "metadata": {},
   "outputs": [
    {
     "data": {
      "image/png": "[encoded data removed]",
      "text/plain": [
       "<Figure size 640x480 with 1 Axes>"
      ]
     },
     "metadata": {},
     "output_type": "display_data"
    }
   ],
   "source": [
    "for i in range(len(all_features_weights_df.columns)):\n",
    "    plt.plot(l2_penalty_values, all_features_weights_df[i], '-')\n",
    "    plt.xscale('log')"
   ]
  },
  {
   "cell_type": "markdown",
   "metadata": {
    "id": "a4BoQx053pfx"
   },
   "source": [
    "## Lựa chọn đặc trưng\n",
    "### Áp dụng LASSO\n",
    "Chúng ta có thể cắt tỉa các đặc trưng sử dụng những gì đã học. Lần này sẽ ghi lại các đặc trưng đã chọn của [LassoCV](https://scikit-learn.org/stable/modules/generated/sklearn.linear_model.LassoCV.html) (cv = 10) sử dụng biến `lasso_selected_features`, và <i>có thể tùy chọn vẽ một đồ thị giữa số lượng đặc trưng đã loại và các giá trị alpha</i>."
   ]
  },
  {
   "cell_type": "code",
   "execution_count": 23,
   "metadata": {},
   "outputs": [
    {
     "data": {
      "text/html": [
       "<div>\n",
       "<style scoped>\n",
       "    .dataframe tbody tr th:only-of-type {\n",
       "        vertical-align: middle;\n",
       "    }\n",
       "\n",
       "    .dataframe tbody tr th {\n",
       "        vertical-align: top;\n",
       "    }\n",
       "\n",
       "    .dataframe thead th {\n",
       "        text-align: right;\n",
       "    }\n",
       "</style>\n",
       "<table border=\"1\" class=\"dataframe\">\n",
       "  <thead>\n",
       "    <tr style=\"text-align: right;\">\n",
       "      <th></th>\n",
       "      <th>Popularity</th>\n",
       "      <th>Check-in</th>\n",
       "      <th>Activities</th>\n",
       "      <th>F_1</th>\n",
       "      <th>F_2</th>\n",
       "      <th>F_3</th>\n",
       "      <th>F_4</th>\n",
       "      <th>F_5</th>\n",
       "      <th>F_6</th>\n",
       "      <th>F_7</th>\n",
       "      <th>...</th>\n",
       "      <th>Post_date_6</th>\n",
       "      <th>Post_date_7</th>\n",
       "      <th>Base_date_1</th>\n",
       "      <th>Base_date_2</th>\n",
       "      <th>Base_date_3</th>\n",
       "      <th>Base_date_4</th>\n",
       "      <th>Base_date_5</th>\n",
       "      <th>Base_date_6</th>\n",
       "      <th>Base_date_7</th>\n",
       "      <th>bias</th>\n",
       "    </tr>\n",
       "  </thead>\n",
       "  <tbody>\n",
       "    <tr>\n",
       "      <th>349</th>\n",
       "      <td>1552629</td>\n",
       "      <td>0</td>\n",
       "      <td>64641</td>\n",
       "      <td>0.0</td>\n",
       "      <td>910.0</td>\n",
       "      <td>159.701923</td>\n",
       "      <td>125.0</td>\n",
       "      <td>153.676163</td>\n",
       "      <td>0.0</td>\n",
       "      <td>621.0</td>\n",
       "      <td>...</td>\n",
       "      <td>0</td>\n",
       "      <td>0</td>\n",
       "      <td>0</td>\n",
       "      <td>1</td>\n",
       "      <td>0</td>\n",
       "      <td>0</td>\n",
       "      <td>0</td>\n",
       "      <td>0</td>\n",
       "      <td>0</td>\n",
       "      <td>1</td>\n",
       "    </tr>\n",
       "    <tr>\n",
       "      <th>350</th>\n",
       "      <td>1552629</td>\n",
       "      <td>0</td>\n",
       "      <td>64641</td>\n",
       "      <td>0.0</td>\n",
       "      <td>910.0</td>\n",
       "      <td>159.701923</td>\n",
       "      <td>125.0</td>\n",
       "      <td>153.676163</td>\n",
       "      <td>0.0</td>\n",
       "      <td>621.0</td>\n",
       "      <td>...</td>\n",
       "      <td>0</td>\n",
       "      <td>0</td>\n",
       "      <td>0</td>\n",
       "      <td>0</td>\n",
       "      <td>0</td>\n",
       "      <td>1</td>\n",
       "      <td>0</td>\n",
       "      <td>0</td>\n",
       "      <td>0</td>\n",
       "      <td>1</td>\n",
       "    </tr>\n",
       "    <tr>\n",
       "      <th>351</th>\n",
       "      <td>1552629</td>\n",
       "      <td>0</td>\n",
       "      <td>64641</td>\n",
       "      <td>0.0</td>\n",
       "      <td>910.0</td>\n",
       "      <td>159.701923</td>\n",
       "      <td>125.0</td>\n",
       "      <td>153.676163</td>\n",
       "      <td>0.0</td>\n",
       "      <td>621.0</td>\n",
       "      <td>...</td>\n",
       "      <td>0</td>\n",
       "      <td>0</td>\n",
       "      <td>0</td>\n",
       "      <td>0</td>\n",
       "      <td>0</td>\n",
       "      <td>1</td>\n",
       "      <td>0</td>\n",
       "      <td>0</td>\n",
       "      <td>0</td>\n",
       "      <td>1</td>\n",
       "    </tr>\n",
       "    <tr>\n",
       "      <th>352</th>\n",
       "      <td>1552629</td>\n",
       "      <td>0</td>\n",
       "      <td>64641</td>\n",
       "      <td>0.0</td>\n",
       "      <td>910.0</td>\n",
       "      <td>159.701923</td>\n",
       "      <td>125.0</td>\n",
       "      <td>153.676163</td>\n",
       "      <td>0.0</td>\n",
       "      <td>621.0</td>\n",
       "      <td>...</td>\n",
       "      <td>0</td>\n",
       "      <td>1</td>\n",
       "      <td>0</td>\n",
       "      <td>0</td>\n",
       "      <td>1</td>\n",
       "      <td>0</td>\n",
       "      <td>0</td>\n",
       "      <td>0</td>\n",
       "      <td>0</td>\n",
       "      <td>1</td>\n",
       "    </tr>\n",
       "    <tr>\n",
       "      <th>353</th>\n",
       "      <td>1552629</td>\n",
       "      <td>0</td>\n",
       "      <td>64641</td>\n",
       "      <td>0.0</td>\n",
       "      <td>910.0</td>\n",
       "      <td>159.701923</td>\n",
       "      <td>125.0</td>\n",
       "      <td>153.676163</td>\n",
       "      <td>0.0</td>\n",
       "      <td>621.0</td>\n",
       "      <td>...</td>\n",
       "      <td>0</td>\n",
       "      <td>1</td>\n",
       "      <td>0</td>\n",
       "      <td>1</td>\n",
       "      <td>0</td>\n",
       "      <td>0</td>\n",
       "      <td>0</td>\n",
       "      <td>0</td>\n",
       "      <td>0</td>\n",
       "      <td>1</td>\n",
       "    </tr>\n",
       "  </tbody>\n",
       "</table>\n",
       "<p>5 rows × 53 columns</p>\n",
       "</div>"
      ],
      "text/plain": [
       "     Popularity  Check-in  Activities  F_1    F_2         F_3    F_4  \\\n",
       "349     1552629         0       64641  0.0  910.0  159.701923  125.0   \n",
       "350     1552629         0       64641  0.0  910.0  159.701923  125.0   \n",
       "351     1552629         0       64641  0.0  910.0  159.701923  125.0   \n",
       "352     1552629         0       64641  0.0  910.0  159.701923  125.0   \n",
       "353     1552629         0       64641  0.0  910.0  159.701923  125.0   \n",
       "\n",
       "            F_5  F_6    F_7  ...  Post_date_6  Post_date_7  Base_date_1  \\\n",
       "349  153.676163  0.0  621.0  ...            0            0            0   \n",
       "350  153.676163  0.0  621.0  ...            0            0            0   \n",
       "351  153.676163  0.0  621.0  ...            0            0            0   \n",
       "352  153.676163  0.0  621.0  ...            0            1            0   \n",
       "353  153.676163  0.0  621.0  ...            0            1            0   \n",
       "\n",
       "     Base_date_2  Base_date_3  Base_date_4  Base_date_5  Base_date_6  \\\n",
       "349            1            0            0            0            0   \n",
       "350            0            0            1            0            0   \n",
       "351            0            0            1            0            0   \n",
       "352            0            1            0            0            0   \n",
       "353            1            0            0            0            0   \n",
       "\n",
       "     Base_date_7  bias  \n",
       "349            0     1  \n",
       "350            0     1  \n",
       "351            0     1  \n",
       "352            0     1  \n",
       "353            0     1  \n",
       "\n",
       "[5 rows x 53 columns]"
      ]
     },
     "execution_count": 23,
     "metadata": {},
     "output_type": "execute_result"
    }
   ],
   "source": [
    "train_features.head()"
   ]
  },
  {
   "cell_type": "code",
   "execution_count": 37,
   "metadata": {
    "id": "wN4A7SLx3pfr",
    "outputId": "b1a5f1ad-b985-4106-ddf3-b5a97f800e53"
   },
   "outputs": [
    {
     "name": "stdout",
     "output_type": "stream",
     "text": [
      "MSE on training: 1539.0887; MSE on test: 3780.7542\n",
      "MSE on training: 1567.0460; MSE on test: 3632.3223\n",
      "MSE on training: 1750.9827; MSE on test: 3836.2583\n",
      "MSE on training: 2042.9729; MSE on test: 5227.2602\n",
      "MSE on training: 2042.9729; MSE on test: 5227.2602\n",
      "MSE on training: 2042.9729; MSE on test: 5227.2602\n",
      "MSE on training: 2042.9729; MSE on test: 5227.2602\n",
      "MSE on training: 2042.9729; MSE on test: 5227.2602\n",
      "MSE on training: 2042.9729; MSE on test: 5227.2602\n",
      "MSE on training: 2042.9729; MSE on test: 5227.2602\n",
      "MSE on training: 2042.9729; MSE on test: 5227.2602\n",
      "MSE on training: 2042.9729; MSE on test: 5227.2602\n",
      "MSE on training: 2042.9729; MSE on test: 5227.2602\n",
      "MSE on training: 2042.9729; MSE on test: 5227.2602\n",
      "MSE on training: 2042.9729; MSE on test: 5227.2602\n",
      "MSE on training: 2042.9729; MSE on test: 5227.2602\n",
      "MSE on training: 2042.9729; MSE on test: 5227.2602\n",
      "MSE on training: 2042.9729; MSE on test: 5227.2602\n",
      "MSE on training: 2042.9729; MSE on test: 5227.2602\n",
      "MSE on training: 2042.9729; MSE on test: 5227.2602\n",
      "MSE on training: 2042.9729; MSE on test: 5227.2602\n"
     ]
    }
   ],
   "source": [
    "# Viết code ở đây:\n",
    "from sklearn.linear_model import LassoCV\n",
    "from sklearn.preprocessing import StandardScaler\n",
    "scaler = StandardScaler()\n",
    "label = \"Span count\"\n",
    "lasso_selected_features = ['CC1','CC2','CC3','CC4','CC5','Popularity','Base time','Post length','Post count','Span time', 'bias']\n",
    "\n",
    "lasso_features = train_data[lasso_selected_features]\n",
    "train_labels = train_data[label]\n",
    "lasso_test_features = test_data[lasso_selected_features]\n",
    "test_labels = test_data[label]\n",
    "lasso_features = scaler.fit_transform(lasso_features)\n",
    "lasso_test_features = scaler.transform(lasso_test_features)\n",
    "\n",
    "l1_penalty_values = np.logspace(0, 10, num=21)\n",
    "lasso_weights = []\n",
    "for l1_penalty in l1_penalty_values:\n",
    "    multi_model = LassoCV(cv=10, alphas=[l1_penalty])\n",
    "    multi_model.fit(lasso_features, train_labels)\n",
    "    lasso_weights.append(multi_model.coef_) \n",
    "    test_predictions = multi_model.predict(lasso_test_features)\n",
    "    test_mse_score = mean_squared_error(test_predictions, test_labels)\n",
    "    train_mse_score = mean_squared_error(train_labels, multi_model.predict(lasso_features))\n",
    "    print(\"MSE on training: {:.4f}; MSE on test: {:.4f}\".format(train_mse_score, test_mse_score))"
   ]
  },
  {
   "cell_type": "code",
   "execution_count": 20,
   "metadata": {
    "collapsed": true
   },
   "outputs": [
    {
     "data": {
      "text/plain": [
       "[array([ 0.        , 10.41896274, -0.        ,  0.        ,  3.83265022,\n",
       "         1.5725472 , -8.3742894 ,  0.        ,  7.36927499,  0.        ,\n",
       "         0.        ]),\n",
       " array([ 0.        , 11.25946219, -0.        ,  0.        ,  1.6881385 ,\n",
       "         0.        , -6.62454587,  0.        ,  5.12623563,  0.        ,\n",
       "         0.        ]),\n",
       " array([ 0.        ,  9.12605854, -0.        ,  0.        ,  0.        ,\n",
       "         0.        , -0.97903012,  0.        ,  0.        ,  0.        ,\n",
       "         0.        ]),\n",
       " array([ 0.,  0., -0.,  0.,  0.,  0., -0.,  0.,  0.,  0.,  0.]),\n",
       " array([ 0.,  0., -0.,  0.,  0.,  0., -0.,  0.,  0.,  0.,  0.]),\n",
       " array([ 0.,  0., -0.,  0.,  0.,  0., -0.,  0.,  0.,  0.,  0.]),\n",
       " array([ 0.,  0., -0.,  0.,  0.,  0., -0.,  0.,  0.,  0.,  0.]),\n",
       " array([ 0.,  0., -0.,  0.,  0.,  0., -0.,  0.,  0.,  0.,  0.]),\n",
       " array([ 0.,  0., -0.,  0.,  0.,  0., -0.,  0.,  0.,  0.,  0.]),\n",
       " array([ 0.,  0., -0.,  0.,  0.,  0., -0.,  0.,  0.,  0.,  0.]),\n",
       " array([ 0.,  0., -0.,  0.,  0.,  0., -0.,  0.,  0.,  0.,  0.]),\n",
       " array([ 0.,  0., -0.,  0.,  0.,  0., -0.,  0.,  0.,  0.,  0.]),\n",
       " array([ 0.,  0., -0.,  0.,  0.,  0., -0.,  0.,  0.,  0.,  0.]),\n",
       " array([ 0.,  0., -0.,  0.,  0.,  0., -0.,  0.,  0.,  0.,  0.]),\n",
       " array([ 0.,  0., -0.,  0.,  0.,  0., -0.,  0.,  0.,  0.,  0.]),\n",
       " array([ 0.,  0., -0.,  0.,  0.,  0., -0.,  0.,  0.,  0.,  0.]),\n",
       " array([ 0.,  0., -0.,  0.,  0.,  0., -0.,  0.,  0.,  0.,  0.]),\n",
       " array([ 0.,  0., -0.,  0.,  0.,  0., -0.,  0.,  0.,  0.,  0.]),\n",
       " array([ 0.,  0., -0.,  0.,  0.,  0., -0.,  0.,  0.,  0.,  0.]),\n",
       " array([ 0.,  0., -0.,  0.,  0.,  0., -0.,  0.,  0.,  0.,  0.]),\n",
       " array([ 0.,  0., -0.,  0.,  0.,  0., -0.,  0.,  0.,  0.,  0.])]"
      ]
     },
     "execution_count": 20,
     "metadata": {},
     "output_type": "execute_result"
    }
   ],
   "source": [
    "lasso_weights"
   ]
  },
  {
   "cell_type": "code",
   "execution_count": 21,
   "metadata": {},
   "outputs": [],
   "source": [
    "selected_features_number = []\n",
    "for i in range(len(lasso_weights)):\n",
    "    number = np.count_nonzero(lasso_weights[i])\n",
    "    selected_features_number.append(number)"
   ]
  },
  {
   "cell_type": "code",
   "execution_count": 22,
   "metadata": {},
   "outputs": [
    {
     "data": {
      "image/png": "[encoded data removed]",
      "text/plain": [
       "<Figure size 640x480 with 1 Axes>"
      ]
     },
     "metadata": {},
     "output_type": "display_data"
    }
   ],
   "source": [
    "plt.bar(l1_penalty_values, selected_features_number, align='center', alpha=0.5)\n",
    "plt.xlabel('L1 Penalty Values')\n",
    "plt.ylabel('Number of Selected Features')\n",
    "plt.title('Bar Chart of L1 Penalty Values vs. Selected Features')\n",
    "\n",
    "# Display the bar chart\n",
    "plt.xscale('log')\n",
    "plt.show()"
   ]
  },
  {
   "cell_type": "markdown",
   "metadata": {
    "id": "7-alhAu13pf4"
   },
   "source": [
    "### Xây dựng mô hình chặt chẽ hơn với các đặc trưng đã chọn\n",
    "Khi thực hiện lựa chọn đặc trưng, chúng ta có thể sẽ phải thêm lại độ chệch vào list các đặc trưng. Hãy sử dụng các đặc trưng đã chọn để xây dựng mô hình và tính toán chất lượng dựa trên các chỉ số."
   ]
  },
  {
   "cell_type": "code",
   "execution_count": 29,
   "metadata": {
    "id": "lTLBNiVL3pf5"
   },
   "outputs": [
    {
     "data": {
      "text/plain": [
       "array(['CC2', 'CC5', 'Popularity', 'Base time', 'Post count', 'bias'],\n",
       "      dtype='<U11')"
      ]
     },
     "execution_count": 29,
     "metadata": {},
     "output_type": "execute_result"
    }
   ],
   "source": [
    "selected_lasso_weights = lasso_weights[0]\n",
    "lasso_selected_features = np.array(lasso_selected_features)[selected_lasso_weights!=0]\n",
    "if(\"bias\" not in lasso_selected_features):\n",
    "    lasso_selected_features = np.append(lasso_selected_features, \"bias\")\n",
    "lasso_selected_features"
   ]
  },
  {
   "cell_type": "code",
   "execution_count": 32,
   "metadata": {
    "id": "SLNyIeow4D0t"
   },
   "outputs": [],
   "source": [
    "# Viết code ở đây\n",
    "model = LinearRegression()\n",
    "final_train_features = train_data[lasso_selected_features]\n",
    "final_test_features = test_data[lasso_selected_features]\n",
    "model.fit(final_train_features, train_labels)\n",
    "y_pred_train = model.predict(final_train_features)\n",
    "y_pred = model.predict(final_test_features)\n",
    "MSE_train = mean_squared_error(y_pred_train, train_labels)\n",
    "MSE = mean_squared_error(y_pred, test_labels)"
   ]
  },
  {
   "cell_type": "code",
   "execution_count": 33,
   "metadata": {},
   "outputs": [
    {
     "name": "stdout",
     "output_type": "stream",
     "text": [
      "MSE on training set: 1535.7394500360504\n",
      "MSE on test set: 3945.010110716398\n"
     ]
    }
   ],
   "source": [
    "print(f\"MSE on training set: {MSE_train}\")\n",
    "print(f\"MSE on test set: {MSE}\")"
   ]
  },
  {
   "cell_type": "markdown",
   "metadata": {
    "id": "IPCIEyCG3pf-"
   },
   "source": [
    "## Kết hợp mọi thứ trên một mô hình\n",
    "LASSO đã thực hiện rất tốt, thu nhỏ các đặc trưng nhiễu và không cần thiết, tăng tốc độ tính toán. Bây giờ hãy kết hợp cả 2 kỹ thuật trước đó vào cùng một mô hình."
   ]
  },
  {
   "cell_type": "code",
   "execution_count": 39,
   "metadata": {
    "id": "RH6S9qpP3pf_"
   },
   "outputs": [
    {
     "name": "stderr",
     "output_type": "stream",
     "text": [
      "C:\\Users\\Bang\\anaconda3\\lib\\site-packages\\sklearn\\linear_model\\_ridge.py:157: LinAlgWarning: Ill-conditioned matrix (rcond=1.55909e-18): result may not be accurate.\n",
      "  return linalg.solve(A, Xy, sym_pos=True, overwrite_a=True).T\n",
      "C:\\Users\\Bang\\anaconda3\\lib\\site-packages\\sklearn\\linear_model\\_ridge.py:157: LinAlgWarning: Ill-conditioned matrix (rcond=1.60318e-18): result may not be accurate.\n",
      "  return linalg.solve(A, Xy, sym_pos=True, overwrite_a=True).T\n",
      "C:\\Users\\Bang\\anaconda3\\lib\\site-packages\\sklearn\\linear_model\\_ridge.py:157: LinAlgWarning: Ill-conditioned matrix (rcond=1.51459e-18): result may not be accurate.\n",
      "  return linalg.solve(A, Xy, sym_pos=True, overwrite_a=True).T\n",
      "C:\\Users\\Bang\\anaconda3\\lib\\site-packages\\sklearn\\linear_model\\_ridge.py:157: LinAlgWarning: Ill-conditioned matrix (rcond=1.65112e-18): result may not be accurate.\n",
      "  return linalg.solve(A, Xy, sym_pos=True, overwrite_a=True).T\n",
      "C:\\Users\\Bang\\anaconda3\\lib\\site-packages\\sklearn\\linear_model\\_ridge.py:157: LinAlgWarning: Ill-conditioned matrix (rcond=1.5151e-18): result may not be accurate.\n",
      "  return linalg.solve(A, Xy, sym_pos=True, overwrite_a=True).T\n",
      "C:\\Users\\Bang\\anaconda3\\lib\\site-packages\\sklearn\\linear_model\\_ridge.py:157: LinAlgWarning: Ill-conditioned matrix (rcond=1.54173e-18): result may not be accurate.\n",
      "  return linalg.solve(A, Xy, sym_pos=True, overwrite_a=True).T\n",
      "C:\\Users\\Bang\\anaconda3\\lib\\site-packages\\sklearn\\linear_model\\_ridge.py:157: LinAlgWarning: Ill-conditioned matrix (rcond=1.68047e-18): result may not be accurate.\n",
      "  return linalg.solve(A, Xy, sym_pos=True, overwrite_a=True).T\n",
      "C:\\Users\\Bang\\anaconda3\\lib\\site-packages\\sklearn\\linear_model\\_ridge.py:157: LinAlgWarning: Ill-conditioned matrix (rcond=1.50823e-18): result may not be accurate.\n",
      "  return linalg.solve(A, Xy, sym_pos=True, overwrite_a=True).T\n",
      "C:\\Users\\Bang\\anaconda3\\lib\\site-packages\\sklearn\\linear_model\\_ridge.py:157: LinAlgWarning: Ill-conditioned matrix (rcond=1.56065e-18): result may not be accurate.\n",
      "  return linalg.solve(A, Xy, sym_pos=True, overwrite_a=True).T\n",
      "C:\\Users\\Bang\\anaconda3\\lib\\site-packages\\sklearn\\linear_model\\_ridge.py:157: LinAlgWarning: Ill-conditioned matrix (rcond=1.70145e-18): result may not be accurate.\n",
      "  return linalg.solve(A, Xy, sym_pos=True, overwrite_a=True).T\n",
      "C:\\Users\\Bang\\anaconda3\\lib\\site-packages\\sklearn\\linear_model\\_ridge.py:157: LinAlgWarning: Ill-conditioned matrix (rcond=1.42222e-18): result may not be accurate.\n",
      "  return linalg.solve(A, Xy, sym_pos=True, overwrite_a=True).T\n"
     ]
    }
   ],
   "source": [
    "# Viết code ở đây:\n",
    "final_model = RidgeCV(cv=10, alphas=[1.0])\n",
    "final_model.fit(final_train_features, train_labels)\n",
    "test_predictions = final_model.predict(final_test_features)"
   ]
  },
  {
   "cell_type": "markdown",
   "metadata": {
    "id": "GPKAOxhp3pgD"
   },
   "source": [
    "### Phân phối sai số bình phương\n",
    "Chúng ta hãy đưa ra kết luận; lưu ý thêm, hãy quan sát cách các sai số bình phương được phân phối."
   ]
  },
  {
   "cell_type": "code",
   "execution_count": 40,
   "metadata": {
    "id": "ve-GpGS13pgE",
    "outputId": "39ff9df1-cf8b-4cc8-9ec0-f5704d239b0f"
   },
   "outputs": [
    {
     "data": {
      "image/png": "[encoded data removed]",
      "text/plain": [
       "<Figure size 640x480 with 2 Axes>"
      ]
     },
     "metadata": {},
     "output_type": "display_data"
    }
   ],
   "source": [
    "train_square_errors = np.log( (train_labels - final_model.predict(final_train_features)) ** 2 )\n",
    "test_square_errors = np.log( (test_labels - test_predictions) ** 2 )\n",
    "fig, (train_ax, test_ax) = plt.subplots(ncols=2, sharey=True)\n",
    "train_ax.hist(train_square_errors, bins=20, density=True)\n",
    "train_ax.set_xlabel(\"Train error (log)\")\n",
    "test_ax.set_xlabel(\"Test error (log)\")\n",
    "test_ax.hist(test_square_errors, bins=20, density=True)\n",
    "plt.show()"
   ]
  },
  {
   "cell_type": "code",
   "execution_count": null,
   "metadata": {
    "id": "dO2F92sB3pgK"
   },
   "outputs": [],
   "source": []
  }
 ],
 "metadata": {
  "colab": {
   "provenance": []
  },
  "kernelspec": {
   "display_name": "Python 3 (ipykernel)",
   "language": "python",
   "name": "python3"
  },
  "language_info": {
   "codemirror_mode": {
    "name": "ipython",
    "version": 3
   },
   "file_extension": ".py",
   "mimetype": "text/x-python",
   "name": "python",
   "nbconvert_exporter": "python",
   "pygments_lexer": "ipython3",
   "version": "3.9.13"
  }
 },
 "nbformat": 4,
 "nbformat_minor": 1
}
