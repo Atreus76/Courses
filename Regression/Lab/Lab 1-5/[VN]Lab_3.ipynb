{
 "cells": [
  {
   "cell_type": "markdown",
   "metadata": {
    "id": "-tZq1hXCXmYn"
   },
   "source": [
    "# Đánh giá khớp (Hồi quy đa thức)"
   ]
  },
  {
   "cell_type": "markdown",
   "metadata": {
    "id": "N3r8GEwtXmYs"
   },
   "source": [
    "Trong notebook này, chúng ta sẽ so sánh các mô hình hồi quy khác nhau để đánh giá xem mô hình nào khớp nhất. Chúng ta sẽ sử dụng hồi quy đa thức để xem xét chủ đề này. Cụ thể, chúng ta sẽ:\n",
    "* Viết hàm nhận một đặc trưng đơn lẻ (trong mảng Numpy/Series) và một bậc, trả về một DataFrame có từng cột là đặc trưng tới giá trị đa thức lên tới tổng bậc, chẳng hạn: bậc = 3 thì cột 1 là đặc trưng ban đầu, cột 2 là đặc trưng bình phương và cột 3 là đặc trưng lập phương.\n",
    "* Sử dụng matplotlib để trực quan hóa hồi quy đa thức.\n",
    "* Sử dụng matplotlib để trực quan hóa cùng bậc đa thức trong cùng một tập con dữ liệu.\n",
    "* Sử dụng tập kiểm định để chọn bậc đa thức.\n",
    "* Đánh giá khớp cuối cùng sử dụng dữ liệu kiểm tra.\n",
    "\n",
    "Chúng ta vẫn sử dụng dữ liệu nhà ở từ notebook trước."
   ]
  },
  {
   "cell_type": "markdown",
   "metadata": {
    "id": "RMGCkP2yXmYw"
   },
   "source": [
    "## Thư viện"
   ]
  },
  {
   "cell_type": "code",
   "execution_count": 1,
   "metadata": {
    "id": "s52LRfPqXmZI"
   },
   "outputs": [
    {
     "name": "stderr",
     "output_type": "stream",
     "text": [
      "C:\\Users\\Bang\\anaconda3\\lib\\site-packages\\scipy\\__init__.py:155: UserWarning: A NumPy version >=1.18.5 and <1.25.0 is required for this version of SciPy (detected version 1.26.4\n",
      "  warnings.warn(f\"A NumPy version >={np_minversion} and <{np_maxversion}\"\n"
     ]
    }
   ],
   "source": [
    "import sklearn\n",
    "import pandas\n",
    "import numpy as np"
   ]
  },
  {
   "cell_type": "markdown",
   "metadata": {
    "id": "yViY6sRuXmZN"
   },
   "source": [
    "Tiếp theo, chúng ta sẽ viết hàm đa thức nhận một đặc trưng và một bậc cực đại, trả về DataFrame chứa tất cả các lũy thừa của đặc trưng cho đến bậc cực đại.\n",
    "\n",
    "Cách đơn giản nhất để vận dụng lũy thừa vào một Series là sử dụng các hàm `.apply` và `lambda x:`. Tuy nhiên, mảng Numpy chỉ có thể thực hiện nó dễ dàng với các phép số học đơn giản; nếu không, nó sẽ yêu cầu `np.vectorize` khó hiểu hơn. Ví dụ để lấy mảng mock và tính lũy thừa bậc ba, chúng ta có thể làm như sau:"
   ]
  },
  {
   "cell_type": "code",
   "execution_count": 2,
   "metadata": {
    "id": "JRIJWduZXmZQ",
    "outputId": "08707238-b9d5-4027-c12e-540b5d06bf76"
   },
   "outputs": [
    {
     "name": "stdout",
     "output_type": "stream",
     "text": [
      "[1. 2. 3.] [ 1.  8. 27.] [ 1.  8. 27.]\n",
      "0    1.0\n",
      "1    2.0\n",
      "2    3.0\n",
      "dtype: float64 \n",
      " 0     1.0\n",
      "1     8.0\n",
      "2    27.0\n",
      "dtype: float64\n"
     ]
    }
   ],
   "source": [
    "mock = np.array([1., 2., 3.])\n",
    "mock_series = pandas.Series(mock)\n",
    "mock_cubed = mock ** 3\n",
    "mock_cubed_long = np.vectorize(lambda x: x ** 3)(mock)\n",
    "mock_series_cubed = mock_series.apply(lambda x: x ** 3)\n",
    "print(mock, mock_cubed, mock_cubed_long)\n",
    "print(mock_series, \"\\n\", mock_series_cubed)"
   ]
  },
  {
   "cell_type": "markdown",
   "metadata": {
    "id": "lmALtseEXmZW"
   },
   "source": [
    "Chúng ta có thể tạo một DataFrame trống sử dụng `pandas.DataFrame()`, sau đó thêm bất kỳ cột nào vào đó với `dataframe['column_name'] = value`. Chẳng hạn, chúng ta tạo một DataFrame trống và đặt cột 'power_1' là lũy thừa bậc một của giá trị mock."
   ]
  },
  {
   "cell_type": "code",
   "execution_count": 3,
   "metadata": {
    "id": "_nOOjdsaXmZY",
    "outputId": "631e135e-4dc4-4107-8b8b-bee49dee729e"
   },
   "outputs": [
    {
     "name": "stdout",
     "output_type": "stream",
     "text": [
      "   power_1\n",
      "0      1.0\n",
      "1      2.0\n",
      "2      3.0\n"
     ]
    }
   ],
   "source": [
    "data = pandas.DataFrame()\n",
    "data['power_1'] = mock\n",
    "print(data)"
   ]
  },
  {
   "cell_type": "markdown",
   "metadata": {
    "id": "U5_oDv59XmZc"
   },
   "source": [
    "## Hàm `polynomial_dataframe`"
   ]
  },
  {
   "cell_type": "markdown",
   "metadata": {
    "id": "g5Fa_V7tXmZd"
   },
   "source": [
    "Sử dụng các gợi ý phía trên để hoàn thiện hàm sau:"
   ]
  },
  {
   "cell_type": "code",
   "execution_count": 4,
   "metadata": {
    "id": "QejpEAagXmZf"
   },
   "outputs": [],
   "source": [
    "def polynomial_dataframe(feature, degree):\n",
    "    # giả sử bậc >= 1\n",
    "    # khởi tạo DataFrame:\n",
    "    poly_data = pandas.DataFrame()\n",
    "    # và đặt poly_data['power_1'] bằng với đặc trưng đã truyền vào\n",
    "    poly_data[\"power_1\"] = feature\n",
    "    # trước tiên kiểm tra xem bậc có lớn hơn 1 không\n",
    "    if degree > 1:\n",
    "        # thì lặp qua các bậc còn lại:\n",
    "        # range thường bắt đầu range từ 0 và kết thúc ở đầu cuối -1. Chúng ta cần nó bắt đầu từ 2 và ngừng ở bậc\n",
    "        for power in range(2, degree+1):\n",
    "            # trước tiên đặt tên cột:\n",
    "            name = 'power_' + str(power)\n",
    "            # sau đó gán poly_sframe[name] cho lũy thừa thích hợp của đặc trưng\n",
    "            poly_data[name] = np.vectorize(lambda x:'{:.2e}'.format(x**power))(feature)\n",
    "    return poly_data"
   ]
  },
  {
   "cell_type": "markdown",
   "metadata": {
    "id": "EFEXKbksXmZi"
   },
   "source": [
    "Kiểm tra hàm với biến **mock** và kết quả dự kiến của cell sau:"
   ]
  },
  {
   "cell_type": "code",
   "execution_count": 5,
   "metadata": {
    "id": "uJX0srA8XmZk",
    "outputId": "829e0bc1-0e0b-48d1-e735-7a27e36387c6"
   },
   "outputs": [
    {
     "name": "stdout",
     "output_type": "stream",
     "text": [
      "   power_1   power_2   power_3\n",
      "0      1.0  1.00e+00  1.00e+00\n",
      "1      2.0  4.00e+00  8.00e+00\n",
      "2      3.0  9.00e+00  2.70e+01\n"
     ]
    }
   ],
   "source": [
    "print(polynomial_dataframe(mock, 3))"
   ]
  },
  {
   "cell_type": "markdown",
   "metadata": {
    "id": "ahg2DtorXmZm"
   },
   "source": [
    "# Trực quan hóa hồi quy đa thức"
   ]
  },
  {
   "cell_type": "markdown",
   "metadata": {
    "id": "bDMXYr61XmZn"
   },
   "source": [
    "Sử dụng matplotlib để hiển thị hồi quy đa thức trông như thế nào trong dữ liệu thực."
   ]
  },
  {
   "cell_type": "code",
   "execution_count": 6,
   "metadata": {
    "id": "swewnTKdXmZo"
   },
   "outputs": [],
   "source": [
    "full_data = pandas.read_csv(\"kc_house_data.csv\", index_col=0)"
   ]
  },
  {
   "cell_type": "markdown",
   "metadata": {
    "id": "W9d2AclGXmZp"
   },
   "source": [
    "Chúng ta sẽ dùng biến sqft_living. Để vẽ biểu đồ (nối các chấm), chúng ta cần sắp xếp giá trị của sqft_living. Những ngôi nhà có diện tích giống nhau sẽ phân biệt theo giá."
   ]
  },
  {
   "cell_type": "code",
   "execution_count": 7,
   "metadata": {
    "id": "GNAYNfE1XmZs"
   },
   "outputs": [],
   "source": [
    "full_data = full_data.sort_values(['sqft_living', 'price'])"
   ]
  },
  {
   "cell_type": "markdown",
   "metadata": {
    "id": "4gK3bzmoXmZv"
   },
   "source": [
    "Hãy bắt đầu với đa thức bậc 1 sử dụng 'sqft_living' (chẳng hạn 1 dòng) để dự đoán 'price' và vẽ biểu đồ xem nó trông như thế nào."
   ]
  },
  {
   "cell_type": "code",
   "execution_count": 8,
   "metadata": {
    "id": "c9U3lbRdXmZx"
   },
   "outputs": [],
   "source": [
    "poly1_data = polynomial_dataframe(full_data['sqft_living'], 1)\n",
    "poly1_data['price'] = full_data['price'] # add price to the data since it's the target"
   ]
  },
  {
   "cell_type": "markdown",
   "metadata": {
    "id": "aK_CWgcpXmZ0"
   },
   "source": [
    "Đó là dữ liệu. Đã đến lúc tạo mô hình và thử với nó."
   ]
  },
  {
   "cell_type": "code",
   "execution_count": 9,
   "metadata": {
    "id": "v4aHlNo4XmZ1"
   },
   "outputs": [],
   "source": [
    "from sklearn.linear_model import LinearRegression\n",
    "features_poly1 = np.reshape(poly1_data['power_1'].values, [-1, 1])\n",
    "labels_poly1 = poly1_data['price'].values\n",
    "model1 = LinearRegression().fit(features_poly1, labels_poly1)"
   ]
  },
  {
   "cell_type": "code",
   "execution_count": 10,
   "metadata": {
    "id": "4I3y-544XmZ6",
    "outputId": "a23a2a84-45af-40a7-9f2b-8621b223f711"
   },
   "outputs": [
    {
     "data": {
      "text/plain": [
       "array([280.6235679])"
      ]
     },
     "execution_count": 10,
     "metadata": {},
     "output_type": "execute_result"
    }
   ],
   "source": [
    "#hãy xem các trọng số trước khi vẽ biểu đồ\n",
    "model1.coef_"
   ]
  },
  {
   "cell_type": "code",
   "execution_count": null,
   "metadata": {
    "id": "1kzXyoaKXmZ-"
   },
   "outputs": [],
   "source": [
    "import matplotlib.pyplot as plt\n",
    "%matplotlib inline"
   ]
  },
  {
   "cell_type": "code",
   "execution_count": null,
   "metadata": {
    "id": "xlqay1feXmaB",
    "outputId": "c706c0d0-9d3d-4909-934f-bbdfecdc5dfe"
   },
   "outputs": [],
   "source": [
    "plt.plot(poly1_data['power_1'],poly1_data['price'],'.',\n",
    "        poly1_data['power_1'], model1.predict(features_poly1),'-')"
   ]
  },
  {
   "cell_type": "markdown",
   "metadata": {
    "id": "WXGin2TtXmaF"
   },
   "source": [
    "Hãy giải nén lệnh plt.plot(). Cặp đầu tiên là lũy thừa bậc 1 của sqft và giá thực, sau đó yêu cầu in chúng thành các giá trị thứ ba ('.'). Cặp tiếp theo là lũy thừa bậc 1 của sqft và các giá trị dự đoán từ mô hình tuyến tính được vẽ thành một đường '-'.\n",
    "\n",
    "Không có gì ngạc nhiên khi giá trị dự đoán đều nằm trên một đường, đặc biệt là đường với slope 280 và intercept -43579. Sẽ ra sao nếu chúng ta muốn vẽ một bậc đa thức thứ hai?"
   ]
  },
  {
   "cell_type": "code",
   "execution_count": null,
   "metadata": {
    "id": "F6ql_JjRXmaL"
   },
   "outputs": [],
   "source": [
    "poly2_data = polynomial_dataframe(full_data['sqft_living'], 2) # create polynomial up to 2 degree\n",
    "features_poly2 = poly2_data.values # extract the features immediately\n",
    "poly2_data['price'] = full_data['price']\n",
    "labels_poly2 = poly2_data['price'].values # receive the labels\n",
    "\n",
    "model2 = LinearRegression().fit(features_poly2, labels_poly2)"
   ]
  },
  {
   "cell_type": "code",
   "execution_count": null,
   "metadata": {
    "id": "QdOoASpPXmaQ",
    "outputId": "c893a3c5-18fc-420d-9b22-e2307c278147"
   },
   "outputs": [],
   "source": [
    "model2.coef_"
   ]
  },
  {
   "cell_type": "code",
   "execution_count": null,
   "metadata": {
    "id": "QJoEy5q9XmaS",
    "outputId": "0bbae917-0f29-44f7-cb18-fccdd050450e"
   },
   "outputs": [],
   "source": [
    "plt.plot(poly2_data['power_1'],poly2_data['price'],'.',\n",
    "        poly2_data['power_1'], model2.predict(features_poly2),'-')"
   ]
  },
  {
   "cell_type": "markdown",
   "metadata": {
    "id": "hK8wfPnvXmaV"
   },
   "source": [
    "Mô hình kết quả có dạng một nửa parabol. Thử với mô hình với bậc 3 xem nó trông thế nào:"
   ]
  },
  {
   "cell_type": "code",
   "execution_count": null,
   "metadata": {
    "id": "wKmFtrCmXmaW"
   },
   "outputs": [],
   "source": [
    "# 1, 2, 3. Một lần nữa, Ctrl+C, Ctrl+V, chỉnh\n",
    "poly3_data = polynomial_dataframe(full_data['sqft_living'], 3) # create polynomial up to 2 degree\n",
    "features_poly3 = poly3_data.values # extract the features immediately\n",
    "poly3_data['price'] = full_data['price']\n",
    "labels_poly3 = poly3_data['price'].values # receive the labels\n",
    "\n",
    "model3 = LinearRegression().fit(features_poly3, labels_poly3)"
   ]
  },
  {
   "cell_type": "code",
   "execution_count": null,
   "metadata": {
    "id": "tb_4ipMZXmaX"
   },
   "outputs": [],
   "source": [
    "# Hãy cẩn thận với thay thế của bạn\n",
    "model3.coef_"
   ]
  },
  {
   "cell_type": "code",
   "execution_count": null,
   "metadata": {},
   "outputs": [],
   "source": [
    "plt.plot(poly3_data['power_1'],poly3_data['price'],'.',\n",
    "        poly3_data['power_1'], model3.predict(features_poly3),'-')"
   ]
  },
  {
   "cell_type": "markdown",
   "metadata": {
    "id": "dK6zHxUmXmaY"
   },
   "source": [
    "Giờ hãy thử đa thức bậc 15:"
   ]
  },
  {
   "cell_type": "code",
   "execution_count": null,
   "metadata": {
    "id": "uJflARQFXmaZ"
   },
   "outputs": [],
   "source": [
    "# Có rất nhiều cột\n",
    "poly15_data = polynomial_dataframe(full_data['sqft_living'], 15) # create polynomial up to 2 degree\n",
    "features_poly15 = poly15_data.values # extract the features immediately\n",
    "poly15_data['price'] = full_data['price']\n",
    "labels_poly15 = poly15_data['price'].values # receive the labels\n",
    "\n",
    "model15 = LinearRegression().fit(features_poly15, labels_poly15)"
   ]
  },
  {
   "cell_type": "code",
   "execution_count": null,
   "metadata": {
    "id": "m4-23iRYXmaa"
   },
   "outputs": [],
   "source": [
    "# Ctrl+H có thể không ổn nếu bạn không copy từ cell tốt hơn\n",
    "model15.coef_"
   ]
  },
  {
   "cell_type": "code",
   "execution_count": null,
   "metadata": {},
   "outputs": [],
   "source": [
    "plt.plot(poly15_data['power_1'],poly15_data['price'],'.',\n",
    "        poly15_data['power_1'], model15.predict(features_poly15),'-')"
   ]
  },
  {
   "cell_type": "markdown",
   "metadata": {
    "id": "VYhIEsLyXmac"
   },
   "source": [
    "Đa thức bậc 15 như thế nào? Nó có thích hợp không? Nếu chúng ta thay đổi dữ liệu thì có được đường cong cũng tương tự không? Hãy xem kết quả."
   ]
  },
  {
   "cell_type": "markdown",
   "metadata": {
    "id": "kTgHc7GSXmae"
   },
   "source": [
    "## Thay đổi dữ liệu và học lại"
   ]
  },
  {
   "cell_type": "markdown",
   "metadata": {
    "id": "OV0xJEYiXmag"
   },
   "source": [
    "Chúng ta sẽ chia dữ liệu bán hàng thành 4 tập con có kích thước tương tự nhau. Sau đó ước tính một mô hình đa thức bậc 15 cho cả 4 tập con dữ liệu. In ra các hệ số (nên dùng `.coef_` để truy cập các tham số của mô hình) và vẽ biểu đồ kết quả khớp (đã thực hiện phía trên). Quiz sẽ hỏi về các kết quả này.\n",
    "\n",
    "Để chia dữ liệu bán hàng thành 4 tập con, chúng ta thực hiện như sau:\n",
    "* Đầu tiên, chia full_data thành 2 tập con với `train_test_split(full_data, train_size=0.5, test_size=0.5 seed=0)`.\n",
    "* Tiếp theo chia mỗi tập con kết quả thành 2 tập con nữa với `train_test_split(big_set_?, train_size=0.5, test_size=0.5, random_state=0)`.\n",
    "\n",
    "Chúng ta thiết lập `seed=0` trong các bước này để những người dùng khác nhau sẽ được các kết quả thống nhất.\n",
    "Chúng ta nên kết thúc với 4 tập con (`set_1`, `set_2`, `set_3`, `set_4`) có kích thước xấp xỉ nhau."
   ]
  },
  {
   "cell_type": "code",
   "execution_count": null,
   "metadata": {
    "id": "76dnOPQyXmai"
   },
   "outputs": [],
   "source": [
    "from sklearn.model_selection import train_test_split\n",
    "big_set_1, big_set_2 = train_test_split(full_data, train_size=0.5, test_size=0.5, random_state=0)\n",
    "set_1, set_2 = train_test_split(big_set_1, train_size=0.5, test_size=0.5, random_state=0)\n",
    "set_3, set_4 = train_test_split(big_set_2, train_size=0.5, test_size=0.5, random_state=0)"
   ]
  },
  {
   "cell_type": "markdown",
   "metadata": {
    "id": "t1Cd3dVqXmaj"
   },
   "source": [
    "**test_size=0.5 có cần thiết không?**"
   ]
  },
  {
   "cell_type": "markdown",
   "metadata": {
    "id": "cKMuQHHjXmal"
   },
   "source": [
    "Khớp đa thức bậc 15 vào set_1, set_2, set_3, và set_4 sử dụng sqft_living để đoán giá. Vẽ biểu đồ mô hình kết quả (in các hệ số cho 'power_1' nếu muốn)."
   ]
  },
  {
   "cell_type": "code",
   "execution_count": null,
   "metadata": {
    "id": "IO8ZR3zHXmam"
   },
   "outputs": [],
   "source": [
    "# Bạn có thể vẽ mô hình ở đây\n",
    "poly15_set1_data = polynomial_dataframe(set_1['sqft_living'], 15) # create polynomial up to 2 degree\n",
    "features_poly15_set1 = poly15_set1_data.values # extract the features immediately\n",
    "poly15_set1_data['price'] = set_1['price']\n",
    "labels_poly15_set1 = poly15_set1_data['price'].values # receive the labels\n",
    "\n",
    "model15_set1 = LinearRegression().fit(features_poly15_set1, labels_poly15_set1)\n",
    "print(model15_set1.coef_)\n",
    "plt.plot(poly15_set1_data['power_1'],poly15_set1_data['price'],'.',\n",
    "        poly15_set1_data['power_1'], model15_set1.predict(features_poly15_set1),'-')"
   ]
  },
  {
   "cell_type": "code",
   "execution_count": null,
   "metadata": {
    "id": "1YnoUHoLXmao"
   },
   "outputs": [],
   "source": [
    "# Sau đó copy cho cả 4\n",
    "# Bạn có thể vẽ mô hình ở đây\n",
    "poly15_set2_data = polynomial_dataframe(set_2['sqft_living'], 15) # create polynomial up to 2 degree\n",
    "features_poly15_set2 = poly15_set2_data.values # extract the features immediately\n",
    "poly15_set2_data['price'] = set_2['price']\n",
    "labels_poly15_set2 = poly15_set2_data['price'].values # receive the labels\n",
    "\n",
    "model15_set2 = LinearRegression().fit(features_poly15_set2, labels_poly15_set2)\n",
    "print(model15_set2.coef_)\n",
    "plt.plot(poly15_set2_data['power_1'],poly15_set2_data['price'],'.',\n",
    "        poly15_set2_data['power_1'], model15_set2.predict(features_poly15_set2),'-')"
   ]
  },
  {
   "cell_type": "code",
   "execution_count": null,
   "metadata": {
    "id": "t_0DbTBIXmap"
   },
   "outputs": [],
   "source": [
    "# Hoặc thực hiện tất cả một lúc\n",
    "# Bạn có thể vẽ mô hình ở đây\n",
    "poly15_set3_data = polynomial_dataframe(set_3['sqft_living'], 15) # create polynomial up to 2 degree\n",
    "features_poly15_set3 = poly15_set3_data.values # extract the features immediately\n",
    "poly15_set3_data['price'] = set_3['price']\n",
    "labels_poly15_set3 = poly15_set3_data['price'].values # receive the labels\n",
    "\n",
    "model15_set3 = LinearRegression().fit(features_poly15_set3, labels_poly15_set3)\n",
    "print(model15_set3.coef_)\n",
    "plt.plot(poly15_set3_data['power_1'],poly15_set3_data['price'],'.',\n",
    "        poly15_set3_data['power_1'], model15_set3.predict(features_poly15_set3),'-')"
   ]
  },
  {
   "cell_type": "code",
   "execution_count": null,
   "metadata": {
    "id": "ikBpnveRXmaq"
   },
   "outputs": [],
   "source": [
    "# nếu biết lặp, subplot và axes\n",
    "# Bạn có thể vẽ mô hình ở đây\n",
    "poly15_set4_data = polynomial_dataframe(set_4['sqft_living'], 15) # create polynomial up to 2 degree\n",
    "features_poly15_set4 = poly15_set4_data.values # extract the features immediately\n",
    "poly15_set4_data['price'] = set_4['price']\n",
    "labels_poly15_set4 = poly15_set4_data['price'].values # receive the labels\n",
    "\n",
    "model15_set4 = LinearRegression().fit(features_poly15_set4, labels_poly15_set4)\n",
    "print(model15_set4.coef_)\n",
    "plt.plot(poly15_set4_data['power_1'],poly15_set4_data['price'],'.',\n",
    "        poly15_set4_data['power_1'], model15_set4.predict(features_poly15_set4),'-')"
   ]
  },
  {
   "cell_type": "markdown",
   "metadata": {
    "id": "ihdVUiBCXmar"
   },
   "source": [
    "\n",
    "**Quiz: Dấu (dương hoặc âm) của power_15 có tương tự ở cả 4 mô hình không??**\n",
    "Khác nhau\n",
    "\n",
    "**Quiz: (Đúng/Sai) Đồ thị khớp đã vẽ trông tương tự nhau ở cả 4 mô hình.**\n",
    "Đúng"
   ]
  },
  {
   "cell_type": "markdown",
   "metadata": {
    "id": "Ai1VdJaeXmas"
   },
   "source": [
    "# Chọn bậc đa thức"
   ]
  },
  {
   "cell_type": "markdown",
   "metadata": {
    "id": "QlntTwSZXmau"
   },
   "source": [
    "Khi có tham số như bậc của đa thức, có một cách để lựa chọn các tham số này, đó là tập kiểm định. (Chúng ta sẽ khám phá một phương pháp khác sau).\n",
    "\n",
    "Chúng ta chia tập dữ liệu bán hàng thành tập huấn luyện, tập kiểm tra và tập kiểm đinh như sau:\n",
    "\n",
    "* Chia dữ liệu bán hàng thành 2 tập: `train_and_validation` và `test_data`. Sử dụng `train_test_split`.\n",
    "* Tiếp tục chia tập huấn luyện thành 2 tập: `train_data` và `validation_data`. Sử dụng `train_test_split`.\n",
    "\n",
    "Lần này, chúng ta sẽ thiết lập `random_state=1` để những người dùng có khác nhau có kết quả thống nhất."
   ]
  },
  {
   "cell_type": "code",
   "execution_count": null,
   "metadata": {
    "id": "VmJRLKMeXmaw"
   },
   "outputs": [],
   "source": [
    "# Không cần import, trừ khi không chạy split phía trên\n",
    "train_and_validation, test_data = train_test_split(full_data, train_size=0.8, test_size=0.2, random_state=1)\n",
    "train_data, validation_data = train_test_split(train_and_validation, train_size=0.5, test_size=0.5, random_state=1)"
   ]
  },
  {
   "cell_type": "markdown",
   "metadata": {
    "id": "JPsMwrgrXmay"
   },
   "source": [
    "Tiếp theo, chúng ta sẽ viết một vòng lặp như sau:\n",
    "* Với bậc [1, 2, 3, 4, 5, 6, 7, 8, 9, 10, 11, 12, 13, 14, 15] (để nhận trong python, sử dụng `range(1, 15+1)` tích hợp sẵn)\n",
    "    * Xây DataFrame của dữ liệu đa thức có train_data['sqft_living'] ở bậc hiện tại <br>\n",
    "    *Gợi ý:* DataFrame giữ cho `.values` thống nhất với thứ tự cột\n",
    "    * Load các nhãn của train_data\n",
    "    * Tìm hiểu mô hình hồi quy đa thức 'sqft' -> 'price' với bậc đó trong dữ liệu HUẤN LUYỆN\n",
    "    * Tính RSS trong dữ liệu KIỂM ĐỊNH (ở đây sẽ sử dụng `.predict()`) cho các bậc đó. Chúng ta sẽ cần áp dụng tất cả các bước trên vào tập kiểm định.\n",
    "* Báo lại bậc nào có RSS thấp nhất trong dữ liệu kiểm định (chỉ mục python từ 0)."
   ]
  },
  {
   "cell_type": "code",
   "execution_count": null,
   "metadata": {
    "id": "Z1uE68OtXmaz"
   },
   "outputs": [],
   "source": [
    "# Đọc hướng dẫn và tiến hành. Chúng ta có thể loại một số giá trị ra khỏi vòng lặp\n",
    "RSS_list = []\n",
    "for degree in range(1, 16):\n",
    "    poly_data = polynomial_dataframe(train_data['sqft_living'], degree)\n",
    "    feature_data = poly_data.values\n",
    "    poly_data['price'] = train_data['price']\n",
    "    label_data = poly_data['price'].values\n",
    "    model = LinearRegression().fit(feature_data, label_data)\n",
    "    poly_valid_data = polynomial_dataframe(validation_data['sqft_living'], degree)\n",
    "    feature_valid_data = poly_valid_data.values\n",
    "    label_valid_data = validation_data['price'].values\n",
    "    predictions = model.predict(feature_valid_data)\n",
    "    residual = predictions - label_valid_data\n",
    "    RSS = np.sum(residual**2)\n",
    "    RSS_list.append(RSS)\n",
    "    \n",
    "min_RSS = min(RSS_list)\n",
    "degree_min = RSS_list.index(min_RSS)\n",
    "print(degree_min+1)"
   ]
  },
  {
   "cell_type": "markdown",
   "metadata": {
    "id": "J7SBt7LAXma2"
   },
   "source": [
    "**Quiz: Bậc nào (1, 2, …, 15) có RSS thấp nhất trong dữ liệu KIỂM ĐỊNH?**\n",
    "Bậc 5 có RSS thấp nhất trong tập KIỂM ĐỊNH"
   ]
  },
  {
   "cell_type": "markdown",
   "metadata": {
    "id": "koQpGs03Xma5"
   },
   "source": [
    "Chúng ta đã chọn bậc của đa thức sử dụng dữ liệu kiểm định, hãy tính RSS của mô hình này trong dữ liệu KIỂM TRA. Báo cáo RSS trong quiz."
   ]
  },
  {
   "cell_type": "code",
   "execution_count": null,
   "metadata": {
    "id": "N77axvQGXma9"
   },
   "outputs": [],
   "source": [
    "# Mức độ trợ giúp: thấp\n",
    "poly_data = polynomial_dataframe(train_data['sqft_living'], 6)\n",
    "feature_data = poly_data.values\n",
    "poly_data['price'] = train_data['price']\n",
    "label_data = poly_data['price']\n",
    "model = LinearRegression().fit(feature_data, label_data)\n",
    "poly_test_data = polynomial_dataframe(test_data['sqft_living'], 6)\n",
    "feature_test_data = poly_test_data.values\n",
    "label_test_data = test_data['price']\n",
    "predictions = model.predict(feature_test_data)\n",
    "residual = predictions - label_test_data\n",
    "RSS = np.sum(residual*residual)\n",
    "print(RSS)"
   ]
  },
  {
   "cell_type": "markdown",
   "metadata": {
    "id": "-ZZKDRXFXmbD"
   },
   "source": [
    "**Quiz: RSS trong dữ liệu KIỂM TRA cho mô hình với bậc được chọn từ dữ liệu KIỂM ĐỊNH là?**\n",
    "266245573158238.0"
   ]
  },
  {
   "cell_type": "code",
   "execution_count": null,
   "metadata": {
    "id": "CAr_NGq9XmbE"
   },
   "outputs": [],
   "source": []
  }
 ],
 "metadata": {
  "colab": {
   "provenance": []
  },
  "kernelspec": {
   "display_name": "Python 3 (ipykernel)",
   "language": "python",
   "name": "python3"
  },
  "language_info": {
   "codemirror_mode": {
    "name": "ipython",
    "version": 3
   },
   "file_extension": ".py",
   "mimetype": "text/x-python",
   "name": "python",
   "nbconvert_exporter": "python",
   "pygments_lexer": "ipython3",
   "version": "3.9.13"
  }
 },
 "nbformat": 4,
 "nbformat_minor": 1
}
