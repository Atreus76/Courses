{
 "cells": [
  {
   "cell_type": "markdown",
   "metadata": {
    "id": "97veRaWnAwb-"
   },
   "source": [
    "# Hồi quy Ridge (gradient descent)"
   ]
  },
  {
   "cell_type": "markdown",
   "metadata": {
    "id": "j8eyx6SWAwcJ"
   },
   "source": [
    "Trong notebook này, chúng ta sẽ triển khai hồi quy Ridge qua gradient descent. Chúng ta sẽ:\n",
    "* Trích xuất các giá trị DataFrame thành mảng Numpy.\n",
    "* Viết hàm Numpy để tính đạo hàm của các trọng số hồi quy với một đặc trung duy nhất.\n",
    "* Viết hàm gradient descent để tính các trọng số hồi quy biết vectơ trọng số ban đầu, kích thước bước, dung sai và L2 penalty."
   ]
  },
  {
   "cell_type": "markdown",
   "metadata": {
    "id": "g7Irfp2cAwcL"
   },
   "source": [
    "## Như thường lệ"
   ]
  },
  {
   "cell_type": "code",
   "execution_count": 1,
   "metadata": {
    "id": "K3p13pwnAwcM"
   },
   "outputs": [],
   "source": [
    "import sklearn\n",
    "import pandas"
   ]
  },
  {
   "cell_type": "markdown",
   "metadata": {
    "id": "2Yn_JzG4AwcO"
   },
   "source": [
    "## Load dữ liệu doanh số bán nhà\n",
    "Tập dữ liệu doanh số bán nhà ở quận King, Seatle, WA. Nghe quen chứ?"
   ]
  },
  {
   "cell_type": "code",
   "execution_count": 2,
   "metadata": {
    "id": "R1R6HdW2AwcP"
   },
   "outputs": [],
   "source": [
    "full_data = pandas.read_csv(\"kc_house_data.csv\", index_col=0)"
   ]
  },
  {
   "cell_type": "markdown",
   "metadata": {
    "id": "NCtpua8AAwcR"
   },
   "source": [
    "Nếu muốn thực hiện bất kỳ \"feature engineering\" nào như tạo các đặc trưng mới hoặc điều chỉnh đặc trưng sẵn có, chúng ta có thể sửa DataFrame của pandas như trong lab trước (Lab 2). Tuy nhiên, với notebook này, chúng ta sẽ làm việc với các đặc trưng có sẵn."
   ]
  },
  {
   "cell_type": "markdown",
   "metadata": {
    "id": "L23jT71RAwcS"
   },
   "source": [
    "## Import các hàm hữu ích từ notebook trước"
   ]
  },
  {
   "cell_type": "markdown",
   "metadata": {
    "id": "VWHSqObyAwcT"
   },
   "source": [
    "Như trong Lab trước, chúng ta chuyển đổi DataFrame thành ma trận Numpy 2D. Copy và paste `get_numpy_data()` từ notebook Lab 2."
   ]
  },
  {
   "cell_type": "code",
   "execution_count": 3,
   "metadata": {
    "id": "nmMmE0_fAwcU"
   },
   "outputs": [],
   "source": [
    "import numpy as np # điều này cho phép gọi numpy as np"
   ]
  },
  {
   "cell_type": "code",
   "execution_count": 4,
   "metadata": {
    "id": "nc9fgQwWAwcV"
   },
   "outputs": [],
   "source": [
    "def get_numpy_data(data, features_title, labels_title):\n",
    "    if('constant' not in data):\n",
    "        data['constant'] = 1 # đây là cách thêm cột constant. Chỉ thực hiện khi cần\n",
    "    # thêm cột 'constant' vào trước list các đặc trưng để chúng ta có thể trích xuất cùng với những thứ khác:\n",
    "    features_title = ['constant'] + features_title # đây là cách kết hợp 2 list\n",
    "    # chia dữ liệu thành sub-DataFrame chứa các đặc trưng đã chỉ định (gồm constant)\n",
    "    # gọi nó là features_columns.\n",
    "    features_columns = data[features_title]\n",
    "    # dòng tiếp theo sẽ trích xuất ma trận numpy từ biến features_columns:\n",
    "    feature_matrix = features_columns.values\n",
    "    # truy xuất dữ liệu được liên kết với đầu ra trong pandas Series\n",
    "    # gọi nó là output_column\n",
    "    output_column = data[labels_title]\n",
    "    # tiếp theo sẽ chuyển đổi Series đã nhắc thành một mảng numpy\n",
    "    output_array = output_column.values\n",
    "    return(feature_matrix, output_array)"
   ]
  },
  {
   "cell_type": "markdown",
   "metadata": {
    "id": "guJBaQyGAwcW"
   },
   "source": [
    "Cũng copy và paste cả hàm `predict_output()` để tính các dự đoán cho toàn bộ ma trận đặc trưng với ma trận và trọng số đã cho:"
   ]
  },
  {
   "cell_type": "code",
   "execution_count": 5,
   "metadata": {
    "id": "wIujt3EuAwcX"
   },
   "outputs": [],
   "source": [
    "def predict_output(features, weights):\n",
    "    predictions = np.dot(features, weights)\n",
    "    return predictions"
   ]
  },
  {
   "cell_type": "markdown",
   "metadata": {
    "id": "u8priexpAwcb"
   },
   "source": [
    "## Tính đạo hàm"
   ]
  },
  {
   "cell_type": "markdown",
   "metadata": {
    "id": "3Rw6WC2JAwcb"
   },
   "source": [
    "Bây giờ chúng ta sẽ chuyển sang tính đạo hàm của hàm chi phí hồi quy. Hàm chi phí là tổng các điểm dữ liệu của bình phương của hiệu giữa kết quả quan sát và kết quả dự đoán cộng với L2 penalty.\n",
    "<!-- ``` Cost(w) = SUM[ (prediction - output)^2 ] + l2_penalty*(w[0]^2 + w[1]^2 + ... + w[k]^2). ``` This is commented out. -->\n",
    "$ cost_w = \\sum (prediction - output)^2 + l2\\_penalty * \\sum_i w_i^2 $ (trong đó $w_0$ là độ chệch)\n",
    "\n",
    "Vì đạo hàm của một tổng là tổng các đạo hàm nên chúng ta có thể tính đạo hàm của phần đầu tiên (RSS) như đã thực hiện trong notebook về trường hợp được điều chuẩn và cộng đạo hàm của phần điều chuẩn. Chúng ta có thể viết đạo hàm với $w_i$(`w[i]`)  như sau:\n",
    "<!-- ``` 2*SUM[ error*[feature_i] ]. ``` -->\n",
    "$ 2 * \\sum error * feature_i $\n",
    "\n",
    "Đạo hàm của phần điều chuẩn với $w_i$ là:\n",
    "<!-- ``` 2*l2_penalty*w[i]. ``` -->\n",
    "$ 2 * l2\\_penalty * w_i $\n",
    "\n",
    "Cộng cả 2 lại, chúng ta được:\n",
    "<!-- ``` 2*SUM[ error*[feature_i] ] + 2*l2_penalty*w[i]. ``` -->\n",
    "$ 2 * \\sum error * feature_i + 2 * l2\\_penalty * w_i $\n",
    "\n",
    "Đây là đạo hàm cho trọng số của đặc trưng i, là tổng (trên các điểm dữ liệu) của 2 nhân với tích của sai số và chính đặc trưng cộng với `2*l2_penalty*w[i]`.\n",
    "\n",
    "**Chúng ta sẽ không điều chuẩn hóa hằng số.**  Do đó, trong trường hợp hằng số thì đạo hàm sẽ bằng 2 lần tổng các sai số (không có phần tử `2*l2_penalty*w[0]`).\n",
    "\n",
    "2 lần tổng của tích hai vectơ chỉ là hai nhân tích của hai vectơ. Do đó, đạo hàm cho trọng số của $feature_i$ bằng hai lần tích vô hướng giữa các giá trị $feature_i$ và sai số hiện tại cộng với $2*l2\\_penalty*w_i$.\n",
    "\n",
    "\n",
    "Hãy hoàn thành hàm đạo hàm sau đây để tính đạo hàm của trọng số cho giá trị của đặc trưng (trên tất cả các điểm dữ liệu) và sai số (trên tất cả các điểm dữ liệu). Để quyết định khi nào thì xử lý hằng số (chúng ta không điều chuẩn nó), chúng ta thêm tham số bổ sung để gọi `feature_is_constant` đặt thành `True` khi tính đạo hàm của hằng số và `False` nếu không phải."
   ]
  },
  {
   "cell_type": "code",
   "execution_count": 6,
   "metadata": {
    "id": "z4iTz1nCAwce"
   },
   "outputs": [],
   "source": [
    "def feature_derivative_ridge(errors, feature, weight, l2_penalty, feature_is_constant):\n",
    "    # Nếu feature_is_constant là True thì đạo hàm bằng 2 nhân tích vô hướng của sai số và đặc trưng\n",
    "    if feature_is_constant:\n",
    "        derivative = 2*np.dot(errors, feature)\n",
    "    # Nếu không, đạo hàm bằng 2 nhân tích vô hướng cộng với 2*l2_penalty*weight\n",
    "    else:\n",
    "        derivative = 2*np.dot(errors, feature) + 2*l2_penalty*weight\n",
    "    return derivative"
   ]
  },
  {
   "cell_type": "markdown",
   "metadata": {
    "id": "duTmJdGpAwcf"
   },
   "source": [
    "Để kiểm tra đạo hàm, chạy cell sau:"
   ]
  },
  {
   "cell_type": "code",
   "execution_count": 7,
   "metadata": {
    "id": "84yjucfsAwcg",
    "outputId": "b84763ad-b999-4f1b-9d05-782a089f7d38"
   },
   "outputs": [
    {
     "name": "stdout",
     "output_type": "stream",
     "text": [
      "-56554166815950.0\n",
      "-56554166815950.0\n",
      "-------\n",
      "-22446749330.0\n",
      "-22446749330.0\n"
     ]
    }
   ],
   "source": [
    "(example_features, example_output) = get_numpy_data(full_data, ['sqft_living'], 'price')\n",
    "my_weights = np.array([1., 10.])\n",
    "test_predictions = predict_output(example_features, my_weights)\n",
    "errors = test_predictions - example_output # các sai số dự đoán\n",
    "\n",
    "# 2 dòng tiếp theo in các giá trị tương tự\n",
    "print(feature_derivative_ridge(errors, example_features[:,1], my_weights[1], 1, False))\n",
    "print(np.sum(errors*example_features[:,1])*2+20.)\n",
    "\n",
    "print(\"-------\")\n",
    "# 2 dòng tiếp theo in các giá trị tương tự\n",
    "print(feature_derivative_ridge(errors, example_features[:,0], my_weights[0], 1, True))\n",
    "print(np.sum(errors)*2.0)"
   ]
  },
  {
   "cell_type": "markdown",
   "metadata": {
    "id": "JQGTws04Awcl"
   },
   "source": [
    "# Gradient Descent"
   ]
  },
  {
   "cell_type": "markdown",
   "metadata": {
    "id": "xXVkscv-Awcn"
   },
   "source": [
    "Bây giờ chúng ta sẽ viết một hàm thực hiện gradient descent. Tiền đề cơ bản khá đơn giản. Với một điểm bắt đầu, chúng ta cập nhật các trọng số hiện tại bằng cách di chuyển theo hướng gradient âm. Gradient có hướng *tăng* nên gradient âm có hướng *giảm* và chúng ta đang cố gắng *giảm thiểu* hàm chi phí.  \n",
    "\n",
    "\n",
    "Lượng mà chúng ta di chuyển theo *hướng* gradient âm được gọi là 'kích thước bước'. Chúng ta dừng lại khi chúng ta 'đủ gần' với mức tối ưu. Không giống lần trước, lần này chúng ta sẽ đặt **số lần lặp tối đa** và thực hiện các bước gradient cho tới khi đạt tới số lượng tối đa này. Nếu không cấp số lượng tối đa thì max sẽ được đặt mặc định là 100 (Sử dụng các giá trị tham số mặc định trong Python).\n",
    "\n",
    "Hãy hoàn thành hàm gradient descent sau bằng cách sử dụng hàm đạo hàm ở trên. Với mỗi bước trong gradient descent, chúng ta cập nhật trọng số cho từng đặc trưng trước khi tính tiêu chí dừng."
   ]
  },
  {
   "cell_type": "code",
   "execution_count": 8,
   "metadata": {
    "id": "kzhUaYTCAwcp"
   },
   "outputs": [],
   "source": [
    "def ridge_regression_gradient_descent(feature_matrix, output, initial_weights, step_size, l2_penalty, max_iterations=100):\n",
    "    print('Starting gradient descent with l2_penalty = ' + str(l2_penalty))\n",
    "\n",
    "    weights = np.array(initial_weights) # đảm bảo đây là một mảng numpy\n",
    "    iteration = 0 # bộ đếm lặp\n",
    "    print_frequency = 1  # điều chỉnh tần suất của đầu ra gỡ lỗi\n",
    "    for step in range(max_iterations):\n",
    "        #khi không đạt tới lượng lặp tối đa:\n",
    "        iteration += 1  # tăng bộ đếm lặp\n",
    "        ### === phần code điều chỉnh tần suất của đầu ra gỡ lỗi. ===\n",
    "        if iteration == 10:\n",
    "            print_frequency = 10\n",
    "        if iteration == 100:\n",
    "            print_frequency = 100\n",
    "        if iteration%print_frequency==0:\n",
    "            print('Iteration = ' + str(iteration))\n",
    "        ### === kết thúc phần code ===\n",
    "\n",
    "        # tính các dự đoán dựa trên on feature_matrix và các trọng số sử dụng hàm predict_output()\n",
    "        predictions = predict_output(feature_matrix, weights)\n",
    "        # tính sai số dưới dạng dự đoán - đầu ra\n",
    "        errors = predictions - output\n",
    "        # thi thoảng in ra giá trị hàm chi phí\n",
    "        if iteration%print_frequency==0:\n",
    "            print('Cost function = ', str(np.dot(errors,errors) + l2_penalty*(np.dot(weights,weights) - weights[0]**2)))\n",
    "\n",
    "        for i in range(len(weights)): # lặp qua từng đặc trưng\n",
    "            # feature_matrix[:,i] là cột đặc trưng liên kết với weights[i]\n",
    "            # tính đạo hàm cho weight[i].\n",
    "            #(Nhớ rằng: khi i=0, chúng ta sẽ tính đạo hàm của hằng số!)\n",
    "            if i == 0:\n",
    "                derivative = feature_derivative_ridge(errors, feature_matrix[:, i], weights[i], l2_penalty, True)\n",
    "            else:\n",
    "                derivative = feature_derivative_ridge(errors, feature_matrix[:, i], weights[i], l2_penalty, False)\n",
    "                # trừ kích thước bước nhân với đạo hàm từ trọng số hiện tại\n",
    "            weights[i] = weights[i] - step_size*derivative\n",
    "    print('Done with gradient descent at iteration ', iteration)\n",
    "    print('Learned weights = ', str(weights))\n",
    "    return weights"
   ]
  },
  {
   "cell_type": "markdown",
   "metadata": {
    "id": "h8TsI4i1Awcx"
   },
   "source": [
    "## Hiển thị tác động của L2 penalty"
   ]
  },
  {
   "cell_type": "markdown",
   "metadata": {
    "id": "lB3D9FF4Awcy"
   },
   "source": [
    "L2 penalty được đặt tên như vậy vì nó khiến các trọng số có chuẩn L2 nhỏ hơn so với các trường hợp khác. Hãy xem các trọng số lớn bị phạt như thế nào. Chúng ta sẽ xem xét một mô hình đơn giản có 1 đặc trưng:"
   ]
  },
  {
   "cell_type": "code",
   "execution_count": 9,
   "metadata": {
    "id": "-o8-Idy7Awc0"
   },
   "outputs": [],
   "source": [
    "simple_features = ['sqft_living']\n",
    "my_output = 'price'"
   ]
  },
  {
   "cell_type": "markdown",
   "metadata": {
    "id": "Pmmtjv0yAwc1"
   },
   "source": [
    "Hãy chia thành tập huấn luyện và tập kiểm tra. Đảm bảo dùng `seed=0`:"
   ]
  },
  {
   "cell_type": "code",
   "execution_count": 10,
   "metadata": {
    "id": "ucSx0dDRAwc2"
   },
   "outputs": [],
   "source": [
    "from sklearn.model_selection import train_test_split\n",
    "train_data, test_data = train_test_split(full_data, train_size=0.8, test_size=0.2, random_state=0)"
   ]
  },
  {
   "cell_type": "markdown",
   "metadata": {
    "id": "iL5M0BcEAwc2"
   },
   "source": [
    "Trong phần này, chúng ta sẽ chỉ dùng `'sqft_living'` để dự đoán `'price'`. Sử dụng hàm `get_numpy_data` để lấy phiên bản Numpy cảu dữ liệu chỉ với đặc trưng này cho cả `train_data` và `test_data`."
   ]
  },
  {
   "cell_type": "code",
   "execution_count": 11,
   "metadata": {
    "id": "tg4G2hNaAwc3"
   },
   "outputs": [],
   "source": [
    "(simple_feature_matrix, output) = get_numpy_data(train_data, simple_features, my_output)\n",
    "(simple_test_feature_matrix, test_output) = get_numpy_data(test_data, simple_features, my_output)"
   ]
  },
  {
   "cell_type": "markdown",
   "metadata": {
    "id": "HPbBx8NnAwc4"
   },
   "source": [
    "Đặt các tham số cho tối ưu hóa:"
   ]
  },
  {
   "cell_type": "code",
   "execution_count": 12,
   "metadata": {
    "id": "nMR7zq3tAwc5"
   },
   "outputs": [],
   "source": [
    "initial_weights = np.array([0., 0.])\n",
    "step_size = 1e-12\n",
    "max_iterations=1000"
   ]
  },
  {
   "cell_type": "markdown",
   "metadata": {
    "id": "cUx1cLXBAwc5"
   },
   "source": [
    "Trước tiên, chúng ta sẽ xét không có điều chuẩn. Đặt `l2_penalty` thành `0.0` và chạy thuật toán hồi quy Ridge để tìm hiểu các trọng số của mô hình. Gọi trọng số :\n",
    "\n",
    "`simple_weights_0_penalty`\n",
    "\n",
    "chúng ta sẽ sử dụng chúng sau."
   ]
  },
  {
   "cell_type": "code",
   "execution_count": 13,
   "metadata": {
    "id": "yCsTZSNOAwdC"
   },
   "outputs": [
    {
     "name": "stdout",
     "output_type": "stream",
     "text": [
      "Starting gradient descent with l2_penalty = 0.0\n",
      "Iteration = 1\n",
      "Cost function =  7492352980693717.0\n",
      "Iteration = 2\n",
      "Cost function =  5443732834808188.0\n",
      "Iteration = 3\n",
      "Cost function =  4063835449939599.0\n",
      "Iteration = 4\n",
      "Cost function =  3134372368846771.0\n",
      "Iteration = 5\n",
      "Cost function =  2508310149584063.5\n",
      "Iteration = 6\n",
      "Cost function =  2086610880007098.8\n",
      "Iteration = 7\n",
      "Cost function =  1802565191742773.5\n",
      "Iteration = 8\n",
      "Cost function =  1611239384833331.0\n",
      "Iteration = 9\n",
      "Cost function =  1482367284659914.2\n",
      "Iteration = 10\n",
      "Cost function =  1395562381166147.0\n",
      "Iteration = 20\n",
      "Cost function =  1219885511283038.8\n",
      "Iteration = 30\n",
      "Cost function =  1216508222454018.2\n",
      "Iteration = 40\n",
      "Cost function =  1216443295255467.0\n",
      "Iteration = 50\n",
      "Cost function =  1216442046328817.8\n",
      "Iteration = 60\n",
      "Cost function =  1216442021580795.8\n",
      "Iteration = 70\n",
      "Cost function =  1216442020366913.2\n",
      "Iteration = 80\n",
      "Cost function =  1216442019605460.8\n",
      "Iteration = 90\n",
      "Cost function =  1216442018852706.0\n",
      "Iteration = 100\n",
      "Cost function =  1216442018100118.5\n",
      "Iteration = 200\n",
      "Cost function =  1216442010574283.5\n",
      "Iteration = 300\n",
      "Cost function =  1216442003048457.2\n",
      "Iteration = 400\n",
      "Cost function =  1216441995522639.5\n",
      "Iteration = 500\n",
      "Cost function =  1216441987996830.0\n",
      "Iteration = 600\n",
      "Cost function =  1216441980471029.5\n",
      "Iteration = 700\n",
      "Cost function =  1216441972945237.0\n",
      "Iteration = 800\n",
      "Cost function =  1216441965419453.2\n",
      "Iteration = 900\n",
      "Cost function =  1216441957893678.2\n",
      "Iteration = 1000\n",
      "Cost function =  1216441950367912.0\n",
      "Done with gradient descent at iteration  1000\n",
      "Learned weights =  [-1.68107747e-01  2.64595376e+02]\n"
     ]
    }
   ],
   "source": [
    "simple_weights_0_penalty = ridge_regression_gradient_descent(simple_feature_matrix, output, initial_weights, step_size, 0.0, max_iterations)"
   ]
  },
  {
   "cell_type": "markdown",
   "metadata": {
    "id": "bPu4GXRKAwdE"
   },
   "source": [
    "Tiếp theo, hãy xét với điều chuẩn cao. Đặt `l2_penalty` bằng `1e11` và chạy thuật toán hồi quy Ridge để tìm hiểu các trọng số của mô hình. Gọi trọng số:\n",
    "\n",
    "`simple_weights_high_penalty`\n",
    "\n",
    "chúng ta sẽ sử dụng chúng sau."
   ]
  },
  {
   "cell_type": "code",
   "execution_count": 14,
   "metadata": {},
   "outputs": [
    {
     "name": "stdout",
     "output_type": "stream",
     "text": [
      "Starting gradient descent with l2_penalty = 100000000000.0\n",
      "Iteration = 1\n",
      "Cost function =  7492352980693717.0\n",
      "Iteration = 2\n",
      "Cost function =  5668767414760512.0\n",
      "Iteration = 3\n",
      "Cost function =  4966162001138452.0\n",
      "Iteration = 4\n",
      "Cost function =  4695456615978695.0\n",
      "Iteration = 5\n",
      "Cost function =  4591157062537860.0\n",
      "Iteration = 6\n",
      "Cost function =  4550971653587025.0\n",
      "Iteration = 7\n",
      "Cost function =  4535488645274577.0\n",
      "Iteration = 8\n",
      "Cost function =  4529523171698862.0\n",
      "Iteration = 9\n",
      "Cost function =  4527224688582535.0\n",
      "Iteration = 10\n",
      "Cost function =  4526339052322166.0\n",
      "Iteration = 20\n",
      "Cost function =  4525783100988794.0\n",
      "Iteration = 30\n",
      "Cost function =  4525782106859238.0\n",
      "Iteration = 40\n",
      "Cost function =  4525781152734927.0\n",
      "Iteration = 50\n",
      "Cost function =  4525780198613898.0\n",
      "Iteration = 60\n",
      "Cost function =  4525779244493268.0\n",
      "Iteration = 70\n",
      "Cost function =  4525778290373037.0\n",
      "Iteration = 80\n",
      "Cost function =  4525777336253206.0\n",
      "Iteration = 90\n",
      "Cost function =  4525776382133774.0\n",
      "Iteration = 100\n",
      "Cost function =  4525775428014742.0\n",
      "Iteration = 200\n",
      "Cost function =  4525765886846373.0\n",
      "Iteration = 300\n",
      "Cost function =  4525756345717926.0\n",
      "Iteration = 400\n",
      "Cost function =  4525746804629403.0\n",
      "Iteration = 500\n",
      "Cost function =  4525737263580803.0\n",
      "Iteration = 600\n",
      "Cost function =  4525727722572125.0\n",
      "Iteration = 700\n",
      "Cost function =  4525718181603369.0\n",
      "Iteration = 800\n",
      "Cost function =  4525708640674536.0\n",
      "Iteration = 900\n",
      "Cost function =  4525699099785624.0\n",
      "Iteration = 1000\n",
      "Cost function =  4525689558936635.0\n",
      "Done with gradient descent at iteration  1000\n",
      "Learned weights =  [  9.79155301 125.07002033]\n"
     ]
    }
   ],
   "source": [
    "simple_weights_high_penalty = ridge_regression_gradient_descent(simple_feature_matrix, output, initial_weights, step_size, 1e11, max_iterations)"
   ]
  },
  {
   "cell_type": "markdown",
   "metadata": {
    "id": "zKUBxGLFAwdG"
   },
   "source": [
    "Code này sẽ vẽ biểu đồ 2 mô hình đã tìm hiểu. (Đường màu xanh dương biểu thị mô hình không điều chuẩn, đường màu đỏ biểu thị mô hình với điều chuẩn cao)."
   ]
  },
  {
   "cell_type": "code",
   "execution_count": 15,
   "metadata": {
    "id": "A_Kml1pFAwdI",
    "outputId": "09383189-0b72-4f30-ecb1-b56fa1a9a766"
   },
   "outputs": [
    {
     "data": {
      "text/plain": [
       "[<matplotlib.lines.Line2D at 0x247852c4100>,\n",
       " <matplotlib.lines.Line2D at 0x247852c40d0>,\n",
       " <matplotlib.lines.Line2D at 0x247852c4340>]"
      ]
     },
     "execution_count": 15,
     "metadata": {},
     "output_type": "execute_result"
    },
    {
     "data": {
      "image/png": "[encoded data removed]",
      "text/plain": [
       "<Figure size 640x480 with 1 Axes>"
      ]
     },
     "metadata": {},
     "output_type": "display_data"
    }
   ],
   "source": [
    "import matplotlib.pyplot as plt\n",
    "%matplotlib inline\n",
    "plt.plot(simple_feature_matrix[:, 1:], output,'k.',\n",
    "         simple_feature_matrix[:, 1:], predict_output(simple_feature_matrix, simple_weights_0_penalty),'b-',\n",
    "         simple_feature_matrix[:, 1:], predict_output(simple_feature_matrix, simple_weights_high_penalty),'r-')"
   ]
  },
  {
   "cell_type": "markdown",
   "metadata": {
    "id": "aVQta_-5AwdJ"
   },
   "source": [
    "**Tại sao `[:, 1:]`? ¯\\\\\\_(ツ)\\_/¯ Chúng ta cần tìm hiểu**\n",
    "Cột đầu tiên được khởi tạo là constant = 1"
   ]
  },
  {
   "cell_type": "markdown",
   "metadata": {
    "id": "ASmhXHAeAwdM"
   },
   "source": [
    "Tính RSS trên dữ liệu KIỂM TRA cho ba tập hợp trọng số sau:\n",
    "1. Các trọng số ban đầu (các số 0)\n",
    "2. Các trọng số đã tìm hiểu khi không điều chuẩn\n",
    "3. Các trọng số đã tìm hiểu có điều chuẩn cao\n",
    "\n",
    "Những trọng số nào thể hiện tốt nhất?\n",
    "Trọng số thứ 2 có RSS thấp nhất, trọng số thứ 1 có RSS cao nhất"
   ]
  },
  {
   "cell_type": "code",
   "execution_count": 16,
   "metadata": {
    "id": "XIA0LCKbAwdO"
   },
   "outputs": [],
   "source": [
    "# Một lần nữa thực hiện trong ba tập hợp\n",
    "def cal_RSS(weights):\n",
    "    predictions = predict_output(simple_test_feature_matrix, weights)\n",
    "    residual = predictions - test_output\n",
    "    RSS = np.sum(residual*residual)\n",
    "    return RSS"
   ]
  },
  {
   "cell_type": "code",
   "execution_count": 17,
   "metadata": {
    "id": "b_d7-xs_AwdP"
   },
   "outputs": [
    {
     "name": "stdout",
     "output_type": "stream",
     "text": [
      "Starting gradient descent with l2_penalty = 0.0\n",
      "Iteration = 1\n",
      "Cost function =  1724972157778353.0\n",
      "Iteration = 2\n",
      "Cost function =  1598972458669563.5\n",
      "Iteration = 3\n",
      "Cost function =  1483858098266784.0\n",
      "Iteration = 4\n",
      "Cost function =  1378688672746961.5\n",
      "Iteration = 5\n",
      "Cost function =  1282605021450373.0\n",
      "Iteration = 6\n",
      "Cost function =  1194822208138865.0\n",
      "Iteration = 7\n",
      "Cost function =  1114623108615703.4\n",
      "Iteration = 8\n",
      "Cost function =  1041352552322386.1\n",
      "Iteration = 9\n",
      "Cost function =  974411970053350.6\n",
      "Iteration = 10\n",
      "Cost function =  913254504064153.8\n",
      "Iteration = 20\n",
      "Cost function =  528525154399051.2\n",
      "Iteration = 30\n",
      "Cost function =  372657756048290.25\n",
      "Iteration = 40\n",
      "Cost function =  309510387927913.8\n",
      "Iteration = 50\n",
      "Cost function =  283927166912599.75\n",
      "Iteration = 60\n",
      "Cost function =  273562503788440.7\n",
      "Iteration = 70\n",
      "Cost function =  269363414013748.7\n",
      "Iteration = 80\n",
      "Cost function =  267662214972169.62\n",
      "Iteration = 90\n",
      "Cost function =  266972999368450.6\n",
      "Iteration = 100\n",
      "Cost function =  266693773867551.88\n",
      "Iteration = 200\n",
      "Cost function =  266503628720175.84\n",
      "Iteration = 300\n",
      "Cost function =  266503605967927.6\n",
      "Iteration = 400\n",
      "Cost function =  266503605863841.12\n",
      "Iteration = 500\n",
      "Cost function =  266503605762452.62\n",
      "Iteration = 600\n",
      "Cost function =  266503605661064.4\n",
      "Iteration = 700\n",
      "Cost function =  266503605559676.25\n",
      "Iteration = 800\n",
      "Cost function =  266503605458288.12\n",
      "Iteration = 900\n",
      "Cost function =  266503605356900.0\n",
      "Iteration = 1000\n",
      "Cost function =  266503605255512.0\n",
      "Done with gradient descent at iteration  1000\n",
      "Learned weights =  [7.24718673e-02 2.56976074e+02]\n",
      "Starting gradient descent with l2_penalty = 100000000000.0\n",
      "Iteration = 1\n",
      "Cost function =  1724972157778353.0\n",
      "Iteration = 2\n",
      "Cost function =  1611856990766633.5\n",
      "Iteration = 3\n",
      "Cost function =  1547236913470885.0\n",
      "Iteration = 4\n",
      "Cost function =  1510320956122321.5\n",
      "Iteration = 5\n",
      "Cost function =  1489231719923122.8\n",
      "Iteration = 6\n",
      "Cost function =  1477183922427525.8\n",
      "Iteration = 7\n",
      "Cost function =  1470301289153849.2\n",
      "Iteration = 8\n",
      "Cost function =  1466369394398012.5\n",
      "Iteration = 9\n",
      "Cost function =  1464123188117230.8\n",
      "Iteration = 10\n",
      "Cost function =  1462839976563958.0\n",
      "Iteration = 20\n",
      "Cost function =  1461136296726350.5\n",
      "Iteration = 30\n",
      "Cost function =  1461129849746471.8\n",
      "Iteration = 40\n",
      "Cost function =  1461129686349502.2\n",
      "Iteration = 50\n",
      "Cost function =  1461129546215958.0\n",
      "Iteration = 60\n",
      "Cost function =  1461129406168561.2\n",
      "Iteration = 70\n",
      "Cost function =  1461129266121503.5\n",
      "Iteration = 80\n",
      "Cost function =  1461129126074467.8\n",
      "Iteration = 90\n",
      "Cost function =  1461128986027452.5\n",
      "Iteration = 100\n",
      "Cost function =  1461128845980457.5\n",
      "Iteration = 200\n",
      "Cost function =  1461127445511638.5\n",
      "Iteration = 300\n",
      "Cost function =  1461126045044872.8\n",
      "Iteration = 400\n",
      "Cost function =  1461124644580159.0\n",
      "Iteration = 500\n",
      "Cost function =  1461123244117498.8\n",
      "Iteration = 600\n",
      "Cost function =  1461121843656891.5\n",
      "Iteration = 700\n",
      "Cost function =  1461120443198337.0\n",
      "Iteration = 800\n",
      "Cost function =  1461119042741835.2\n",
      "Iteration = 900\n",
      "Cost function =  1461117642287386.2\n",
      "Iteration = 1000\n",
      "Cost function =  1461116241834990.5\n",
      "Done with gradient descent at iteration  1000\n",
      "Learned weights =  [ 3.74568795 46.48757555]\n"
     ]
    }
   ],
   "source": [
    "# Hoặc thực hiện trong một tập hợp\n",
    "test_0_penalty = ridge_regression_gradient_descent(simple_test_feature_matrix, test_output, initial_weights, step_size, 0.0, max_iterations)\n",
    "test_high_penalty = ridge_regression_gradient_descent(simple_test_feature_matrix, test_output, initial_weights, step_size, 1e11, max_iterations)"
   ]
  },
  {
   "cell_type": "code",
   "execution_count": 18,
   "metadata": {
    "id": "tt1--jQlAwdQ"
   },
   "outputs": [
    {
     "name": "stdout",
     "output_type": "stream",
     "text": [
      "1724972157778353.0\n",
      "266503605254498.06\n",
      "1245006759813264.8\n"
     ]
    }
   ],
   "source": [
    "# Trong cả hai trường hợp, hãy để ý vị trí của 'constant'\n",
    "RSS_1 = cal_RSS(initial_weights)\n",
    "RSS_2 = cal_RSS(test_0_penalty)\n",
    "RSS_3 = cal_RSS(test_high_penalty)\n",
    "print(RSS_1)\n",
    "print(RSS_2)\n",
    "print(RSS_3)"
   ]
  },
  {
   "cell_type": "markdown",
   "metadata": {
    "id": "KEpPoFBwAwdR"
   },
   "source": [
    "***QUIZ***\n",
    "1. Giá trị của hệ số cho `sqft_living` đã tìm hiểu khi không điều chuẩn (làm tròn tới chữ số thập phân thứ nhất) là bao nhiêu? Giá trị của hệ số cho `sqft_living` đã tìm hiểu với điều chuẩn cao (làm tròn tới chữ số thập phân thứ nhất) là bao nhiêu?\n",
    "2. So sánh hai đường khớp với điều chuẩn cao và không điều chuẩn, đường nào dốc hơn?\n",
    "3. RSS trên dữ liệu KIỂM TRA cho từng tập hợp trọng số trên (ban đầu, không điều chuẩn, điều chuẩn cao) là bao nhiêu?\n"
   ]
  },
  {
   "cell_type": "code",
   "execution_count": 19,
   "metadata": {},
   "outputs": [
    {
     "name": "stdout",
     "output_type": "stream",
     "text": [
      "Không điều chuẩn: 257.0\n",
      "Điều chuẩn cao: 46.5\n",
      "1724972157778353.0\n",
      "266503605254498.06\n",
      "1245006759813264.8\n"
     ]
    }
   ],
   "source": [
    "#1.\n",
    "print(f\"Không điều chuẩn: {round(test_0_penalty[1], 1)}\")\n",
    "print(f\"Điều chuẩn cao: {round(test_high_penalty[1], 1)}\")\n",
    "#2.Đường khớp của không điều chuẩn dốc hơn\n",
    "#3\n",
    "print(RSS_1)\n",
    "print(RSS_2)\n",
    "print(RSS_3)"
   ]
  },
  {
   "cell_type": "markdown",
   "metadata": {
    "id": "uHB3qx0_AwdT"
   },
   "source": [
    "## Chạy hồi quy đa biến với L2 penalty"
   ]
  },
  {
   "cell_type": "markdown",
   "metadata": {
    "id": "okg4fty6AwdW"
   },
   "source": [
    "Xét mô hình với 2 đặc trưng: `['sqft_living', 'sqft_living15']`."
   ]
  },
  {
   "cell_type": "markdown",
   "metadata": {
    "id": "-qO9RbaKAwdX"
   },
   "source": [
    "Trước tiên, tạo các phiên bản Numpy của dữ liệu huấn luyện và kiểm tra với 2 đặc trưng đó."
   ]
  },
  {
   "cell_type": "code",
   "execution_count": 20,
   "metadata": {
    "id": "s75SYJrxAwdX"
   },
   "outputs": [],
   "source": [
    "model_features = ['sqft_living', 'sqft_living15'] # sqft_living15 là diện tích trung bình cho 15 hàng xóm gần nhất.\n",
    "my_output = 'price'\n",
    "(feature_matrix, output) = get_numpy_data(train_data, model_features, my_output)\n",
    "(test_feature_matrix, test_output) = get_numpy_data(test_data, model_features, my_output)"
   ]
  },
  {
   "cell_type": "code",
   "execution_count": 21,
   "metadata": {},
   "outputs": [
    {
     "data": {
      "text/plain": [
       "(4323, 3)"
      ]
     },
     "execution_count": 21,
     "metadata": {},
     "output_type": "execute_result"
    }
   ],
   "source": [
    "test_feature_matrix.shape"
   ]
  },
  {
   "cell_type": "markdown",
   "metadata": {
    "id": "un3dZZShAwdY"
   },
   "source": [
    "Chúng ta cần khởi tạo lại các trọng số do có thêm một tham số. Hãy thiết lập kích thước bước và số lần lặp tối đa."
   ]
  },
  {
   "cell_type": "code",
   "execution_count": 22,
   "metadata": {
    "id": "yWn39lfEAwdc"
   },
   "outputs": [],
   "source": [
    "initial_weights = np.array([0.0,0.0,0.0])\n",
    "step_size = 1e-12\n",
    "max_iterations = 1000"
   ]
  },
  {
   "cell_type": "markdown",
   "metadata": {
    "id": "5LRRXCVVAwdd"
   },
   "source": [
    "Trước tiên, xét không điều chuẩn. Đặt `l2_penalty` thành `0.0` và chạy thuật toán hồi quy Ridge để tìm hiểu trọng số của mô hình. Gọi trọng số:\n",
    "\n",
    "`multiple_weights_0_penalty`"
   ]
  },
  {
   "cell_type": "code",
   "execution_count": 23,
   "metadata": {
    "id": "TZBDH89cAwde"
   },
   "outputs": [
    {
     "name": "stdout",
     "output_type": "stream",
     "text": [
      "Starting gradient descent with l2_penalty = 0.0\n",
      "Iteration = 1\n",
      "Cost function =  7492352980693717.0\n",
      "Iteration = 2\n",
      "Cost function =  4100015537310634.0\n",
      "Iteration = 3\n",
      "Cost function =  2559550924574728.0\n",
      "Iteration = 4\n",
      "Cost function =  1859797380721437.5\n",
      "Iteration = 5\n",
      "Cost function =  1541711552960680.8\n",
      "Iteration = 6\n",
      "Cost function =  1396898662272783.0\n",
      "Iteration = 7\n",
      "Cost function =  1330752397328856.8\n",
      "Iteration = 8\n",
      "Cost function =  1300323694547046.0\n",
      "Iteration = 9\n",
      "Cost function =  1286114647925854.2\n",
      "Iteration = 10\n",
      "Cost function =  1279273617662949.5\n",
      "Iteration = 20\n",
      "Cost function =  1267419439007469.0\n",
      "Iteration = 30\n",
      "Cost function =  1261408974114915.5\n",
      "Iteration = 40\n",
      "Cost function =  1256075260691903.0\n",
      "Iteration = 50\n",
      "Cost function =  1251340611311291.2\n",
      "Iteration = 60\n",
      "Cost function =  1247137740623208.5\n",
      "Iteration = 70\n",
      "Cost function =  1243406921150493.5\n",
      "Iteration = 80\n",
      "Cost function =  1240095133792398.0\n",
      "Iteration = 90\n",
      "Cost function =  1237155314363555.5\n",
      "Iteration = 100\n",
      "Cost function =  1234545684759230.8\n",
      "Iteration = 200\n",
      "Cost function =  1220186473013792.8\n",
      "Iteration = 300\n",
      "Cost function =  1215824193814159.0\n",
      "Iteration = 400\n",
      "Cost function =  1214498941566952.2\n",
      "Iteration = 500\n",
      "Cost function =  1214096325605181.8\n",
      "Iteration = 600\n",
      "Cost function =  1213974002748660.0\n",
      "Iteration = 700\n",
      "Cost function =  1213936831783619.8\n",
      "Iteration = 800\n",
      "Cost function =  1213925529612668.5\n",
      "Iteration = 900\n",
      "Cost function =  1213922086274873.2\n",
      "Iteration = 1000\n",
      "Cost function =  1213921030418245.2\n",
      "Done with gradient descent at iteration  1000\n",
      "Learned weights =  [ -0.36105686 245.10302972  21.88723514]\n"
     ]
    }
   ],
   "source": [
    "# tương tự\n",
    "multiple_weights_0_penalty = ridge_regression_gradient_descent(feature_matrix, output, initial_weights, step_size, 0.0, max_iterations)"
   ]
  },
  {
   "cell_type": "markdown",
   "metadata": {
    "id": "VBu1oeS0Awdf"
   },
   "source": [
    "Tiếp theo, xét điều chuẩn cao. Đặt `l2_penalty` thành `1e11` và chạy thuật toán hồi quy Ridge để tìm hiểu trọng số của mô hình. Gọi trọng số:\n",
    "\n",
    "`multiple_weights_high_penalty`"
   ]
  },
  {
   "cell_type": "code",
   "execution_count": 24,
   "metadata": {
    "id": "MW5IfBLoAwdg"
   },
   "outputs": [
    {
     "name": "stdout",
     "output_type": "stream",
     "text": [
      "Starting gradient descent with l2_penalty = 100000000000.0\n",
      "Iteration = 1\n",
      "Cost function =  7492352980693717.0\n",
      "Iteration = 2\n",
      "Cost function =  4505351315995476.0\n",
      "Iteration = 3\n",
      "Cost function =  3834583288398276.0\n",
      "Iteration = 4\n",
      "Cost function =  3683836193524818.0\n",
      "Iteration = 5\n",
      "Cost function =  3649883287712292.5\n",
      "Iteration = 6\n",
      "Cost function =  3642189242934818.0\n",
      "Iteration = 7\n",
      "Cost function =  3640416281547278.0\n",
      "Iteration = 8\n",
      "Cost function =  3639989348600833.0\n",
      "Iteration = 9\n",
      "Cost function =  3639875240690509.5\n",
      "Iteration = 10\n",
      "Cost function =  3639838090592816.0\n",
      "Iteration = 20\n",
      "Cost function =  3639801889882883.0\n",
      "Iteration = 30\n",
      "Cost function =  3639801135780288.0\n",
      "Iteration = 40\n",
      "Cost function =  3639800678437838.0\n",
      "Iteration = 50\n",
      "Cost function =  3639800224043187.5\n",
      "Iteration = 60\n",
      "Cost function =  3639799769677959.0\n",
      "Iteration = 70\n",
      "Cost function =  3639799315313163.5\n",
      "Iteration = 80\n",
      "Cost function =  3639798860948515.0\n",
      "Iteration = 90\n",
      "Cost function =  3639798406584009.0\n",
      "Iteration = 100\n",
      "Cost function =  3639797952219647.0\n",
      "Iteration = 200\n",
      "Cost function =  3639793408583893.5\n",
      "Iteration = 300\n",
      "Cost function =  3639788864962452.0\n",
      "Iteration = 400\n",
      "Cost function =  3639784321355323.0\n",
      "Iteration = 500\n",
      "Cost function =  3639779777762506.0\n",
      "Iteration = 600\n",
      "Cost function =  3639775234184001.0\n",
      "Iteration = 700\n",
      "Cost function =  3639770690619808.0\n",
      "Iteration = 800\n",
      "Cost function =  3639766147069927.0\n",
      "Iteration = 900\n",
      "Cost function =  3639761603534357.5\n",
      "Iteration = 1000\n",
      "Cost function =  3639757060013100.0\n",
      "Done with gradient descent at iteration  1000\n",
      "Learned weights =  [ 6.76344892 91.93393155 78.75003429]\n"
     ]
    }
   ],
   "source": [
    "# tiếp tục\n",
    "multiple_weights_high_penalty = ridge_regression_gradient_descent(feature_matrix, output, initial_weights, step_size, 1e11, max_iterations)"
   ]
  },
  {
   "cell_type": "markdown",
   "metadata": {
    "id": "fYchhxihAwdp"
   },
   "source": [
    "Tính RSS trên dữ liệu KIỂM TRA cho ba tập hợp trọng số sau:\n",
    "1. Trọng số ban đầu (các số 0)\n",
    "2. Trọng số đã tìm hiểu không điều chuẩn\n",
    "3. Trọng số đã tìm hiểu với điều chuẩn cao\n",
    "\n",
    "Các trọng số nào thực hiện tốt nhất?"
   ]
  },
  {
   "cell_type": "code",
   "execution_count": 25,
   "metadata": {
    "id": "WzqOWwp-Awd5"
   },
   "outputs": [],
   "source": [
    "# Thấy rồi chứ?\n",
    "def cal_RSS_mul(weights):\n",
    "    predictions = predict_output(test_feature_matrix, weights)\n",
    "    residual = predictions - test_output\n",
    "    RSS = np.sum(residual*residual)\n",
    "    return RSS"
   ]
  },
  {
   "cell_type": "code",
   "execution_count": 26,
   "metadata": {
    "id": "A9U74BrgAwd6"
   },
   "outputs": [
    {
     "name": "stdout",
     "output_type": "stream",
     "text": [
      "Starting gradient descent with l2_penalty = 0.0\n",
      "Iteration = 1\n",
      "Cost function =  1724972157778353.0\n",
      "Iteration = 2\n",
      "Cost function =  1499870674098912.8\n",
      "Iteration = 3\n",
      "Cost function =  1309672044917601.2\n",
      "Iteration = 4\n",
      "Cost function =  1148963843762464.5\n",
      "Iteration = 5\n",
      "Cost function =  1013172957138434.4\n",
      "Iteration = 6\n",
      "Cost function =  898435431018198.2\n",
      "Iteration = 7\n",
      "Cost function =  801486500430926.2\n",
      "Iteration = 8\n",
      "Cost function =  719567672325920.2\n",
      "Iteration = 9\n",
      "Cost function =  650348217234523.2\n",
      "Iteration = 10\n",
      "Cost function =  591858835336556.0\n",
      "Iteration = 20\n",
      "Cost function =  332130390597549.94\n",
      "Iteration = 30\n",
      "Cost function =  283769261449184.75\n",
      "Iteration = 40\n",
      "Cost function =  274609151333453.2\n",
      "Iteration = 50\n",
      "Cost function =  272723669736133.38\n",
      "Iteration = 60\n",
      "Cost function =  272192294135162.0\n",
      "Iteration = 70\n",
      "Cost function =  271916992519580.7\n",
      "Iteration = 80\n",
      "Cost function =  271694011631478.62\n",
      "Iteration = 90\n",
      "Cost function =  271485435553720.94\n",
      "Iteration = 100\n",
      "Cost function =  271284104597431.44\n",
      "Iteration = 200\n",
      "Cost function =  269553163680766.44\n",
      "Iteration = 300\n",
      "Cost function =  268241506169015.0\n",
      "Iteration = 400\n",
      "Cost function =  267247522159819.78\n",
      "Iteration = 500\n",
      "Cost function =  266494273503976.06\n",
      "Iteration = 600\n",
      "Cost function =  265923455897268.62\n",
      "Iteration = 700\n",
      "Cost function =  265490885902412.12\n",
      "Iteration = 800\n",
      "Cost function =  265163080980567.72\n",
      "Iteration = 900\n",
      "Cost function =  264914667813679.16\n",
      "Iteration = 1000\n",
      "Cost function =  264726418311776.44\n",
      "Done with gradient descent at iteration  1000\n",
      "Learned weights =  [-4.57007178e-02  1.98476184e+02  6.45813570e+01]\n",
      "Starting gradient descent with l2_penalty = 100000000000.0\n",
      "Iteration = 1\n",
      "Cost function =  1724972157778353.0\n",
      "Iteration = 2\n",
      "Cost function =  1523328410304663.2\n",
      "Iteration = 3\n",
      "Cost function =  1419025643979643.2\n",
      "Iteration = 4\n",
      "Cost function =  1365073382391184.2\n",
      "Iteration = 5\n",
      "Cost function =  1337165499061587.5\n",
      "Iteration = 6\n",
      "Cost function =  1322729448896423.0\n",
      "Iteration = 7\n",
      "Cost function =  1315261950393475.0\n",
      "Iteration = 8\n",
      "Cost function =  1311399094459493.0\n",
      "Iteration = 9\n",
      "Cost function =  1309400842660807.2\n",
      "Iteration = 10\n",
      "Cost function =  1308367123523677.0\n",
      "Iteration = 20\n",
      "Cost function =  1307260530364151.0\n",
      "Iteration = 30\n",
      "Cost function =  1307258898714285.0\n",
      "Iteration = 40\n",
      "Cost function =  1307258792600491.0\n",
      "Iteration = 50\n",
      "Cost function =  1307258688698161.0\n",
      "Iteration = 60\n",
      "Cost function =  1307258584800213.8\n",
      "Iteration = 70\n",
      "Cost function =  1307258480902301.5\n",
      "Iteration = 80\n",
      "Cost function =  1307258377004402.2\n",
      "Iteration = 90\n",
      "Cost function =  1307258273106517.0\n",
      "Iteration = 100\n",
      "Cost function =  1307258169208644.5\n",
      "Iteration = 200\n",
      "Cost function =  1307257130230660.5\n",
      "Iteration = 300\n",
      "Cost function =  1307256091254017.5\n",
      "Iteration = 400\n",
      "Cost function =  1307255052278715.8\n",
      "Iteration = 500\n",
      "Cost function =  1307254013304755.0\n",
      "Iteration = 600\n",
      "Cost function =  1307252974332135.5\n",
      "Iteration = 700\n",
      "Cost function =  1307251935360856.8\n",
      "Iteration = 800\n",
      "Cost function =  1307250896390919.8\n",
      "Iteration = 900\n",
      "Cost function =  1307249857422323.5\n",
      "Iteration = 1000\n",
      "Cost function =  1307248818455068.5\n",
      "Done with gradient descent at iteration  1000\n",
      "Learned weights =  [ 3.22812701 40.57756917 36.45235837]\n"
     ]
    }
   ],
   "source": [
    "# Cũng hãy chú ý 'constant'\n",
    "multiple_weights_0_penalty = ridge_regression_gradient_descent(test_feature_matrix, test_output, initial_weights, step_size, 0.0, max_iterations)\n",
    "multiple_weights_high_penalty = ridge_regression_gradient_descent(test_feature_matrix, test_output, initial_weights, step_size, 1e11, max_iterations)"
   ]
  },
  {
   "cell_type": "code",
   "execution_count": 27,
   "metadata": {
    "id": "7mN4RN9zAwd6"
   },
   "outputs": [
    {
     "name": "stdout",
     "output_type": "stream",
     "text": [
      "1724972157778353.0\n",
      "264724787061523.38\n",
      "1009717453008594.8\n"
     ]
    }
   ],
   "source": [
    "# Lần này không có fit_intercept=True có sẵn\n",
    "RSS_1 = cal_RSS_mul(initial_weights)\n",
    "RSS_2 = cal_RSS_mul(multiple_weights_0_penalty)\n",
    "RSS_3 = cal_RSS_mul(multiple_weights_high_penalty)\n",
    "print(RSS_1)\n",
    "print(RSS_2)\n",
    "print(RSS_3)"
   ]
  },
  {
   "cell_type": "markdown",
   "metadata": {
    "id": "W37HnQASAwd7"
   },
   "source": [
    "Dự đoán giá nhà cho ngôi nhà thứ 5 trong tập kiểm tra sử dụng mô hình không điều chuẩn và mô hình có điều chuẩn cao. (Nhớ rằng Python bắt đầu lập chỉ mục từ 0). Dự đoán cách giá thực tế bao nhiêu? Các trọng số nào thực hiện tốt nhất với ngôi nhà thứ nhất?"
   ]
  },
  {
   "cell_type": "code",
   "execution_count": 28,
   "metadata": {
    "id": "eEpSBtLaAwd8"
   },
   "outputs": [
    {
     "name": "stdout",
     "output_type": "stream",
     "text": [
      "Prediction of the 5th house on 0 penalty model: 788732.7296969551\n",
      "Prediction of the 5th house on high penalty model: 217983.65251220192\n"
     ]
    }
   ],
   "source": [
    "# Đây cũng là quiz\n",
    "predictions_0_penalty = predict_output(test_feature_matrix, multiple_weights_0_penalty)\n",
    "predictions_high_penalty = predict_output(test_feature_matrix, multiple_weights_high_penalty)\n",
    "print(f\"Prediction of the 5th house on 0 penalty model: {predictions_0_penalty[4]}\")\n",
    "print(f\"Prediction of the 5th house on high penalty model: {predictions_high_penalty[4]}\")"
   ]
  },
  {
   "cell_type": "code",
   "execution_count": 29,
   "metadata": {
    "id": "SquDHk5HAwd_"
   },
   "outputs": [
    {
     "name": "stdout",
     "output_type": "stream",
     "text": [
      "Residual of the 5th house on 0 penalty model: 8732.729696955066\n",
      "Residual of the 5th house on high penalty model: -562016.3474877981\n",
      "Residual of the 1st house on 0 penalty model: 79172.23755418748\n",
      "Residual of the 1st house on high penalty model: -186843.97548869735\n"
     ]
    }
   ],
   "source": [
    "# Nên hãy vô cùng cẩn thận\n",
    "print(f\"Residual of the 5th house on 0 penalty model: {predictions_0_penalty[4] - test_output[4]}\")\n",
    "print(f\"Residual of the 5th house on high penalty model: {predictions_high_penalty[4] - test_output[4]}\")\n",
    "print(f\"Residual of the 1st house on 0 penalty model: {predictions_0_penalty[0] - test_output[0]}\")\n",
    "print(f\"Residual of the 1st house on high penalty model: {predictions_high_penalty[0] - test_output[0]}\")"
   ]
  },
  {
   "cell_type": "markdown",
   "metadata": {
    "collapsed": true,
    "id": "FHHU1H1wAwd_"
   },
   "source": [
    "***QUIZ***\n",
    "1. Giá trị của hệ số cho `sqft_living` đã tìm hiểu khi không điều chuẩn (làm tròn tới chữ số thập phân thứ nhất) là bao nhiêu? Giá trị của hệ số cho `sqft_living` đã tìm hiểu với điều chuẩn cao (làm tròn tới chữ số thập phân thứ nhất) là bao nhiêu?\n",
    "2. RSS trên dữ liệu KIỂM TRA cho từng tập hợp trọng số trên (ban đầu, không điều chuẩn, điều chuẩ cao) là bao nhiêu?\n",
    "3. Chúng ta đưa ra dự đoán cho ngôi nhà thứ năm trong tập kiểm tra sử dụng hai tập hợp trọng số (không điều chuẩn với điều chuẩn cao). Trọng số nào cho dự đoán sát hơn <u>với ngôi nhà đó</u>?"
   ]
  },
  {
   "cell_type": "code",
   "execution_count": 30,
   "metadata": {
    "id": "k2CEwMyHAweA"
   },
   "outputs": [
    {
     "name": "stdout",
     "output_type": "stream",
     "text": [
      "Không điều chuẩn: 198.5\n",
      "Điều chuẩn cao: 40.6\n"
     ]
    }
   ],
   "source": [
    "#1.\n",
    "print(f\"Không điều chuẩn: {round(multiple_weights_0_penalty[1], 1)}\")\n",
    "print(f\"Điều chuẩn cao: {round(multiple_weights_high_penalty[1], 1)}\")\n",
    "#3 Trọng số của mô hình không điều chuẩn sát hơn"
   ]
  },
  {
   "cell_type": "code",
   "execution_count": null,
   "metadata": {},
   "outputs": [],
   "source": []
  }
 ],
 "metadata": {
  "colab": {
   "provenance": []
  },
  "kernelspec": {
   "display_name": "Python 3 (ipykernel)",
   "language": "python",
   "name": "python3"
  },
  "language_info": {
   "codemirror_mode": {
    "name": "ipython",
    "version": 3
   },
   "file_extension": ".py",
   "mimetype": "text/x-python",
   "name": "python",
   "nbconvert_exporter": "python",
   "pygments_lexer": "ipython3",
   "version": "3.9.13"
  }
 },
 "nbformat": 4,
 "nbformat_minor": 1
}
