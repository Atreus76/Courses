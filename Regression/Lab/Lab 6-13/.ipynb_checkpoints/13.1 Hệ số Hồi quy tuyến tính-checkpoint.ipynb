{
 "cells": [
  {
   "cell_type": "markdown",
   "metadata": {
    "id": "hwT_h-q3jNwr"
   },
   "source": [
    "## Hệ số Hồi quy tuyến tính\n",
    "\n",
    "Trong notebook này, chúng ta sẽ lặp lại lựa chọn đặc trưng dựa trên các hệ số của biến được mô hình tuyến tính trả về. Lần này là trong trường hợp hồi quy."
   ]
  },
  {
   "cell_type": "code",
   "execution_count": 1,
   "metadata": {
    "id": "E05fu7U3jNwu"
   },
   "outputs": [],
   "source": [
    "import pandas as pd\n",
    "import numpy as np\n",
    "\n",
    "import matplotlib.pyplot as plt\n",
    "\n",
    "from sklearn.model_selection import train_test_split\n",
    "\n",
    "from sklearn.preprocessing import StandardScaler\n",
    "from sklearn.linear_model import LinearRegression\n",
    "from sklearn.feature_selection import SelectFromModel"
   ]
  },
  {
   "cell_type": "code",
   "execution_count": 2,
   "metadata": {
    "id": "UKhFHj2vjNww",
    "outputId": "6dce6321-1f9d-4f19-9142-7aeb41d50148"
   },
   "outputs": [
    {
     "data": {
      "text/plain": [
       "(1460, 81)"
      ]
     },
     "execution_count": 2,
     "metadata": {},
     "output_type": "execute_result"
    }
   ],
   "source": [
    "# load tập dữ liệu\n",
    "data = pd.read_csv('./house-price/houseprice.csv')\n",
    "data.shape"
   ]
  },
  {
   "cell_type": "code",
   "execution_count": 3,
   "metadata": {
    "id": "e37404K6jNwx",
    "outputId": "51c983dc-d733-4a2e-bfe7-26d6964dc1e5"
   },
   "outputs": [
    {
     "data": {
      "text/plain": [
       "(1460, 38)"
      ]
     },
     "execution_count": 3,
     "metadata": {},
     "output_type": "execute_result"
    }
   ],
   "source": [
    "# Trên thực tế, nên thực hiện lựa chọn đặc trưng sau khi tiền xử lý dữ liệu,\n",
    "# tất cả các biến hạng mục được mà hóa thành số\n",
    "# và rồi chúng ta có thể đánh giá tính tất định của các mục tiêu\n",
    "\n",
    "# để đơn giản, chúng ta sẽ chỉ sử dụng biến dạng số\n",
    "# lựa chọn các cột số:\n",
    "\n",
    "numerics = ['int16', 'int32', 'int64', 'float16', 'float32', 'float64']\n",
    "numerical_vars = list(data.select_dtypes(include=numerics).columns)\n",
    "data = data[numerical_vars]\n",
    "data.shape"
   ]
  },
  {
   "cell_type": "code",
   "execution_count": 4,
   "metadata": {
    "id": "S_da95VtjNwy",
    "outputId": "929317f7-ac47-42e1-f6b0-c503c588462e"
   },
   "outputs": [
    {
     "data": {
      "text/plain": [
       "((1022, 37), (438, 37))"
      ]
     },
     "execution_count": 4,
     "metadata": {},
     "output_type": "execute_result"
    }
   ],
   "source": [
    "# chia thành tập huấn luyện và tập kiểm tra\n",
    "X_train, X_test, y_train, y_test = train_test_split(\n",
    "    data.drop(labels=['SalePrice'], axis=1),\n",
    "    data['SalePrice'],\n",
    "    test_size=0.3,\n",
    "    random_state=0)\n",
    "\n",
    "X_train.shape, X_test.shape"
   ]
  },
  {
   "cell_type": "code",
   "execution_count": 5,
   "metadata": {
    "id": "XccvZO6NjNwz"
   },
   "outputs": [],
   "source": [
    "X_train = X_train.fillna(0)\n",
    "X_test = X_test.fillna(0)"
   ]
  },
  {
   "cell_type": "code",
   "execution_count": 6,
   "metadata": {
    "id": "Ajghdu_9jNwz",
    "outputId": "91caf3ba-eef2-458b-a5e9-8fc1daa31367"
   },
   "outputs": [
    {
     "data": {
      "text/plain": [
       "StandardScaler()"
      ]
     },
     "execution_count": 6,
     "metadata": {},
     "output_type": "execute_result"
    }
   ],
   "source": [
    "## Yêu cầu 1\n",
    "# các đặc trưng trong tập dữ liệu giá nhà ở các thang đo khác nhau\n",
    "# nên chúng ta huấn luyện standardscaler để co giãn chúng\n",
    "\n",
    "## VIẾT CODE Ở ĐÂY:\n",
    "scaler = StandardScaler()\n",
    "scaler.fit(X_train)"
   ]
  },
  {
   "cell_type": "markdown",
   "metadata": {
    "id": "UCDS8Y1HGQyQ"
   },
   "source": [
    "<details><summary> Gợi ý </summary>\n",
    "\n",
    "[StandardScaler()](https://scikit-learn.org/stable/modules/generated/sklearn.preprocessing.StandardScaler.html)\n",
    "\n",
    "</details>"
   ]
  },
  {
   "cell_type": "code",
   "execution_count": 7,
   "metadata": {
    "id": "QDJsisR4jNw0",
    "outputId": "c6cb0ff2-b1f0-427a-e04c-76af8e9ee064",
    "scrolled": true
   },
   "outputs": [
    {
     "data": {
      "text/plain": [
       "SelectFromModel(estimator=LinearRegression())"
      ]
     },
     "execution_count": 7,
     "metadata": {},
     "output_type": "execute_result"
    }
   ],
   "source": [
    "## Yêu cầu 2\n",
    "# huấn luyện mô hình hồi quy tuyến tính và lựa chọn\n",
    "# các đặc trưng có hệ số lớn hơn.\n",
    "\n",
    "# đối tượng LinearRegression từ sklearn là phương thức tuyến tính không điều chuẩn.\n",
    "# Nó khớp bởi phép nhân ma trận và không\n",
    "# gradient descent.\n",
    "\n",
    "# do đó, chúng ta không cần chỉ định penalty và các tham số khác\n",
    "\n",
    "## VIẾT CODE Ở ĐÂY:\n",
    "sel_ = SelectFromModel(LinearRegression())\n",
    "\n",
    "## VIẾT CODE Ở ĐÂY:\n",
    "sel_.fit(scaler.transform(X_train), y_train)"
   ]
  },
  {
   "cell_type": "markdown",
   "metadata": {
    "id": "ftZsPUU2GjpZ"
   },
   "source": [
    "<details><summary> Gợi ý </summary>\n",
    "\n",
    "[LinearRegression()](https://scikit-learn.org/stable/modules/generated/sklearn.linear_model.LinearRegression.html)\n",
    "\n",
    "</details>"
   ]
  },
  {
   "cell_type": "code",
   "execution_count": 8,
   "metadata": {
    "id": "udFBIEp4jNw1",
    "outputId": "aaa68fe1-7115-4efc-bbb6-91955d7ab336",
    "scrolled": true
   },
   "outputs": [
    {
     "data": {
      "text/plain": [
       "4"
      ]
     },
     "execution_count": 8,
     "metadata": {},
     "output_type": "execute_result"
    }
   ],
   "source": [
    "\n",
    "# đếm số biến được chọn\n",
    "selected_feat = X_train.columns[(sel_.get_support())]\n",
    "\n",
    "len(selected_feat)"
   ]
  },
  {
   "cell_type": "code",
   "execution_count": 9,
   "metadata": {
    "id": "WP1nPsAcjNw2",
    "outputId": "2915d351-08b0-4afc-db6d-2bc440f97aa4"
   },
   "outputs": [
    {
     "data": {
      "image/png": "[encoded data removed]",
      "text/plain": [
       "<Figure size 640x480 with 1 Axes>"
      ]
     },
     "metadata": {},
     "output_type": "display_data"
    }
   ],
   "source": [
    "# vẽ biểu đồ tần suất của các giá trị tuyệt đối\n",
    "\n",
    "pd.Series(np.abs(sel_.estimator_.coef_).ravel()).hist(bins=10)\n",
    "plt.xlabel('Coefficients')\n",
    "plt.ylabel('Number of variables')\n",
    "plt.show()"
   ]
  },
  {
   "cell_type": "code",
   "execution_count": 10,
   "metadata": {
    "id": "ZulRWmn_jNw3",
    "outputId": "7a4a4190-f08c-4349-eca6-2aac1dfd915d"
   },
   "outputs": [
    {
     "name": "stdout",
     "output_type": "stream",
     "text": [
      "total features: 37\n",
      "selected features: 4\n",
      "features with coefficients greater than the mean coefficient: 4\n"
     ]
    }
   ],
   "source": [
    "## Yêu cầu 3\n",
    "# so sánh lượng đặc trưng được chọn\n",
    "# với lượng đặc trưng có hệ số cao hơn\n",
    "# trung bình hệ số để đảm bảo chúng ta hiểu được kết quả của\n",
    "# sklearn\n",
    "\n",
    "print('total features: {}'.format((X_train.shape[1])))\n",
    "\n",
    "print('selected features: {}'.format(len(selected_feat)))\n",
    "\n",
    "## VIẾT CODE Ở ĐÂY:\n",
    "print(\n",
    "    'features with coefficients greater than the mean coefficient: {}'.format(\n",
    "        np.sum(\n",
    "            np.abs(sel_.estimator_.coef_) > np.abs(\n",
    "                sel_.estimator_.coef_).mean())))"
   ]
  },
  {
   "cell_type": "markdown",
   "metadata": {
    "id": "aRpgjHIILT8x"
   },
   "source": [
    "<details><summary> Gợi ý </summary>\n",
    "\n",
    "Using ```coef_``` attribute\n",
    "\n",
    "</details>"
   ]
  },
  {
   "cell_type": "markdown",
   "metadata": {
    "id": "cwnHVjC7jNw4"
   },
   "source": [
    "Tương tự như trước, nó lựa chọn các đặc trung có hệ số lớn hơn trung bình của tất cả các hệ số."
   ]
  },
  {
   "cell_type": "code",
   "execution_count": null,
   "metadata": {
    "id": "1RvMspBZjNw4"
   },
   "outputs": [],
   "source": []
  }
 ],
 "metadata": {
  "colab": {
   "collapsed_sections": [],
   "name": "13.1 Hệ số Hồi quy tuyến tính.ipynb",
   "provenance": []
  },
  "kernelspec": {
   "display_name": "Python 3 (ipykernel)",
   "language": "python",
   "name": "python3"
  },
  "language_info": {
   "codemirror_mode": {
    "name": "ipython",
    "version": 3
   },
   "file_extension": ".py",
   "mimetype": "text/x-python",
   "name": "python",
   "nbconvert_exporter": "python",
   "pygments_lexer": "ipython3",
   "version": "3.9.13"
  },
  "toc": {
   "base_numbering": 1,
   "nav_menu": {},
   "number_sections": true,
   "sideBar": true,
   "skip_h1_title": false,
   "title_cell": "Table of Contents",
   "title_sidebar": "Contents",
   "toc_cell": false,
   "toc_position": {},
   "toc_section_display": "block",
   "toc_window_display": true
  }
 },
 "nbformat": 4,
 "nbformat_minor": 1
}
