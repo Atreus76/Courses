{
 "cells": [
  {
   "cell_type": "markdown",
   "metadata": {
    "id": "PoFde0n5IrNu"
   },
   "source": [
    "## Gán giá trị trung bình/trung vị\n",
    "\n",
    "Gán là hành động thay thế dữ liệu bị khuyết bằng các ước tính thống kê về các giá trị bị khuyết. Mục tiêu của bất kỳ kỹ thuật gán nào là tạo ra một **tập dữ liệu hoàn chỉnh** có thể sử dụng để huấn luyện các mô hình học máy.\n",
    "\n",
    "Gán mean/median gồm việc thay thế tất cả các lần xuất hiện giá trị bị khuyết (NA) trong một biến bằng giá trị trung bình (nếu biến có phân phối Gauss) hoặc trung vị (nếu biến có phân phối lệch).\n",
    "\n",
    "**Lưu ý**:\n",
    "\n",
    "- Nếu biến được phân phối chuẩn thì mean và median sẽ xấp xỉ như nhau. Do đó, việc thay thế các giá trị bị khuyết bằng mean và median cũng tương tự nhau. Thay thế dữ liệu bị khuyết bằng mode không phổ biến với các biến dạng số.\n",
    "- Nếu biến bị lệch thì mean sẽ bị sai lệch bởi các giá trị ở đầu xa của phân phối. Do đó, median là đại diện tốt hơn cho phần lớn các giá trị trong biến.\n",
    "- Với các biến rời rạc được ép kiểu thành 'int' (để tiết kiệm bộ nhớ), mean có thể không phải là số nguyên nên toàn bộ biến sẽ được ép kiểu lại thành 'float'. Để tránh hành vi này, chúng ta có thể thay thế NA bằng median. Median chắc chắn cũng sẽ là một số nguyên/giá trị rời rạc.\n",
    "\n",
    "\n",
    "### Những biến nào có thể gán với mean/median?\n",
    "\n",
    "Mean và median chỉ có thể được tính toán trên các biến dạng số, do đó các phương pháp này chỉ phù hợp với các biến số liên tục và rời rạc.\n",
    "\n",
    "\n",
    "\n",
    "### Giả định\n",
    "\n",
    "- Dữ liệu bị khuyết hoàn toàn ngẫu nhiên (MCAR).\n",
    "- Các quan sát bị khuyết rất có thể trông giống như phần lớn các quan sát trong biến (chẳng hạn mean/median).\n",
    "\n",
    "Nếu dữ liệu bị khuyết hoàn toàn ngẫu nhiên thì có thể giả định rằng các giá trị bị khuyết rất gần với giá trị của mean/median của phân phối, vì các giá trị này đại diện cho quan sát thường xuất hiện nhất/quan sát trung bình.\n",
    "\n",
    "\n",
    "### Ưu điểm\n",
    "\n",
    "- Dễ thực hiện.\n",
    "- Cách nhanh chóng để có được tập dữ liệu hoàn chỉnh.\n",
    "- Có thể tích hợp trong sản xuất (trong quá trình triển khai mô hình).\n",
    "\n",
    "### Giới hạn\n",
    "\n",
    "- Làm biến dạng phân phối biến ban đầu.\n",
    "- Làm biến dạng phương sai ban đầu.\n",
    "- Làm biến dạng hiệp phương sai với các biến còn lại của tập dữ liệu.\n",
    "\n",
    "Khi thay NA bằng mean hoặc median, phương sai của biến sẽ bị sai lệch nếu số NA lớn hơn tổng số quan sát dẫn đến đánh giá thấp phương sai.\n",
    "\n",
    "\n",
    "Ngoài ra, các ước lượng về hiệp phương sai và mối tương quan với các biến khác trong tập dữ liệu cũng có thể bị ảnh hưởng. Gán mean/median có thể thay đổi các tương quan nội tại vì mean/median thay thế dữ liệu bị khuyết sẽ không nhất thiết bảo toàn mối quan hệ với các biến còn lại.\n",
    "\n",
    "Cuối cùng, việc tập trung tất cả các giá trị bị khuyết ở mean/median có thể dẫn đến các quan sát thường xuất hiện trong phân phối, được chọn làm các outlier.\n",
    " \n",
    "\n",
    "### Khi nào thì sử dụng gán mean/median?\n",
    "\n",
    "- Dữ liệu bị khuyết hoàn toàn ngẫu nhiên.\n",
    "- Không quá 5% biến chứa dữ liệu bị khuyết.\n",
    "\n",
    "Mặc dù trên lý thuyết, cần đáp ứng các điều kiện trên để giảm thiểu tác động của kỹ thuật gán này, nhưng trong thực tế, gán mean/median rất thường được sử dụng, ngay cả trong các trường hợp dữ liệu không phải là MCAR và khuyết rất nhiều giá trị. Lý do là vì tính đơn giản của kỹ thuật.\n",
    "\n",
    "\n",
    "### Lưu ý cuối cùng\n",
    "\n",
    "Việc thay thế NA bằng mean/median được sử dụng rộng rãi trong cộng đồng khoa học dữ liệu và các cuộc thi khoa học dữ liệu khác nhau. Hãy xem ví dụ giải pháp chiến thắng của KDD 2009 Cup: [\"Winning the KDD Cup Orange Challenge with Ensemble Selection\"]( http://www.mtome.com/Publications/CiML/CiML-v3-book.pdf).\n",
    "\n",
    "Thông thường, gán mean/median được thực hiện cùng với việc thêm một biến \"chỉ số khuyết dữ liệu\" nhị phân để nắm bắt các quan sát khi dữ liệu bị khuyết (xem bài giảng \"Chỉ số khuyết dữ liệu\"), gồm 2 góc độ: nếu dữ liệu bị khuyết hoàn toàn ngẫu nhiên, điều này sẽ được ghi lại bởi  gán mean/median, nếu không, điều này sẽ được ghi lại bởi biến \"chỉ số khuyết dữ liệu\" bổ sung. Cả hai phương pháp đều rất dễ thực hiện và là lựa chọn hàng đầu trong các cuộc thi khoa học dữ liệu.\n",
    "\n",
    "## Trong bản mô phỏng này:\n",
    "\n",
    "Chúng ta sẽ học cách thực hiện kỹ thuật gán mean/median sử dụng pandas trên tập dữ liệu Ames House Price và Titanic.\n"
   ]
  },
  {
   "cell_type": "code",
   "execution_count": 1,
   "metadata": {
    "id": "nvjkGAdGIrN1"
   },
   "outputs": [],
   "source": [
    "import pandas as pd\n",
    "import numpy as np\n",
    "\n",
    "import matplotlib.pyplot as plt\n",
    "\n",
    "# chia các tập dữ liệu\n",
    "from sklearn.model_selection import train_test_split"
   ]
  },
  {
   "cell_type": "markdown",
   "metadata": {
    "id": "FpTf0YGuIrN4"
   },
   "source": [
    "## Titanic"
   ]
  },
  {
   "cell_type": "code",
   "execution_count": 2,
   "metadata": {
    "id": "fvpbmOOmIrN5",
    "outputId": "3af8ffbf-5eac-4be6-db35-cc4f6341e582"
   },
   "outputs": [
    {
     "data": {
      "text/html": [
       "<div>\n",
       "<style scoped>\n",
       "    .dataframe tbody tr th:only-of-type {\n",
       "        vertical-align: middle;\n",
       "    }\n",
       "\n",
       "    .dataframe tbody tr th {\n",
       "        vertical-align: top;\n",
       "    }\n",
       "\n",
       "    .dataframe thead th {\n",
       "        text-align: right;\n",
       "    }\n",
       "</style>\n",
       "<table border=\"1\" class=\"dataframe\">\n",
       "  <thead>\n",
       "    <tr style=\"text-align: right;\">\n",
       "      <th></th>\n",
       "      <th>survived</th>\n",
       "      <th>age</th>\n",
       "      <th>fare</th>\n",
       "    </tr>\n",
       "  </thead>\n",
       "  <tbody>\n",
       "    <tr>\n",
       "      <th>0</th>\n",
       "      <td>1</td>\n",
       "      <td>29.0000</td>\n",
       "      <td>211.3375</td>\n",
       "    </tr>\n",
       "    <tr>\n",
       "      <th>1</th>\n",
       "      <td>1</td>\n",
       "      <td>0.9167</td>\n",
       "      <td>151.5500</td>\n",
       "    </tr>\n",
       "    <tr>\n",
       "      <th>2</th>\n",
       "      <td>0</td>\n",
       "      <td>2.0000</td>\n",
       "      <td>151.5500</td>\n",
       "    </tr>\n",
       "    <tr>\n",
       "      <th>3</th>\n",
       "      <td>0</td>\n",
       "      <td>30.0000</td>\n",
       "      <td>151.5500</td>\n",
       "    </tr>\n",
       "    <tr>\n",
       "      <th>4</th>\n",
       "      <td>0</td>\n",
       "      <td>25.0000</td>\n",
       "      <td>151.5500</td>\n",
       "    </tr>\n",
       "  </tbody>\n",
       "</table>\n",
       "</div>"
      ],
      "text/plain": [
       "   survived      age      fare\n",
       "0         1  29.0000  211.3375\n",
       "1         1   0.9167  151.5500\n",
       "2         0   2.0000  151.5500\n",
       "3         0  30.0000  151.5500\n",
       "4         0  25.0000  151.5500"
      ]
     },
     "execution_count": 2,
     "metadata": {},
     "output_type": "execute_result"
    }
   ],
   "source": [
    "# load tập dữ liệu với một số biến để trình bày\n",
    "\n",
    "data = pd.read_csv('./titanic.csv', usecols=['age', 'fare', 'survived'])\n",
    "data.head()"
   ]
  },
  {
   "cell_type": "code",
   "execution_count": 3,
   "metadata": {
    "id": "4YSVqWiiIrN7",
    "outputId": "d09c354a-5e07-417f-9507-147e443c39de"
   },
   "outputs": [
    {
     "data": {
      "text/plain": [
       "survived    0.000000\n",
       "age         0.200917\n",
       "fare        0.000764\n",
       "dtype: float64"
      ]
     },
     "execution_count": 3,
     "metadata": {},
     "output_type": "execute_result"
    }
   ],
   "source": [
    "# xem phần trăm của NA\n",
    "\n",
    "data.isnull().mean()"
   ]
  },
  {
   "cell_type": "markdown",
   "metadata": {
    "id": "_Pu65hcEIrN8"
   },
   "source": [
    "Biến duy nhất có dữ liệu bị khuyết là Age với ~20% quan sát bị thiếu.\n",
    "\n",
    "### Gán quan trọng\n",
    "\n",
    "Việc gán phải được thực hiện trong tập huấn luyện, sau đó được truyền sang tập kiểm tra. Điều này có nghĩa là mean/median được sử dụng để điền vào các giá trị bị khuyết ở cả tập huấn luyện và tập kiểm tra, chỉ nên được trích xuất từ tập huấn luyện để tránh overfitting. "
   ]
  },
  {
   "cell_type": "code",
   "execution_count": 4,
   "metadata": {
    "id": "l4MkmOuvIrN9",
    "outputId": "5dc30088-c447-45a0-81b3-24d6e73a1143"
   },
   "outputs": [
    {
     "data": {
      "text/plain": [
       "((916, 2), (393, 2))"
      ]
     },
     "execution_count": 4,
     "metadata": {},
     "output_type": "execute_result"
    }
   ],
   "source": [
    "# hãy chia thành tập huấn luyện và tập kiểm tra\n",
    "\n",
    "X_train, X_test, y_train, y_test = train_test_split(\n",
    "    data[['age', 'fare']],  # các yếu tố dự báo\n",
    "    data['survived'],  # mục tiêu\n",
    "    test_size=0.3,  # phần trăm các quan sát trong tập kiểm tra\n",
    "    random_state=0)  # seed đảm bảo khả năng tái lặp\n",
    "\n",
    "X_train.shape, X_test.shape"
   ]
  },
  {
   "cell_type": "code",
   "execution_count": 5,
   "metadata": {
    "id": "pMe5zkh_IrN-",
    "outputId": "42db4554-7f47-47fe-91e9-b3ee6c35bfa9"
   },
   "outputs": [
    {
     "data": {
      "text/plain": [
       "age     0.191048\n",
       "fare    0.000000\n",
       "dtype: float64"
      ]
     },
     "execution_count": 5,
     "metadata": {},
     "output_type": "execute_result"
    }
   ],
   "source": [
    "# Hãy khám phá dữ liệu bị khuyết trong tập huấn luyện\n",
    "# các phần trăm nên tương tự như\n",
    "# của toàn bộ tập dữ liệu\n",
    "\n",
    "X_train.isnull().mean()"
   ]
  },
  {
   "cell_type": "code",
   "execution_count": 6,
   "metadata": {
    "id": "3j0ZV2UfIrN_"
   },
   "outputs": [],
   "source": [
    "## Yêu cầu 1: tạo một hàm điền các giá trị bị khuyết với mean/median:\n",
    "# các biến nhận dataframe, biến và giá trị của\n",
    "# mean/median\n",
    "# và trả về biến với na đã điền\n",
    "\n",
    "\n",
    "def impute_na(df, variable, mean_median):\n",
    "    ## VIẾT CODE Ở ĐÂY:\n",
    "    return df[variable].fillna(mean_median)"
   ]
  },
  {
   "cell_type": "markdown",
   "metadata": {
    "id": "GJjp8HbKbyYs"
   },
   "source": [
    "<details><summary> Gợi ý </summary>\n",
    "\n",
    "[fillna()](https://pandas.pydata.org/pandas-docs/stable/reference/api/pandas.DataFrame.fillna.html)\n",
    "\n",
    "</details>"
   ]
  },
  {
   "cell_type": "markdown",
   "metadata": {
    "id": "xJBTGjihborp"
   },
   "source": []
  },
  {
   "cell_type": "code",
   "execution_count": 7,
   "metadata": {
    "id": "o5pZ5FqwIrOB",
    "outputId": "31a01d14-0a04-452e-cc38-ea42202b18a0"
   },
   "outputs": [
    {
     "data": {
      "text/plain": [
       "28.0"
      ]
     },
     "execution_count": 7,
     "metadata": {},
     "output_type": "execute_result"
    }
   ],
   "source": [
    "# tính median của Age\n",
    "\n",
    "median = X_train.age.median()\n",
    "median"
   ]
  },
  {
   "cell_type": "code",
   "execution_count": 8,
   "metadata": {
    "id": "tdyUKZ_FIrOC",
    "outputId": "8d0b7c35-66e4-4311-ce74-6c646bfb41cc"
   },
   "outputs": [
    {
     "data": {
      "text/plain": [
       "30.2"
      ]
     },
     "execution_count": 8,
     "metadata": {},
     "output_type": "execute_result"
    }
   ],
   "source": [
    "# tính mean của Age\n",
    "\n",
    "mean = X_train.age.mean()\n",
    "mean = round(mean, 1)\n",
    "mean"
   ]
  },
  {
   "cell_type": "code",
   "execution_count": 9,
   "metadata": {
    "id": "FsrCLdzRIrOC",
    "outputId": "de3c65cb-c0c9-40b3-c91b-142877aba966"
   },
   "outputs": [
    {
     "data": {
      "text/html": [
       "<div>\n",
       "<style scoped>\n",
       "    .dataframe tbody tr th:only-of-type {\n",
       "        vertical-align: middle;\n",
       "    }\n",
       "\n",
       "    .dataframe tbody tr th {\n",
       "        vertical-align: top;\n",
       "    }\n",
       "\n",
       "    .dataframe thead th {\n",
       "        text-align: right;\n",
       "    }\n",
       "</style>\n",
       "<table border=\"1\" class=\"dataframe\">\n",
       "  <thead>\n",
       "    <tr style=\"text-align: right;\">\n",
       "      <th></th>\n",
       "      <th>age</th>\n",
       "      <th>fare</th>\n",
       "      <th>Age_median</th>\n",
       "      <th>Age_mean</th>\n",
       "    </tr>\n",
       "  </thead>\n",
       "  <tbody>\n",
       "    <tr>\n",
       "      <th>501</th>\n",
       "      <td>13.0</td>\n",
       "      <td>19.5000</td>\n",
       "      <td>13.0</td>\n",
       "      <td>13.0</td>\n",
       "    </tr>\n",
       "    <tr>\n",
       "      <th>588</th>\n",
       "      <td>4.0</td>\n",
       "      <td>23.0000</td>\n",
       "      <td>4.0</td>\n",
       "      <td>4.0</td>\n",
       "    </tr>\n",
       "    <tr>\n",
       "      <th>402</th>\n",
       "      <td>30.0</td>\n",
       "      <td>13.8583</td>\n",
       "      <td>30.0</td>\n",
       "      <td>30.0</td>\n",
       "    </tr>\n",
       "    <tr>\n",
       "      <th>1193</th>\n",
       "      <td>NaN</td>\n",
       "      <td>7.7250</td>\n",
       "      <td>28.0</td>\n",
       "      <td>30.2</td>\n",
       "    </tr>\n",
       "    <tr>\n",
       "      <th>686</th>\n",
       "      <td>22.0</td>\n",
       "      <td>7.7250</td>\n",
       "      <td>22.0</td>\n",
       "      <td>22.0</td>\n",
       "    </tr>\n",
       "    <tr>\n",
       "      <th>971</th>\n",
       "      <td>NaN</td>\n",
       "      <td>7.8792</td>\n",
       "      <td>28.0</td>\n",
       "      <td>30.2</td>\n",
       "    </tr>\n",
       "    <tr>\n",
       "      <th>117</th>\n",
       "      <td>30.0</td>\n",
       "      <td>56.9292</td>\n",
       "      <td>30.0</td>\n",
       "      <td>30.0</td>\n",
       "    </tr>\n",
       "    <tr>\n",
       "      <th>540</th>\n",
       "      <td>2.0</td>\n",
       "      <td>26.0000</td>\n",
       "      <td>2.0</td>\n",
       "      <td>2.0</td>\n",
       "    </tr>\n",
       "    <tr>\n",
       "      <th>294</th>\n",
       "      <td>49.0</td>\n",
       "      <td>110.8833</td>\n",
       "      <td>49.0</td>\n",
       "      <td>49.0</td>\n",
       "    </tr>\n",
       "    <tr>\n",
       "      <th>261</th>\n",
       "      <td>35.0</td>\n",
       "      <td>26.2875</td>\n",
       "      <td>35.0</td>\n",
       "      <td>35.0</td>\n",
       "    </tr>\n",
       "    <tr>\n",
       "      <th>587</th>\n",
       "      <td>2.0</td>\n",
       "      <td>23.0000</td>\n",
       "      <td>2.0</td>\n",
       "      <td>2.0</td>\n",
       "    </tr>\n",
       "    <tr>\n",
       "      <th>489</th>\n",
       "      <td>42.0</td>\n",
       "      <td>26.0000</td>\n",
       "      <td>42.0</td>\n",
       "      <td>42.0</td>\n",
       "    </tr>\n",
       "    <tr>\n",
       "      <th>2</th>\n",
       "      <td>2.0</td>\n",
       "      <td>151.5500</td>\n",
       "      <td>2.0</td>\n",
       "      <td>2.0</td>\n",
       "    </tr>\n",
       "    <tr>\n",
       "      <th>405</th>\n",
       "      <td>18.0</td>\n",
       "      <td>13.0000</td>\n",
       "      <td>18.0</td>\n",
       "      <td>18.0</td>\n",
       "    </tr>\n",
       "    <tr>\n",
       "      <th>1284</th>\n",
       "      <td>NaN</td>\n",
       "      <td>8.0500</td>\n",
       "      <td>28.0</td>\n",
       "      <td>30.2</td>\n",
       "    </tr>\n",
       "  </tbody>\n",
       "</table>\n",
       "</div>"
      ],
      "text/plain": [
       "       age      fare  Age_median  Age_mean\n",
       "501   13.0   19.5000        13.0      13.0\n",
       "588    4.0   23.0000         4.0       4.0\n",
       "402   30.0   13.8583        30.0      30.0\n",
       "1193   NaN    7.7250        28.0      30.2\n",
       "686   22.0    7.7250        22.0      22.0\n",
       "971    NaN    7.8792        28.0      30.2\n",
       "117   30.0   56.9292        30.0      30.0\n",
       "540    2.0   26.0000         2.0       2.0\n",
       "294   49.0  110.8833        49.0      49.0\n",
       "261   35.0   26.2875        35.0      35.0\n",
       "587    2.0   23.0000         2.0       2.0\n",
       "489   42.0   26.0000        42.0      42.0\n",
       "2      2.0  151.5500         2.0       2.0\n",
       "405   18.0   13.0000        18.0      18.0\n",
       "1284   NaN    8.0500        28.0      30.2"
      ]
     },
     "execution_count": 9,
     "metadata": {},
     "output_type": "execute_result"
    }
   ],
   "source": [
    "## Yêu cầu 2: tạo một biến mới với các giá trị bị khuyết đã thay thế\n",
    "# sử dụng hàm đã tạo phía trên\n",
    "\n",
    "# trước tiên thay với median\n",
    "## VIẾT CODE Ở ĐÂY:\n",
    "X_train['Age_median'] = X_train[\"age\"].fillna(median)\n",
    "\n",
    "# giờ thay với mean\n",
    "## VIẾT CODE Ở ĐÂY:\n",
    "X_train['Age_mean'] = X_train[\"age\"].fillna(mean)\n",
    "\n",
    "# mean chứa nhiều số thập phân, làm tròn tới chữ số thứ nhất\n",
    "# sử dụng hàm round từ numpy\n",
    "X_train['Age_mean'] = np.round(X_train['Age_mean'], 1)\n",
    "\n",
    "X_train.head(15)"
   ]
  },
  {
   "cell_type": "markdown",
   "metadata": {
    "id": "8-CVakL_IrOD"
   },
   "source": [
    "Hãy xem các hàng có dữ liệu bị khuyết (NaN) trong Age và thấy cách các biến mới đó được thay thế với 27 (median) hoặc 30 (mean) như thế nào."
   ]
  },
  {
   "cell_type": "code",
   "execution_count": 10,
   "metadata": {
    "id": "6W7xXRHvIrOD",
    "outputId": "3721f06f-10d7-4bfb-f3d7-6676ba9c765a"
   },
   "outputs": [
    {
     "name": "stdout",
     "output_type": "stream",
     "text": [
      "Original variable variance:  194.16304666581854\n",
      "Variance after median imputation:  157.7984295760209\n",
      "Variance after mean imputation:  157.02170735199397\n"
     ]
    }
   ],
   "source": [
    "## Yêu cầu 3: chúng ta thấy phương sai thay đổi sau khi gán mean/median\n",
    "# điều này được dự tính vì phần trăm dữ liệu bị khuyết khá\n",
    "# cao ở Age, ~20%\n",
    "\n",
    "## VIẾT CODE Ở ĐÂY:\n",
    "print('Original variable variance: ', X_train['age'].var())\n",
    "## VIẾT CODE Ở ĐÂY:\n",
    "print('Variance after median imputation: ', X_train['Age_median'].var())\n",
    "## VIẾT CODE Ở ĐÂY:\n",
    "print('Variance after mean imputation: ', X_train['Age_mean'].var())"
   ]
  },
  {
   "cell_type": "markdown",
   "metadata": {
    "id": "gsZwWUszcRyg"
   },
   "source": [
    "<details><summary> Gợi ý </summary>\n",
    "\n",
    "[var()](https://pandas.pydata.org/docs/reference/api/pandas.DataFrame.var.html)\n",
    "\n",
    "</details>"
   ]
  },
  {
   "cell_type": "markdown",
   "metadata": {
    "id": "NxuaxFAfIrOE"
   },
   "source": [
    "Như dự kiến, phương sai bị ước tính thấp do nhiều giá trị như nhau ==> giá trị mean/median"
   ]
  },
  {
   "cell_type": "code",
   "execution_count": 11,
   "metadata": {
    "id": "kRSg7yaEIrOE",
    "outputId": "93002d21-daa0-4ccb-d524-aa6f0d4193a5"
   },
   "outputs": [
    {
     "data": {
      "text/plain": [
       "<matplotlib.legend.Legend at 0x14a104b6940>"
      ]
     },
     "execution_count": 11,
     "metadata": {},
     "output_type": "execute_result"
    },
    {
     "data": {
      "image/png": "[encoded data removed]",
      "text/plain": [
       "<Figure size 640x480 with 1 Axes>"
      ]
     },
     "metadata": {},
     "output_type": "display_data"
    }
   ],
   "source": [
    "# chúng ta thấy các phân phối đã thay đổi\n",
    "# với nhiều giá trị tích lũy về median\n",
    "# hoặc mean\n",
    "\n",
    "fig = plt.figure()\n",
    "ax = fig.add_subplot(111)\n",
    "\n",
    "# phân phối ban đầu của biến\n",
    "X_train['age'].plot(kind='kde', ax=ax)\n",
    "\n",
    "# biến được gán với median\n",
    "X_train['Age_median'].plot(kind='kde', ax=ax, color='red')\n",
    "\n",
    "# biến được gán với mean\n",
    "X_train['Age_mean'].plot(kind='kde', ax=ax, color='green')\n",
    "\n",
    "# thêm legend\n",
    "lines, labels = ax.get_legend_handles_labels()\n",
    "ax.legend(lines, labels, loc='best')"
   ]
  },
  {
   "cell_type": "markdown",
   "metadata": {
    "id": "Xcdt4PssIrOF"
   },
   "source": [
    "Như đã đề cập ở trên, gán mean/median làm sai lệch phân phối ban đầu của biến Age. Biến đã biến đổi hiển thị nhiều giá trị hơn xung quanh mean/median.\n",
    "\n",
    "**Điều này quan trọng không?**\n",
    "\n",
    "\n",
    "Còn tùy thuộc vào mô hình học máy mà chúng ta muốn xây dựng. Mô hình tuyến tính giả định rằng các biến được phân phối chuẩn. Việc gán mean/median có thể làm sai lệch phân phối chuẩn ban đầu nếu % dữ liệu bị khuyết cao. Do đó, biến được gán cuối cùng sẽ không được phân phối chuẩn nữa, do đó có thể ảnh hưởng đến chất lượng của mô hình tuyến tính. "
   ]
  },
  {
   "cell_type": "code",
   "execution_count": 12,
   "metadata": {
    "id": "ijJxr2vHIrOF",
    "outputId": "f4a47321-be52-49f5-cb64-ff2bfe230122"
   },
   "outputs": [
    {
     "data": {
      "text/html": [
       "<div>\n",
       "<style scoped>\n",
       "    .dataframe tbody tr th:only-of-type {\n",
       "        vertical-align: middle;\n",
       "    }\n",
       "\n",
       "    .dataframe tbody tr th {\n",
       "        vertical-align: top;\n",
       "    }\n",
       "\n",
       "    .dataframe thead th {\n",
       "        text-align: right;\n",
       "    }\n",
       "</style>\n",
       "<table border=\"1\" class=\"dataframe\">\n",
       "  <thead>\n",
       "    <tr style=\"text-align: right;\">\n",
       "      <th></th>\n",
       "      <th>fare</th>\n",
       "      <th>age</th>\n",
       "      <th>Age_median</th>\n",
       "      <th>Age_mean</th>\n",
       "    </tr>\n",
       "  </thead>\n",
       "  <tbody>\n",
       "    <tr>\n",
       "      <th>fare</th>\n",
       "      <td>2248.326729</td>\n",
       "      <td>136.176223</td>\n",
       "      <td>114.961682</td>\n",
       "      <td>110.198311</td>\n",
       "    </tr>\n",
       "    <tr>\n",
       "      <th>age</th>\n",
       "      <td>136.176223</td>\n",
       "      <td>194.163047</td>\n",
       "      <td>194.163047</td>\n",
       "      <td>194.159033</td>\n",
       "    </tr>\n",
       "    <tr>\n",
       "      <th>Age_median</th>\n",
       "      <td>114.961682</td>\n",
       "      <td>194.163047</td>\n",
       "      <td>157.798430</td>\n",
       "      <td>157.035694</td>\n",
       "    </tr>\n",
       "    <tr>\n",
       "      <th>Age_mean</th>\n",
       "      <td>110.198311</td>\n",
       "      <td>194.159033</td>\n",
       "      <td>157.035694</td>\n",
       "      <td>157.021707</td>\n",
       "    </tr>\n",
       "  </tbody>\n",
       "</table>\n",
       "</div>"
      ],
      "text/plain": [
       "                   fare         age  Age_median    Age_mean\n",
       "fare        2248.326729  136.176223  114.961682  110.198311\n",
       "age          136.176223  194.163047  194.163047  194.159033\n",
       "Age_median   114.961682  194.163047  157.798430  157.035694\n",
       "Age_mean     110.198311  194.159033  157.035694  157.021707"
      ]
     },
     "execution_count": 12,
     "metadata": {},
     "output_type": "execute_result"
    }
   ],
   "source": [
    "## Yêu cầu 4: chúng ta cũng nói rằng gán mean/median có thể ảnh hưởng tới mối quan hệ\n",
    "# với các biến khác trong tập dữ liệu, hãy quan sát \n",
    "\n",
    "## VIẾT CODE Ở ĐÂY\n",
    "cols = ['fare', 'age', 'Age_median', 'Age_mean']\n",
    "X_train[cols].cov()"
   ]
  },
  {
   "cell_type": "markdown",
   "metadata": {
    "id": "uoJCPEVTcmZB"
   },
   "source": [
    "<details><summary> Gợi ý </summary>\n",
    "\n",
    "[cov()](https://pandas.pydata.org/docs/reference/api/pandas.DataFrame.cov.html)\n",
    "\n",
    "</details>"
   ]
  },
  {
   "cell_type": "markdown",
   "metadata": {
    "id": "hju54UPUIrOG"
   },
   "source": [
    "Chúng ta thấy hiệp phương sai giữa Age và Fare cũng thay đổi sau khi gán mean/median."
   ]
  },
  {
   "cell_type": "code",
   "execution_count": 13,
   "metadata": {
    "id": "WIAqud17IrOG",
    "outputId": "49267ebf-82b4-4da2-f855-bb779447bbd5"
   },
   "outputs": [
    {
     "data": {
      "text/plain": [
       "<AxesSubplot:>"
      ]
     },
     "execution_count": 13,
     "metadata": {},
     "output_type": "execute_result"
    },
    {
     "data": {
      "image/png": "[encoded data removed]",
      "text/plain": [
       "<Figure size 640x480 with 1 Axes>"
      ]
     },
     "metadata": {},
     "output_type": "display_data"
    }
   ],
   "source": [
    "## Yêu cầu 5: Cuối cùng, gán mean/median có thể dẫn tới\n",
    "# các quan sát bình thường trông giống outlier\n",
    "\n",
    "# nói cách khác, gán mean/median có thể dẫn tới tăng\n",
    "# số lượng outlier rõ ràng\n",
    "\n",
    "# Hãy tìm hiểu điều này sử dụng biểu đồ hộp\n",
    "## VIẾT CODE Ở ĐÂY\n",
    "cols = ['age', 'Age_median', 'Age_mean']\n",
    "X_train[cols].boxplot()"
   ]
  },
  {
   "cell_type": "markdown",
   "metadata": {
    "id": "r3-yGmfigxlZ"
   },
   "source": [
    "<details><summary> Gợi ý </summary>\n",
    "\n",
    "[boxplot()](https://pandas.pydata.org/docs/reference/api/pandas.DataFrame.boxplot.html)\n",
    "\n",
    "</details>"
   ]
  },
  {
   "cell_type": "markdown",
   "metadata": {
    "id": "WhxMpVxJIrOH"
   },
   "source": [
    "Từ biểu đồ trên, có thể thấy rằng sau khi gán không chỉ có nhiều outlier hơn với các giá trị Age cao hơn mà cả các outlier với các giá trị Age thấp hơn.\n",
    "\n",
    "**Điều này quan trọng không?**\n",
    "\n",
    "Nếu theo đuổi các outlier thực thì cần ghi nhớ động thái này để đảm bảo không tạo ra các outlier giả với kỹ thuật gán. Trên thực tế, chúng ta thường không kiểm tra động thái này, quan trọng là biết điều gì đang xảy ra.\n",
    "\n",
    "## Tập dữ liệu giá nhà\n",
    "\n",
    "Tập dữ liệu này có các biến có nhiều hoặc ít dữ liệu bị khuyết. Do đó, chúng ta có thể so sánh ảnh hưởng của gán mean/median trong cả hai trường hợp. "
   ]
  },
  {
   "cell_type": "code",
   "execution_count": 14,
   "metadata": {
    "id": "sUWEuLMqIrOH"
   },
   "outputs": [],
   "source": [
    "# chúng ta sẽ chỉ sử dụng các biến sau,\n",
    "# 3 trong số đó chứa NA\n",
    "\n",
    "cols_to_use = [\n",
    "    'OverallQual', 'TotalBsmtSF', '1stFlrSF', 'GrLivArea', 'WoodDeckSF',\n",
    "    'BsmtUnfSF', 'LotFrontage', 'MasVnrArea', 'GarageYrBlt', 'SalePrice'\n",
    "]"
   ]
  },
  {
   "cell_type": "code",
   "execution_count": 15,
   "metadata": {
    "id": "VDcSw4OVIrOI",
    "outputId": "0da23585-801c-45dc-8151-ebd62ed8d2cc"
   },
   "outputs": [
    {
     "name": "stdout",
     "output_type": "stream",
     "text": [
      "(1460, 10)\n"
     ]
    },
    {
     "data": {
      "text/html": [
       "<div>\n",
       "<style scoped>\n",
       "    .dataframe tbody tr th:only-of-type {\n",
       "        vertical-align: middle;\n",
       "    }\n",
       "\n",
       "    .dataframe tbody tr th {\n",
       "        vertical-align: top;\n",
       "    }\n",
       "\n",
       "    .dataframe thead th {\n",
       "        text-align: right;\n",
       "    }\n",
       "</style>\n",
       "<table border=\"1\" class=\"dataframe\">\n",
       "  <thead>\n",
       "    <tr style=\"text-align: right;\">\n",
       "      <th></th>\n",
       "      <th>LotFrontage</th>\n",
       "      <th>OverallQual</th>\n",
       "      <th>MasVnrArea</th>\n",
       "      <th>BsmtUnfSF</th>\n",
       "      <th>TotalBsmtSF</th>\n",
       "      <th>1stFlrSF</th>\n",
       "      <th>GrLivArea</th>\n",
       "      <th>GarageYrBlt</th>\n",
       "      <th>WoodDeckSF</th>\n",
       "      <th>SalePrice</th>\n",
       "    </tr>\n",
       "  </thead>\n",
       "  <tbody>\n",
       "    <tr>\n",
       "      <th>0</th>\n",
       "      <td>65.0</td>\n",
       "      <td>7</td>\n",
       "      <td>196.0</td>\n",
       "      <td>150</td>\n",
       "      <td>856</td>\n",
       "      <td>856</td>\n",
       "      <td>1710</td>\n",
       "      <td>2003.0</td>\n",
       "      <td>0</td>\n",
       "      <td>208500</td>\n",
       "    </tr>\n",
       "    <tr>\n",
       "      <th>1</th>\n",
       "      <td>80.0</td>\n",
       "      <td>6</td>\n",
       "      <td>0.0</td>\n",
       "      <td>284</td>\n",
       "      <td>1262</td>\n",
       "      <td>1262</td>\n",
       "      <td>1262</td>\n",
       "      <td>1976.0</td>\n",
       "      <td>298</td>\n",
       "      <td>181500</td>\n",
       "    </tr>\n",
       "    <tr>\n",
       "      <th>2</th>\n",
       "      <td>68.0</td>\n",
       "      <td>7</td>\n",
       "      <td>162.0</td>\n",
       "      <td>434</td>\n",
       "      <td>920</td>\n",
       "      <td>920</td>\n",
       "      <td>1786</td>\n",
       "      <td>2001.0</td>\n",
       "      <td>0</td>\n",
       "      <td>223500</td>\n",
       "    </tr>\n",
       "    <tr>\n",
       "      <th>3</th>\n",
       "      <td>60.0</td>\n",
       "      <td>7</td>\n",
       "      <td>0.0</td>\n",
       "      <td>540</td>\n",
       "      <td>756</td>\n",
       "      <td>961</td>\n",
       "      <td>1717</td>\n",
       "      <td>1998.0</td>\n",
       "      <td>0</td>\n",
       "      <td>140000</td>\n",
       "    </tr>\n",
       "    <tr>\n",
       "      <th>4</th>\n",
       "      <td>84.0</td>\n",
       "      <td>8</td>\n",
       "      <td>350.0</td>\n",
       "      <td>490</td>\n",
       "      <td>1145</td>\n",
       "      <td>1145</td>\n",
       "      <td>2198</td>\n",
       "      <td>2000.0</td>\n",
       "      <td>192</td>\n",
       "      <td>250000</td>\n",
       "    </tr>\n",
       "  </tbody>\n",
       "</table>\n",
       "</div>"
      ],
      "text/plain": [
       "   LotFrontage  OverallQual  MasVnrArea  BsmtUnfSF  TotalBsmtSF  1stFlrSF  \\\n",
       "0         65.0            7       196.0        150          856       856   \n",
       "1         80.0            6         0.0        284         1262      1262   \n",
       "2         68.0            7       162.0        434          920       920   \n",
       "3         60.0            7         0.0        540          756       961   \n",
       "4         84.0            8       350.0        490         1145      1145   \n",
       "\n",
       "   GrLivArea  GarageYrBlt  WoodDeckSF  SalePrice  \n",
       "0       1710       2003.0           0     208500  \n",
       "1       1262       1976.0         298     181500  \n",
       "2       1786       2001.0           0     223500  \n",
       "3       1717       1998.0           0     140000  \n",
       "4       2198       2000.0         192     250000  "
      ]
     },
     "execution_count": 15,
     "metadata": {},
     "output_type": "execute_result"
    }
   ],
   "source": [
    "# load tập dữ liệu giá nhà\n",
    "\n",
    "data = pd.read_csv('./house-price/houseprice.csv', usecols=cols_to_use)\n",
    "print(data.shape)\n",
    "data.head()"
   ]
  },
  {
   "cell_type": "code",
   "execution_count": 16,
   "metadata": {
    "id": "SWRhaUQiIrOI",
    "outputId": "353f187e-f6ee-43d2-ddea-c2ae89207f9b"
   },
   "outputs": [
    {
     "data": {
      "text/plain": [
       "['LotFrontage', 'MasVnrArea', 'GarageYrBlt']"
      ]
     },
     "execution_count": 16,
     "metadata": {},
     "output_type": "execute_result"
    }
   ],
   "source": [
    "# in ra các biến chứa dữ liệu bị khuyết\n",
    "\n",
    "# trong list tiếp theo, lặp qua tất cả các cột có trong list\n",
    "# của tập dữ liệu và lựa chọn các cột chứa dữ liệu bị khuyết\n",
    "\n",
    "[var for var in data.columns if data[var].isnull().mean() > 0]"
   ]
  },
  {
   "cell_type": "code",
   "execution_count": 17,
   "metadata": {
    "id": "mix2u64dIrOI",
    "outputId": "bd5d26e0-71cc-456b-a312-c384b2261c27",
    "scrolled": false
   },
   "outputs": [
    {
     "data": {
      "text/plain": [
       "LotFrontage    0.177397\n",
       "MasVnrArea     0.005479\n",
       "GarageYrBlt    0.055479\n",
       "dtype: float64"
      ]
     },
     "execution_count": 17,
     "metadata": {},
     "output_type": "execute_result"
    }
   ],
   "source": [
    "# tìm phần trăm dữ liệu bị khuyết trong các biến\n",
    "# code tương tự như đã học ở phần đặc điểm của biến\n",
    "\n",
    "data[['LotFrontage', 'MasVnrArea', 'GarageYrBlt']].isnull().mean()"
   ]
  },
  {
   "cell_type": "markdown",
   "metadata": {
    "id": "nDRaXJGNIrOJ"
   },
   "source": [
    "**Nhớ rằng mean và median chúng ta sẽ sử dụng để thay thế NA cần được tính trong tập huấn luyện và truyền vào tập kiểm tra.**"
   ]
  },
  {
   "cell_type": "code",
   "execution_count": 18,
   "metadata": {
    "id": "5NgeE0eFIrOJ",
    "outputId": "c5910496-4b3f-405f-d1e9-64f7a32cec15",
    "scrolled": false
   },
   "outputs": [
    {
     "data": {
      "text/plain": [
       "((1022, 10), (438, 10))"
      ]
     },
     "execution_count": 18,
     "metadata": {},
     "output_type": "execute_result"
    }
   ],
   "source": [
    "# hãy chia thành tập huấn luyện và tập kiểm tra\n",
    "\n",
    "X_train, X_test, y_train, y_test = train_test_split(data,\n",
    "                                                    data['SalePrice'],\n",
    "                                                    test_size=0.3,\n",
    "                                                    random_state=0)\n",
    "X_train.shape, X_test.shape"
   ]
  },
  {
   "cell_type": "code",
   "execution_count": 19,
   "metadata": {
    "id": "4KUYmaMdIrOJ",
    "outputId": "cd7ebf78-14dd-4963-b7ca-144f0767bac9"
   },
   "outputs": [
    {
     "data": {
      "image/png": "[encoded data removed]",
      "text/plain": [
       "<Figure size 1000x1000 with 12 Axes>"
      ]
     },
     "metadata": {},
     "output_type": "display_data"
    }
   ],
   "source": [
    "# vẽ biểu đồ phân bố của các biến\n",
    "# chúng ta đã học code này ở phần các đặc điểm của biến\n",
    "\n",
    "X_train.hist(bins=50, figsize=(10,10))\n",
    "plt.show()"
   ]
  },
  {
   "cell_type": "code",
   "execution_count": 20,
   "metadata": {
    "id": "V-UivsEaIrOK"
   },
   "outputs": [],
   "source": [
    "## Yêu cầu 6:\n",
    "# tạo một biến mới với các giá trị bị khuyết được thay\n",
    "# bằng median dùng hàm đã tạo phía trên\n",
    "\n",
    "# lặp lại các dòng sau cho từng biến với NA\n",
    "# ở các cell tiếp theo\n",
    "\n",
    "cols = ['LotFrontage', 'MasVnrArea', 'GarageYrBlt']\n",
    "\n",
    "for col in cols:\n",
    "  ## VIẾT CODE Ở ĐÂY\n",
    "  median = X_train[col].median()\n",
    "  X_train.loc[:, col + '_median'] = impute_na(X_train, col, median)\n",
    "  X_test.loc[:, col + '_median'] = impute_na(X_test, col, median)"
   ]
  },
  {
   "cell_type": "code",
   "execution_count": 21,
   "metadata": {
    "id": "-H3pWel6IrOK",
    "outputId": "a4186caf-5296-4685-84aa-33c00e5db297"
   },
   "outputs": [
    {
     "data": {
      "text/plain": [
       "<matplotlib.legend.Legend at 0x14a1125c220>"
      ]
     },
     "execution_count": 21,
     "metadata": {},
     "output_type": "execute_result"
    },
    {
     "data": {
      "image/png": "[encoded data removed]",
      "text/plain": [
       "<Figure size 640x480 with 1 Axes>"
      ]
     },
     "metadata": {},
     "output_type": "display_data"
    }
   ],
   "source": [
    "## Yêu cầu 9: đánh giá tác động của gán median với phân phối\n",
    "\n",
    "# có thể thấy phân phối cho LotFrontAge đã thay đổi\n",
    "# với nhiều giá trị hơn tích lũy hướng tới median\n",
    "\n",
    "fig = plt.figure()\n",
    "ax = fig.add_subplot(111)\n",
    "\n",
    "# phân phối ban đầu của biến\n",
    "## VIẾT CODE Ở ĐÂY:\n",
    "X_train['LotFrontage'].plot(kind='kde', ax=ax)\n",
    "\n",
    "# biến được gán với median\n",
    "## VIẾT CODE Ở ĐÂY:\n",
    "X_train['LotFrontage' + '_median'].plot(kind='kde', ax=ax, color='red')\n",
    "\n",
    "# thêm legend\n",
    "lines, labels = ax.get_legend_handles_labels()\n",
    "ax.legend(lines, labels, loc='best')"
   ]
  },
  {
   "cell_type": "markdown",
   "metadata": {
    "id": "Yl_7NbyRnvLI"
   },
   "source": [
    "<details><summary> Gợi ý </summary>\n",
    "\n",
    "[plot()](https://pandas.pydata.org/docs/reference/api/pandas.DataFrame.plot.html)\n",
    "\n",
    "</details>"
   ]
  },
  {
   "cell_type": "code",
   "execution_count": 22,
   "metadata": {
    "id": "umdLE04ZIrOL",
    "outputId": "bec49aa0-500e-47ff-b1f4-75cd47496a55"
   },
   "outputs": [
    {
     "data": {
      "text/plain": [
       "<matplotlib.legend.Legend at 0x14a11270fa0>"
      ]
     },
     "execution_count": 22,
     "metadata": {},
     "output_type": "execute_result"
    },
    {
     "data": {
      "image/png": "[encoded data removed]",
      "text/plain": [
       "<Figure size 640x480 with 1 Axes>"
      ]
     },
     "metadata": {},
     "output_type": "display_data"
    }
   ],
   "source": [
    "## Yêu cầu 10: Với MasVnrArea, do phần trăm dữ liệu bị khuyết \n",
    "# thấp, chúng ta không dự tính và không thấy thay đổi đáng kể trong\n",
    "# phân phối ban đầu của biến\n",
    "\n",
    "fig = plt.figure()\n",
    "ax = fig.add_subplot(111)\n",
    "\n",
    "# phân phối ban đầu của biến\n",
    "## VIẾT CODE Ở ĐÂY:\n",
    "X_train['MasVnrArea'].plot(kind='kde', ax=ax)\n",
    "\n",
    "# biến được gán với median\n",
    "## VIẾT CODE Ở ĐÂY:\n",
    "X_train['MasVnrArea_median'].plot(kind='kde', ax=ax, color='red')\n",
    "\n",
    "# thêm legend\n",
    "lines, labels = ax.get_legend_handles_labels()\n",
    "ax.legend(lines, labels, loc='best')"
   ]
  },
  {
   "cell_type": "code",
   "execution_count": 23,
   "metadata": {
    "id": "Izt1GTZYIrOL",
    "outputId": "d604287f-12b0-42cd-fda5-9d0011aca132"
   },
   "outputs": [
    {
     "data": {
      "text/plain": [
       "<matplotlib.legend.Legend at 0x14a10de5370>"
      ]
     },
     "execution_count": 23,
     "metadata": {},
     "output_type": "execute_result"
    },
    {
     "data": {
      "image/png": "[encoded data removed]",
      "text/plain": [
       "<Figure size 640x480 with 1 Axes>"
      ]
     },
     "metadata": {},
     "output_type": "display_data"
    }
   ],
   "source": [
    "## Yêu cầu 11: tương tự với GarageBlt, do phần trăm dữ liệu bị khuyết \n",
    "# thấp, chúng ta không dự tính thay đổi nhiều trong\n",
    "# phân phối ban đầu của biến, tuy nhiên lại thấy nhiều giá trị\n",
    "# ở quanh median\n",
    "\n",
    "fig = plt.figure()\n",
    "ax = fig.add_subplot(111)\n",
    "\n",
    "# phân phối ban đầu của biến\n",
    "## VIẾT CODE Ở ĐÂY:\n",
    "X_train['GarageYrBlt'].plot(kind='kde', ax=ax)\n",
    "\n",
    "# biến được gán với median\n",
    "## VIẾT CODE Ở ĐÂY:\n",
    "X_train['GarageYrBlt_median'].plot(kind='kde', ax=ax, color='red')\n",
    "\n",
    "# thêm legend\n",
    "lines, labels = ax.get_legend_handles_labels()\n",
    "ax.legend(lines, labels, loc='best')"
   ]
  },
  {
   "cell_type": "code",
   "execution_count": 24,
   "metadata": {
    "id": "7PKOcQpYIrOM"
   },
   "outputs": [
    {
     "name": "stdout",
     "output_type": "stream",
     "text": [
      "Original Variance:  532.5872021885676\n",
      "Variance after median imputation:  434.06604265416564\n",
      "Original Variance:  32983.538710039466\n",
      "Variance after median imputation:  32874.27007404175\n",
      "Original Variance:  624.3059475074134\n",
      "Variance after median imputation:  591.3356883144767\n"
     ]
    }
   ],
   "source": [
    "## Yêu cầu 12: tương tự, chúng ta có thể khám phá tác động của kỹ thuật gán tới\n",
    "# phương sai\n",
    "\n",
    "# thấy phương sai thay đổi sau khi gán LotFrontAge, MasnVnrArea and GarageBlt\n",
    "# điều này đã được dự kiến, do phần trăm dữ liệu bị khuyết khá\n",
    "# cao, ~20%\n",
    "cols = ['LotFrontage', 'MasVnrArea', 'GarageYrBlt']\n",
    "for col in cols:\n",
    "  ## VIẾT CODE Ở ĐÂY:\n",
    "  print('Original Variance: ', X_train[col].var())\n",
    "  print('Variance after median imputation: ', X_train[col+'_median'].var())"
   ]
  },
  {
   "cell_type": "code",
   "execution_count": 25,
   "metadata": {
    "id": "pO0N1DqWIrOM",
    "outputId": "12c8bcaf-2c8c-4a95-ff01-2d344f2da1cb"
   },
   "outputs": [
    {
     "data": {
      "text/html": [
       "<div>\n",
       "<style scoped>\n",
       "    .dataframe tbody tr th:only-of-type {\n",
       "        vertical-align: middle;\n",
       "    }\n",
       "\n",
       "    .dataframe tbody tr th {\n",
       "        vertical-align: top;\n",
       "    }\n",
       "\n",
       "    .dataframe thead th {\n",
       "        text-align: right;\n",
       "    }\n",
       "</style>\n",
       "<table border=\"1\" class=\"dataframe\">\n",
       "  <thead>\n",
       "    <tr style=\"text-align: right;\">\n",
       "      <th></th>\n",
       "      <th>LotFrontage</th>\n",
       "      <th>OverallQual</th>\n",
       "      <th>MasVnrArea</th>\n",
       "      <th>BsmtUnfSF</th>\n",
       "      <th>TotalBsmtSF</th>\n",
       "      <th>1stFlrSF</th>\n",
       "      <th>GrLivArea</th>\n",
       "      <th>GarageYrBlt</th>\n",
       "      <th>WoodDeckSF</th>\n",
       "      <th>SalePrice</th>\n",
       "      <th>LotFrontage_median</th>\n",
       "      <th>MasVnrArea_median</th>\n",
       "      <th>GarageYrBlt_median</th>\n",
       "    </tr>\n",
       "  </thead>\n",
       "  <tbody>\n",
       "    <tr>\n",
       "      <th>LotFrontage</th>\n",
       "      <td>532.587202</td>\n",
       "      <td>6.587119</td>\n",
       "      <td>6.805603e+02</td>\n",
       "      <td>9.496573e+02</td>\n",
       "      <td>2.908856e+03</td>\n",
       "      <td>3.379794e+03</td>\n",
       "      <td>3.919952e+03</td>\n",
       "      <td>30.611717</td>\n",
       "      <td>1.347414e+02</td>\n",
       "      <td>6.689645e+05</td>\n",
       "      <td>532.587202</td>\n",
       "      <td>6.744233e+02</td>\n",
       "      <td>28.095264</td>\n",
       "    </tr>\n",
       "    <tr>\n",
       "      <th>OverallQual</th>\n",
       "      <td>6.587119</td>\n",
       "      <td>1.843859</td>\n",
       "      <td>1.014970e+02</td>\n",
       "      <td>1.746147e+02</td>\n",
       "      <td>2.886241e+02</td>\n",
       "      <td>2.242973e+02</td>\n",
       "      <td>4.091242e+02</td>\n",
       "      <td>17.902809</td>\n",
       "      <td>3.168557e+01</td>\n",
       "      <td>8.320132e+04</td>\n",
       "      <td>5.384774</td>\n",
       "      <td>1.005330e+02</td>\n",
       "      <td>16.875386</td>\n",
       "    </tr>\n",
       "    <tr>\n",
       "      <th>MasVnrArea</th>\n",
       "      <td>680.560330</td>\n",
       "      <td>101.496976</td>\n",
       "      <td>3.298354e+04</td>\n",
       "      <td>7.540788e+03</td>\n",
       "      <td>2.478877e+04</td>\n",
       "      <td>2.086595e+04</td>\n",
       "      <td>3.520785e+04</td>\n",
       "      <td>1203.583792</td>\n",
       "      <td>3.208924e+03</td>\n",
       "      <td>6.836439e+06</td>\n",
       "      <td>553.921303</td>\n",
       "      <td>3.298354e+04</td>\n",
       "      <td>1134.380889</td>\n",
       "    </tr>\n",
       "    <tr>\n",
       "      <th>BsmtUnfSF</th>\n",
       "      <td>949.657293</td>\n",
       "      <td>174.614725</td>\n",
       "      <td>7.540788e+03</td>\n",
       "      <td>1.875241e+05</td>\n",
       "      <td>7.513307e+04</td>\n",
       "      <td>4.987449e+04</td>\n",
       "      <td>5.203392e+04</td>\n",
       "      <td>1823.065167</td>\n",
       "      <td>-1.833201e+03</td>\n",
       "      <td>6.833028e+06</td>\n",
       "      <td>788.095358</td>\n",
       "      <td>7.472110e+03</td>\n",
       "      <td>1724.141544</td>\n",
       "    </tr>\n",
       "    <tr>\n",
       "      <th>TotalBsmtSF</th>\n",
       "      <td>2908.855504</td>\n",
       "      <td>288.624075</td>\n",
       "      <td>2.478877e+04</td>\n",
       "      <td>7.513307e+04</td>\n",
       "      <td>1.682931e+05</td>\n",
       "      <td>1.212079e+05</td>\n",
       "      <td>8.615192e+04</td>\n",
       "      <td>3173.042442</td>\n",
       "      <td>1.227966e+04</td>\n",
       "      <td>2.003928e+07</td>\n",
       "      <td>2370.929189</td>\n",
       "      <td>2.465436e+04</td>\n",
       "      <td>2989.473391</td>\n",
       "    </tr>\n",
       "    <tr>\n",
       "      <th>1stFlrSF</th>\n",
       "      <td>3379.793504</td>\n",
       "      <td>224.297266</td>\n",
       "      <td>2.086595e+04</td>\n",
       "      <td>4.987449e+04</td>\n",
       "      <td>1.212079e+05</td>\n",
       "      <td>1.398656e+05</td>\n",
       "      <td>1.044401e+05</td>\n",
       "      <td>2009.195552</td>\n",
       "      <td>1.109406e+04</td>\n",
       "      <td>1.783631e+07</td>\n",
       "      <td>2750.747094</td>\n",
       "      <td>2.080136e+04</td>\n",
       "      <td>1890.271636</td>\n",
       "    </tr>\n",
       "    <tr>\n",
       "      <th>GrLivArea</th>\n",
       "      <td>3919.951834</td>\n",
       "      <td>409.124216</td>\n",
       "      <td>3.520785e+04</td>\n",
       "      <td>5.203392e+04</td>\n",
       "      <td>8.615192e+04</td>\n",
       "      <td>1.044401e+05</td>\n",
       "      <td>2.681277e+05</td>\n",
       "      <td>2738.982988</td>\n",
       "      <td>1.558395e+04</td>\n",
       "      <td>2.934477e+07</td>\n",
       "      <td>3189.685753</td>\n",
       "      <td>3.496714e+04</td>\n",
       "      <td>2576.345636</td>\n",
       "    </tr>\n",
       "    <tr>\n",
       "      <th>GarageYrBlt</th>\n",
       "      <td>30.611717</td>\n",
       "      <td>17.902809</td>\n",
       "      <td>1.203584e+03</td>\n",
       "      <td>1.823065e+03</td>\n",
       "      <td>3.173042e+03</td>\n",
       "      <td>2.009196e+03</td>\n",
       "      <td>2.738983e+03</td>\n",
       "      <td>624.305948</td>\n",
       "      <td>6.658911e+02</td>\n",
       "      <td>9.309355e+05</td>\n",
       "      <td>24.755173</td>\n",
       "      <td>1.182673e+03</td>\n",
       "      <td>624.305948</td>\n",
       "    </tr>\n",
       "    <tr>\n",
       "      <th>WoodDeckSF</th>\n",
       "      <td>134.741376</td>\n",
       "      <td>31.685571</td>\n",
       "      <td>3.208924e+03</td>\n",
       "      <td>-1.833201e+03</td>\n",
       "      <td>1.227966e+04</td>\n",
       "      <td>1.109406e+04</td>\n",
       "      <td>1.558395e+04</td>\n",
       "      <td>665.891118</td>\n",
       "      <td>1.648582e+04</td>\n",
       "      <td>3.029981e+06</td>\n",
       "      <td>106.009105</td>\n",
       "      <td>3.212101e+03</td>\n",
       "      <td>627.624634</td>\n",
       "    </tr>\n",
       "    <tr>\n",
       "      <th>SalePrice</th>\n",
       "      <td>668964.454191</td>\n",
       "      <td>83201.317781</td>\n",
       "      <td>6.836439e+06</td>\n",
       "      <td>6.833028e+06</td>\n",
       "      <td>2.003928e+07</td>\n",
       "      <td>1.783631e+07</td>\n",
       "      <td>2.934477e+07</td>\n",
       "      <td>930935.489321</td>\n",
       "      <td>3.029981e+06</td>\n",
       "      <td>6.105731e+09</td>\n",
       "      <td>544838.836893</td>\n",
       "      <td>6.790442e+06</td>\n",
       "      <td>877485.418108</td>\n",
       "    </tr>\n",
       "    <tr>\n",
       "      <th>LotFrontage_median</th>\n",
       "      <td>532.587202</td>\n",
       "      <td>5.384774</td>\n",
       "      <td>5.539213e+02</td>\n",
       "      <td>7.880954e+02</td>\n",
       "      <td>2.370929e+03</td>\n",
       "      <td>2.750747e+03</td>\n",
       "      <td>3.189686e+03</td>\n",
       "      <td>24.755173</td>\n",
       "      <td>1.060091e+02</td>\n",
       "      <td>5.448388e+05</td>\n",
       "      <td>434.066043</td>\n",
       "      <td>5.488480e+02</td>\n",
       "      <td>22.883476</td>\n",
       "    </tr>\n",
       "    <tr>\n",
       "      <th>MasVnrArea_median</th>\n",
       "      <td>674.423263</td>\n",
       "      <td>100.533003</td>\n",
       "      <td>3.298354e+04</td>\n",
       "      <td>7.472110e+03</td>\n",
       "      <td>2.465436e+04</td>\n",
       "      <td>2.080136e+04</td>\n",
       "      <td>3.496714e+04</td>\n",
       "      <td>1182.673336</td>\n",
       "      <td>3.212101e+03</td>\n",
       "      <td>6.790442e+06</td>\n",
       "      <td>548.848031</td>\n",
       "      <td>3.287427e+04</td>\n",
       "      <td>1115.571890</td>\n",
       "    </tr>\n",
       "    <tr>\n",
       "      <th>GarageYrBlt_median</th>\n",
       "      <td>28.095264</td>\n",
       "      <td>16.875386</td>\n",
       "      <td>1.134381e+03</td>\n",
       "      <td>1.724142e+03</td>\n",
       "      <td>2.989473e+03</td>\n",
       "      <td>1.890272e+03</td>\n",
       "      <td>2.576346e+03</td>\n",
       "      <td>624.305948</td>\n",
       "      <td>6.276246e+02</td>\n",
       "      <td>8.774854e+05</td>\n",
       "      <td>22.883476</td>\n",
       "      <td>1.115572e+03</td>\n",
       "      <td>591.335688</td>\n",
       "    </tr>\n",
       "  </tbody>\n",
       "</table>\n",
       "</div>"
      ],
      "text/plain": [
       "                      LotFrontage   OverallQual    MasVnrArea     BsmtUnfSF  \\\n",
       "LotFrontage            532.587202      6.587119  6.805603e+02  9.496573e+02   \n",
       "OverallQual              6.587119      1.843859  1.014970e+02  1.746147e+02   \n",
       "MasVnrArea             680.560330    101.496976  3.298354e+04  7.540788e+03   \n",
       "BsmtUnfSF              949.657293    174.614725  7.540788e+03  1.875241e+05   \n",
       "TotalBsmtSF           2908.855504    288.624075  2.478877e+04  7.513307e+04   \n",
       "1stFlrSF              3379.793504    224.297266  2.086595e+04  4.987449e+04   \n",
       "GrLivArea             3919.951834    409.124216  3.520785e+04  5.203392e+04   \n",
       "GarageYrBlt             30.611717     17.902809  1.203584e+03  1.823065e+03   \n",
       "WoodDeckSF             134.741376     31.685571  3.208924e+03 -1.833201e+03   \n",
       "SalePrice           668964.454191  83201.317781  6.836439e+06  6.833028e+06   \n",
       "LotFrontage_median     532.587202      5.384774  5.539213e+02  7.880954e+02   \n",
       "MasVnrArea_median      674.423263    100.533003  3.298354e+04  7.472110e+03   \n",
       "GarageYrBlt_median      28.095264     16.875386  1.134381e+03  1.724142e+03   \n",
       "\n",
       "                     TotalBsmtSF      1stFlrSF     GrLivArea    GarageYrBlt  \\\n",
       "LotFrontage         2.908856e+03  3.379794e+03  3.919952e+03      30.611717   \n",
       "OverallQual         2.886241e+02  2.242973e+02  4.091242e+02      17.902809   \n",
       "MasVnrArea          2.478877e+04  2.086595e+04  3.520785e+04    1203.583792   \n",
       "BsmtUnfSF           7.513307e+04  4.987449e+04  5.203392e+04    1823.065167   \n",
       "TotalBsmtSF         1.682931e+05  1.212079e+05  8.615192e+04    3173.042442   \n",
       "1stFlrSF            1.212079e+05  1.398656e+05  1.044401e+05    2009.195552   \n",
       "GrLivArea           8.615192e+04  1.044401e+05  2.681277e+05    2738.982988   \n",
       "GarageYrBlt         3.173042e+03  2.009196e+03  2.738983e+03     624.305948   \n",
       "WoodDeckSF          1.227966e+04  1.109406e+04  1.558395e+04     665.891118   \n",
       "SalePrice           2.003928e+07  1.783631e+07  2.934477e+07  930935.489321   \n",
       "LotFrontage_median  2.370929e+03  2.750747e+03  3.189686e+03      24.755173   \n",
       "MasVnrArea_median   2.465436e+04  2.080136e+04  3.496714e+04    1182.673336   \n",
       "GarageYrBlt_median  2.989473e+03  1.890272e+03  2.576346e+03     624.305948   \n",
       "\n",
       "                      WoodDeckSF     SalePrice  LotFrontage_median  \\\n",
       "LotFrontage         1.347414e+02  6.689645e+05          532.587202   \n",
       "OverallQual         3.168557e+01  8.320132e+04            5.384774   \n",
       "MasVnrArea          3.208924e+03  6.836439e+06          553.921303   \n",
       "BsmtUnfSF          -1.833201e+03  6.833028e+06          788.095358   \n",
       "TotalBsmtSF         1.227966e+04  2.003928e+07         2370.929189   \n",
       "1stFlrSF            1.109406e+04  1.783631e+07         2750.747094   \n",
       "GrLivArea           1.558395e+04  2.934477e+07         3189.685753   \n",
       "GarageYrBlt         6.658911e+02  9.309355e+05           24.755173   \n",
       "WoodDeckSF          1.648582e+04  3.029981e+06          106.009105   \n",
       "SalePrice           3.029981e+06  6.105731e+09       544838.836893   \n",
       "LotFrontage_median  1.060091e+02  5.448388e+05          434.066043   \n",
       "MasVnrArea_median   3.212101e+03  6.790442e+06          548.848031   \n",
       "GarageYrBlt_median  6.276246e+02  8.774854e+05           22.883476   \n",
       "\n",
       "                    MasVnrArea_median  GarageYrBlt_median  \n",
       "LotFrontage              6.744233e+02           28.095264  \n",
       "OverallQual              1.005330e+02           16.875386  \n",
       "MasVnrArea               3.298354e+04         1134.380889  \n",
       "BsmtUnfSF                7.472110e+03         1724.141544  \n",
       "TotalBsmtSF              2.465436e+04         2989.473391  \n",
       "1stFlrSF                 2.080136e+04         1890.271636  \n",
       "GrLivArea                3.496714e+04         2576.345636  \n",
       "GarageYrBlt              1.182673e+03          624.305948  \n",
       "WoodDeckSF               3.212101e+03          627.624634  \n",
       "SalePrice                6.790442e+06       877485.418108  \n",
       "LotFrontage_median       5.488480e+02           22.883476  \n",
       "MasVnrArea_median        3.287427e+04         1115.571890  \n",
       "GarageYrBlt_median       1.115572e+03          591.335688  "
      ]
     },
     "execution_count": 25,
     "metadata": {},
     "output_type": "execute_result"
    }
   ],
   "source": [
    "## Yêu cầu 15: cuối cùng, hãy khám phá hiệp phương sai\n",
    "# dành chút thời gian so sánh các giá trị trong bảng dưới đây\n",
    "# xem hiệp phương sai cho LotFrontAge bị ảnh hưởng thế nào nhưng không\n",
    "# nhiều với 2 biến khác\n",
    "\n",
    "## VIẾT CODE Ở ĐÂY:\n",
    "X_train.cov()"
   ]
  },
  {
   "cell_type": "code",
   "execution_count": 26,
   "metadata": {
    "id": "OoJ1Bx9qIrON",
    "outputId": "d1c29e20-3c50-4cf9-8ec7-64bbea9e35cd"
   },
   "outputs": [
    {
     "data": {
      "text/plain": [
       "<AxesSubplot:>"
      ]
     },
     "execution_count": 26,
     "metadata": {},
     "output_type": "execute_result"
    },
    {
     "data": {
      "image/png": "[encoded data removed]",
      "text/plain": [
       "<Figure size 640x480 with 1 Axes>"
      ]
     },
     "metadata": {},
     "output_type": "display_data"
    }
   ],
   "source": [
    "## Yêu cầu 16: khám phá phản ứng dây chuyền trên các outlier\n",
    "\n",
    "# các giới hạn outlier cho LotFrontage giảm\n",
    "# (xem chiều cao của whisker trên)\n",
    "# nhưng tác động không rõ với với 2 biến khác\n",
    "\n",
    "## VIẾT CODE Ở ĐÂY:\n",
    "X_train[['LotFrontage', 'LotFrontage_median']].boxplot()"
   ]
  },
  {
   "cell_type": "code",
   "execution_count": 27,
   "metadata": {
    "id": "1kWVtbyWIrON",
    "outputId": "bb0b5860-472a-47ce-82b4-a5eec6d06568"
   },
   "outputs": [
    {
     "data": {
      "text/plain": [
       "<AxesSubplot:>"
      ]
     },
     "execution_count": 27,
     "metadata": {},
     "output_type": "execute_result"
    },
    {
     "data": {
      "image/png": "[encoded data removed]",
      "text/plain": [
       "<Figure size 640x480 with 1 Axes>"
      ]
     },
     "metadata": {},
     "output_type": "display_data"
    }
   ],
   "source": [
    "## Yêu cầu 17\n",
    "\n",
    "## VIẾT CODE Ở ĐÂY:\n",
    "X_train[['MasVnrArea', 'MasVnrArea_median']].boxplot()"
   ]
  },
  {
   "cell_type": "code",
   "execution_count": 28,
   "metadata": {
    "id": "iO3CoAhVIrON",
    "outputId": "8dc81e12-9a4f-44b2-f65c-7a8c617f3a6c"
   },
   "outputs": [
    {
     "data": {
      "text/plain": [
       "<AxesSubplot:>"
      ]
     },
     "execution_count": 28,
     "metadata": {},
     "output_type": "execute_result"
    },
    {
     "data": {
      "image/png": "[encoded data removed]",
      "text/plain": [
       "<Figure size 640x480 with 1 Axes>"
      ]
     },
     "metadata": {},
     "output_type": "display_data"
    }
   ],
   "source": [
    "## Yêu cầu 18\n",
    "\n",
    "## VIẾT CODE Ở ĐÂY:\n",
    "X_train[['GarageYrBlt', 'GarageYrBlt_median']].boxplot()"
   ]
  },
  {
   "cell_type": "code",
   "execution_count": null,
   "metadata": {
    "id": "PVnISWVMIrOO"
   },
   "outputs": [],
   "source": []
  }
 ],
 "metadata": {
  "colab": {
   "collapsed_sections": [],
   "name": "8.2 Gán giá trị trung bình/trung vị.ipynb",
   "provenance": []
  },
  "kernelspec": {
   "display_name": "Python 3 (ipykernel)",
   "language": "python",
   "name": "python3"
  },
  "language_info": {
   "codemirror_mode": {
    "name": "ipython",
    "version": 3
   },
   "file_extension": ".py",
   "mimetype": "text/x-python",
   "name": "python",
   "nbconvert_exporter": "python",
   "pygments_lexer": "ipython3",
   "version": "3.9.13"
  },
  "toc": {
   "base_numbering": 1,
   "nav_menu": {},
   "number_sections": true,
   "sideBar": true,
   "skip_h1_title": false,
   "title_cell": "Table of Contents",
   "title_sidebar": "Contents",
   "toc_cell": false,
   "toc_position": {
    "height": "556px",
    "left": "0px",
    "right": "1156.4px",
    "top": "107px",
    "width": "278px"
   },
   "toc_section_display": "block",
   "toc_window_display": true
  }
 },
 "nbformat": 4,
 "nbformat_minor": 1
}
