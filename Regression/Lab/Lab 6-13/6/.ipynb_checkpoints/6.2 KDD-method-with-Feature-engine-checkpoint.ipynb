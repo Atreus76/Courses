{
 "cells": [
  {
   "cell_type": "markdown",
   "metadata": {},
   "source": [
    "## Select with Target Mean as Performance Proxy\n",
    "\n",
    "This transformer contains the methods of feature selection described in the notebook **06.2-Method-used-in-a-KDD-competition**\n",
    "\n",
    "The functionality has now been included in Feature-engine.\n",
    "\n",
    "Feature-engine automatically detects categorical and numerical variables. \n",
    "\n",
    "- Categories in categorical variables will be replaced by the mean value of the target.\n",
    "\n",
    "- Numerical variables will be first discretised and then, each bin replaced by the target mean value."
   ]
  },
  {
   "cell_type": "code",
   "execution_count": 1,
   "metadata": {},
   "outputs": [],
   "source": [
    "import pandas as pd\n",
    "import numpy as np\n",
    "\n",
    "from sklearn.model_selection import train_test_split\n",
    "from sklearn.metrics import roc_auc_score\n",
    "\n",
    "from feature_engine.selection import SelectByTargetMeanPerformance"
   ]
  },
  {
   "cell_type": "code",
   "execution_count": 2,
   "metadata": {},
   "outputs": [
    {
     "data": {
      "text/plain": [
       "(1309, 14)"
      ]
     },
     "execution_count": 2,
     "metadata": {},
     "output_type": "execute_result"
    }
   ],
   "source": [
    "# load the titanic dataset\n",
    "\n",
    "data = pd.read_csv('../titanic.csv')\n",
    "data.shape"
   ]
  },
  {
   "cell_type": "code",
   "execution_count": 3,
   "metadata": {},
   "outputs": [
    {
     "data": {
      "text/html": [
       "<div>\n",
       "<style scoped>\n",
       "    .dataframe tbody tr th:only-of-type {\n",
       "        vertical-align: middle;\n",
       "    }\n",
       "\n",
       "    .dataframe tbody tr th {\n",
       "        vertical-align: top;\n",
       "    }\n",
       "\n",
       "    .dataframe thead th {\n",
       "        text-align: right;\n",
       "    }\n",
       "</style>\n",
       "<table border=\"1\" class=\"dataframe\">\n",
       "  <thead>\n",
       "    <tr style=\"text-align: right;\">\n",
       "      <th></th>\n",
       "      <th>pclass</th>\n",
       "      <th>survived</th>\n",
       "      <th>name</th>\n",
       "      <th>sex</th>\n",
       "      <th>age</th>\n",
       "      <th>sibsp</th>\n",
       "      <th>parch</th>\n",
       "      <th>ticket</th>\n",
       "      <th>fare</th>\n",
       "      <th>cabin</th>\n",
       "      <th>embarked</th>\n",
       "      <th>boat</th>\n",
       "      <th>body</th>\n",
       "      <th>home.dest</th>\n",
       "    </tr>\n",
       "  </thead>\n",
       "  <tbody>\n",
       "    <tr>\n",
       "      <th>0</th>\n",
       "      <td>1</td>\n",
       "      <td>1</td>\n",
       "      <td>Allen, Miss. Elisabeth Walton</td>\n",
       "      <td>female</td>\n",
       "      <td>29.0000</td>\n",
       "      <td>0</td>\n",
       "      <td>0</td>\n",
       "      <td>24160</td>\n",
       "      <td>211.3375</td>\n",
       "      <td>B5</td>\n",
       "      <td>S</td>\n",
       "      <td>2</td>\n",
       "      <td>NaN</td>\n",
       "      <td>St Louis, MO</td>\n",
       "    </tr>\n",
       "    <tr>\n",
       "      <th>1</th>\n",
       "      <td>1</td>\n",
       "      <td>1</td>\n",
       "      <td>Allison, Master. Hudson Trevor</td>\n",
       "      <td>male</td>\n",
       "      <td>0.9167</td>\n",
       "      <td>1</td>\n",
       "      <td>2</td>\n",
       "      <td>113781</td>\n",
       "      <td>151.5500</td>\n",
       "      <td>C22</td>\n",
       "      <td>S</td>\n",
       "      <td>11</td>\n",
       "      <td>NaN</td>\n",
       "      <td>Montreal, PQ / Chesterville, ON</td>\n",
       "    </tr>\n",
       "    <tr>\n",
       "      <th>2</th>\n",
       "      <td>1</td>\n",
       "      <td>0</td>\n",
       "      <td>Allison, Miss. Helen Loraine</td>\n",
       "      <td>female</td>\n",
       "      <td>2.0000</td>\n",
       "      <td>1</td>\n",
       "      <td>2</td>\n",
       "      <td>113781</td>\n",
       "      <td>151.5500</td>\n",
       "      <td>C22</td>\n",
       "      <td>S</td>\n",
       "      <td>NaN</td>\n",
       "      <td>NaN</td>\n",
       "      <td>Montreal, PQ / Chesterville, ON</td>\n",
       "    </tr>\n",
       "    <tr>\n",
       "      <th>3</th>\n",
       "      <td>1</td>\n",
       "      <td>0</td>\n",
       "      <td>Allison, Mr. Hudson Joshua Creighton</td>\n",
       "      <td>male</td>\n",
       "      <td>30.0000</td>\n",
       "      <td>1</td>\n",
       "      <td>2</td>\n",
       "      <td>113781</td>\n",
       "      <td>151.5500</td>\n",
       "      <td>C22</td>\n",
       "      <td>S</td>\n",
       "      <td>NaN</td>\n",
       "      <td>135.0</td>\n",
       "      <td>Montreal, PQ / Chesterville, ON</td>\n",
       "    </tr>\n",
       "    <tr>\n",
       "      <th>4</th>\n",
       "      <td>1</td>\n",
       "      <td>0</td>\n",
       "      <td>Allison, Mrs. Hudson J C (Bessie Waldo Daniels)</td>\n",
       "      <td>female</td>\n",
       "      <td>25.0000</td>\n",
       "      <td>1</td>\n",
       "      <td>2</td>\n",
       "      <td>113781</td>\n",
       "      <td>151.5500</td>\n",
       "      <td>C22</td>\n",
       "      <td>S</td>\n",
       "      <td>NaN</td>\n",
       "      <td>NaN</td>\n",
       "      <td>Montreal, PQ / Chesterville, ON</td>\n",
       "    </tr>\n",
       "  </tbody>\n",
       "</table>\n",
       "</div>"
      ],
      "text/plain": [
       "   pclass  survived                                             name     sex  \\\n",
       "0       1         1                    Allen, Miss. Elisabeth Walton  female   \n",
       "1       1         1                   Allison, Master. Hudson Trevor    male   \n",
       "2       1         0                     Allison, Miss. Helen Loraine  female   \n",
       "3       1         0             Allison, Mr. Hudson Joshua Creighton    male   \n",
       "4       1         0  Allison, Mrs. Hudson J C (Bessie Waldo Daniels)  female   \n",
       "\n",
       "       age  sibsp  parch  ticket      fare cabin embarked boat   body  \\\n",
       "0  29.0000      0      0   24160  211.3375    B5        S    2    NaN   \n",
       "1   0.9167      1      2  113781  151.5500   C22        S   11    NaN   \n",
       "2   2.0000      1      2  113781  151.5500   C22        S  NaN    NaN   \n",
       "3  30.0000      1      2  113781  151.5500   C22        S  NaN  135.0   \n",
       "4  25.0000      1      2  113781  151.5500   C22        S  NaN    NaN   \n",
       "\n",
       "                         home.dest  \n",
       "0                     St Louis, MO  \n",
       "1  Montreal, PQ / Chesterville, ON  \n",
       "2  Montreal, PQ / Chesterville, ON  \n",
       "3  Montreal, PQ / Chesterville, ON  \n",
       "4  Montreal, PQ / Chesterville, ON  "
      ]
     },
     "execution_count": 3,
     "metadata": {},
     "output_type": "execute_result"
    }
   ],
   "source": [
    "data.head()"
   ]
  },
  {
   "cell_type": "code",
   "execution_count": 4,
   "metadata": {},
   "outputs": [
    {
     "data": {
      "text/plain": [
       "array(['B', 'C', 'E', 'D', 'A', nan, 'N', 'F'], dtype=object)"
      ]
     },
     "execution_count": 4,
     "metadata": {},
     "output_type": "execute_result"
    }
   ],
   "source": [
    "# Variable preprocessing:\n",
    "\n",
    "# then I will narrow down the different cabins by selecting only the\n",
    "# first letter, which represents the deck in which the cabin was located\n",
    "\n",
    "# captures first letter of string (the letter of the cabin)\n",
    "data['cabin'] = data['cabin'].str[0]\n",
    "\n",
    "# now we will rename those cabin letters that appear only 1 or 2 in the\n",
    "# dataset by N\n",
    "\n",
    "# replace rare cabins by N\n",
    "data['cabin'] = np.where(data['cabin'].isin(['T', 'G']), 'N', data['cabin'])\n",
    "\n",
    "data['cabin'].unique()"
   ]
  },
  {
   "cell_type": "code",
   "execution_count": 5,
   "metadata": {},
   "outputs": [
    {
     "data": {
      "text/plain": [
       "C    94\n",
       "B    65\n",
       "D    46\n",
       "E    41\n",
       "A    22\n",
       "F    21\n",
       "N     6\n",
       "Name: cabin, dtype: int64"
      ]
     },
     "execution_count": 5,
     "metadata": {},
     "output_type": "execute_result"
    }
   ],
   "source": [
    "# number of passenges per cabin\n",
    "\n",
    "data['cabin'].value_counts()"
   ]
  },
  {
   "cell_type": "code",
   "execution_count": 6,
   "metadata": {},
   "outputs": [
    {
     "data": {
      "text/plain": [
       "0    1002\n",
       "1     170\n",
       "2     113\n",
       "3       8\n",
       "4       6\n",
       "5       6\n",
       "6       2\n",
       "9       2\n",
       "Name: parch, dtype: int64"
      ]
     },
     "execution_count": 6,
     "metadata": {},
     "output_type": "execute_result"
    }
   ],
   "source": [
    "# number of passengers per value\n",
    "data['parch'].value_counts()"
   ]
  },
  {
   "cell_type": "code",
   "execution_count": 7,
   "metadata": {},
   "outputs": [],
   "source": [
    "# cap variable at 3, the rest of the values are\n",
    "# shown by too few observations\n",
    "\n",
    "data['parch'] = np.where(data['parch']>3,3,data['parch'])"
   ]
  },
  {
   "cell_type": "code",
   "execution_count": 8,
   "metadata": {},
   "outputs": [
    {
     "data": {
      "text/plain": [
       "0    891\n",
       "1    319\n",
       "2     42\n",
       "4     22\n",
       "3     20\n",
       "8      9\n",
       "5      6\n",
       "Name: sibsp, dtype: int64"
      ]
     },
     "execution_count": 8,
     "metadata": {},
     "output_type": "execute_result"
    }
   ],
   "source": [
    "data['sibsp'].value_counts()"
   ]
  },
  {
   "cell_type": "code",
   "execution_count": 9,
   "metadata": {},
   "outputs": [],
   "source": [
    "# cap variable at 3, the rest of the values are\n",
    "# shown by too few observations\n",
    "\n",
    "data['sibsp'] = np.where(data['sibsp']>3,3,data['sibsp'])"
   ]
  },
  {
   "cell_type": "code",
   "execution_count": 10,
   "metadata": {},
   "outputs": [],
   "source": [
    "# cast discrete variables as categorical\n",
    "\n",
    "# feature-engine considers categorical variables all those of type\n",
    "# object. So in order to work with numerical variables as if they\n",
    "# were categorical, we  need to cast them as object\n",
    "\n",
    "data[['pclass','sibsp','parch']] = data[['pclass','sibsp','parch']].astype('O')"
   ]
  },
  {
   "cell_type": "code",
   "execution_count": 11,
   "metadata": {},
   "outputs": [
    {
     "data": {
      "text/plain": [
       "pclass          0\n",
       "survived        0\n",
       "name            0\n",
       "sex             0\n",
       "age           263\n",
       "sibsp           0\n",
       "parch           0\n",
       "ticket          0\n",
       "fare            1\n",
       "cabin        1014\n",
       "embarked        2\n",
       "boat          823\n",
       "body         1188\n",
       "home.dest     564\n",
       "dtype: int64"
      ]
     },
     "execution_count": 11,
     "metadata": {},
     "output_type": "execute_result"
    }
   ],
   "source": [
    "# check absence of missing data\n",
    "\n",
    "data.isnull().sum()"
   ]
  },
  {
   "cell_type": "markdown",
   "metadata": {},
   "source": [
    "**Important**\n",
    "\n",
    "In all feature selection procedures, it is good practice to select the features by examining only the training set. And this is to avoid overfit."
   ]
  },
  {
   "cell_type": "code",
   "execution_count": 12,
   "metadata": {},
   "outputs": [
    {
     "data": {
      "text/plain": [
       "((916, 13), (393, 13))"
      ]
     },
     "execution_count": 12,
     "metadata": {},
     "output_type": "execute_result"
    }
   ],
   "source": [
    "# separate train and test sets\n",
    "\n",
    "X_train, X_test, y_train, y_test = train_test_split(\n",
    "    data.drop(['survived'], axis=1),\n",
    "    data['survived'],\n",
    "    test_size=0.3,\n",
    "    random_state=0)\n",
    "\n",
    "X_train.shape, X_test.shape"
   ]
  },
  {
   "cell_type": "code",
   "execution_count": 13,
   "metadata": {},
   "outputs": [
    {
     "name": "stderr",
     "output_type": "stream",
     "text": [
      "C:\\Users\\Bang\\anaconda3\\lib\\site-packages\\sklearn\\model_selection\\_validation.py:770: UserWarning: Scoring failed. The score on this train-test partition for these parameters will be set to nan. Details: \n",
      "Traceback (most recent call last):\n",
      "  File \"C:\\Users\\Bang\\anaconda3\\lib\\site-packages\\sklearn\\metrics\\_scorer.py\", line 355, in _score\n",
      "    y_pred = method_caller(clf, \"decision_function\", X)\n",
      "  File \"C:\\Users\\Bang\\anaconda3\\lib\\site-packages\\sklearn\\metrics\\_scorer.py\", line 68, in _cached_call\n",
      "    return getattr(estimator, method)(*args, **kwargs)\n",
      "AttributeError: 'TargetMeanClassifier' object has no attribute 'decision_function'\n",
      "\n",
      "During handling of the above exception, another exception occurred:\n",
      "\n",
      "Traceback (most recent call last):\n",
      "  File \"C:\\Users\\Bang\\anaconda3\\lib\\site-packages\\sklearn\\model_selection\\_validation.py\", line 761, in _score\n",
      "    scores = scorer(estimator, X_test, y_test)\n",
      "  File \"C:\\Users\\Bang\\anaconda3\\lib\\site-packages\\sklearn\\metrics\\_scorer.py\", line 216, in __call__\n",
      "    return self._score(\n",
      "  File \"C:\\Users\\Bang\\anaconda3\\lib\\site-packages\\sklearn\\metrics\\_scorer.py\", line 369, in _score\n",
      "    y_pred = method_caller(clf, \"predict_proba\", X)\n",
      "  File \"C:\\Users\\Bang\\anaconda3\\lib\\site-packages\\sklearn\\metrics\\_scorer.py\", line 68, in _cached_call\n",
      "    return getattr(estimator, method)(*args, **kwargs)\n",
      "  File \"C:\\Users\\Bang\\anaconda3\\lib\\site-packages\\feature_engine\\_prediction\\target_mean_classifier.py\", line 148, in predict_proba\n",
      "    prob = self._predict(X)\n",
      "  File \"C:\\Users\\Bang\\anaconda3\\lib\\site-packages\\feature_engine\\_prediction\\base_predictor.py\", line 290, in _predict\n",
      "    X_tr = self._transform(X)\n",
      "  File \"C:\\Users\\Bang\\anaconda3\\lib\\site-packages\\feature_engine\\_prediction\\base_predictor.py\", line 271, in _transform\n",
      "    X_tr = self._pipeline.transform(X)\n",
      "  File \"C:\\Users\\Bang\\anaconda3\\lib\\site-packages\\feature_engine\\encoding\\base_encoder.py\", line 212, in transform\n",
      "    X = self._encode(X)\n",
      "  File \"C:\\Users\\Bang\\anaconda3\\lib\\site-packages\\feature_engine\\encoding\\base_encoder.py\", line 233, in _encode\n",
      "    self._check_nan_values_after_transformation(X)\n",
      "  File \"C:\\Users\\Bang\\anaconda3\\lib\\site-packages\\feature_engine\\encoding\\base_encoder.py\", line 260, in _check_nan_values_after_transformation\n",
      "    raise ValueError(\n",
      "ValueError: During the encoding, NaN values were introduced in the feature(s) name.\n",
      "\n",
      "  warnings.warn(\n",
      "C:\\Users\\Bang\\anaconda3\\lib\\site-packages\\sklearn\\model_selection\\_validation.py:770: UserWarning: Scoring failed. The score on this train-test partition for these parameters will be set to nan. Details: \n",
      "Traceback (most recent call last):\n",
      "  File \"C:\\Users\\Bang\\anaconda3\\lib\\site-packages\\sklearn\\metrics\\_scorer.py\", line 355, in _score\n",
      "    y_pred = method_caller(clf, \"decision_function\", X)\n",
      "  File \"C:\\Users\\Bang\\anaconda3\\lib\\site-packages\\sklearn\\metrics\\_scorer.py\", line 68, in _cached_call\n",
      "    return getattr(estimator, method)(*args, **kwargs)\n",
      "AttributeError: 'TargetMeanClassifier' object has no attribute 'decision_function'\n",
      "\n",
      "During handling of the above exception, another exception occurred:\n",
      "\n",
      "Traceback (most recent call last):\n",
      "  File \"C:\\Users\\Bang\\anaconda3\\lib\\site-packages\\sklearn\\model_selection\\_validation.py\", line 761, in _score\n",
      "    scores = scorer(estimator, X_test, y_test)\n",
      "  File \"C:\\Users\\Bang\\anaconda3\\lib\\site-packages\\sklearn\\metrics\\_scorer.py\", line 216, in __call__\n",
      "    return self._score(\n",
      "  File \"C:\\Users\\Bang\\anaconda3\\lib\\site-packages\\sklearn\\metrics\\_scorer.py\", line 369, in _score\n",
      "    y_pred = method_caller(clf, \"predict_proba\", X)\n",
      "  File \"C:\\Users\\Bang\\anaconda3\\lib\\site-packages\\sklearn\\metrics\\_scorer.py\", line 68, in _cached_call\n",
      "    return getattr(estimator, method)(*args, **kwargs)\n",
      "  File \"C:\\Users\\Bang\\anaconda3\\lib\\site-packages\\feature_engine\\_prediction\\target_mean_classifier.py\", line 148, in predict_proba\n",
      "    prob = self._predict(X)\n",
      "  File \"C:\\Users\\Bang\\anaconda3\\lib\\site-packages\\feature_engine\\_prediction\\base_predictor.py\", line 290, in _predict\n",
      "    X_tr = self._transform(X)\n",
      "  File \"C:\\Users\\Bang\\anaconda3\\lib\\site-packages\\feature_engine\\_prediction\\base_predictor.py\", line 271, in _transform\n",
      "    X_tr = self._pipeline.transform(X)\n",
      "  File \"C:\\Users\\Bang\\anaconda3\\lib\\site-packages\\feature_engine\\encoding\\base_encoder.py\", line 212, in transform\n",
      "    X = self._encode(X)\n",
      "  File \"C:\\Users\\Bang\\anaconda3\\lib\\site-packages\\feature_engine\\encoding\\base_encoder.py\", line 233, in _encode\n",
      "    self._check_nan_values_after_transformation(X)\n",
      "  File \"C:\\Users\\Bang\\anaconda3\\lib\\site-packages\\feature_engine\\encoding\\base_encoder.py\", line 260, in _check_nan_values_after_transformation\n",
      "    raise ValueError(\n",
      "ValueError: During the encoding, NaN values were introduced in the feature(s) name.\n",
      "\n",
      "  warnings.warn(\n",
      "C:\\Users\\Bang\\anaconda3\\lib\\site-packages\\sklearn\\model_selection\\_validation.py:372: FitFailedWarning: \n",
      "2 fits failed out of a total of 2.\n",
      "The score on these train-test partitions for these parameters will be set to nan.\n",
      "If these failures are not expected, you can try to debug them by setting error_score='raise'.\n",
      "\n",
      "Below are more details about the failures:\n",
      "--------------------------------------------------------------------------------\n",
      "2 fits failed with the following error:\n",
      "Traceback (most recent call last):\n",
      "  File \"C:\\Users\\Bang\\anaconda3\\lib\\site-packages\\sklearn\\model_selection\\_validation.py\", line 680, in _fit_and_score\n",
      "    estimator.fit(X_train, y_train, **fit_params)\n",
      "  File \"C:\\Users\\Bang\\anaconda3\\lib\\site-packages\\feature_engine\\_prediction\\target_mean_classifier.py\", line 126, in fit\n",
      "    return super().fit(X, y)\n",
      "  File \"C:\\Users\\Bang\\anaconda3\\lib\\site-packages\\feature_engine\\_prediction\\base_predictor.py\", line 127, in fit\n",
      "    _check_contains_na(X, self.variables_numerical_)\n",
      "  File \"C:\\Users\\Bang\\anaconda3\\lib\\site-packages\\feature_engine\\dataframe_checks.py\", line 268, in _check_contains_na\n",
      "    raise ValueError(\n",
      "ValueError: Some of the variables in the dataset contain NaN. Check and remove those before using this transformer.\n",
      "\n",
      "  warnings.warn(some_fits_failed_message, FitFailedWarning)\n",
      "C:\\Users\\Bang\\anaconda3\\lib\\site-packages\\sklearn\\model_selection\\_validation.py:770: UserWarning: Scoring failed. The score on this train-test partition for these parameters will be set to nan. Details: \n",
      "Traceback (most recent call last):\n",
      "  File \"C:\\Users\\Bang\\anaconda3\\lib\\site-packages\\sklearn\\metrics\\_scorer.py\", line 355, in _score\n",
      "    y_pred = method_caller(clf, \"decision_function\", X)\n",
      "  File \"C:\\Users\\Bang\\anaconda3\\lib\\site-packages\\sklearn\\metrics\\_scorer.py\", line 68, in _cached_call\n",
      "    return getattr(estimator, method)(*args, **kwargs)\n",
      "AttributeError: 'TargetMeanClassifier' object has no attribute 'decision_function'\n",
      "\n",
      "During handling of the above exception, another exception occurred:\n",
      "\n",
      "Traceback (most recent call last):\n",
      "  File \"C:\\Users\\Bang\\anaconda3\\lib\\site-packages\\sklearn\\model_selection\\_validation.py\", line 761, in _score\n",
      "    scores = scorer(estimator, X_test, y_test)\n",
      "  File \"C:\\Users\\Bang\\anaconda3\\lib\\site-packages\\sklearn\\metrics\\_scorer.py\", line 216, in __call__\n",
      "    return self._score(\n",
      "  File \"C:\\Users\\Bang\\anaconda3\\lib\\site-packages\\sklearn\\metrics\\_scorer.py\", line 369, in _score\n",
      "    y_pred = method_caller(clf, \"predict_proba\", X)\n",
      "  File \"C:\\Users\\Bang\\anaconda3\\lib\\site-packages\\sklearn\\metrics\\_scorer.py\", line 68, in _cached_call\n",
      "    return getattr(estimator, method)(*args, **kwargs)\n",
      "  File \"C:\\Users\\Bang\\anaconda3\\lib\\site-packages\\feature_engine\\_prediction\\target_mean_classifier.py\", line 148, in predict_proba\n",
      "    prob = self._predict(X)\n",
      "  File \"C:\\Users\\Bang\\anaconda3\\lib\\site-packages\\feature_engine\\_prediction\\base_predictor.py\", line 290, in _predict\n",
      "    X_tr = self._transform(X)\n",
      "  File \"C:\\Users\\Bang\\anaconda3\\lib\\site-packages\\feature_engine\\_prediction\\base_predictor.py\", line 271, in _transform\n",
      "    X_tr = self._pipeline.transform(X)\n",
      "  File \"C:\\Users\\Bang\\anaconda3\\lib\\site-packages\\feature_engine\\encoding\\base_encoder.py\", line 212, in transform\n",
      "    X = self._encode(X)\n",
      "  File \"C:\\Users\\Bang\\anaconda3\\lib\\site-packages\\feature_engine\\encoding\\base_encoder.py\", line 233, in _encode\n",
      "    self._check_nan_values_after_transformation(X)\n",
      "  File \"C:\\Users\\Bang\\anaconda3\\lib\\site-packages\\feature_engine\\encoding\\base_encoder.py\", line 260, in _check_nan_values_after_transformation\n",
      "    raise ValueError(\n",
      "ValueError: During the encoding, NaN values were introduced in the feature(s) ticket.\n",
      "\n",
      "  warnings.warn(\n",
      "C:\\Users\\Bang\\anaconda3\\lib\\site-packages\\sklearn\\model_selection\\_validation.py:770: UserWarning: Scoring failed. The score on this train-test partition for these parameters will be set to nan. Details: \n",
      "Traceback (most recent call last):\n",
      "  File \"C:\\Users\\Bang\\anaconda3\\lib\\site-packages\\sklearn\\metrics\\_scorer.py\", line 355, in _score\n",
      "    y_pred = method_caller(clf, \"decision_function\", X)\n",
      "  File \"C:\\Users\\Bang\\anaconda3\\lib\\site-packages\\sklearn\\metrics\\_scorer.py\", line 68, in _cached_call\n",
      "    return getattr(estimator, method)(*args, **kwargs)\n",
      "AttributeError: 'TargetMeanClassifier' object has no attribute 'decision_function'\n",
      "\n",
      "During handling of the above exception, another exception occurred:\n",
      "\n",
      "Traceback (most recent call last):\n",
      "  File \"C:\\Users\\Bang\\anaconda3\\lib\\site-packages\\sklearn\\model_selection\\_validation.py\", line 761, in _score\n",
      "    scores = scorer(estimator, X_test, y_test)\n",
      "  File \"C:\\Users\\Bang\\anaconda3\\lib\\site-packages\\sklearn\\metrics\\_scorer.py\", line 216, in __call__\n",
      "    return self._score(\n",
      "  File \"C:\\Users\\Bang\\anaconda3\\lib\\site-packages\\sklearn\\metrics\\_scorer.py\", line 369, in _score\n",
      "    y_pred = method_caller(clf, \"predict_proba\", X)\n",
      "  File \"C:\\Users\\Bang\\anaconda3\\lib\\site-packages\\sklearn\\metrics\\_scorer.py\", line 68, in _cached_call\n",
      "    return getattr(estimator, method)(*args, **kwargs)\n",
      "  File \"C:\\Users\\Bang\\anaconda3\\lib\\site-packages\\feature_engine\\_prediction\\target_mean_classifier.py\", line 148, in predict_proba\n",
      "    prob = self._predict(X)\n",
      "  File \"C:\\Users\\Bang\\anaconda3\\lib\\site-packages\\feature_engine\\_prediction\\base_predictor.py\", line 290, in _predict\n",
      "    X_tr = self._transform(X)\n",
      "  File \"C:\\Users\\Bang\\anaconda3\\lib\\site-packages\\feature_engine\\_prediction\\base_predictor.py\", line 271, in _transform\n",
      "    X_tr = self._pipeline.transform(X)\n",
      "  File \"C:\\Users\\Bang\\anaconda3\\lib\\site-packages\\feature_engine\\encoding\\base_encoder.py\", line 212, in transform\n",
      "    X = self._encode(X)\n",
      "  File \"C:\\Users\\Bang\\anaconda3\\lib\\site-packages\\feature_engine\\encoding\\base_encoder.py\", line 233, in _encode\n",
      "    self._check_nan_values_after_transformation(X)\n",
      "  File \"C:\\Users\\Bang\\anaconda3\\lib\\site-packages\\feature_engine\\encoding\\base_encoder.py\", line 260, in _check_nan_values_after_transformation\n",
      "    raise ValueError(\n",
      "ValueError: During the encoding, NaN values were introduced in the feature(s) ticket.\n",
      "\n",
      "  warnings.warn(\n"
     ]
    },
    {
     "name": "stderr",
     "output_type": "stream",
     "text": [
      "C:\\Users\\Bang\\anaconda3\\lib\\site-packages\\sklearn\\model_selection\\_validation.py:372: FitFailedWarning: \n",
      "2 fits failed out of a total of 2.\n",
      "The score on these train-test partitions for these parameters will be set to nan.\n",
      "If these failures are not expected, you can try to debug them by setting error_score='raise'.\n",
      "\n",
      "Below are more details about the failures:\n",
      "--------------------------------------------------------------------------------\n",
      "2 fits failed with the following error:\n",
      "Traceback (most recent call last):\n",
      "  File \"C:\\Users\\Bang\\anaconda3\\lib\\site-packages\\sklearn\\model_selection\\_validation.py\", line 680, in _fit_and_score\n",
      "    estimator.fit(X_train, y_train, **fit_params)\n",
      "  File \"C:\\Users\\Bang\\anaconda3\\lib\\site-packages\\feature_engine\\_prediction\\target_mean_classifier.py\", line 126, in fit\n",
      "    return super().fit(X, y)\n",
      "  File \"C:\\Users\\Bang\\anaconda3\\lib\\site-packages\\feature_engine\\_prediction\\base_predictor.py\", line 128, in fit\n",
      "    _check_contains_na(X, self.variables_categorical_)\n",
      "  File \"C:\\Users\\Bang\\anaconda3\\lib\\site-packages\\feature_engine\\dataframe_checks.py\", line 268, in _check_contains_na\n",
      "    raise ValueError(\n",
      "ValueError: Some of the variables in the dataset contain NaN. Check and remove those before using this transformer.\n",
      "\n",
      "  warnings.warn(some_fits_failed_message, FitFailedWarning)\n",
      "C:\\Users\\Bang\\anaconda3\\lib\\site-packages\\sklearn\\model_selection\\_validation.py:770: UserWarning: Scoring failed. The score on this train-test partition for these parameters will be set to nan. Details: \n",
      "Traceback (most recent call last):\n",
      "  File \"C:\\Users\\Bang\\anaconda3\\lib\\site-packages\\sklearn\\metrics\\_scorer.py\", line 355, in _score\n",
      "    y_pred = method_caller(clf, \"decision_function\", X)\n",
      "  File \"C:\\Users\\Bang\\anaconda3\\lib\\site-packages\\sklearn\\metrics\\_scorer.py\", line 68, in _cached_call\n",
      "    return getattr(estimator, method)(*args, **kwargs)\n",
      "AttributeError: 'TargetMeanClassifier' object has no attribute 'decision_function'\n",
      "\n",
      "During handling of the above exception, another exception occurred:\n",
      "\n",
      "Traceback (most recent call last):\n",
      "  File \"C:\\Users\\Bang\\anaconda3\\lib\\site-packages\\sklearn\\model_selection\\_validation.py\", line 761, in _score\n",
      "    scores = scorer(estimator, X_test, y_test)\n",
      "  File \"C:\\Users\\Bang\\anaconda3\\lib\\site-packages\\sklearn\\metrics\\_scorer.py\", line 216, in __call__\n",
      "    return self._score(\n",
      "  File \"C:\\Users\\Bang\\anaconda3\\lib\\site-packages\\sklearn\\metrics\\_scorer.py\", line 369, in _score\n",
      "    y_pred = method_caller(clf, \"predict_proba\", X)\n",
      "  File \"C:\\Users\\Bang\\anaconda3\\lib\\site-packages\\sklearn\\metrics\\_scorer.py\", line 68, in _cached_call\n",
      "    return getattr(estimator, method)(*args, **kwargs)\n",
      "  File \"C:\\Users\\Bang\\anaconda3\\lib\\site-packages\\feature_engine\\_prediction\\target_mean_classifier.py\", line 148, in predict_proba\n",
      "    prob = self._predict(X)\n",
      "  File \"C:\\Users\\Bang\\anaconda3\\lib\\site-packages\\feature_engine\\_prediction\\base_predictor.py\", line 290, in _predict\n",
      "    X_tr = self._transform(X)\n",
      "  File \"C:\\Users\\Bang\\anaconda3\\lib\\site-packages\\feature_engine\\_prediction\\base_predictor.py\", line 262, in _transform\n",
      "    _check_contains_na(X, self.variables_categorical_)\n",
      "  File \"C:\\Users\\Bang\\anaconda3\\lib\\site-packages\\feature_engine\\dataframe_checks.py\", line 268, in _check_contains_na\n",
      "    raise ValueError(\n",
      "ValueError: Some of the variables in the dataset contain NaN. Check and remove those before using this transformer.\n",
      "\n",
      "  warnings.warn(\n",
      "C:\\Users\\Bang\\anaconda3\\lib\\site-packages\\sklearn\\model_selection\\_validation.py:372: FitFailedWarning: \n",
      "1 fits failed out of a total of 2.\n",
      "The score on these train-test partitions for these parameters will be set to nan.\n",
      "If these failures are not expected, you can try to debug them by setting error_score='raise'.\n",
      "\n",
      "Below are more details about the failures:\n",
      "--------------------------------------------------------------------------------\n",
      "1 fits failed with the following error:\n",
      "Traceback (most recent call last):\n",
      "  File \"C:\\Users\\Bang\\anaconda3\\lib\\site-packages\\sklearn\\model_selection\\_validation.py\", line 680, in _fit_and_score\n",
      "    estimator.fit(X_train, y_train, **fit_params)\n",
      "  File \"C:\\Users\\Bang\\anaconda3\\lib\\site-packages\\feature_engine\\_prediction\\target_mean_classifier.py\", line 126, in fit\n",
      "    return super().fit(X, y)\n",
      "  File \"C:\\Users\\Bang\\anaconda3\\lib\\site-packages\\feature_engine\\_prediction\\base_predictor.py\", line 128, in fit\n",
      "    _check_contains_na(X, self.variables_categorical_)\n",
      "  File \"C:\\Users\\Bang\\anaconda3\\lib\\site-packages\\feature_engine\\dataframe_checks.py\", line 268, in _check_contains_na\n",
      "    raise ValueError(\n",
      "ValueError: Some of the variables in the dataset contain NaN. Check and remove those before using this transformer.\n",
      "\n",
      "  warnings.warn(some_fits_failed_message, FitFailedWarning)\n",
      "C:\\Users\\Bang\\anaconda3\\lib\\site-packages\\sklearn\\model_selection\\_validation.py:372: FitFailedWarning: \n",
      "2 fits failed out of a total of 2.\n",
      "The score on these train-test partitions for these parameters will be set to nan.\n",
      "If these failures are not expected, you can try to debug them by setting error_score='raise'.\n",
      "\n",
      "Below are more details about the failures:\n",
      "--------------------------------------------------------------------------------\n",
      "2 fits failed with the following error:\n",
      "Traceback (most recent call last):\n",
      "  File \"C:\\Users\\Bang\\anaconda3\\lib\\site-packages\\sklearn\\model_selection\\_validation.py\", line 680, in _fit_and_score\n",
      "    estimator.fit(X_train, y_train, **fit_params)\n",
      "  File \"C:\\Users\\Bang\\anaconda3\\lib\\site-packages\\feature_engine\\_prediction\\target_mean_classifier.py\", line 126, in fit\n",
      "    return super().fit(X, y)\n",
      "  File \"C:\\Users\\Bang\\anaconda3\\lib\\site-packages\\feature_engine\\_prediction\\base_predictor.py\", line 128, in fit\n",
      "    _check_contains_na(X, self.variables_categorical_)\n",
      "  File \"C:\\Users\\Bang\\anaconda3\\lib\\site-packages\\feature_engine\\dataframe_checks.py\", line 268, in _check_contains_na\n",
      "    raise ValueError(\n",
      "ValueError: Some of the variables in the dataset contain NaN. Check and remove those before using this transformer.\n",
      "\n",
      "  warnings.warn(some_fits_failed_message, FitFailedWarning)\n",
      "C:\\Users\\Bang\\anaconda3\\lib\\site-packages\\sklearn\\model_selection\\_validation.py:372: FitFailedWarning: \n",
      "2 fits failed out of a total of 2.\n",
      "The score on these train-test partitions for these parameters will be set to nan.\n",
      "If these failures are not expected, you can try to debug them by setting error_score='raise'.\n",
      "\n",
      "Below are more details about the failures:\n",
      "--------------------------------------------------------------------------------\n",
      "2 fits failed with the following error:\n",
      "Traceback (most recent call last):\n",
      "  File \"C:\\Users\\Bang\\anaconda3\\lib\\site-packages\\sklearn\\model_selection\\_validation.py\", line 680, in _fit_and_score\n",
      "    estimator.fit(X_train, y_train, **fit_params)\n",
      "  File \"C:\\Users\\Bang\\anaconda3\\lib\\site-packages\\feature_engine\\_prediction\\target_mean_classifier.py\", line 126, in fit\n",
      "    return super().fit(X, y)\n",
      "  File \"C:\\Users\\Bang\\anaconda3\\lib\\site-packages\\feature_engine\\_prediction\\base_predictor.py\", line 127, in fit\n",
      "    _check_contains_na(X, self.variables_numerical_)\n",
      "  File \"C:\\Users\\Bang\\anaconda3\\lib\\site-packages\\feature_engine\\dataframe_checks.py\", line 268, in _check_contains_na\n",
      "    raise ValueError(\n",
      "ValueError: Some of the variables in the dataset contain NaN. Check and remove those before using this transformer.\n",
      "\n",
      "  warnings.warn(some_fits_failed_message, FitFailedWarning)\n",
      "C:\\Users\\Bang\\anaconda3\\lib\\site-packages\\sklearn\\model_selection\\_validation.py:372: FitFailedWarning: \n",
      "2 fits failed out of a total of 2.\n",
      "The score on these train-test partitions for these parameters will be set to nan.\n",
      "If these failures are not expected, you can try to debug them by setting error_score='raise'.\n",
      "\n",
      "Below are more details about the failures:\n",
      "--------------------------------------------------------------------------------\n",
      "2 fits failed with the following error:\n",
      "Traceback (most recent call last):\n",
      "  File \"C:\\Users\\Bang\\anaconda3\\lib\\site-packages\\sklearn\\model_selection\\_validation.py\", line 680, in _fit_and_score\n",
      "    estimator.fit(X_train, y_train, **fit_params)\n",
      "  File \"C:\\Users\\Bang\\anaconda3\\lib\\site-packages\\feature_engine\\_prediction\\target_mean_classifier.py\", line 126, in fit\n",
      "    return super().fit(X, y)\n",
      "  File \"C:\\Users\\Bang\\anaconda3\\lib\\site-packages\\feature_engine\\_prediction\\base_predictor.py\", line 128, in fit\n",
      "    _check_contains_na(X, self.variables_categorical_)\n",
      "  File \"C:\\Users\\Bang\\anaconda3\\lib\\site-packages\\feature_engine\\dataframe_checks.py\", line 268, in _check_contains_na\n",
      "    raise ValueError(\n",
      "ValueError: Some of the variables in the dataset contain NaN. Check and remove those before using this transformer.\n",
      "\n",
      "  warnings.warn(some_fits_failed_message, FitFailedWarning)\n"
     ]
    },
    {
     "data": {
      "text/plain": [
       "SelectByTargetMeanPerformance(bins=3, cv=2, strategy='equal_frequency',\n",
       "                              threshold=0.6)"
      ]
     },
     "execution_count": 13,
     "metadata": {},
     "output_type": "execute_result"
    }
   ],
   "source": [
    "# feautre engine automates the selection for both\n",
    "# categorical and numerical variables\n",
    "\n",
    "sel = SelectByTargetMeanPerformance(\n",
    "    variables=None, # automatically finds categorical and numerical variables\n",
    "    scoring=\"roc_auc\", # the metric to evaluate performance\n",
    "    threshold=0.6, # the threshold for feature selection, \n",
    "    bins=3, # the number of intervals to discretise the numerical variables\n",
    "    strategy=\"equal_frequency\", # whether the intervals should be of equal size or equal number of observations\n",
    "    cv=2,# cross validation\n",
    "    regression=False,\n",
    ")\n",
    "\n",
    "sel.fit(X_train, y_train)"
   ]
  },
  {
   "cell_type": "code",
   "execution_count": 14,
   "metadata": {},
   "outputs": [
    {
     "data": {
      "text/plain": [
       "['pclass',\n",
       " 'name',\n",
       " 'sex',\n",
       " 'age',\n",
       " 'sibsp',\n",
       " 'parch',\n",
       " 'ticket',\n",
       " 'fare',\n",
       " 'cabin',\n",
       " 'embarked',\n",
       " 'boat',\n",
       " 'body',\n",
       " 'home.dest']"
      ]
     },
     "execution_count": 14,
     "metadata": {},
     "output_type": "execute_result"
    }
   ],
   "source": [
    "# after fitting, we can find the categorical variables\n",
    "# using this attribute\n",
    "\n",
    "sel.variables_"
   ]
  },
  {
   "cell_type": "code",
   "execution_count": 15,
   "metadata": {
    "scrolled": true
   },
   "outputs": [
    {
     "data": {
      "text/plain": [
       "{'pclass': 0.6647955905218121,\n",
       " 'name': nan,\n",
       " 'sex': 0.7647734737037902,\n",
       " 'age': nan,\n",
       " 'sibsp': 0.5652547781529103,\n",
       " 'parch': 0.5624106995859147,\n",
       " 'ticket': nan,\n",
       " 'fare': 0.6401180861719492,\n",
       " 'cabin': nan,\n",
       " 'embarked': nan,\n",
       " 'boat': nan,\n",
       " 'body': nan,\n",
       " 'home.dest': nan}"
      ]
     },
     "execution_count": 15,
     "metadata": {},
     "output_type": "execute_result"
    }
   ],
   "source": [
    "# here the selector stores the roc-auc per feature\n",
    "\n",
    "sel.feature_performance_"
   ]
  },
  {
   "cell_type": "code",
   "execution_count": 16,
   "metadata": {},
   "outputs": [
    {
     "data": {
      "text/plain": [
       "['sibsp', 'parch']"
      ]
     },
     "execution_count": 16,
     "metadata": {},
     "output_type": "execute_result"
    }
   ],
   "source": [
    "# and these are the features that will be dropped\n",
    "\n",
    "sel.features_to_drop_"
   ]
  },
  {
   "cell_type": "code",
   "execution_count": 17,
   "metadata": {},
   "outputs": [
    {
     "data": {
      "text/plain": [
       "((916, 11), (393, 11))"
      ]
     },
     "execution_count": 17,
     "metadata": {},
     "output_type": "execute_result"
    }
   ],
   "source": [
    "X_train = sel.transform(X_train)\n",
    "X_test = sel.transform(X_test)\n",
    "\n",
    "X_train.shape, X_test.shape"
   ]
  },
  {
   "cell_type": "markdown",
   "metadata": {},
   "source": [
    "That is all for this lecture, I hope you enjoyed it and see you in the next one!"
   ]
  }
 ],
 "metadata": {
  "kernelspec": {
   "display_name": "Python 3 (ipykernel)",
   "language": "python",
   "name": "python3"
  },
  "language_info": {
   "codemirror_mode": {
    "name": "ipython",
    "version": 3
   },
   "file_extension": ".py",
   "mimetype": "text/x-python",
   "name": "python",
   "nbconvert_exporter": "python",
   "pygments_lexer": "ipython3",
   "version": "3.9.13"
  },
  "toc": {
   "base_numbering": 1,
   "nav_menu": {},
   "number_sections": true,
   "sideBar": true,
   "skip_h1_title": false,
   "title_cell": "Table of Contents",
   "title_sidebar": "Contents",
   "toc_cell": false,
   "toc_position": {},
   "toc_section_display": "block",
   "toc_window_display": true
  }
 },
 "nbformat": 4,
 "nbformat_minor": 2
}
