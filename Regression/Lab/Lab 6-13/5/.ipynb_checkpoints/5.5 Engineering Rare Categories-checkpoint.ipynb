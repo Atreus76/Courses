{
 "cells": [
  {
   "cell_type": "markdown",
   "metadata": {
    "id": "VCVaaEWC23MK"
   },
   "source": [
    "## Thiết kế các hạng mục hiếm\n",
    "\n",
    "Giá trị hiếm là các hạng mục trong một biến hạng mục chỉ xuất hiện trong tỷ lệ nhỏ các quan sát. Không có quy tắc chung nào để xác định thế nào là tỷ lệ phần trăm nhỏ, nhưng thông thường, bất kỳ giá trị nào dưới 5% đều có thể coi là hiếm.\n",
    "\n",
    "\n",
    "Như chúng ta đã thảo luận trong phần 3 của khóa học, các nhãn không thường xuất hiện rất ít, do đó rất khó để lấy được thông tin đáng tin cậy từ chúng. Nhưng quan trọng hơn, các nhãn không thường xuất hiện có xu hướng chỉ xuất hiện trên tập huấn luyện hoặc chỉ trên tập kiểm tra:\n",
    "\n",
    "\n",
    "- Nếu chỉ trên tập huấn luyện, chúng có thể gây ra overfitting.\n",
    "- Nếu chỉ trên tập kiểm tra, mô hình học máy sẽ không biết cách cho tính chúng\n",
    "\n",
    "Do đó, để tránh cách xử lý này, chúng ta có xu hướng nhóm chúng vào một hạng mục mới là 'Rare' hoặc 'Other'.\n",
    "\n",
    "\n",
    "Các nhãn hiếm có thể xuất hiện trong các biến có độ cardinal thấp hoặc cao. Không có quy tắc chung nào để xác định bao nhiêu nhãn khác nhau thì được coi là cardinality cao. Nó cũng phụ thuộc vào số lượng quan sát có trong tập dữ liệu. 100 nhãn trong tập dữ liệu với 1,000 quan sát có vẻ nhiều nhưng trong tập dữ liệu với 100,000 quan sát thì nó lại không cao.\n",
    "\n",
    "Các biến có độ cardinal cao thường có nhiều hạng mục không thường xuất hiện hoặc hiếm, trong khi các biến có độ cardinal thấp chỉ có thể có 1 hoặc 2 nhãn hiếm.\n",
    "\n",
    "### Lưu ý:\n",
    "\n",
    "**Lưu ý rằng việc nhóm các nhãn hoặc hạng mục không thường xuất hiện vào một hạng mục mới là 'Rare' hoặc 'Other' là phương pháp phổ biến trong học máy dành cho doanh nghiệp.**\n",
    "\n",
    "- Việc nhóm các hạng mục vào 'Rare' với các biến hiển thị cardinalty thấp có thể hoặc không thể cải thiện chất lượng mô hình; tuy nhiên, chúng ta thường nhóm lại chúng thành một hạng mục mới để triển khai mô hình trơn tru.\n",
    "\n",
    "- Việc nhóm các hạng mục vào 'Rare' với các biến có cardinalty cao cũng có xu hướng cải thiện chất lượng của mô hình.\n",
    "\n",
    "\n",
    "## Trong bản mô phỏng này:\n",
    "\n",
    "Chúng ta sẽ tìm hiểu cách nhóm lại các nhãn hiếm trong một hạng mục mới là rare và so sánh ý nghĩa của mã hóa này trong các biến với:\n",
    "\n",
    "\n",
    "- Một hạng mục nổi bật\n",
    "- Ít hạng mục\n",
    "- Cardinality cao\n",
    "\n",
    "Chúng ta sẽ sử dụng tập dữ liệu giá nhà, nhóm lại các biến sử dụng pandas và feature-engine."
   ]
  },
  {
   "cell_type": "code",
   "execution_count": 1,
   "metadata": {
    "id": "fxFewmvd23ML"
   },
   "outputs": [],
   "source": [
    "import pandas as pd\n",
    "import numpy as np\n",
    "\n",
    "import matplotlib.pyplot as plt\n",
    "\n",
    "# chia tập dữ liệu\n",
    "from sklearn.model_selection import train_test_split\n",
    "\n",
    "pd.set_option('display.max_columns', None) # hiển thị tổng số cột có trong tập dữ liệu"
   ]
  },
  {
   "cell_type": "markdown",
   "metadata": {
    "id": "L0banCyS23MM"
   },
   "source": [
    "## Tập dữ liệu giá nhà"
   ]
  },
  {
   "cell_type": "code",
   "execution_count": 2,
   "metadata": {
    "id": "KuOjgLos23MM",
    "outputId": "482f6d54-23c7-4e53-d171-48d4dbc3b47e"
   },
   "outputs": [
    {
     "data": {
      "text/html": [
       "<div>\n",
       "<style scoped>\n",
       "    .dataframe tbody tr th:only-of-type {\n",
       "        vertical-align: middle;\n",
       "    }\n",
       "\n",
       "    .dataframe tbody tr th {\n",
       "        vertical-align: top;\n",
       "    }\n",
       "\n",
       "    .dataframe thead th {\n",
       "        text-align: right;\n",
       "    }\n",
       "</style>\n",
       "<table border=\"1\" class=\"dataframe\">\n",
       "  <thead>\n",
       "    <tr style=\"text-align: right;\">\n",
       "      <th></th>\n",
       "      <th>Id</th>\n",
       "      <th>MSSubClass</th>\n",
       "      <th>MSZoning</th>\n",
       "      <th>LotFrontage</th>\n",
       "      <th>LotArea</th>\n",
       "      <th>Street</th>\n",
       "      <th>Alley</th>\n",
       "      <th>LotShape</th>\n",
       "      <th>LandContour</th>\n",
       "      <th>Utilities</th>\n",
       "      <th>LotConfig</th>\n",
       "      <th>LandSlope</th>\n",
       "      <th>Neighborhood</th>\n",
       "      <th>Condition1</th>\n",
       "      <th>Condition2</th>\n",
       "      <th>BldgType</th>\n",
       "      <th>HouseStyle</th>\n",
       "      <th>OverallQual</th>\n",
       "      <th>OverallCond</th>\n",
       "      <th>YearBuilt</th>\n",
       "      <th>YearRemodAdd</th>\n",
       "      <th>RoofStyle</th>\n",
       "      <th>RoofMatl</th>\n",
       "      <th>Exterior1st</th>\n",
       "      <th>Exterior2nd</th>\n",
       "      <th>MasVnrType</th>\n",
       "      <th>MasVnrArea</th>\n",
       "      <th>ExterQual</th>\n",
       "      <th>ExterCond</th>\n",
       "      <th>Foundation</th>\n",
       "      <th>BsmtQual</th>\n",
       "      <th>BsmtCond</th>\n",
       "      <th>BsmtExposure</th>\n",
       "      <th>BsmtFinType1</th>\n",
       "      <th>BsmtFinSF1</th>\n",
       "      <th>BsmtFinType2</th>\n",
       "      <th>BsmtFinSF2</th>\n",
       "      <th>BsmtUnfSF</th>\n",
       "      <th>TotalBsmtSF</th>\n",
       "      <th>Heating</th>\n",
       "      <th>HeatingQC</th>\n",
       "      <th>CentralAir</th>\n",
       "      <th>Electrical</th>\n",
       "      <th>1stFlrSF</th>\n",
       "      <th>2ndFlrSF</th>\n",
       "      <th>LowQualFinSF</th>\n",
       "      <th>GrLivArea</th>\n",
       "      <th>BsmtFullBath</th>\n",
       "      <th>BsmtHalfBath</th>\n",
       "      <th>FullBath</th>\n",
       "      <th>HalfBath</th>\n",
       "      <th>BedroomAbvGr</th>\n",
       "      <th>KitchenAbvGr</th>\n",
       "      <th>KitchenQual</th>\n",
       "      <th>TotRmsAbvGrd</th>\n",
       "      <th>Functional</th>\n",
       "      <th>Fireplaces</th>\n",
       "      <th>FireplaceQu</th>\n",
       "      <th>GarageType</th>\n",
       "      <th>GarageYrBlt</th>\n",
       "      <th>GarageFinish</th>\n",
       "      <th>GarageCars</th>\n",
       "      <th>GarageArea</th>\n",
       "      <th>GarageQual</th>\n",
       "      <th>GarageCond</th>\n",
       "      <th>PavedDrive</th>\n",
       "      <th>WoodDeckSF</th>\n",
       "      <th>OpenPorchSF</th>\n",
       "      <th>EnclosedPorch</th>\n",
       "      <th>3SsnPorch</th>\n",
       "      <th>ScreenPorch</th>\n",
       "      <th>PoolArea</th>\n",
       "      <th>PoolQC</th>\n",
       "      <th>Fence</th>\n",
       "      <th>MiscFeature</th>\n",
       "      <th>MiscVal</th>\n",
       "      <th>MoSold</th>\n",
       "      <th>YrSold</th>\n",
       "      <th>SaleType</th>\n",
       "      <th>SaleCondition</th>\n",
       "      <th>SalePrice</th>\n",
       "    </tr>\n",
       "  </thead>\n",
       "  <tbody>\n",
       "    <tr>\n",
       "      <th>0</th>\n",
       "      <td>1</td>\n",
       "      <td>60</td>\n",
       "      <td>RL</td>\n",
       "      <td>65.0</td>\n",
       "      <td>8450</td>\n",
       "      <td>Pave</td>\n",
       "      <td>NaN</td>\n",
       "      <td>Reg</td>\n",
       "      <td>Lvl</td>\n",
       "      <td>AllPub</td>\n",
       "      <td>Inside</td>\n",
       "      <td>Gtl</td>\n",
       "      <td>CollgCr</td>\n",
       "      <td>Norm</td>\n",
       "      <td>Norm</td>\n",
       "      <td>1Fam</td>\n",
       "      <td>2Story</td>\n",
       "      <td>7</td>\n",
       "      <td>5</td>\n",
       "      <td>2003</td>\n",
       "      <td>2003</td>\n",
       "      <td>Gable</td>\n",
       "      <td>CompShg</td>\n",
       "      <td>VinylSd</td>\n",
       "      <td>VinylSd</td>\n",
       "      <td>BrkFace</td>\n",
       "      <td>196.0</td>\n",
       "      <td>Gd</td>\n",
       "      <td>TA</td>\n",
       "      <td>PConc</td>\n",
       "      <td>Gd</td>\n",
       "      <td>TA</td>\n",
       "      <td>No</td>\n",
       "      <td>GLQ</td>\n",
       "      <td>706</td>\n",
       "      <td>Unf</td>\n",
       "      <td>0</td>\n",
       "      <td>150</td>\n",
       "      <td>856</td>\n",
       "      <td>GasA</td>\n",
       "      <td>Ex</td>\n",
       "      <td>Y</td>\n",
       "      <td>SBrkr</td>\n",
       "      <td>856</td>\n",
       "      <td>854</td>\n",
       "      <td>0</td>\n",
       "      <td>1710</td>\n",
       "      <td>1</td>\n",
       "      <td>0</td>\n",
       "      <td>2</td>\n",
       "      <td>1</td>\n",
       "      <td>3</td>\n",
       "      <td>1</td>\n",
       "      <td>Gd</td>\n",
       "      <td>8</td>\n",
       "      <td>Typ</td>\n",
       "      <td>0</td>\n",
       "      <td>NaN</td>\n",
       "      <td>Attchd</td>\n",
       "      <td>2003.0</td>\n",
       "      <td>RFn</td>\n",
       "      <td>2</td>\n",
       "      <td>548</td>\n",
       "      <td>TA</td>\n",
       "      <td>TA</td>\n",
       "      <td>Y</td>\n",
       "      <td>0</td>\n",
       "      <td>61</td>\n",
       "      <td>0</td>\n",
       "      <td>0</td>\n",
       "      <td>0</td>\n",
       "      <td>0</td>\n",
       "      <td>NaN</td>\n",
       "      <td>NaN</td>\n",
       "      <td>NaN</td>\n",
       "      <td>0</td>\n",
       "      <td>2</td>\n",
       "      <td>2008</td>\n",
       "      <td>WD</td>\n",
       "      <td>Normal</td>\n",
       "      <td>208500</td>\n",
       "    </tr>\n",
       "    <tr>\n",
       "      <th>1</th>\n",
       "      <td>2</td>\n",
       "      <td>20</td>\n",
       "      <td>RL</td>\n",
       "      <td>80.0</td>\n",
       "      <td>9600</td>\n",
       "      <td>Pave</td>\n",
       "      <td>NaN</td>\n",
       "      <td>Reg</td>\n",
       "      <td>Lvl</td>\n",
       "      <td>AllPub</td>\n",
       "      <td>FR2</td>\n",
       "      <td>Gtl</td>\n",
       "      <td>Veenker</td>\n",
       "      <td>Feedr</td>\n",
       "      <td>Norm</td>\n",
       "      <td>1Fam</td>\n",
       "      <td>1Story</td>\n",
       "      <td>6</td>\n",
       "      <td>8</td>\n",
       "      <td>1976</td>\n",
       "      <td>1976</td>\n",
       "      <td>Gable</td>\n",
       "      <td>CompShg</td>\n",
       "      <td>MetalSd</td>\n",
       "      <td>MetalSd</td>\n",
       "      <td>None</td>\n",
       "      <td>0.0</td>\n",
       "      <td>TA</td>\n",
       "      <td>TA</td>\n",
       "      <td>CBlock</td>\n",
       "      <td>Gd</td>\n",
       "      <td>TA</td>\n",
       "      <td>Gd</td>\n",
       "      <td>ALQ</td>\n",
       "      <td>978</td>\n",
       "      <td>Unf</td>\n",
       "      <td>0</td>\n",
       "      <td>284</td>\n",
       "      <td>1262</td>\n",
       "      <td>GasA</td>\n",
       "      <td>Ex</td>\n",
       "      <td>Y</td>\n",
       "      <td>SBrkr</td>\n",
       "      <td>1262</td>\n",
       "      <td>0</td>\n",
       "      <td>0</td>\n",
       "      <td>1262</td>\n",
       "      <td>0</td>\n",
       "      <td>1</td>\n",
       "      <td>2</td>\n",
       "      <td>0</td>\n",
       "      <td>3</td>\n",
       "      <td>1</td>\n",
       "      <td>TA</td>\n",
       "      <td>6</td>\n",
       "      <td>Typ</td>\n",
       "      <td>1</td>\n",
       "      <td>TA</td>\n",
       "      <td>Attchd</td>\n",
       "      <td>1976.0</td>\n",
       "      <td>RFn</td>\n",
       "      <td>2</td>\n",
       "      <td>460</td>\n",
       "      <td>TA</td>\n",
       "      <td>TA</td>\n",
       "      <td>Y</td>\n",
       "      <td>298</td>\n",
       "      <td>0</td>\n",
       "      <td>0</td>\n",
       "      <td>0</td>\n",
       "      <td>0</td>\n",
       "      <td>0</td>\n",
       "      <td>NaN</td>\n",
       "      <td>NaN</td>\n",
       "      <td>NaN</td>\n",
       "      <td>0</td>\n",
       "      <td>5</td>\n",
       "      <td>2007</td>\n",
       "      <td>WD</td>\n",
       "      <td>Normal</td>\n",
       "      <td>181500</td>\n",
       "    </tr>\n",
       "    <tr>\n",
       "      <th>2</th>\n",
       "      <td>3</td>\n",
       "      <td>60</td>\n",
       "      <td>RL</td>\n",
       "      <td>68.0</td>\n",
       "      <td>11250</td>\n",
       "      <td>Pave</td>\n",
       "      <td>NaN</td>\n",
       "      <td>IR1</td>\n",
       "      <td>Lvl</td>\n",
       "      <td>AllPub</td>\n",
       "      <td>Inside</td>\n",
       "      <td>Gtl</td>\n",
       "      <td>CollgCr</td>\n",
       "      <td>Norm</td>\n",
       "      <td>Norm</td>\n",
       "      <td>1Fam</td>\n",
       "      <td>2Story</td>\n",
       "      <td>7</td>\n",
       "      <td>5</td>\n",
       "      <td>2001</td>\n",
       "      <td>2002</td>\n",
       "      <td>Gable</td>\n",
       "      <td>CompShg</td>\n",
       "      <td>VinylSd</td>\n",
       "      <td>VinylSd</td>\n",
       "      <td>BrkFace</td>\n",
       "      <td>162.0</td>\n",
       "      <td>Gd</td>\n",
       "      <td>TA</td>\n",
       "      <td>PConc</td>\n",
       "      <td>Gd</td>\n",
       "      <td>TA</td>\n",
       "      <td>Mn</td>\n",
       "      <td>GLQ</td>\n",
       "      <td>486</td>\n",
       "      <td>Unf</td>\n",
       "      <td>0</td>\n",
       "      <td>434</td>\n",
       "      <td>920</td>\n",
       "      <td>GasA</td>\n",
       "      <td>Ex</td>\n",
       "      <td>Y</td>\n",
       "      <td>SBrkr</td>\n",
       "      <td>920</td>\n",
       "      <td>866</td>\n",
       "      <td>0</td>\n",
       "      <td>1786</td>\n",
       "      <td>1</td>\n",
       "      <td>0</td>\n",
       "      <td>2</td>\n",
       "      <td>1</td>\n",
       "      <td>3</td>\n",
       "      <td>1</td>\n",
       "      <td>Gd</td>\n",
       "      <td>6</td>\n",
       "      <td>Typ</td>\n",
       "      <td>1</td>\n",
       "      <td>TA</td>\n",
       "      <td>Attchd</td>\n",
       "      <td>2001.0</td>\n",
       "      <td>RFn</td>\n",
       "      <td>2</td>\n",
       "      <td>608</td>\n",
       "      <td>TA</td>\n",
       "      <td>TA</td>\n",
       "      <td>Y</td>\n",
       "      <td>0</td>\n",
       "      <td>42</td>\n",
       "      <td>0</td>\n",
       "      <td>0</td>\n",
       "      <td>0</td>\n",
       "      <td>0</td>\n",
       "      <td>NaN</td>\n",
       "      <td>NaN</td>\n",
       "      <td>NaN</td>\n",
       "      <td>0</td>\n",
       "      <td>9</td>\n",
       "      <td>2008</td>\n",
       "      <td>WD</td>\n",
       "      <td>Normal</td>\n",
       "      <td>223500</td>\n",
       "    </tr>\n",
       "    <tr>\n",
       "      <th>3</th>\n",
       "      <td>4</td>\n",
       "      <td>70</td>\n",
       "      <td>RL</td>\n",
       "      <td>60.0</td>\n",
       "      <td>9550</td>\n",
       "      <td>Pave</td>\n",
       "      <td>NaN</td>\n",
       "      <td>IR1</td>\n",
       "      <td>Lvl</td>\n",
       "      <td>AllPub</td>\n",
       "      <td>Corner</td>\n",
       "      <td>Gtl</td>\n",
       "      <td>Crawfor</td>\n",
       "      <td>Norm</td>\n",
       "      <td>Norm</td>\n",
       "      <td>1Fam</td>\n",
       "      <td>2Story</td>\n",
       "      <td>7</td>\n",
       "      <td>5</td>\n",
       "      <td>1915</td>\n",
       "      <td>1970</td>\n",
       "      <td>Gable</td>\n",
       "      <td>CompShg</td>\n",
       "      <td>Wd Sdng</td>\n",
       "      <td>Wd Shng</td>\n",
       "      <td>None</td>\n",
       "      <td>0.0</td>\n",
       "      <td>TA</td>\n",
       "      <td>TA</td>\n",
       "      <td>BrkTil</td>\n",
       "      <td>TA</td>\n",
       "      <td>Gd</td>\n",
       "      <td>No</td>\n",
       "      <td>ALQ</td>\n",
       "      <td>216</td>\n",
       "      <td>Unf</td>\n",
       "      <td>0</td>\n",
       "      <td>540</td>\n",
       "      <td>756</td>\n",
       "      <td>GasA</td>\n",
       "      <td>Gd</td>\n",
       "      <td>Y</td>\n",
       "      <td>SBrkr</td>\n",
       "      <td>961</td>\n",
       "      <td>756</td>\n",
       "      <td>0</td>\n",
       "      <td>1717</td>\n",
       "      <td>1</td>\n",
       "      <td>0</td>\n",
       "      <td>1</td>\n",
       "      <td>0</td>\n",
       "      <td>3</td>\n",
       "      <td>1</td>\n",
       "      <td>Gd</td>\n",
       "      <td>7</td>\n",
       "      <td>Typ</td>\n",
       "      <td>1</td>\n",
       "      <td>Gd</td>\n",
       "      <td>Detchd</td>\n",
       "      <td>1998.0</td>\n",
       "      <td>Unf</td>\n",
       "      <td>3</td>\n",
       "      <td>642</td>\n",
       "      <td>TA</td>\n",
       "      <td>TA</td>\n",
       "      <td>Y</td>\n",
       "      <td>0</td>\n",
       "      <td>35</td>\n",
       "      <td>272</td>\n",
       "      <td>0</td>\n",
       "      <td>0</td>\n",
       "      <td>0</td>\n",
       "      <td>NaN</td>\n",
       "      <td>NaN</td>\n",
       "      <td>NaN</td>\n",
       "      <td>0</td>\n",
       "      <td>2</td>\n",
       "      <td>2006</td>\n",
       "      <td>WD</td>\n",
       "      <td>Abnorml</td>\n",
       "      <td>140000</td>\n",
       "    </tr>\n",
       "    <tr>\n",
       "      <th>4</th>\n",
       "      <td>5</td>\n",
       "      <td>60</td>\n",
       "      <td>RL</td>\n",
       "      <td>84.0</td>\n",
       "      <td>14260</td>\n",
       "      <td>Pave</td>\n",
       "      <td>NaN</td>\n",
       "      <td>IR1</td>\n",
       "      <td>Lvl</td>\n",
       "      <td>AllPub</td>\n",
       "      <td>FR2</td>\n",
       "      <td>Gtl</td>\n",
       "      <td>NoRidge</td>\n",
       "      <td>Norm</td>\n",
       "      <td>Norm</td>\n",
       "      <td>1Fam</td>\n",
       "      <td>2Story</td>\n",
       "      <td>8</td>\n",
       "      <td>5</td>\n",
       "      <td>2000</td>\n",
       "      <td>2000</td>\n",
       "      <td>Gable</td>\n",
       "      <td>CompShg</td>\n",
       "      <td>VinylSd</td>\n",
       "      <td>VinylSd</td>\n",
       "      <td>BrkFace</td>\n",
       "      <td>350.0</td>\n",
       "      <td>Gd</td>\n",
       "      <td>TA</td>\n",
       "      <td>PConc</td>\n",
       "      <td>Gd</td>\n",
       "      <td>TA</td>\n",
       "      <td>Av</td>\n",
       "      <td>GLQ</td>\n",
       "      <td>655</td>\n",
       "      <td>Unf</td>\n",
       "      <td>0</td>\n",
       "      <td>490</td>\n",
       "      <td>1145</td>\n",
       "      <td>GasA</td>\n",
       "      <td>Ex</td>\n",
       "      <td>Y</td>\n",
       "      <td>SBrkr</td>\n",
       "      <td>1145</td>\n",
       "      <td>1053</td>\n",
       "      <td>0</td>\n",
       "      <td>2198</td>\n",
       "      <td>1</td>\n",
       "      <td>0</td>\n",
       "      <td>2</td>\n",
       "      <td>1</td>\n",
       "      <td>4</td>\n",
       "      <td>1</td>\n",
       "      <td>Gd</td>\n",
       "      <td>9</td>\n",
       "      <td>Typ</td>\n",
       "      <td>1</td>\n",
       "      <td>TA</td>\n",
       "      <td>Attchd</td>\n",
       "      <td>2000.0</td>\n",
       "      <td>RFn</td>\n",
       "      <td>3</td>\n",
       "      <td>836</td>\n",
       "      <td>TA</td>\n",
       "      <td>TA</td>\n",
       "      <td>Y</td>\n",
       "      <td>192</td>\n",
       "      <td>84</td>\n",
       "      <td>0</td>\n",
       "      <td>0</td>\n",
       "      <td>0</td>\n",
       "      <td>0</td>\n",
       "      <td>NaN</td>\n",
       "      <td>NaN</td>\n",
       "      <td>NaN</td>\n",
       "      <td>0</td>\n",
       "      <td>12</td>\n",
       "      <td>2008</td>\n",
       "      <td>WD</td>\n",
       "      <td>Normal</td>\n",
       "      <td>250000</td>\n",
       "    </tr>\n",
       "  </tbody>\n",
       "</table>\n",
       "</div>"
      ],
      "text/plain": [
       "   Id  MSSubClass MSZoning  LotFrontage  LotArea Street Alley LotShape  \\\n",
       "0   1          60       RL         65.0     8450   Pave   NaN      Reg   \n",
       "1   2          20       RL         80.0     9600   Pave   NaN      Reg   \n",
       "2   3          60       RL         68.0    11250   Pave   NaN      IR1   \n",
       "3   4          70       RL         60.0     9550   Pave   NaN      IR1   \n",
       "4   5          60       RL         84.0    14260   Pave   NaN      IR1   \n",
       "\n",
       "  LandContour Utilities LotConfig LandSlope Neighborhood Condition1  \\\n",
       "0         Lvl    AllPub    Inside       Gtl      CollgCr       Norm   \n",
       "1         Lvl    AllPub       FR2       Gtl      Veenker      Feedr   \n",
       "2         Lvl    AllPub    Inside       Gtl      CollgCr       Norm   \n",
       "3         Lvl    AllPub    Corner       Gtl      Crawfor       Norm   \n",
       "4         Lvl    AllPub       FR2       Gtl      NoRidge       Norm   \n",
       "\n",
       "  Condition2 BldgType HouseStyle  OverallQual  OverallCond  YearBuilt  \\\n",
       "0       Norm     1Fam     2Story            7            5       2003   \n",
       "1       Norm     1Fam     1Story            6            8       1976   \n",
       "2       Norm     1Fam     2Story            7            5       2001   \n",
       "3       Norm     1Fam     2Story            7            5       1915   \n",
       "4       Norm     1Fam     2Story            8            5       2000   \n",
       "\n",
       "   YearRemodAdd RoofStyle RoofMatl Exterior1st Exterior2nd MasVnrType  \\\n",
       "0          2003     Gable  CompShg     VinylSd     VinylSd    BrkFace   \n",
       "1          1976     Gable  CompShg     MetalSd     MetalSd       None   \n",
       "2          2002     Gable  CompShg     VinylSd     VinylSd    BrkFace   \n",
       "3          1970     Gable  CompShg     Wd Sdng     Wd Shng       None   \n",
       "4          2000     Gable  CompShg     VinylSd     VinylSd    BrkFace   \n",
       "\n",
       "   MasVnrArea ExterQual ExterCond Foundation BsmtQual BsmtCond BsmtExposure  \\\n",
       "0       196.0        Gd        TA      PConc       Gd       TA           No   \n",
       "1         0.0        TA        TA     CBlock       Gd       TA           Gd   \n",
       "2       162.0        Gd        TA      PConc       Gd       TA           Mn   \n",
       "3         0.0        TA        TA     BrkTil       TA       Gd           No   \n",
       "4       350.0        Gd        TA      PConc       Gd       TA           Av   \n",
       "\n",
       "  BsmtFinType1  BsmtFinSF1 BsmtFinType2  BsmtFinSF2  BsmtUnfSF  TotalBsmtSF  \\\n",
       "0          GLQ         706          Unf           0        150          856   \n",
       "1          ALQ         978          Unf           0        284         1262   \n",
       "2          GLQ         486          Unf           0        434          920   \n",
       "3          ALQ         216          Unf           0        540          756   \n",
       "4          GLQ         655          Unf           0        490         1145   \n",
       "\n",
       "  Heating HeatingQC CentralAir Electrical  1stFlrSF  2ndFlrSF  LowQualFinSF  \\\n",
       "0    GasA        Ex          Y      SBrkr       856       854             0   \n",
       "1    GasA        Ex          Y      SBrkr      1262         0             0   \n",
       "2    GasA        Ex          Y      SBrkr       920       866             0   \n",
       "3    GasA        Gd          Y      SBrkr       961       756             0   \n",
       "4    GasA        Ex          Y      SBrkr      1145      1053             0   \n",
       "\n",
       "   GrLivArea  BsmtFullBath  BsmtHalfBath  FullBath  HalfBath  BedroomAbvGr  \\\n",
       "0       1710             1             0         2         1             3   \n",
       "1       1262             0             1         2         0             3   \n",
       "2       1786             1             0         2         1             3   \n",
       "3       1717             1             0         1         0             3   \n",
       "4       2198             1             0         2         1             4   \n",
       "\n",
       "   KitchenAbvGr KitchenQual  TotRmsAbvGrd Functional  Fireplaces FireplaceQu  \\\n",
       "0             1          Gd             8        Typ           0         NaN   \n",
       "1             1          TA             6        Typ           1          TA   \n",
       "2             1          Gd             6        Typ           1          TA   \n",
       "3             1          Gd             7        Typ           1          Gd   \n",
       "4             1          Gd             9        Typ           1          TA   \n",
       "\n",
       "  GarageType  GarageYrBlt GarageFinish  GarageCars  GarageArea GarageQual  \\\n",
       "0     Attchd       2003.0          RFn           2         548         TA   \n",
       "1     Attchd       1976.0          RFn           2         460         TA   \n",
       "2     Attchd       2001.0          RFn           2         608         TA   \n",
       "3     Detchd       1998.0          Unf           3         642         TA   \n",
       "4     Attchd       2000.0          RFn           3         836         TA   \n",
       "\n",
       "  GarageCond PavedDrive  WoodDeckSF  OpenPorchSF  EnclosedPorch  3SsnPorch  \\\n",
       "0         TA          Y           0           61              0          0   \n",
       "1         TA          Y         298            0              0          0   \n",
       "2         TA          Y           0           42              0          0   \n",
       "3         TA          Y           0           35            272          0   \n",
       "4         TA          Y         192           84              0          0   \n",
       "\n",
       "   ScreenPorch  PoolArea PoolQC Fence MiscFeature  MiscVal  MoSold  YrSold  \\\n",
       "0            0         0    NaN   NaN         NaN        0       2    2008   \n",
       "1            0         0    NaN   NaN         NaN        0       5    2007   \n",
       "2            0         0    NaN   NaN         NaN        0       9    2008   \n",
       "3            0         0    NaN   NaN         NaN        0       2    2006   \n",
       "4            0         0    NaN   NaN         NaN        0      12    2008   \n",
       "\n",
       "  SaleType SaleCondition  SalePrice  \n",
       "0       WD        Normal     208500  \n",
       "1       WD        Normal     181500  \n",
       "2       WD        Normal     223500  \n",
       "3       WD       Abnorml     140000  \n",
       "4       WD        Normal     250000  "
      ]
     },
     "execution_count": 2,
     "metadata": {},
     "output_type": "execute_result"
    }
   ],
   "source": [
    "# lload tập dữ liệu giá nhà\n",
    "\n",
    "data = pd.read_csv('../house-price/houseprice.csv')\n",
    "data.head()"
   ]
  },
  {
   "cell_type": "markdown",
   "metadata": {
    "id": "BWPoyiBy23MN"
   },
   "source": [
    "### Quan trọng\n",
    "\n",
    "Việc xác định các nhãn hiếm chỉ nên được thực hiện bằng cách sử dụng tập huấn luyện, sau đó truyền sang tập kiểm tra. Chỉ nên xác định nhãn hiếm trong tập huấn luyện. Trên thực tế, chúng ta sẽ xác định **các nhãn không hiếm**, sau đó bất kỳ nhãn nào khác trong dữ liệu huấn luyện, kiểm tra hoặc dữ liệu trực tiếp trong tương lai không có trong danh sách **nhãn không hiếm** đó sẽ được nhóm thành hạng mục mới.\n",
    "\n",
    "Ví dụ, giả sử chúng ta có biến 'city' với các nhãn 'London', 'Manchester' và 'Yorkshire' trong tập huấn luyện. 'Yorkshire' có mặt ít hơn 5% số lượng quan sát được, vì vậy chúng ta quyết định nhóm nó vào một hạng mục mới là 'Rare'.\n",
    "\n",
    "Trong tập kiểm tra, chúng ta cũng nên thay thế 'Yorkshire' bằng 'Rare', bất kể tỷ lệ phần trăm quan sát cho 'Yorkshire' là bao nhiêu. Ngoài ra, nếu chúng ta tìm thấy hạng mục 'Milton Keynes' trong tập kiểm tra mà không có trong tập huấn luyện thì chúng ta cũng nên thay thế hạng mục đó bằng 'Rare'. Nói cách khác, tất cả các hạng mục có trong tập kiểm tra, không có trong danh sách các hạng mục **không hiếm** bắt nguồn từ tập huấn luyện sẽ được coi là giá trị hiếm và được nhóm lại thành 'Rare'. "
   ]
  },
  {
   "cell_type": "code",
   "execution_count": 3,
   "metadata": {
    "id": "6AY5xv3x23MN",
    "outputId": "bfd97cca-2630-4e07-c858-7eed8f60ded4"
   },
   "outputs": [
    {
     "data": {
      "text/plain": [
       "((1022, 80), (438, 80))"
      ]
     },
     "execution_count": 3,
     "metadata": {},
     "output_type": "execute_result"
    }
   ],
   "source": [
    "# let's divide into train and test set chia thành tập huấn luyện và tập kiểm tra\n",
    "\n",
    "X_train, X_test, y_train, y_test = train_test_split(\n",
    "    data.drop(labels=['SalePrice'], axis=1), # các yếu tố dự báo\n",
    "    data.SalePrice, # target\n",
    "    test_size=0.3,\n",
    "    random_state=0)\n",
    "\n",
    "X_train.shape, X_test.shape"
   ]
  },
  {
   "cell_type": "markdown",
   "metadata": {
    "id": "htGKQfa-23MN"
   },
   "source": [
    "## Các biến có một hạng mục nổi trội"
   ]
  },
  {
   "cell_type": "code",
   "execution_count": 4,
   "metadata": {
    "id": "tkgviaTm23MN",
    "outputId": "b828ff06-2e6a-40dc-9154-5706fe659e95"
   },
   "outputs": [
    {
     "name": "stdout",
     "output_type": "stream",
     "text": [
      "Street\n",
      "Grvl    0.004892\n",
      "Pave    0.995108\n",
      "Name: Street, dtype: float64\n",
      "\n",
      "Alley\n",
      "Grvl    0.029354\n",
      "Pave    0.031311\n",
      "Name: Alley, dtype: float64\n",
      "\n",
      "Utilities\n",
      "AllPub    0.999022\n",
      "NoSeWa    0.000978\n",
      "Name: Utilities, dtype: float64\n",
      "\n",
      "CentralAir\n",
      "N    0.068493\n",
      "Y    0.931507\n",
      "Name: CentralAir, dtype: float64\n",
      "\n",
      "PoolQC\n",
      "Ex    0.000978\n",
      "Gd    0.001957\n",
      "Name: PoolQC, dtype: float64\n",
      "\n"
     ]
    }
   ],
   "source": [
    "## Yêu cầu 1: khám phá các ví dụ mà biến chỉ có một vài hạng mục, giả sử nhỏ hơn 3\n",
    "\n",
    "for col in X_train.columns:\n",
    "    ## VIẾT CODE Ở ĐÂY:\n",
    "    if X_train[col].dtypes == 'O':  # liệu có phải là biến hạng mục\n",
    "        \n",
    "        if X_train[col].nunique() < 3:  # liệu biến có ít hơn 3 hạng mục không\n",
    "            \n",
    "            # in % các quan sát trên mỗi hạng mục\n",
    "            print(X_train.groupby(col)[col].count() / len(X_train))\n",
    "            print()"
   ]
  },
  {
   "cell_type": "markdown",
   "metadata": {
    "id": "g6OfxY5f23MO"
   },
   "source": [
    "### Kết luận\n",
    "\n",
    "3 biến ở trên: Street, Utilities và CentralAir cho thấy một danh mục nổi trội, chiếm hơn 93-99% các quan sát. Nhóm lại nhãn hiếm trong tình huống này không có ý nghĩa gì. Chúng ta có thể xác định xem các biến này có hữu ích hay không với phân tích khám phá hoặc bất kỳ thuật toán lựa chọn đặc trưng nào hoặc loại bỏ hoàn toàn các biến.\n",
    "\n",
    "## Các biến có ít hạng mục"
   ]
  },
  {
   "cell_type": "code",
   "execution_count": 5,
   "metadata": {
    "id": "f8i6gV1823MO",
    "outputId": "851add80-89b0-423b-bd2b-b00cc606efe6"
   },
   "outputs": [
    {
     "name": "stdout",
     "output_type": "stream",
     "text": [
      "MasVnrType\n",
      "BrkCmn     0.009785\n",
      "BrkFace    0.294521\n",
      "None       0.595890\n",
      "Stone      0.094912\n",
      "Name: MasVnrType, dtype: float64\n",
      "\n",
      "ExterQual\n",
      "Ex    0.029354\n",
      "Fa    0.011742\n",
      "Gd    0.332681\n",
      "TA    0.626223\n",
      "Name: ExterQual, dtype: float64\n",
      "\n",
      "BsmtCond\n",
      "Fa    0.032290\n",
      "Gd    0.045010\n",
      "Po    0.001957\n",
      "TA    0.897260\n",
      "Name: BsmtCond, dtype: float64\n",
      "\n"
     ]
    }
   ],
   "source": [
    "# các cột trong list dưới chỉ có 4 nhãn khác nhau\n",
    "\n",
    "cols = ['MasVnrType', 'ExterQual', 'BsmtCond']\n",
    "\n",
    "for col in cols:\n",
    "    \n",
    "    print(X_train.groupby(col)[col].count() / len(X_train)) # tần số\n",
    "    print()"
   ]
  },
  {
   "cell_type": "markdown",
   "metadata": {
    "id": "hFaWuiXU23MO"
   },
   "source": [
    "Các biến ở trên chỉ có 4 hạng mục, và trong cả ba trường hợp, có ít nhất một hạng mục là không thường xuất hiện, tức là có mặt trong ít hơn 5% các quan sát.\n",
    "\n",
    "Khi biến chỉ có một vài hạng mục thì việc phân loại lại các nhãn hiếm thành một thứ khác không có ý nghĩa.\n",
    "\n",
    "\n",
    "Ví dụ, biến MasVnrType đầu tiên chỉ hiển thị 1 nhãn hiếm: BrkCmn. Do đó, việc phân loại lại nó thành một nhãn mới sẽ khiến biến ở trong tình trạng tương tự.\n",
    "\n",
    "\n",
    "Biến thứ hai - ExterQual chứa 2 nhãn hiếm là Ex và Fa, chúng ta có thể nhóm 2 nhãn này thành một nhãn mới là 'Rare'.\n",
    "\n",
    "\n",
    "Biến thứ ba - BsmtCond chứa 3 nhãn hiếm là Fa, Gd và Po, vì vậy chúng ta có thể nhóm 3 nhãn này lại dưới nhãn mới 'Rare'. "
   ]
  },
  {
   "cell_type": "markdown",
   "metadata": {
    "id": "xE4OHSkd23MP"
   },
   "source": [
    "## Biến có cardinality cao"
   ]
  },
  {
   "cell_type": "code",
   "execution_count": 6,
   "metadata": {
    "id": "aWzrzBJf23MP",
    "outputId": "d61ee9c4-b75d-4900-d70e-2fa8dbda05a4",
    "scrolled": true
   },
   "outputs": [
    {
     "name": "stdout",
     "output_type": "stream",
     "text": [
      "Neighborhood\n",
      "Blmngtn    0.011742\n",
      "Blueste    0.001957\n",
      "BrDale     0.009785\n",
      "BrkSide    0.040117\n",
      "ClearCr    0.023483\n",
      "CollgCr    0.102740\n",
      "Crawfor    0.034247\n",
      "Edwards    0.069472\n",
      "Gilbert    0.053816\n",
      "IDOTRR     0.023483\n",
      "MeadowV    0.011742\n",
      "Mitchel    0.035225\n",
      "NAmes      0.147750\n",
      "NPkVill    0.006849\n",
      "NWAmes     0.049902\n",
      "NoRidge    0.029354\n",
      "NridgHt    0.049902\n",
      "OldTown    0.071429\n",
      "SWISU      0.017613\n",
      "Sawyer     0.059687\n",
      "SawyerW    0.044031\n",
      "Somerst    0.054795\n",
      "StoneBr    0.015656\n",
      "Timber     0.029354\n",
      "Veenker    0.005871\n",
      "Name: Neighborhood, dtype: float64\n",
      "\n",
      "Exterior1st\n",
      "AsbShng    0.014677\n",
      "AsphShn    0.000978\n",
      "BrkComm    0.000978\n",
      "BrkFace    0.034247\n",
      "CBlock     0.000978\n",
      "CemntBd    0.038160\n",
      "HdBoard    0.149706\n",
      "ImStucc    0.000978\n",
      "MetalSd    0.135029\n",
      "Plywood    0.084149\n",
      "Stone      0.001957\n",
      "Stucco     0.016634\n",
      "VinylSd    0.356164\n",
      "Wd Sdng    0.144814\n",
      "WdShing    0.020548\n",
      "Name: Exterior1st, dtype: float64\n",
      "\n",
      "Exterior2nd\n",
      "AsbShng    0.016634\n",
      "AsphShn    0.000978\n",
      "Brk Cmn    0.003914\n",
      "BrkFace    0.017613\n",
      "CBlock     0.000978\n",
      "CmentBd    0.038160\n",
      "HdBoard    0.137965\n",
      "ImStucc    0.007828\n",
      "MetalSd    0.133072\n",
      "Other      0.000978\n",
      "Plywood    0.109589\n",
      "Stone      0.003914\n",
      "Stucco     0.015656\n",
      "VinylSd    0.345401\n",
      "Wd Sdng    0.138943\n",
      "Wd Shng    0.028376\n",
      "Name: Exterior2nd, dtype: float64\n",
      "\n"
     ]
    }
   ],
   "source": [
    "## Yêu cầu 2\n",
    "\n",
    "# khám phá các ví dụ mà biến có một số hạng mục, chẳng hạn nhiều hơn 10\n",
    "\n",
    "multi_cat_cols = []\n",
    "\n",
    "for col in X_train.columns:\n",
    "    ## VIẾT CODE Ở ĐÂY:\n",
    "    if X_train[col].dtypes =='O': # nếu là biến hạng mục\n",
    "    \n",
    "        if X_train[col].nunique() > 10: #và có hơn 10 hạng mục\n",
    "            \n",
    "            multi_cat_cols.append(col)  # thêm vào list\n",
    "            \n",
    "            print(X_train.groupby(col)[col].count()/ len(X_train)) # và in ra % các quan sát trong từng hạng mục\n",
    "            \n",
    "            print()"
   ]
  },
  {
   "cell_type": "markdown",
   "metadata": {
    "id": "mCMy7ukpgX8g"
   },
   "source": [
    "<details><summary> Gợi ý </summary>\n",
    "\n",
    "[nunique()](https://pandas.pydata.org/docs/reference/api/pandas.DataFrame.nunique.html)\n",
    "\n",
    "</details>"
   ]
  },
  {
   "cell_type": "markdown",
   "metadata": {
    "id": "a7nXIV8G23MP"
   },
   "source": [
    "Chúng ta thấy nhiều hạng mục hiếm trong 3 biến hạng mục được in ở trên. Thực tế, chúng ta có thể vẽ biểu đồ của chúng bằng cách sử dụng code tương tự mà chúng ta đã học trong bài giảng về nhãn hiếm:"
   ]
  },
  {
   "cell_type": "code",
   "execution_count": 7,
   "metadata": {
    "id": "K8VzqOXf23MP",
    "outputId": "3240bdc9-3033-4f93-fa45-87bf5810ec5c"
   },
   "outputs": [
    {
     "data": {
      "image/png": "[encoded data removed]",
      "text/plain": [
       "<Figure size 640x480 with 1 Axes>"
      ]
     },
     "metadata": {},
     "output_type": "display_data"
    },
    {
     "data": {
      "image/png": "[encoded data removed]",
      "text/plain": [
       "<Figure size 640x480 with 1 Axes>"
      ]
     },
     "metadata": {},
     "output_type": "display_data"
    },
    {
     "data": {
      "image/png": "[encoded data removed]",
      "text/plain": [
       "<Figure size 640x480 with 1 Axes>"
      ]
     },
     "metadata": {},
     "output_type": "display_data"
    }
   ],
   "source": [
    "for col in ['Neighborhood', 'Exterior1st', 'Exterior2nd']:\n",
    "\n",
    "    temp_df = pd.Series(X_train[col].value_counts() / len(X_train) )\n",
    "\n",
    "    # vẽ biểu đồ với % têrn\n",
    "    fig = temp_df.sort_values(ascending=False).plot.bar()\n",
    "    fig.set_xlabel(col)\n",
    "\n",
    "    # và thêm một đường ở 5% để gắn cờ ngưỡng cho các hạng mục hiếm\n",
    "    fig.axhline(y=0.05, color='red')\n",
    "    fig.set_ylabel('Percentage of houses')\n",
    "    plt.show()"
   ]
  },
  {
   "cell_type": "markdown",
   "metadata": {
    "id": "DZ6AekuS23MQ"
   },
   "source": [
    "## Nhóm lại các nhãn hiếm với pandas"
   ]
  },
  {
   "cell_type": "code",
   "execution_count": 8,
   "metadata": {
    "id": "_VCq_jU023MQ"
   },
   "outputs": [],
   "source": [
    "## Yêu cầu 3\n",
    "def find_non_rare_labels(df, variable, tolerance):\n",
    "    ## VIẾT CODE Ở ĐÂY:\n",
    "    \n",
    "    temp = df.groupby([variable])[variable].count() / len(df)\n",
    "    \n",
    "    non_rare = [x for x in temp.loc[temp>tolerance].index.values]\n",
    "    \n",
    "    return non_rare"
   ]
  },
  {
   "cell_type": "code",
   "execution_count": 9,
   "metadata": {
    "id": "S4KsVXFl23MQ",
    "outputId": "3c106d35-9003-4c95-cfd2-391c7cb76f4f"
   },
   "outputs": [
    {
     "data": {
      "text/plain": [
       "['CollgCr', 'Edwards', 'Gilbert', 'NAmes', 'OldTown', 'Sawyer', 'Somerst']"
      ]
     },
     "execution_count": 9,
     "metadata": {},
     "output_type": "execute_result"
    }
   ],
   "source": [
    "## Yêu cầu 4\n",
    "# các nhãn không hiếm\n",
    "## VIẾT CODE Ở ĐÂY:\n",
    "find_non_rare_labels(X_train, 'Neighborhood', 0.05)"
   ]
  },
  {
   "cell_type": "code",
   "execution_count": 10,
   "metadata": {
    "id": "f746wvw023MQ",
    "outputId": "f89e7c86-487b-449a-dc47-63d2542fc224",
    "scrolled": true
   },
   "outputs": [
    {
     "data": {
      "text/plain": [
       "['ClearCr',\n",
       " 'BrkSide',\n",
       " 'SWISU',\n",
       " 'Crawfor',\n",
       " 'Mitchel',\n",
       " 'Timber',\n",
       " 'MeadowV',\n",
       " 'BrDale',\n",
       " 'NWAmes',\n",
       " 'NridgHt',\n",
       " 'SawyerW',\n",
       " 'NoRidge',\n",
       " 'IDOTRR',\n",
       " 'NPkVill',\n",
       " 'StoneBr',\n",
       " 'Blmngtn',\n",
       " 'Veenker',\n",
       " 'Blueste']"
      ]
     },
     "execution_count": 10,
     "metadata": {},
     "output_type": "execute_result"
    }
   ],
   "source": [
    "## Yêu cầu 5\n",
    "# các nhãn hiếm\n",
    "\n",
    "## VIẾT CODE Ở ĐÂY:\n",
    "[x for x in X_train['Neighborhood'].unique(\n",
    ") if x not in find_non_rare_labels(X_train, 'Neighborhood', 0.05)]"
   ]
  },
  {
   "cell_type": "code",
   "execution_count": 11,
   "metadata": {
    "id": "THmzJnIn23MQ"
   },
   "outputs": [],
   "source": [
    "## Yêu cầu 6\n",
    "def rare_encoding(X_train, X_test, variable, tolerance):\n",
    "    ## VIẾT CODE Ở ĐÂY:\n",
    "    X_train = X_train.copy()\n",
    "    X_test = X_test.copy()\n",
    "\n",
    "    # tìm hạng mục thường xuất hiện nhất\n",
    "    ## VIẾT CODE Ở ĐÂY:\n",
    "    frequent_cat = find_non_rare_labels(X_train, variable, tolerance)\n",
    "\n",
    "    # nhóm lại các nhãn hiếm\n",
    "    ## VIẾT CODE Ở ĐÂY:\n",
    "    X_train[variable] = np.where(X_train[variable].isin(\n",
    "        frequent_cat), X_train[variable], 'Rare')\n",
    "    \n",
    "    X_test[variable] = np.where(X_test[variable].isin(\n",
    "        frequent_cat), X_test[variable], 'Rare')\n",
    "\n",
    "    return X_train, X_test"
   ]
  },
  {
   "cell_type": "code",
   "execution_count": 12,
   "metadata": {
    "id": "30bBd1kv23MR"
   },
   "outputs": [],
   "source": [
    "## Yêu cầu 7\n",
    "for variable in ['Neighborhood', 'Exterior1st', 'Exterior2nd']:\n",
    "    ## VIẾT CODE Ở ĐÂY:\n",
    "    X_train, X_test = rare_encoding(X_train, X_test, variable, 0.05)"
   ]
  },
  {
   "cell_type": "code",
   "execution_count": 13,
   "metadata": {
    "id": "XbyIqmaQ23MR",
    "outputId": "2b4c4928-a6e7-4bbd-c1b2-1f9ee1dec479"
   },
   "outputs": [
    {
     "data": {
      "image/png": "[encoded data removed]",
      "text/plain": [
       "<Figure size 640x480 with 1 Axes>"
      ]
     },
     "metadata": {},
     "output_type": "display_data"
    },
    {
     "data": {
      "image/png": "[encoded data removed]",
      "text/plain": [
       "<Figure size 640x480 with 1 Axes>"
      ]
     },
     "metadata": {},
     "output_type": "display_data"
    },
    {
     "data": {
      "image/png": "[encoded data removed]",
      "text/plain": [
       "<Figure size 640x480 with 1 Axes>"
      ]
     },
     "metadata": {},
     "output_type": "display_data"
    }
   ],
   "source": [
    "for col in ['Neighborhood', 'Exterior1st', 'Exterior2nd']:\n",
    "\n",
    "    temp_df = pd.Series(X_train[col].value_counts() / len(X_train) )\n",
    "\n",
    "    # vẽ biểu đồ với % trên\n",
    "    fig = temp_df.sort_values(ascending=False).plot.bar()\n",
    "    fig.set_xlabel(col)\n",
    "\n",
    "    # và thêm một đường ở 5% để gắn cờ ngưỡng cho các hạng mục hiếm\n",
    "    fig.axhline(y=0.05, color='red')\n",
    "    fig.set_ylabel('Percentage of houses')\n",
    "    plt.show()"
   ]
  },
  {
   "cell_type": "markdown",
   "metadata": {
    "id": "J2aiB9xo23MR"
   },
   "source": [
    "Giờ hãy mã hóa các biến có độ cardinal thấp."
   ]
  },
  {
   "cell_type": "code",
   "execution_count": 14,
   "metadata": {
    "id": "O4ghtccA23MR"
   },
   "outputs": [],
   "source": [
    "## Yêu cầu 8\n",
    "for variable in ['MasVnrType', 'ExterQual', 'BsmtCond']:\n",
    "    ## VIẾT CODE Ở ĐÂY:\n",
    "    X_train, X_test = rare_encoding(X_train, X_test, variable, 0.05)"
   ]
  },
  {
   "cell_type": "code",
   "execution_count": 15,
   "metadata": {
    "id": "UN8GYk9Y23MR",
    "outputId": "6466e1d0-f9c3-4f3e-aa1e-c1d01fc86c63"
   },
   "outputs": [
    {
     "data": {
      "image/png": "[encoded data removed]",
      "text/plain": [
       "<Figure size 640x480 with 1 Axes>"
      ]
     },
     "metadata": {},
     "output_type": "display_data"
    },
    {
     "data": {
      "image/png": "[encoded data removed]",
      "text/plain": [
       "<Figure size 640x480 with 1 Axes>"
      ]
     },
     "metadata": {},
     "output_type": "display_data"
    },
    {
     "data": {
      "image/png": "[encoded data removed]",
      "text/plain": [
       "<Figure size 640x480 with 1 Axes>"
      ]
     },
     "metadata": {},
     "output_type": "display_data"
    }
   ],
   "source": [
    "for col in ['MasVnrType', 'ExterQual', 'BsmtCond']:\n",
    "\n",
    "    temp_df = pd.Series(X_train[col].value_counts() / len(X_train) )\n",
    "\n",
    "    # vẽ biểu đồ với % trên\n",
    "    fig = temp_df.sort_values(ascending=False).plot.bar()\n",
    "    fig.set_xlabel(col)\n",
    "\n",
    "    # và thêm một đường ở 5% để gắn cờ ngưỡng cho các hạng mục hiếm\n",
    "    fig.axhline(y=0.05, color='red')\n",
    "    fig.set_ylabel('Percentage of houses')\n",
    "    plt.show()"
   ]
  },
  {
   "cell_type": "markdown",
   "metadata": {
    "id": "9GxyWrLj23MS"
   },
   "source": [
    "## Mã hóa nhãn hiếm với Feature-Engine"
   ]
  },
  {
   "cell_type": "code",
   "execution_count": 16,
   "metadata": {
    "id": "ZrJRPw9R23MS"
   },
   "outputs": [],
   "source": [
    "from feature_engine.encoding import RareLabelEncoder"
   ]
  },
  {
   "cell_type": "code",
   "execution_count": 17,
   "metadata": {
    "id": "4BAy-CN123MS",
    "outputId": "8c26889d-c0a8-4a99-e601-eb0863d2fb80"
   },
   "outputs": [
    {
     "data": {
      "text/plain": [
       "((1022, 80), (438, 80))"
      ]
     },
     "execution_count": 17,
     "metadata": {},
     "output_type": "execute_result"
    }
   ],
   "source": [
    "# hãy chia thành tập huấn luyện và tập kiểm tra\n",
    "\n",
    "X_train, X_test, y_train, y_test = train_test_split(\n",
    "    data.drop(labels=['SalePrice'], axis=1), # các yếu tố dự báo\n",
    "    data.SalePrice, # mục tiêu\n",
    "    test_size=0.3,\n",
    "    random_state=0)\n",
    "\n",
    "X_train.shape, X_test.shape"
   ]
  },
  {
   "cell_type": "code",
   "execution_count": 18,
   "metadata": {
    "id": "wsCyliSL23MS"
   },
   "outputs": [],
   "source": [
    "# Rare encoder\n",
    "rare_encoder = RareLabelEncoder(\n",
    "    tol=0.05,  # % tối thiểu được coi là không hiếm\n",
    "    n_categories=4, # số lượng hạng mục tối thiểu mà biến có để nhóm lại thành các hạng mục chiếm\n",
    "    variables=['Neighborhood', 'Exterior1st', 'Exterior2nd',\n",
    "               'MasVnrType', 'ExterQual', 'BsmtCond'] # các biến để nhóm lại\n",
    ")  "
   ]
  },
  {
   "cell_type": "code",
   "execution_count": 19,
   "metadata": {
    "id": "2aNQcRjG23MS",
    "outputId": "d3734eaf-817c-4f98-f622-6c1e38491fe7"
   },
   "outputs": [
    {
     "name": "stderr",
     "output_type": "stream",
     "text": [
      "C:\\Users\\Bang\\anaconda3\\lib\\site-packages\\feature_engine\\encoding\\rare_label.py:216: UserWarning: The number of unique categories for variable ExterQual is less than that indicated in n_categories. Thus, all categories will be considered frequent\n",
      "  warnings.warn(\n"
     ]
    },
    {
     "data": {
      "text/plain": [
       "RareLabelEncoder(n_categories=4,\n",
       "                 variables=['Neighborhood', 'Exterior1st', 'Exterior2nd',\n",
       "                            'MasVnrType', 'ExterQual', 'BsmtCond'])"
      ]
     },
     "execution_count": 19,
     "metadata": {},
     "output_type": "execute_result"
    }
   ],
   "source": [
    "rare_encoder.fit(X_train.fillna('Missing'))"
   ]
  },
  {
   "cell_type": "markdown",
   "metadata": {
    "id": "h7GNdzSg23MT"
   },
   "source": [
    "Lưu ý: encoder cảnh báo chúng ta rằng biến **ExterQual** chứa ít hơn 4 hạng mục nên các hạng mục sẽ không được nhóm lại trong Rare kể cả khi % quan sát nhỏ hơn 0.05."
   ]
  },
  {
   "cell_type": "code",
   "execution_count": 20,
   "metadata": {
    "id": "OcaD9UHb23MT",
    "outputId": "19cab226-399b-47b8-b597-52e80ef7af0c"
   },
   "outputs": [
    {
     "data": {
      "text/plain": [
       "['Neighborhood',\n",
       " 'Exterior1st',\n",
       " 'Exterior2nd',\n",
       " 'MasVnrType',\n",
       " 'ExterQual',\n",
       " 'BsmtCond']"
      ]
     },
     "execution_count": 20,
     "metadata": {},
     "output_type": "execute_result"
    }
   ],
   "source": [
    "rare_encoder.variables_"
   ]
  },
  {
   "cell_type": "code",
   "execution_count": 21,
   "metadata": {
    "id": "UzL3QiZn23MT",
    "outputId": "7e65e444-2b7a-4874-a0f2-a53089ae6d59"
   },
   "outputs": [
    {
     "data": {
      "text/plain": [
       "{'Neighborhood': ['NAmes',\n",
       "  'CollgCr',\n",
       "  'OldTown',\n",
       "  'Edwards',\n",
       "  'Sawyer',\n",
       "  'Somerst',\n",
       "  'Gilbert'],\n",
       " 'Exterior1st': ['VinylSd', 'HdBoard', 'Wd Sdng', 'MetalSd', 'Plywood'],\n",
       " 'Exterior2nd': ['VinylSd', 'Wd Sdng', 'HdBoard', 'MetalSd', 'Plywood'],\n",
       " 'MasVnrType': ['None', 'BrkFace', 'Stone'],\n",
       " 'ExterQual': ['TA', 'Gd', 'Ex', 'Fa'],\n",
       " 'BsmtCond': ['TA']}"
      ]
     },
     "execution_count": 21,
     "metadata": {},
     "output_type": "execute_result"
    }
   ],
   "source": [
    "# encoder_dict_ là một dictionary của biến: các cặp nhãn thường xuất hiện\n",
    "rare_encoder.encoder_dict_"
   ]
  },
  {
   "cell_type": "code",
   "execution_count": 22,
   "metadata": {
    "id": "zqNTC3DR23MT"
   },
   "outputs": [],
   "source": [
    "X_train = rare_encoder.transform(X_train.fillna('Missing'))\n",
    "X_test = rare_encoder.transform(X_test.fillna('Missing'))"
   ]
  },
  {
   "cell_type": "code",
   "execution_count": null,
   "metadata": {
    "id": "KCV0JHjx23MT"
   },
   "outputs": [],
   "source": []
  }
 ],
 "metadata": {
  "colab": {
   "collapsed_sections": [],
   "name": "[VN]9.10 Engineering Rare Categories.ipynb",
   "provenance": []
  },
  "kernelspec": {
   "display_name": "Python 3 (ipykernel)",
   "language": "python",
   "name": "python3"
  },
  "language_info": {
   "codemirror_mode": {
    "name": "ipython",
    "version": 3
   },
   "file_extension": ".py",
   "mimetype": "text/x-python",
   "name": "python",
   "nbconvert_exporter": "python",
   "pygments_lexer": "ipython3",
   "version": "3.9.13"
  },
  "toc": {
   "base_numbering": 1,
   "nav_menu": {},
   "number_sections": true,
   "sideBar": true,
   "skip_h1_title": false,
   "title_cell": "Table of Contents",
   "title_sidebar": "Contents",
   "toc_cell": false,
   "toc_position": {
    "height": "921.556px",
    "left": "0px",
    "right": "1771px",
    "top": "110.444px",
    "width": "362.333px"
   },
   "toc_section_display": "block",
   "toc_window_display": true
  }
 },
 "nbformat": 4,
 "nbformat_minor": 1
}
