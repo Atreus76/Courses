{
 "cells": [
  {
   "cell_type": "markdown",
   "metadata": {
    "id": "h-WTRTYxz950"
   },
   "source": [
    "## Mã hóa hướng dẫn có mục tiêu\n",
    "\n",
    "Trong các bài giảng trước của phần này, chúng ta đã học cách chuyển đổi nhãn thành một số bằng mã hóa one-hot, thay thế bằng một chữ số, thay thế bằng tần suất hoặc số lượng quan sát. Các phương pháp này rất đơn giản, hầu như không có giả định và nhìn chung hoạt động tốt trong các tình huống khác nhau.\n",
    "\n",
    "Tuy nhiên, cũng có những phương pháp cho phép chúng ta nắm bắt thông tin trong khi tiền xử lý nhãn của các biến hạng mục. Các phương pháp đó gồm:\n",
    "\n",
    "- Sắp xếp các nhãn theo mục tiêu.\n",
    "- Thay thế các nhãn bằng giá trị trung bình mục tiêu (mã hóa mean/mã hóa mục tiêu).\n",
    "- Thay thế các nhãn theo tỷ lệ xác suất của mục tiêu là 1 hoặc 0.\n",
    "- Trọng số bằng chứng.\n",
    "\n",
    "Tất cả các phương pháp trên đều có điểm chung là:\n",
    "\n",
    "- Mã hóa được **hướng dẫn bởi mục tiêu** và\n",
    "- Tạo ra **mối quan hệ đơn điệu** giữa biến và mục tiêu.\n",
    "\n",
    "\n",
    "### Tính đơn điệu\n",
    "\n",
    "Mối quan hệ đơn điệu là mối quan hệ thực hiện một trong những điều sau:\n",
    "\n",
    "- (1) khi giá trị của một biến tăng lên thì giá trị của biến kia cũng vậy; hoặc\n",
    "- (2) khi giá trị của một biến tăng, giá trị của biến kia lại giảm.\n",
    "\n",
    "Trong trường hợp này, khi giá trị của biến độc lập (yếu tố dự báo) tăng lên, thì mục tiêu cũng vậy; hoặc ngược lại, khi giá trị của biến tăng lên thì giá trị mục tiêu lại giảm.\n",
    "\n",
    "\n",
    "\n",
    "### Ưu điểm của mã hóa hướng dẫn có mục tiêu\n",
    "\n",
    "- Nắm bắt thông tin trong hạng mục nên tạo ra nhiều đặc trưng dự đoán hơn.\n",
    "- Tạo mối quan hệ đơn điệu giữa biến và mục tiêu để phù hợp với mô hình tuyến tính.\n",
    "- Không mở rộng không gian đặc trưng.\n",
    "\n",
    "\n",
    "### Hạn chế\n",
    "\n",
    "- Dễ dẫn tới overfitting.\n",
    "- Khó kiểm định chéo với các thư viện hiện tại.\n",
    "\n",
    "\n",
    "### Lưu ý\n",
    "\n",
    "Các phương pháp được thảo luận trong bài này và 3 bài giảng sắp tới cũng có thể sử dụng với các biến dạng số sau khi thực hiện rời rạc hóa. Điều này tạo ra mối quan hệ đơn điệu giữa biến dạng số và mục tiêu, do đó cải thiện chất lượng của mô hình tuyến tính.\n",
    "\n",
    "===============================================================================\n",
    "\n",
    "## Mã hóa tỷ lệ xác suất\n",
    "\n",
    "Mã hóa này chỉ thích hợp với các bài toán phân loại có biến nhị phân.\n",
    "\n",
    "Với từng hạng mục, chúng ta tính mean của target=1 là xác suất của mục tiêu là 1 ( P(1) ), và xác suất của target=0 ( P(0) ). Sau đó, chúng ta tính tỷ lệ P(1)/P(0) và thay thế các hạng mục bằng tỷ lệ đó.\n",
    "\n",
    "\n",
    "## Trong bản mô phỏng này:\n",
    "\n",
    "Chúng ta sẽ thực hiện mã hóa với:\n",
    "- pandas\n",
    "- Feature-Engine\n",
    "\n",
    "Chúng ta sẽ sử dụng tập dữ liệu Titanic để minh họa các ưu điểm và hạn chế của từng triển khai."
   ]
  },
  {
   "cell_type": "code",
   "execution_count": 1,
   "metadata": {
    "id": "Hdm-Kezxz953",
    "scrolled": true
   },
   "outputs": [],
   "source": [
    "import numpy as np\n",
    "import pandas as pd\n",
    "\n",
    "import matplotlib.pyplot as plt\n",
    "\n",
    "# chia tập dữ liệu\n",
    "from sklearn.model_selection import train_test_split\n",
    "\n",
    "# mã hóa với feature-engine"
   ]
  },
  {
   "cell_type": "code",
   "execution_count": 2,
   "metadata": {
    "id": "4ct8HZrYz954",
    "outputId": "3db9c5ca-5a1f-4c06-a435-7c07a05fd5f3"
   },
   "outputs": [
    {
     "data": {
      "text/html": [
       "<div>\n",
       "<style scoped>\n",
       "    .dataframe tbody tr th:only-of-type {\n",
       "        vertical-align: middle;\n",
       "    }\n",
       "\n",
       "    .dataframe tbody tr th {\n",
       "        vertical-align: top;\n",
       "    }\n",
       "\n",
       "    .dataframe thead th {\n",
       "        text-align: right;\n",
       "    }\n",
       "</style>\n",
       "<table border=\"1\" class=\"dataframe\">\n",
       "  <thead>\n",
       "    <tr style=\"text-align: right;\">\n",
       "      <th></th>\n",
       "      <th>survived</th>\n",
       "      <th>sex</th>\n",
       "      <th>cabin</th>\n",
       "      <th>embarked</th>\n",
       "    </tr>\n",
       "  </thead>\n",
       "  <tbody>\n",
       "    <tr>\n",
       "      <th>0</th>\n",
       "      <td>1</td>\n",
       "      <td>female</td>\n",
       "      <td>B5</td>\n",
       "      <td>S</td>\n",
       "    </tr>\n",
       "    <tr>\n",
       "      <th>1</th>\n",
       "      <td>1</td>\n",
       "      <td>male</td>\n",
       "      <td>C22</td>\n",
       "      <td>S</td>\n",
       "    </tr>\n",
       "    <tr>\n",
       "      <th>2</th>\n",
       "      <td>0</td>\n",
       "      <td>female</td>\n",
       "      <td>C22</td>\n",
       "      <td>S</td>\n",
       "    </tr>\n",
       "    <tr>\n",
       "      <th>3</th>\n",
       "      <td>0</td>\n",
       "      <td>male</td>\n",
       "      <td>C22</td>\n",
       "      <td>S</td>\n",
       "    </tr>\n",
       "    <tr>\n",
       "      <th>4</th>\n",
       "      <td>0</td>\n",
       "      <td>female</td>\n",
       "      <td>C22</td>\n",
       "      <td>S</td>\n",
       "    </tr>\n",
       "  </tbody>\n",
       "</table>\n",
       "</div>"
      ],
      "text/plain": [
       "   survived     sex cabin embarked\n",
       "0         1  female    B5        S\n",
       "1         1    male   C22        S\n",
       "2         0  female   C22        S\n",
       "3         0    male   C22        S\n",
       "4         0  female   C22        S"
      ]
     },
     "execution_count": 2,
     "metadata": {},
     "output_type": "execute_result"
    }
   ],
   "source": [
    "# load tập dữ liệu\n",
    "\n",
    "data = pd.read_csv(\n",
    "    '../titanic.csv',\n",
    "    usecols=['cabin', 'sex', 'embarked', 'survived'])\n",
    "\n",
    "data.head()"
   ]
  },
  {
   "cell_type": "code",
   "execution_count": 3,
   "metadata": {
    "id": "W9U1VpSUz955",
    "outputId": "896f6dee-86f9-4f4d-dec0-a73ac7069d1d"
   },
   "outputs": [
    {
     "data": {
      "text/plain": [
       "(1307, 4)"
      ]
     },
     "execution_count": 3,
     "metadata": {},
     "output_type": "execute_result"
    }
   ],
   "source": [
    "# loại bỏ các quan sát có na trong embarked\n",
    "\n",
    "data.dropna(subset=['embarked'], inplace=True)\n",
    "data.shape"
   ]
  },
  {
   "cell_type": "code",
   "execution_count": 4,
   "metadata": {
    "id": "6hKx7NBWz956"
   },
   "outputs": [],
   "source": [
    "# trích xuất chữ cái đầu của cabin\n",
    "# để tạo biến đơn giản hơn cho mô phỏng\n",
    "\n",
    "data['cabin'] = data['cabin'].astype(str).str[0]"
   ]
  },
  {
   "cell_type": "code",
   "execution_count": 5,
   "metadata": {
    "id": "y3SJ5cTSz956",
    "outputId": "515ca038-5d4e-4908-9282-06b92a6b824d"
   },
   "outputs": [
    {
     "data": {
      "text/plain": [
       "(1306, 4)"
      ]
     },
     "execution_count": 5,
     "metadata": {},
     "output_type": "execute_result"
    }
   ],
   "source": [
    "# và loại bỏ các quan sát có cabin = T\n",
    "# vì chúng quá ít\n",
    "\n",
    "data = data[data['cabin']!= 'T']\n",
    "data.shape"
   ]
  },
  {
   "cell_type": "code",
   "execution_count": 6,
   "metadata": {
    "id": "x8yggZFMz956",
    "outputId": "ac0676a5-b27d-45bf-c2f9-83458de56104"
   },
   "outputs": [
    {
     "name": "stdout",
     "output_type": "stream",
     "text": [
      "survived :  2  labels\n",
      "sex :  2  labels\n",
      "cabin :  8  labels\n",
      "embarked :  3  labels\n"
     ]
    }
   ],
   "source": [
    "# xem từng biến có bao nhiêu nhãn\n",
    "\n",
    "for col in data.columns:\n",
    "    print(col, ': ', len(data[col].unique()), ' labels')"
   ]
  },
  {
   "cell_type": "code",
   "execution_count": 7,
   "metadata": {
    "id": "QCzydHz9z957",
    "outputId": "b4719787-05a6-47e0-dff5-b8052c59a15d"
   },
   "outputs": [
    {
     "data": {
      "text/plain": [
       "array(['B', 'C', 'E', 'D', 'A', 'n', 'F', 'G'], dtype=object)"
      ]
     },
     "execution_count": 7,
     "metadata": {},
     "output_type": "execute_result"
    }
   ],
   "source": [
    "# khám phá các hạng mục duy nhất\n",
    "data['cabin'].unique()"
   ]
  },
  {
   "cell_type": "code",
   "execution_count": 8,
   "metadata": {
    "id": "3jcPvDXoz957",
    "outputId": "984c619b-3b30-48a2-d2b6-1cbd6af27c8c"
   },
   "outputs": [
    {
     "data": {
      "text/plain": [
       "array(['female', 'male'], dtype=object)"
      ]
     },
     "execution_count": 8,
     "metadata": {},
     "output_type": "execute_result"
    }
   ],
   "source": [
    "data['sex'].unique()"
   ]
  },
  {
   "cell_type": "code",
   "execution_count": 9,
   "metadata": {
    "id": "45nWwU7Pz958",
    "outputId": "27d416c8-4123-4a5e-fbc5-5f75e8249243"
   },
   "outputs": [
    {
     "data": {
      "text/plain": [
       "array(['S', 'C', 'Q'], dtype=object)"
      ]
     },
     "execution_count": 9,
     "metadata": {},
     "output_type": "execute_result"
    }
   ],
   "source": [
    "data['embarked'].unique()"
   ]
  },
  {
   "cell_type": "markdown",
   "metadata": {
    "id": "QqqIKDSVz958"
   },
   "source": [
    "### Mã hóa quan trọng\n",
    "\n",
    "Chúng ta cần tính tỷ lệ P(1)/P(0) sử dụng tập huấn luyện, sau đó sử dụng các mapping đó trong tập kiểm tra.\n",
    "\n",
    "Lưu ý với triển khai này của pandas, chúng ta cần giữ mục tiêu trong tập huấn luyện."
   ]
  },
  {
   "cell_type": "code",
   "execution_count": 10,
   "metadata": {
    "id": "cgYMvnoqz959",
    "outputId": "19f0b4d8-a2c5-43a9-b92a-1203b7e0d4af"
   },
   "outputs": [
    {
     "data": {
      "text/plain": [
       "((914, 4), (392, 4))"
      ]
     },
     "execution_count": 10,
     "metadata": {},
     "output_type": "execute_result"
    }
   ],
   "source": [
    "# hãy chia thành tập huấn luyện và tập kiểm tra\n",
    "\n",
    "X_train, X_test, y_train, y_test = train_test_split(\n",
    "    data[['cabin', 'sex', 'embarked', 'survived']],  # lần này giữ mục tiêu!!\n",
    "    data['survived'],  # mục tiêu\n",
    "    test_size=0.3,  # phần trăm các quan sát trong tập kiểm tra\n",
    "    random_state=0)  # seed đảm bảo khả năng tái lặp\n",
    "\n",
    "X_train.shape, X_test.shape"
   ]
  },
  {
   "cell_type": "markdown",
   "metadata": {
    "id": "-oA4TVmfz959"
   },
   "source": [
    "### Khám phá mối quan hệ ban đầu giữa biến hạng mục với mục tiêu"
   ]
  },
  {
   "cell_type": "code",
   "execution_count": 11,
   "metadata": {
    "id": "7y9Wpgjgz959",
    "outputId": "db006aad-6298-4516-a5af-5232c355d9ec"
   },
   "outputs": [
    {
     "data": {
      "image/png": "[encoded data removed]",
      "text/plain": [
       "<Figure size 640x480 with 1 Axes>"
      ]
     },
     "metadata": {},
     "output_type": "display_data"
    },
    {
     "data": {
      "image/png": "[encoded data removed]",
      "text/plain": [
       "<Figure size 640x480 with 1 Axes>"
      ]
     },
     "metadata": {},
     "output_type": "display_data"
    },
    {
     "data": {
      "image/png": "[encoded data removed]",
      "text/plain": [
       "<Figure size 640x480 with 1 Axes>"
      ]
     },
     "metadata": {},
     "output_type": "display_data"
    }
   ],
   "source": [
    "# khám phá mối quan hệ của các hạng mục với mục tiêu\n",
    "\n",
    "for var in ['cabin', 'sex', 'embarked']:\n",
    "    \n",
    "    fig = plt.figure()\n",
    "    fig = X_train.groupby([var])['survived'].mean().plot()\n",
    "    fig.set_title('Relationship between {} and Survival'.format(var))\n",
    "    fig.set_ylabel('Mean Survival')\n",
    "    plt.show()"
   ]
  },
  {
   "cell_type": "markdown",
   "metadata": {
    "id": "wKgca--Xz95_"
   },
   "source": [
    "Chúng ta thấy mối quan hệ giữa mục tiêu, cabin và embarked tăng và giảm phụ thuộc vào hạng mục.\n",
    "\n",
    "\n",
    "## Mã hóa tỷ lệ xác suất với pandas\n",
    "\n",
    "\n",
    "### Ưu điểm\n",
    "\n",
    "- nhanh\n",
    "- trả về pandas dataframe\n",
    "\n",
    "### Hạn chế của pandas:\n",
    "\n",
    "- Nó không bảo toàn thông tin từ dữ liệu huấn luyện để truyền sang dữ liệu kiểm tra."
   ]
  },
  {
   "cell_type": "code",
   "execution_count": 12,
   "metadata": {
    "id": "15C2xl7Iz96A",
    "outputId": "2caf3daa-7e8c-419a-8528-40c9179d04c2"
   },
   "outputs": [
    {
     "data": {
      "text/html": [
       "<div>\n",
       "<style scoped>\n",
       "    .dataframe tbody tr th:only-of-type {\n",
       "        vertical-align: middle;\n",
       "    }\n",
       "\n",
       "    .dataframe tbody tr th {\n",
       "        vertical-align: top;\n",
       "    }\n",
       "\n",
       "    .dataframe thead th {\n",
       "        text-align: right;\n",
       "    }\n",
       "</style>\n",
       "<table border=\"1\" class=\"dataframe\">\n",
       "  <thead>\n",
       "    <tr style=\"text-align: right;\">\n",
       "      <th></th>\n",
       "      <th>survived</th>\n",
       "    </tr>\n",
       "    <tr>\n",
       "      <th>cabin</th>\n",
       "      <th></th>\n",
       "    </tr>\n",
       "  </thead>\n",
       "  <tbody>\n",
       "    <tr>\n",
       "      <th>A</th>\n",
       "      <td>0.411765</td>\n",
       "    </tr>\n",
       "    <tr>\n",
       "      <th>B</th>\n",
       "      <td>0.738095</td>\n",
       "    </tr>\n",
       "    <tr>\n",
       "      <th>C</th>\n",
       "      <td>0.600000</td>\n",
       "    </tr>\n",
       "    <tr>\n",
       "      <th>D</th>\n",
       "      <td>0.696970</td>\n",
       "    </tr>\n",
       "    <tr>\n",
       "      <th>E</th>\n",
       "      <td>0.700000</td>\n",
       "    </tr>\n",
       "    <tr>\n",
       "      <th>F</th>\n",
       "      <td>0.769231</td>\n",
       "    </tr>\n",
       "    <tr>\n",
       "      <th>G</th>\n",
       "      <td>0.750000</td>\n",
       "    </tr>\n",
       "    <tr>\n",
       "      <th>n</th>\n",
       "      <td>0.292199</td>\n",
       "    </tr>\n",
       "  </tbody>\n",
       "</table>\n",
       "</div>"
      ],
      "text/plain": [
       "       survived\n",
       "cabin          \n",
       "A      0.411765\n",
       "B      0.738095\n",
       "C      0.600000\n",
       "D      0.696970\n",
       "E      0.700000\n",
       "F      0.769231\n",
       "G      0.750000\n",
       "n      0.292199"
      ]
     },
     "execution_count": 12,
     "metadata": {},
     "output_type": "execute_result"
    }
   ],
   "source": [
    "## Yêu cầu 1: tính xác suất survived =1 trên mỗi hạng mục\n",
    "\n",
    "## VIẾT CODE Ở ĐÂY:\n",
    "prob_df = X_train.groupby(['cabin'])['survived'].mean()\n",
    "\n",
    "# và ghi nó vào dataframe\n",
    "## VIẾT CODE Ở ĐÂY:\n",
    "prob_df = pd.DataFrame(prob_df)\n",
    "prob_df"
   ]
  },
  {
   "cell_type": "markdown",
   "metadata": {
    "id": "fgu063QOYL5h"
   },
   "source": [
    "<details><summary> Gợi ý </summary>\n",
    "\n",
    "[mean()](https://pandas.pydata.org/pandas-docs/stable/reference/api/pandas.DataFrame.mean.html)\n",
    "\n",
    "</details>"
   ]
  },
  {
   "cell_type": "code",
   "execution_count": 13,
   "metadata": {
    "id": "F28KrsbDz96A",
    "outputId": "4cd95fa2-476d-439b-e7c8-76f2bafa9fa0"
   },
   "outputs": [
    {
     "data": {
      "text/html": [
       "<div>\n",
       "<style scoped>\n",
       "    .dataframe tbody tr th:only-of-type {\n",
       "        vertical-align: middle;\n",
       "    }\n",
       "\n",
       "    .dataframe tbody tr th {\n",
       "        vertical-align: top;\n",
       "    }\n",
       "\n",
       "    .dataframe thead th {\n",
       "        text-align: right;\n",
       "    }\n",
       "</style>\n",
       "<table border=\"1\" class=\"dataframe\">\n",
       "  <thead>\n",
       "    <tr style=\"text-align: right;\">\n",
       "      <th></th>\n",
       "      <th>survived</th>\n",
       "      <th>died</th>\n",
       "    </tr>\n",
       "    <tr>\n",
       "      <th>cabin</th>\n",
       "      <th></th>\n",
       "      <th></th>\n",
       "    </tr>\n",
       "  </thead>\n",
       "  <tbody>\n",
       "    <tr>\n",
       "      <th>A</th>\n",
       "      <td>0.411765</td>\n",
       "      <td>0.588235</td>\n",
       "    </tr>\n",
       "    <tr>\n",
       "      <th>B</th>\n",
       "      <td>0.738095</td>\n",
       "      <td>0.261905</td>\n",
       "    </tr>\n",
       "    <tr>\n",
       "      <th>C</th>\n",
       "      <td>0.600000</td>\n",
       "      <td>0.400000</td>\n",
       "    </tr>\n",
       "    <tr>\n",
       "      <th>D</th>\n",
       "      <td>0.696970</td>\n",
       "      <td>0.303030</td>\n",
       "    </tr>\n",
       "    <tr>\n",
       "      <th>E</th>\n",
       "      <td>0.700000</td>\n",
       "      <td>0.300000</td>\n",
       "    </tr>\n",
       "    <tr>\n",
       "      <th>F</th>\n",
       "      <td>0.769231</td>\n",
       "      <td>0.230769</td>\n",
       "    </tr>\n",
       "    <tr>\n",
       "      <th>G</th>\n",
       "      <td>0.750000</td>\n",
       "      <td>0.250000</td>\n",
       "    </tr>\n",
       "    <tr>\n",
       "      <th>n</th>\n",
       "      <td>0.292199</td>\n",
       "      <td>0.707801</td>\n",
       "    </tr>\n",
       "  </tbody>\n",
       "</table>\n",
       "</div>"
      ],
      "text/plain": [
       "       survived      died\n",
       "cabin                    \n",
       "A      0.411765  0.588235\n",
       "B      0.738095  0.261905\n",
       "C      0.600000  0.400000\n",
       "D      0.696970  0.303030\n",
       "E      0.700000  0.300000\n",
       "F      0.769231  0.230769\n",
       "G      0.750000  0.250000\n",
       "n      0.292199  0.707801"
      ]
     },
     "execution_count": 13,
     "metadata": {},
     "output_type": "execute_result"
    }
   ],
   "source": [
    "## Yêu cầu 2\n",
    "# giờ xác suất của survived = 0\n",
    "\n",
    "## VIẾT CODE Ở ĐÂY:\n",
    "prob_df['died'] = 1 - prob_df['survived']\n",
    "\n",
    "prob_df"
   ]
  },
  {
   "cell_type": "code",
   "execution_count": 14,
   "metadata": {
    "id": "TJKaVTlqz96B",
    "outputId": "eb143c85-e252-4af2-80ed-d49f38cfab7a"
   },
   "outputs": [
    {
     "data": {
      "text/html": [
       "<div>\n",
       "<style scoped>\n",
       "    .dataframe tbody tr th:only-of-type {\n",
       "        vertical-align: middle;\n",
       "    }\n",
       "\n",
       "    .dataframe tbody tr th {\n",
       "        vertical-align: top;\n",
       "    }\n",
       "\n",
       "    .dataframe thead th {\n",
       "        text-align: right;\n",
       "    }\n",
       "</style>\n",
       "<table border=\"1\" class=\"dataframe\">\n",
       "  <thead>\n",
       "    <tr style=\"text-align: right;\">\n",
       "      <th></th>\n",
       "      <th>survived</th>\n",
       "      <th>died</th>\n",
       "      <th>ratio</th>\n",
       "    </tr>\n",
       "    <tr>\n",
       "      <th>cabin</th>\n",
       "      <th></th>\n",
       "      <th></th>\n",
       "      <th></th>\n",
       "    </tr>\n",
       "  </thead>\n",
       "  <tbody>\n",
       "    <tr>\n",
       "      <th>A</th>\n",
       "      <td>0.411765</td>\n",
       "      <td>0.588235</td>\n",
       "      <td>0.700000</td>\n",
       "    </tr>\n",
       "    <tr>\n",
       "      <th>B</th>\n",
       "      <td>0.738095</td>\n",
       "      <td>0.261905</td>\n",
       "      <td>2.818182</td>\n",
       "    </tr>\n",
       "    <tr>\n",
       "      <th>C</th>\n",
       "      <td>0.600000</td>\n",
       "      <td>0.400000</td>\n",
       "      <td>1.500000</td>\n",
       "    </tr>\n",
       "    <tr>\n",
       "      <th>D</th>\n",
       "      <td>0.696970</td>\n",
       "      <td>0.303030</td>\n",
       "      <td>2.300000</td>\n",
       "    </tr>\n",
       "    <tr>\n",
       "      <th>E</th>\n",
       "      <td>0.700000</td>\n",
       "      <td>0.300000</td>\n",
       "      <td>2.333333</td>\n",
       "    </tr>\n",
       "    <tr>\n",
       "      <th>F</th>\n",
       "      <td>0.769231</td>\n",
       "      <td>0.230769</td>\n",
       "      <td>3.333333</td>\n",
       "    </tr>\n",
       "    <tr>\n",
       "      <th>G</th>\n",
       "      <td>0.750000</td>\n",
       "      <td>0.250000</td>\n",
       "      <td>3.000000</td>\n",
       "    </tr>\n",
       "    <tr>\n",
       "      <th>n</th>\n",
       "      <td>0.292199</td>\n",
       "      <td>0.707801</td>\n",
       "      <td>0.412826</td>\n",
       "    </tr>\n",
       "  </tbody>\n",
       "</table>\n",
       "</div>"
      ],
      "text/plain": [
       "       survived      died     ratio\n",
       "cabin                              \n",
       "A      0.411765  0.588235  0.700000\n",
       "B      0.738095  0.261905  2.818182\n",
       "C      0.600000  0.400000  1.500000\n",
       "D      0.696970  0.303030  2.300000\n",
       "E      0.700000  0.300000  2.333333\n",
       "F      0.769231  0.230769  3.333333\n",
       "G      0.750000  0.250000  3.000000\n",
       "n      0.292199  0.707801  0.412826"
      ]
     },
     "execution_count": 14,
     "metadata": {},
     "output_type": "execute_result"
    }
   ],
   "source": [
    "## Yêu cầu 3: tính tỷ lệ\n",
    "\n",
    "## VIẾT CODE Ở ĐÂY:\n",
    "prob_df['ratio'] = prob_df['survived'] / prob_df['died']\n",
    "\n",
    "prob_df"
   ]
  },
  {
   "cell_type": "code",
   "execution_count": 15,
   "metadata": {
    "id": "bOUJJAo9z96B",
    "outputId": "21083a53-6361-484a-81ed-25144e25c29b"
   },
   "outputs": [
    {
     "data": {
      "text/plain": [
       "{'A': 0.7,\n",
       " 'B': 2.818181818181819,\n",
       " 'C': 1.4999999999999998,\n",
       " 'D': 2.3000000000000007,\n",
       " 'E': 2.333333333333333,\n",
       " 'F': 3.333333333333334,\n",
       " 'G': 3.0,\n",
       " 'n': 0.4128256513026052}"
      ]
     },
     "execution_count": 15,
     "metadata": {},
     "output_type": "execute_result"
    }
   ],
   "source": [
    "## Yêu cầu 4: ghi lại tỷ lệ trong một dictionary\n",
    "\n",
    "## VIẾT CODE Ở ĐÂY:\n",
    "ordered_labels = prob_df['ratio'].to_dict()\n",
    "\n",
    "ordered_labels"
   ]
  },
  {
   "cell_type": "markdown",
   "metadata": {
    "id": "hppGobkvYbQe"
   },
   "source": [
    "<details><summary> Gợi ý </summary>\n",
    "\n",
    "[to_dict()](https://pandas.pydata.org/pandas-docs/stable/reference/api/pandas.DataFrame.to_dict.html)\n",
    "\n",
    "</details>"
   ]
  },
  {
   "cell_type": "code",
   "execution_count": 16,
   "metadata": {
    "id": "GQPkSmSdz96B"
   },
   "outputs": [],
   "source": [
    "## Yêu cầu 5: thay thế các nhãn với tỷ lệ\n",
    "\n",
    "## VIẾT CODE Ở ĐÂY:\n",
    "X_train['cabin'] = X_train['cabin'].map(ordered_labels)\n",
    "X_test['cabin'] = X_test['cabin'].map(ordered_labels)"
   ]
  },
  {
   "cell_type": "code",
   "execution_count": 17,
   "metadata": {
    "id": "aWFG20Trz96B",
    "outputId": "0177bc37-0303-4861-f4ea-e69e9f7adb75"
   },
   "outputs": [
    {
     "data": {
      "text/plain": [
       "843     0.412826\n",
       "869     0.412826\n",
       "430     0.412826\n",
       "481     0.412826\n",
       "1308    0.412826\n",
       "456     0.412826\n",
       "118     2.300000\n",
       "485     2.300000\n",
       "297     0.412826\n",
       "263     2.333333\n",
       "Name: cabin, dtype: float64"
      ]
     },
     "execution_count": 17,
     "metadata": {},
     "output_type": "execute_result"
    }
   ],
   "source": [
    "# khám phá kết quả\n",
    "\n",
    "X_train['cabin'].head(10)"
   ]
  },
  {
   "cell_type": "code",
   "execution_count": 18,
   "metadata": {
    "id": "UamHREcqz96C"
   },
   "outputs": [],
   "source": [
    "## Yêu cầu 6: biến các lệnh trước đó thành 2 hàm\n",
    "\n",
    "\n",
    "def find_category_mappings(df, variable, target):\n",
    "\n",
    "    ## VIẾT CODE Ở ĐÂY:\n",
    "    tmp = pd.DataFrame(df.groupby([variable])[target].mean())\n",
    "    \n",
    "    tmp['non-target'] = 1 - tmp[target]\n",
    "    \n",
    "    tmp['ratio'] = tmp[target] / tmp['non-target']\n",
    "\n",
    "    return tmp['ratio'].to_dict()\n",
    "\n",
    "\n",
    "def integer_encode(train, test, variable, ordinal_mapping):\n",
    "    ## VIẾT CODE Ở ĐÂY:\n",
    "    train[variable] = train[variable].map(ordinal_mapping)\n",
    "    test[variable] = test[variable].map(ordinal_mapping)"
   ]
  },
  {
   "cell_type": "code",
   "execution_count": 19,
   "metadata": {
    "id": "CgBNGIPTz96C"
   },
   "outputs": [],
   "source": [
    "## Yêu cầu 7: chạy một vòng lặp qua các biến hạng mục còn lại\n",
    "\n",
    "for variable in ['sex', 'embarked']:\n",
    "    ## VIẾT CODE Ở ĐÂY:\n",
    "    mappings = find_category_mappings(X_train, variable, 'survived')\n",
    "    ## VIẾT CODE Ở ĐÂY:\n",
    "    integer_encode(X_train, X_test, variable, mappings)"
   ]
  },
  {
   "cell_type": "code",
   "execution_count": 20,
   "metadata": {
    "id": "wDL7BpKMz96C",
    "outputId": "2f0d3ea8-b0a4-4ad5-8505-49d68d60dc47"
   },
   "outputs": [
    {
     "data": {
      "text/html": [
       "<div>\n",
       "<style scoped>\n",
       "    .dataframe tbody tr th:only-of-type {\n",
       "        vertical-align: middle;\n",
       "    }\n",
       "\n",
       "    .dataframe tbody tr th {\n",
       "        vertical-align: top;\n",
       "    }\n",
       "\n",
       "    .dataframe thead th {\n",
       "        text-align: right;\n",
       "    }\n",
       "</style>\n",
       "<table border=\"1\" class=\"dataframe\">\n",
       "  <thead>\n",
       "    <tr style=\"text-align: right;\">\n",
       "      <th></th>\n",
       "      <th>cabin</th>\n",
       "      <th>sex</th>\n",
       "      <th>embarked</th>\n",
       "      <th>survived</th>\n",
       "    </tr>\n",
       "  </thead>\n",
       "  <tbody>\n",
       "    <tr>\n",
       "      <th>843</th>\n",
       "      <td>0.412826</td>\n",
       "      <td>0.218107</td>\n",
       "      <td>0.509434</td>\n",
       "      <td>0</td>\n",
       "    </tr>\n",
       "    <tr>\n",
       "      <th>869</th>\n",
       "      <td>0.412826</td>\n",
       "      <td>0.218107</td>\n",
       "      <td>0.509434</td>\n",
       "      <td>0</td>\n",
       "    </tr>\n",
       "    <tr>\n",
       "      <th>430</th>\n",
       "      <td>0.412826</td>\n",
       "      <td>2.788235</td>\n",
       "      <td>0.509434</td>\n",
       "      <td>1</td>\n",
       "    </tr>\n",
       "    <tr>\n",
       "      <th>481</th>\n",
       "      <td>0.412826</td>\n",
       "      <td>2.788235</td>\n",
       "      <td>1.160920</td>\n",
       "      <td>1</td>\n",
       "    </tr>\n",
       "    <tr>\n",
       "      <th>1308</th>\n",
       "      <td>0.412826</td>\n",
       "      <td>0.218107</td>\n",
       "      <td>0.509434</td>\n",
       "      <td>0</td>\n",
       "    </tr>\n",
       "  </tbody>\n",
       "</table>\n",
       "</div>"
      ],
      "text/plain": [
       "         cabin       sex  embarked  survived\n",
       "843   0.412826  0.218107  0.509434         0\n",
       "869   0.412826  0.218107  0.509434         0\n",
       "430   0.412826  2.788235  0.509434         1\n",
       "481   0.412826  2.788235  1.160920         1\n",
       "1308  0.412826  0.218107  0.509434         0"
      ]
     },
     "execution_count": 20,
     "metadata": {},
     "output_type": "execute_result"
    }
   ],
   "source": [
    "# hãy xem kết quả\n",
    "\n",
    "X_train.head()"
   ]
  },
  {
   "cell_type": "code",
   "execution_count": 21,
   "metadata": {
    "id": "WiUAJ9Z7z96D",
    "outputId": "9fce519b-0739-42c0-ad32-0f1e68944be5",
    "scrolled": false
   },
   "outputs": [
    {
     "data": {
      "image/png": "[encoded data removed]",
      "text/plain": [
       "<Figure size 640x480 with 1 Axes>"
      ]
     },
     "metadata": {},
     "output_type": "display_data"
    },
    {
     "data": {
      "image/png": "[encoded data removed]",
      "text/plain": [
       "<Figure size 640x480 with 1 Axes>"
      ]
     },
     "metadata": {},
     "output_type": "display_data"
    },
    {
     "data": {
      "image/png": "[encoded data removed]",
      "text/plain": [
       "<Figure size 640x480 with 1 Axes>"
      ]
     },
     "metadata": {},
     "output_type": "display_data"
    }
   ],
   "source": [
    "# kiểm tra mối quan hệ đơn điệu mới tạo\n",
    "# giữa các biến hạng mục và mục tiêu\n",
    "\n",
    "for var in ['cabin', 'sex', 'embarked']:\n",
    "    \n",
    "    fig = plt.figure()\n",
    "    fig = X_train.groupby([var])['survived'].mean().plot()\n",
    "    fig.set_title('Monotonic relationship between {} and Survival'.format(var))\n",
    "    fig.set_ylabel('Mean Survived')\n",
    "    plt.show()"
   ]
  },
  {
   "cell_type": "markdown",
   "metadata": {
    "id": "GcqWnJyKz96D"
   },
   "source": [
    "Lưu ý mối quan hệ đơn điệu giữa mục tiêu trung bình và các hạng mục.\n",
    "\n",
    "### Lưu ý\n",
    "\n",
    "Việc thay thế các nhãn hạng mục với phương pháp và code này sẽ tạo ra các giá trị bị khuyết cho các hạng mục có trong tập kiểm tra mà không thấy trong tập huấn luyện. Do đó, việc xử lý nhãn hiếm trước khi thực hiện vô cùng quan trọng. Chúng ta sẽ giải thích cách làm điều này trong notebook sau.\n",
    "\n",
    "**Ngoài ra, nó sẽ tạo NA hoặc Inf nếu xác suất của target = 0 là 0 vì phép chia cho 0 không xác định.**"
   ]
  },
  {
   "cell_type": "markdown",
   "metadata": {
    "id": "QiFOOnnTz96D"
   },
   "source": [
    "## Mã hóa tỷ lệ xác suất với Feature-Engine\n",
    "\n",
    "Chúng ta sẽ không giữ được biến mục tiêu trong tập huấn luyện nếu sử dụng Feature-Engine thay vì pandas."
   ]
  },
  {
   "cell_type": "code",
   "execution_count": null,
   "metadata": {
    "id": "CmZRWoi6z96E",
    "outputId": "f818df49-2cfc-4a97-a8ba-ed34b614ac78"
   },
   "outputs": [],
   "source": [
    "# hãy chia thành tập huấn luyện và tập kiểm tra\n",
    "\n",
    "X_train, X_test, y_train, y_test = train_test_split(\n",
    "    data[['cabin', 'sex', 'embarked']], # các yếu tố dự báo\n",
    "    data['survived'],  # mục tiêu\n",
    "    test_size=0.3,  # phần trăm các quan sát trong tập kiểm tra\n",
    "    random_state=0)  # seed đảm bảo khả năng tái lặp\n",
    "\n",
    "X_train.shape, X_test.shape"
   ]
  },
  {
   "cell_type": "code",
   "execution_count": null,
   "metadata": {
    "id": "2-41fAdlz96E"
   },
   "outputs": [],
   "source": [
    "ratio_enc = PRatioEncoder(\n",
    "    encoding_method = 'ratio',\n",
    "    variables=['cabin', 'sex', 'embarked'])"
   ]
  },
  {
   "cell_type": "code",
   "execution_count": null,
   "metadata": {
    "id": "rAa51_8Tz96E",
    "outputId": "3c749e22-c7a3-4d0c-be18-895321cbc045"
   },
   "outputs": [],
   "source": [
    "# khi khớp transformer, chúng ta cũng cần truyền mục tiêu\n",
    "# giống như bất kì class dự báo nào của Scikit-learn\n",
    "\n",
    "ratio_enc.fit(X_train, y_train)"
   ]
  },
  {
   "cell_type": "code",
   "execution_count": null,
   "metadata": {
    "id": "cA8JS4KZz96F",
    "outputId": "c6eae562-5912-43a0-ea22-4d51d593ce1c",
    "scrolled": true
   },
   "outputs": [],
   "source": [
    "# trong dict encoder, chúng ta thấy P(1)/P(0) cho từng\n",
    "# hạng mục cho mỗi biến đã chỉ ra\n",
    "\n",
    "ratio_enc.encoder_dict_"
   ]
  },
  {
   "cell_type": "code",
   "execution_count": null,
   "metadata": {
    "id": "NFDN7p_iz96F",
    "outputId": "59b500d4-29f0-461f-8bb9-7ac8451a188e"
   },
   "outputs": [],
   "source": [
    "# đây là list các biến mà encoder sẽ biến đổi\n",
    "\n",
    "ratio_enc.variables_"
   ]
  },
  {
   "cell_type": "code",
   "execution_count": null,
   "metadata": {
    "id": "STFlXBBmz96F",
    "outputId": "3a69677a-8c1c-495b-eeea-b8b9ed0f9b05"
   },
   "outputs": [],
   "source": [
    "X_train = ratio_enc.transform(X_train)\n",
    "X_test = ratio_enc.transform(X_test)\n",
    "\n",
    "# khám phá kết quả\n",
    "X_train.head()"
   ]
  },
  {
   "cell_type": "markdown",
   "metadata": {
    "id": "y11h5dsBz96G"
   },
   "source": [
    "**Lưu ý**\n",
    "\n",
    "Nếu các biến đối số được để thành None thì encoder sẽ tự động xác định tất cả các biến hạng mục. Tuyệt đúng không?\n",
    "\n",
    "Encoder sẽ không mã hóa các biến dạng số. Vì vậy, nếu một số biến dạng số là biến hạng mục thì chúng ta sẽ cần ép kiểu lại chúng thành object trước khi sử dụng encoder.\n",
    "\n",
    "Nếu có một nhãn trong tập kiểm tra mà không xuất hiện trong tập huấn luyện thì encoder sẽ thông qua và báo lỗi để cảnh báo về động thái này.\n",
    "\n",
    "Cuối cùng, nếu xác suất của target=0 là 0 cho bất kỳ hạng mục nào thì encoder sẽ nêu lỗi do phép chia cho 0 không xác định. "
   ]
  },
  {
   "cell_type": "code",
   "execution_count": null,
   "metadata": {
    "id": "FGWAG7s7z96G"
   },
   "outputs": [],
   "source": []
  }
 ],
 "metadata": {
  "colab": {
   "collapsed_sections": [],
   "name": "[VN_Ex]9.7 Probability Ratio Encoding.ipynb",
   "provenance": []
  },
  "kernelspec": {
   "display_name": "Python 3 (ipykernel)",
   "language": "python",
   "name": "python3"
  },
  "language_info": {
   "codemirror_mode": {
    "name": "ipython",
    "version": 3
   },
   "file_extension": ".py",
   "mimetype": "text/x-python",
   "name": "python",
   "nbconvert_exporter": "python",
   "pygments_lexer": "ipython3",
   "version": "3.9.13"
  },
  "toc": {
   "base_numbering": 1,
   "nav_menu": {},
   "number_sections": true,
   "sideBar": true,
   "skip_h1_title": false,
   "title_cell": "Table of Contents",
   "title_sidebar": "Contents",
   "toc_cell": false,
   "toc_position": {},
   "toc_section_display": "block",
   "toc_window_display": true
  }
 },
 "nbformat": 4,
 "nbformat_minor": 1
}
