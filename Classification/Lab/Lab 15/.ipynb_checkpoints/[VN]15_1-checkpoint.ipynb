{
 "cells": [
  {
   "cell_type": "markdown",
   "metadata": {
    "id": "0hUFiekD1_1_"
   },
   "source": [
    "Trong lab này, chúng ta sẽ triển khai 2 cơ chế Ensemble: simple linear mix và stacking.\n",
    "\n",
    "Chúng ta sẽ dành vài cell để load dữ liệu và tạo ma trận đặc trưng, các bạn có thể kéo qua phần này hoặc tìm hiểu những gì đang diễn ra."
   ]
  },
  {
   "cell_type": "markdown",
   "metadata": {
    "id": "_tT_v8KL1_2A"
   },
   "source": [
    "# Kiểm tra phiên bản"
   ]
  },
  {
   "cell_type": "markdown",
   "metadata": {
    "id": "mzUOy1Ei7hGx"
   },
   "source": [
    "Điều đầu tiên cần làm là kiểm tra phiên bản thư viện."
   ]
  },
  {
   "cell_type": "code",
   "execution_count": 2,
   "metadata": {},
   "outputs": [
    {
     "name": "stdout",
     "output_type": "stream",
     "text": [
      "Collecting lightgbm\n",
      "  Downloading lightgbm-4.2.0-py3-none-win_amd64.whl (1.3 MB)\n",
      "     ---------------------------------------- 1.3/1.3 MB 4.7 MB/s eta 0:00:00\n",
      "Requirement already satisfied: numpy in c:\\users\\bang\\anaconda3\\lib\\site-packages (from lightgbm) (1.21.5)\n",
      "Requirement already satisfied: scipy in c:\\users\\bang\\anaconda3\\lib\\site-packages (from lightgbm) (1.9.1)\n",
      "Installing collected packages: lightgbm\n",
      "Successfully installed lightgbm-4.2.0\n"
     ]
    }
   ],
   "source": [
    "!pip install lightgbm"
   ]
  },
  {
   "cell_type": "code",
   "execution_count": 3,
   "metadata": {
    "id": "NDiKUe0T1_2A",
    "outputId": "12d9f3f5-8d9d-4e4f-8ccc-2eae625a0032"
   },
   "outputs": [
    {
     "name": "stdout",
     "output_type": "stream",
     "text": [
      "numpy 1.21.5\n",
      "pandas 1.4.4\n",
      "scipy 1.9.1\n",
      "sklearn 1.0.2\n",
      "lightgbm 4.2.0\n"
     ]
    }
   ],
   "source": [
    "import numpy as np\n",
    "import pandas as pd \n",
    "import sklearn\n",
    "import scipy.sparse \n",
    "import lightgbm \n",
    "\n",
    "for p in [np, pd, scipy, sklearn, lightgbm]:\n",
    "    print (p.__name__, p.__version__)"
   ]
  },
  {
   "cell_type": "markdown",
   "metadata": {
    "id": "fhE-JEkC1_2B"
   },
   "source": [
    "**Quan trọng!** Rất có thể các bạn sẽ không đạt yêu câu của lab nếu phiên bản `lighgbm` và `scikit-learn` bị sai. Các phiên bản đang được thử nghiệm:\n",
    "\n",
    "    numpy 1.18.5\n",
    "    pandas 1.3.2\n",
    "    scipy 1.4.1\n",
    "    sklearn 0.23.2\n",
    "    ligthgbm 3.2.1\n",
    "    \n",
    "\n",
    "Có thể sử dụng lệnh sau để cài phiên bản `lighgbm` cũ hơn: \n",
    "```\n",
    "pip uninstall lightgbm\n",
    "pip install lightgbm==3.2.1\n",
    "```"
   ]
  },
  {
   "cell_type": "markdown",
   "metadata": {
    "id": "AyDI0I7Q1_2B"
   },
   "source": [
    "# Ensembling"
   ]
  },
  {
   "cell_type": "markdown",
   "metadata": {
    "id": "L4OBzrj21_2B"
   },
   "source": [
    "Tiếp theo, hãy import một số mô hình và phép đo, viết một hàm chuyển đổi cột từ định dạng '64 bit' thành '32 bit'. Điều này sẽ giúp tiết kiệm khá nhiều bộ nhớ."
   ]
  },
  {
   "cell_type": "code",
   "execution_count": 4,
   "metadata": {
    "id": "CV3QtUJU1_2B"
   },
   "outputs": [],
   "source": [
    "import pandas as pd\n",
    "import numpy as np\n",
    "import gc\n",
    "import matplotlib.pyplot as plt\n",
    "%matplotlib inline \n",
    "\n",
    "pd.set_option('display.max_rows', 600)\n",
    "pd.set_option('display.max_columns', 50)\n",
    "\n",
    "import lightgbm as lgb\n",
    "from sklearn.linear_model import LinearRegression\n",
    "from sklearn.metrics import r2_score\n",
    "from tqdm import tqdm_notebook\n",
    "\n",
    "from itertools import product\n",
    "\n",
    "\n",
    "def downcast_dtypes(df):\n",
    "    '''\n",
    "        Changes column types in the dataframe: \n",
    "                \n",
    "                `float64` type to `float32`\n",
    "                `int64`   type to `int32`\n",
    "    '''\n",
    "    \n",
    "    ## Yêu cầu 1:\n",
    "    ## VIẾT CODE Ở ĐÂY:\n",
    "\n",
    "    # Chọn các cột để chuyển đổi\n",
    "    float_cols = [c for c in df if df[c].dtype == \"float64\"]\n",
    "    int_cols =   [c for c in df if df[c].dtype == \"int64\"]\n",
    "    \n",
    "    # Chuyển đổi\n",
    "    df[float_cols] = df[float_cols].astype(np.float32)\n",
    "    df[int_cols]   = df[int_cols].astype(np.int32)\n",
    "    \n",
    "    return df"
   ]
  },
  {
   "cell_type": "markdown",
   "metadata": {
    "id": "Lp9HcMZa1_2C"
   },
   "source": [
    "# Load dữ liệu tập hợp con"
   ]
  },
  {
   "cell_type": "markdown",
   "metadata": {
    "id": "4Gp5HYxm1_2C"
   },
   "source": [
    "Hãy load dữ liệu từ ổ cứng trước."
   ]
  },
  {
   "cell_type": "code",
   "execution_count": 5,
   "metadata": {
    "id": "D80al3F61_2C"
   },
   "outputs": [],
   "source": [
    "sales = pd.read_csv('dataset/sales_train.csv.gz')\n",
    "shops = pd.read_csv('dataset/shops.csv')\n",
    "items = pd.read_csv('dataset/items.csv')\n",
    "item_cats = pd.read_csv('dataset/item_categories.csv')"
   ]
  },
  {
   "cell_type": "markdown",
   "metadata": {
    "id": "61Ha8Xwx1_2C"
   },
   "source": [
    "Và để đơn giản, chỉ sử dụng 3 shop."
   ]
  },
  {
   "cell_type": "code",
   "execution_count": 6,
   "metadata": {
    "id": "DB8q8Ha-1_2C"
   },
   "outputs": [],
   "source": [
    "sales = sales[sales['shop_id'].isin([26, 27, 28])]"
   ]
  },
  {
   "cell_type": "markdown",
   "metadata": {
    "id": "RZiI3ujn1_2C"
   },
   "source": [
    "# Ma trận đặc trưng"
   ]
  },
  {
   "cell_type": "markdown",
   "metadata": {
    "id": "3qsAzZ101_2C"
   },
   "source": [
    "Chúng ta cần chuẩn bị các đặc trưng, phần này đã được triển khai hoàn toàn cho bạn."
   ]
  },
  {
   "cell_type": "code",
   "execution_count": 7,
   "metadata": {
    "id": "1WiyJvvk1_2C"
   },
   "outputs": [],
   "source": [
    "# Tạo \"grid\" với các cột\n",
    "index_cols = ['shop_id', 'item_id', 'date_block_num']\n",
    "\n",
    "# Với mỗi month, chúng ta tạo một grid từ tất cả các tổ hợp shop/item từ month đó\n",
    "grid = []\n",
    "\n",
    "for block_num in sales['date_block_num'].unique():\n",
    "    cur_shops = sales.loc[sales['date_block_num'] == block_num, 'shop_id'].unique()\n",
    "    cur_items = sales.loc[sales['date_block_num'] == block_num, 'item_id'].unique()\n",
    "    grid.append(np.array(list(product(*[cur_shops, cur_items, [block_num]])),dtype='int32'))\n",
    "\n",
    "# Biến grid thành một dataframe\n",
    "grid = pd.DataFrame(np.vstack(grid), columns = index_cols,dtype=np.int32)\n",
    "\n",
    "## Yêu cầu 2:\n",
    "## VIẾT CODE Ở ĐÂY:\n",
    "\n",
    "# Nhóm dữ liệu để được tổ hợp shop-item-month\n",
    "gb = sales.groupby(index_cols,as_index=False).agg({'item_cnt_day': 'sum'}).rename(columns={'item_cnt_day': 'target'})\n",
    "# Nối nó vào grid\n",
    "all_data = pd.merge(grid, gb, how='left', on=index_cols).fillna(0)\n",
    "\n",
    "# Tương tự như trên nhưng với tổ hợp shop-month\n",
    "gb = sales.groupby(['shop_id', 'date_block_num'],as_index=False).agg({'item_cnt_day': 'sum'}).rename(columns={'item_cnt_day': 'target_shop'})\n",
    "all_data = pd.merge(all_data, gb, how='left', on=['shop_id', 'date_block_num']).fillna(0)\n",
    "\n",
    "# Tương tự như trên nhưng với tổ hợp item-month \n",
    "gb = sales.groupby(['item_id', 'date_block_num'],as_index=False).agg({'item_cnt_day': 'sum'}).rename(columns={'item_cnt_day': 'target_item'})\n",
    "all_data = pd.merge(all_data, gb, how='left', on=['item_id', 'date_block_num']).fillna(0)\n",
    "\n",
    "# Chuyển đổi dtypes từ 64 bit thành 32 bit để tiết kiệm bộ nhớ\n",
    "all_data = downcast_dtypes(all_data)\n",
    "del grid, gb \n",
    "gc.collect();"
   ]
  },
  {
   "cell_type": "markdown",
   "metadata": {
    "id": "ZA-hEvkh95fL"
   },
   "source": [
    "<details><summary> Gợi ý </summary>\n",
    "\n",
    "[merge()](https://pandas.pydata.org/docs/reference/api/pandas.DataFrame.merge.html)\n",
    "\n",
    "</details>"
   ]
  },
  {
   "cell_type": "markdown",
   "metadata": {
    "id": "_HNv6Tmr1_2D"
   },
   "source": [
    "Sau khi tạo grid, chúng ta sẽ tính toán một số đặc trưng, sử dụng các lag từ [1, 2, 3, 4, 5, 12] tháng trước."
   ]
  },
  {
   "cell_type": "code",
   "execution_count": 8,
   "metadata": {
    "colab": {
     "referenced_widgets": [
      "ec62eacbbb45404eb34d7b21698bd9a2"
     ]
    },
    "id": "CD-c7c281_2D",
    "outputId": "5eaf5b9b-e607-4fa1-87e4-b5ccb8d8a3d7"
   },
   "outputs": [
    {
     "name": "stderr",
     "output_type": "stream",
     "text": [
      "C:\\Users\\Bang\\AppData\\Local\\Temp\\ipykernel_7668\\3739134401.py:6: TqdmDeprecationWarning: This function will be removed in tqdm==5.0.0\n",
      "Please use `tqdm.notebook.tqdm` instead of `tqdm.tqdm_notebook`\n",
      "  for month_shift in tqdm_notebook(shift_range):\n"
     ]
    },
    {
     "data": {
      "application/vnd.jupyter.widget-view+json": {
       "model_id": "f4c7917dddd641a498d9269c2ba61872",
       "version_major": 2,
       "version_minor": 0
      },
      "text/plain": [
       "  0%|          | 0/6 [00:00<?, ?it/s]"
      ]
     },
     "metadata": {},
     "output_type": "display_data"
    }
   ],
   "source": [
    "# Danh sách các cột mà chúng ta sẽ sử dụng để tạo lag\n",
    "cols_to_rename = list(all_data.columns.difference(index_cols)) \n",
    "\n",
    "shift_range = [1, 2, 3, 4, 5, 12]\n",
    "\n",
    "for month_shift in tqdm_notebook(shift_range):\n",
    "    train_shift = all_data[index_cols + cols_to_rename].copy()\n",
    "    \n",
    "    train_shift['date_block_num'] = train_shift['date_block_num'] + month_shift\n",
    "    \n",
    "    foo = lambda x: '{}_lag_{}'.format(x, month_shift) if x in cols_to_rename else x\n",
    "    train_shift = train_shift.rename(columns=foo)\n",
    "\n",
    "    all_data = pd.merge(all_data, train_shift, on=index_cols, how='left').fillna(0)\n",
    "\n",
    "del train_shift\n",
    "\n",
    "# Không sử dụng dữ liệu cũ từ năm 2013\n",
    "all_data = all_data[all_data['date_block_num'] >= 12] \n",
    "\n",
    "# Danh sách tất cả các đặc trưng được gắn cờ\n",
    "fit_cols = [col for col in all_data.columns if col[-1] in [str(item) for item in shift_range]] \n",
    "# Chúng ta sẽ giảm chúng ở giai đoạn khớp\n",
    "to_drop_cols = list(set(list(all_data.columns)) - (set(fit_cols)|set(index_cols))) + ['date_block_num'] \n",
    "\n",
    "# Hạng mục cho từng item\n",
    "item_category_mapping = items[['item_id','item_category_id']].drop_duplicates()\n",
    "\n",
    "all_data = pd.merge(all_data, item_category_mapping, how='left', on='item_id')\n",
    "all_data = downcast_dtypes(all_data)\n",
    "gc.collect();"
   ]
  },
  {
   "cell_type": "markdown",
   "metadata": {
    "id": "AeLd2QJM1_2E"
   },
   "source": [
    "Để đạt được điều này, chúng ta tạo một ma trận đặc trưng. Nó được lưu trữ trong biến `all_data`. Hãy xem:"
   ]
  },
  {
   "cell_type": "code",
   "execution_count": 9,
   "metadata": {
    "id": "FpeLXao-1_2E",
    "outputId": "4a015c8a-d9b3-4f51-f91c-0594f27cbb83"
   },
   "outputs": [
    {
     "data": {
      "text/html": [
       "<div>\n",
       "<style scoped>\n",
       "    .dataframe tbody tr th:only-of-type {\n",
       "        vertical-align: middle;\n",
       "    }\n",
       "\n",
       "    .dataframe tbody tr th {\n",
       "        vertical-align: top;\n",
       "    }\n",
       "\n",
       "    .dataframe thead th {\n",
       "        text-align: right;\n",
       "    }\n",
       "</style>\n",
       "<table border=\"1\" class=\"dataframe\">\n",
       "  <thead>\n",
       "    <tr style=\"text-align: right;\">\n",
       "      <th></th>\n",
       "      <th>shop_id</th>\n",
       "      <th>item_id</th>\n",
       "      <th>date_block_num</th>\n",
       "      <th>target</th>\n",
       "      <th>target_shop</th>\n",
       "      <th>target_item</th>\n",
       "      <th>target_lag_1</th>\n",
       "      <th>target_item_lag_1</th>\n",
       "      <th>target_shop_lag_1</th>\n",
       "      <th>target_lag_2</th>\n",
       "      <th>target_item_lag_2</th>\n",
       "      <th>target_shop_lag_2</th>\n",
       "      <th>target_lag_3</th>\n",
       "      <th>target_item_lag_3</th>\n",
       "      <th>target_shop_lag_3</th>\n",
       "      <th>target_lag_4</th>\n",
       "      <th>target_item_lag_4</th>\n",
       "      <th>target_shop_lag_4</th>\n",
       "      <th>target_lag_5</th>\n",
       "      <th>target_item_lag_5</th>\n",
       "      <th>target_shop_lag_5</th>\n",
       "      <th>target_lag_12</th>\n",
       "      <th>target_item_lag_12</th>\n",
       "      <th>target_shop_lag_12</th>\n",
       "      <th>item_category_id</th>\n",
       "    </tr>\n",
       "  </thead>\n",
       "  <tbody>\n",
       "    <tr>\n",
       "      <th>0</th>\n",
       "      <td>28</td>\n",
       "      <td>10994</td>\n",
       "      <td>12</td>\n",
       "      <td>1.0</td>\n",
       "      <td>6949.0</td>\n",
       "      <td>1.0</td>\n",
       "      <td>0.0</td>\n",
       "      <td>1.0</td>\n",
       "      <td>8499.0</td>\n",
       "      <td>0.0</td>\n",
       "      <td>1.0</td>\n",
       "      <td>6454.0</td>\n",
       "      <td>0.0</td>\n",
       "      <td>0.0</td>\n",
       "      <td>0.0</td>\n",
       "      <td>0.0</td>\n",
       "      <td>0.0</td>\n",
       "      <td>0.0</td>\n",
       "      <td>0.0</td>\n",
       "      <td>0.0</td>\n",
       "      <td>0.0</td>\n",
       "      <td>0.0</td>\n",
       "      <td>0.0</td>\n",
       "      <td>0.0</td>\n",
       "      <td>37</td>\n",
       "    </tr>\n",
       "    <tr>\n",
       "      <th>1</th>\n",
       "      <td>28</td>\n",
       "      <td>10992</td>\n",
       "      <td>12</td>\n",
       "      <td>3.0</td>\n",
       "      <td>6949.0</td>\n",
       "      <td>4.0</td>\n",
       "      <td>3.0</td>\n",
       "      <td>7.0</td>\n",
       "      <td>8499.0</td>\n",
       "      <td>0.0</td>\n",
       "      <td>0.0</td>\n",
       "      <td>0.0</td>\n",
       "      <td>0.0</td>\n",
       "      <td>0.0</td>\n",
       "      <td>0.0</td>\n",
       "      <td>0.0</td>\n",
       "      <td>0.0</td>\n",
       "      <td>0.0</td>\n",
       "      <td>0.0</td>\n",
       "      <td>1.0</td>\n",
       "      <td>7521.0</td>\n",
       "      <td>0.0</td>\n",
       "      <td>0.0</td>\n",
       "      <td>0.0</td>\n",
       "      <td>37</td>\n",
       "    </tr>\n",
       "    <tr>\n",
       "      <th>2</th>\n",
       "      <td>28</td>\n",
       "      <td>10991</td>\n",
       "      <td>12</td>\n",
       "      <td>1.0</td>\n",
       "      <td>6949.0</td>\n",
       "      <td>5.0</td>\n",
       "      <td>1.0</td>\n",
       "      <td>3.0</td>\n",
       "      <td>8499.0</td>\n",
       "      <td>0.0</td>\n",
       "      <td>0.0</td>\n",
       "      <td>0.0</td>\n",
       "      <td>0.0</td>\n",
       "      <td>1.0</td>\n",
       "      <td>5609.0</td>\n",
       "      <td>0.0</td>\n",
       "      <td>2.0</td>\n",
       "      <td>6753.0</td>\n",
       "      <td>2.0</td>\n",
       "      <td>4.0</td>\n",
       "      <td>7521.0</td>\n",
       "      <td>0.0</td>\n",
       "      <td>0.0</td>\n",
       "      <td>0.0</td>\n",
       "      <td>40</td>\n",
       "    </tr>\n",
       "    <tr>\n",
       "      <th>3</th>\n",
       "      <td>28</td>\n",
       "      <td>10988</td>\n",
       "      <td>12</td>\n",
       "      <td>1.0</td>\n",
       "      <td>6949.0</td>\n",
       "      <td>2.0</td>\n",
       "      <td>2.0</td>\n",
       "      <td>5.0</td>\n",
       "      <td>8499.0</td>\n",
       "      <td>4.0</td>\n",
       "      <td>5.0</td>\n",
       "      <td>6454.0</td>\n",
       "      <td>5.0</td>\n",
       "      <td>6.0</td>\n",
       "      <td>5609.0</td>\n",
       "      <td>0.0</td>\n",
       "      <td>2.0</td>\n",
       "      <td>6753.0</td>\n",
       "      <td>0.0</td>\n",
       "      <td>0.0</td>\n",
       "      <td>0.0</td>\n",
       "      <td>0.0</td>\n",
       "      <td>0.0</td>\n",
       "      <td>0.0</td>\n",
       "      <td>40</td>\n",
       "    </tr>\n",
       "    <tr>\n",
       "      <th>4</th>\n",
       "      <td>28</td>\n",
       "      <td>11002</td>\n",
       "      <td>12</td>\n",
       "      <td>1.0</td>\n",
       "      <td>6949.0</td>\n",
       "      <td>1.0</td>\n",
       "      <td>0.0</td>\n",
       "      <td>1.0</td>\n",
       "      <td>8499.0</td>\n",
       "      <td>0.0</td>\n",
       "      <td>0.0</td>\n",
       "      <td>0.0</td>\n",
       "      <td>0.0</td>\n",
       "      <td>0.0</td>\n",
       "      <td>0.0</td>\n",
       "      <td>0.0</td>\n",
       "      <td>0.0</td>\n",
       "      <td>0.0</td>\n",
       "      <td>0.0</td>\n",
       "      <td>0.0</td>\n",
       "      <td>0.0</td>\n",
       "      <td>0.0</td>\n",
       "      <td>0.0</td>\n",
       "      <td>0.0</td>\n",
       "      <td>40</td>\n",
       "    </tr>\n",
       "  </tbody>\n",
       "</table>\n",
       "</div>"
      ],
      "text/plain": [
       "   shop_id  item_id  date_block_num  target  target_shop  target_item  \\\n",
       "0       28    10994              12     1.0       6949.0          1.0   \n",
       "1       28    10992              12     3.0       6949.0          4.0   \n",
       "2       28    10991              12     1.0       6949.0          5.0   \n",
       "3       28    10988              12     1.0       6949.0          2.0   \n",
       "4       28    11002              12     1.0       6949.0          1.0   \n",
       "\n",
       "   target_lag_1  target_item_lag_1  target_shop_lag_1  target_lag_2  \\\n",
       "0           0.0                1.0             8499.0           0.0   \n",
       "1           3.0                7.0             8499.0           0.0   \n",
       "2           1.0                3.0             8499.0           0.0   \n",
       "3           2.0                5.0             8499.0           4.0   \n",
       "4           0.0                1.0             8499.0           0.0   \n",
       "\n",
       "   target_item_lag_2  target_shop_lag_2  target_lag_3  target_item_lag_3  \\\n",
       "0                1.0             6454.0           0.0                0.0   \n",
       "1                0.0                0.0           0.0                0.0   \n",
       "2                0.0                0.0           0.0                1.0   \n",
       "3                5.0             6454.0           5.0                6.0   \n",
       "4                0.0                0.0           0.0                0.0   \n",
       "\n",
       "   target_shop_lag_3  target_lag_4  target_item_lag_4  target_shop_lag_4  \\\n",
       "0                0.0           0.0                0.0                0.0   \n",
       "1                0.0           0.0                0.0                0.0   \n",
       "2             5609.0           0.0                2.0             6753.0   \n",
       "3             5609.0           0.0                2.0             6753.0   \n",
       "4                0.0           0.0                0.0                0.0   \n",
       "\n",
       "   target_lag_5  target_item_lag_5  target_shop_lag_5  target_lag_12  \\\n",
       "0           0.0                0.0                0.0            0.0   \n",
       "1           0.0                1.0             7521.0            0.0   \n",
       "2           2.0                4.0             7521.0            0.0   \n",
       "3           0.0                0.0                0.0            0.0   \n",
       "4           0.0                0.0                0.0            0.0   \n",
       "\n",
       "   target_item_lag_12  target_shop_lag_12  item_category_id  \n",
       "0                 0.0                 0.0                37  \n",
       "1                 0.0                 0.0                37  \n",
       "2                 0.0                 0.0                40  \n",
       "3                 0.0                 0.0                40  \n",
       "4                 0.0                 0.0                40  "
      ]
     },
     "execution_count": 9,
     "metadata": {},
     "output_type": "execute_result"
    }
   ],
   "source": [
    "all_data.head(5)"
   ]
  },
  {
   "cell_type": "markdown",
   "metadata": {
    "id": "nHUZ82bd1_2E"
   },
   "source": [
    "# Phân tách tập huấn luyện/kiểm tra"
   ]
  },
  {
   "cell_type": "markdown",
   "metadata": {
    "id": "OOzAhflG1_2E"
   },
   "source": [
    "Với lab này, hay phân chia dữ liệu thành tập huán luyện và tập kiểm tra. Chúng ta sẽ coi dữ liệu tháng trước là tập kiểm tra còn các tháng còn lại là tập huấn luyện."
   ]
  },
  {
   "cell_type": "code",
   "execution_count": 10,
   "metadata": {
    "id": "_5vtOBZw1_2F",
    "outputId": "9a32975a-413f-4eea-d87f-8b07a7b71594"
   },
   "outputs": [
    {
     "name": "stdout",
     "output_type": "stream",
     "text": [
      "Test `date_block_num` is 33\n"
     ]
    }
   ],
   "source": [
    "# Lưu `date_block_num`, vì chúng ta không thể sử dụng chúng làm đặc trưng, nhưng cần chúng để phân chia tập dữ liệu thành các phần\n",
    "dates = all_data['date_block_num']\n",
    "\n",
    "last_block = dates.max()\n",
    "print('Test `date_block_num` is %d' % last_block)"
   ]
  },
  {
   "cell_type": "code",
   "execution_count": 11,
   "metadata": {
    "id": "xPoPJ6Q71_2F"
   },
   "outputs": [],
   "source": [
    "## Yêu cầu 3:\n",
    "## VIẾT CODE Ở ĐÂY:\n",
    "\n",
    "dates_train = dates[dates < last_block ]\n",
    "dates_test  = dates[dates == last_block]\n",
    "\n",
    "X_train = all_data.loc[dates <  last_block].drop(to_drop_cols, axis=1)\n",
    "X_test =  all_data.loc[dates == last_block].drop(to_drop_cols, axis=1)\n",
    "\n",
    "y_train = all_data.loc[dates <  last_block, 'target'].values\n",
    "y_test =  all_data.loc[dates == last_block, 'target'].values"
   ]
  },
  {
   "cell_type": "markdown",
   "metadata": {
    "id": "de_OJcpZ-5Sk"
   },
   "source": [
    "<details><summary> Gợi ý </summary>\n",
    "\n",
    "Sử dụng ```last_block```\n",
    "\n",
    "</details>"
   ]
  },
  {
   "cell_type": "markdown",
   "metadata": {
    "id": "9SK6MsBI1_2F"
   },
   "source": [
    "# Mô hình first level  "
   ]
  },
  {
   "cell_type": "markdown",
   "metadata": {
    "id": "gzAftlJ31_2F"
   },
   "source": [
    "Chúng ta cần triển khai một cơ chế stacking cơ bản. Chúng ta có thành phần thời gian nên chúng ta sẽ dùng ***scheme f)*** từ tài liệu đọc. Chúng ta luôn sử dụng mô hình first level (tầng thứ nhất) để xây dựng 2 tập dữ liệu: test meta-features và train-metafeatures tầng 2. Trước tiên hãy xem cách lấy test meta-features."
   ]
  },
  {
   "cell_type": "markdown",
   "metadata": {
    "id": "3gzPuo081_2F"
   },
   "source": [
    "### Test meta-features"
   ]
  },
  {
   "cell_type": "markdown",
   "metadata": {
    "id": "qqpJLAHE1_2F"
   },
   "source": [
    "Đầu tiên, chúng ta chạy *hồi quy tuyến tính* trong các cột số và lấy dự đoán cho tháng trước."
   ]
  },
  {
   "cell_type": "code",
   "execution_count": 12,
   "metadata": {
    "id": "ZeUUgyhu1_2G",
    "outputId": "b032576b-c1eb-4601-b3fe-20a12907d315"
   },
   "outputs": [
    {
     "name": "stdout",
     "output_type": "stream",
     "text": [
      "Test R-squared for linreg is 0.743180\n"
     ]
    }
   ],
   "source": [
    "lr = LinearRegression()\n",
    "lr.fit(X_train.values, y_train)\n",
    "pred_lr = lr.predict(X_test.values)\n",
    "\n",
    "print('Test R-squared for linreg is %f' % r2_score(y_test, pred_lr))"
   ]
  },
  {
   "cell_type": "markdown",
   "metadata": {
    "id": "Y1qu4mW01_2G"
   },
   "source": [
    "Sau đó, chúng ta chạy *LightGBM*."
   ]
  },
  {
   "cell_type": "code",
   "execution_count": 13,
   "metadata": {
    "id": "lH1Rld3T1_2G",
    "outputId": "100d14f9-9b0d-48f5-9a67-c9c1f9957409"
   },
   "outputs": [
    {
     "name": "stdout",
     "output_type": "stream",
     "text": [
      "Test R-squared for LightGBM is 0.731249\n"
     ]
    }
   ],
   "source": [
    "lgb_params = {\n",
    "               'feature_fraction': 0.75,\n",
    "               'metric': 'rmse',\n",
    "               'nthread':1, \n",
    "               'min_data_in_leaf': 2**7, \n",
    "               'bagging_fraction': 0.75, \n",
    "               'learning_rate': 0.03, \n",
    "               'objective': 'mse', \n",
    "               'bagging_seed': 2**7, \n",
    "               'num_leaves': 2**7,\n",
    "               'bagging_freq':1,\n",
    "               'verbose':0 \n",
    "              }\n",
    "\n",
    "model = lgb.train(lgb_params, lgb.Dataset(X_train, label=y_train), 100)\n",
    "pred_lgb = model.predict(X_test)\n",
    "\n",
    "print('Test R-squared for LightGBM is %f' % r2_score(y_test, pred_lgb))"
   ]
  },
  {
   "cell_type": "markdown",
   "metadata": {
    "id": "n79P0NV41_2G"
   },
   "source": [
    "Cuối cùng, nối các dự đoán kiểm tra để thu được test meta-features."
   ]
  },
  {
   "cell_type": "code",
   "execution_count": 14,
   "metadata": {
    "id": "pp2sKIh-1_2G"
   },
   "outputs": [],
   "source": [
    "X_test_level2 = np.c_[pred_lr, pred_lgb] "
   ]
  },
  {
   "cell_type": "markdown",
   "metadata": {
    "id": "3bipHdT_1_2G"
   },
   "source": [
    "### Train meta-features"
   ]
  },
  {
   "cell_type": "markdown",
   "metadata": {
    "id": "ZePuXpGD1_2H"
   },
   "source": [
    "**Giờ đến lượt bạn viết code**. Chúng ta sẽ triển khai ***scheme f)*** từ tài liệu đọc. Ở đây, chúng ta sẽ sử dụng khoảng **T** tương đương với một tháng và **M=15**.\n",
    "\n",
    "Các bạn cần thu được dự đoán (meta-features) từ *hồi quy tuyến tính* và *LightGBM* cho các tháng 27, 28, 29, 30, 31, 32. Dùng các tham số tương tự như ở mô hình trên."
   ]
  },
  {
   "cell_type": "code",
   "execution_count": 15,
   "metadata": {
    "id": "AhPTLkm71_2H"
   },
   "outputs": [],
   "source": [
    "dates_train_level2 = dates_train[dates_train.isin([27, 28, 29, 30, 31, 32])]\n",
    "\n",
    "# Đây là cách chúng ta lấy được target cho tập dữ liệu tầng thứ 2\n",
    "y_train_level2 = y_train[dates_train.isin([27, 28, 29, 30, 31, 32])]"
   ]
  },
  {
   "cell_type": "code",
   "execution_count": 16,
   "metadata": {
    "id": "SwQj2u9C1_2H",
    "outputId": "21c1d515-4d80-4b93-c253-187dace3c48c"
   },
   "outputs": [
    {
     "name": "stdout",
     "output_type": "stream",
     "text": [
      "27\n",
      "28\n",
      "29\n",
      "30\n",
      "31\n",
      "32\n"
     ]
    }
   ],
   "source": [
    "# Ở đây, chúng ta tạo ma trận đặc trưng tầng thứ 2, khởi tạo nó với các số 0\n",
    "X_train_level2 = np.zeros([y_train_level2.shape[0], 2])\n",
    "\n",
    "# Giờ hãy điền metafeatures vào `X_train_level2`\n",
    "for cur_block_num in [27, 28, 29, 30, 31, 32]:\n",
    "    \n",
    "    print(cur_block_num)\n",
    "    \n",
    "    '''\n",
    "        1. Chia `X_train` thành các phần\n",
    "           Nhớ rằng ngày tháng tương ứng được lưu trữ trong `dates_train`\n",
    "        2. Khớp hồi quy tuyến tính\n",
    "        3. Khớp LightGBM và đặt các dự đoán      \n",
    "        4. Lưu trữ dự đoán từ 2. và 3. đúng chỗ trong `X_train_level2`. \n",
    "           Bạn có thể sử dụng `dates_train_level2` cho nó\n",
    "           Đảm bảo thứ tự của meta-features tương tự như trong `X_test_level2`\n",
    "    ''' \n",
    "\n",
    "    ## Yêu cầu 4:\n",
    "    ## VIẾT CODE Ở ĐÂY:     \n",
    "    \n",
    "    X_train = all_data.loc[dates <  cur_block_num].drop(to_drop_cols, axis=1)\n",
    "    X_test =  all_data.loc[dates == cur_block_num].drop(to_drop_cols, axis=1)\n",
    "\n",
    "    y_train = all_data.loc[dates <  cur_block_num, 'target'].values\n",
    "    \n",
    "    \n",
    "    lr.fit(X_train.values, y_train)\n",
    "    pred_lr = lr.predict(X_test.values)\n",
    "    model = lgb.train(lgb_params, lgb.Dataset(X_train, label=y_train), 100)\n",
    "    pred_lgb = model.predict(X_test)\n",
    "    \n",
    "    indexes = dates_train_level2.index[dates_train_level2 == cur_block_num]\n",
    "    \n",
    "    for i in range(pred_lgb.shape[0]):\n",
    "        X_train_level2[indexes[i] - 120192] = [pred_lr[i], pred_lgb[i]] "
   ]
  },
  {
   "cell_type": "markdown",
   "metadata": {
    "id": "nRbRPgSQ_U-g"
   },
   "source": [
    "<details><summary> Gợi ý </summary>\n",
    "\n",
    "Sử dụng ```cur_block_num```\n",
    "\n",
    "</details>"
   ]
  },
  {
   "cell_type": "markdown",
   "metadata": {
    "id": "tu-NDaH51_2H"
   },
   "source": [
    "Ensemble hoạt động tốt nhất khi các mô hình tầng thứ nhất khác nhau. Chúng ta có thể phân tích định tính độ đa dạng bằng cách kiểm tra *biểu đồ phân tán* giữa 2 metafeatures. Biểu đồ phân tán bên dưới:"
   ]
  },
  {
   "cell_type": "code",
   "execution_count": 17,
   "metadata": {
    "id": "R1odiqWJ1_2H",
    "outputId": "319e5544-8151-4ce5-d254-9ce7ab70f230"
   },
   "outputs": [
    {
     "data": {
      "image/png": "[encoded data removed]",
      "text/plain": [
       "<Figure size 640x480 with 1 Axes>"
      ]
     },
     "metadata": {},
     "output_type": "display_data"
    }
   ],
   "source": [
    "import matplotlib.pyplot as plt\n",
    "\n",
    "x = X_train_level2[:,0]\n",
    "y = X_train_level2[:,1]\n",
    "plt.scatter(x, y)\n",
    "plt.show()"
   ]
  },
  {
   "cell_type": "markdown",
   "metadata": {
    "id": "zxsQxQpa1_2I"
   },
   "source": [
    "# Ensembling"
   ]
  },
  {
   "cell_type": "markdown",
   "metadata": {
    "id": "LZycKljM1_2I"
   },
   "source": [
    "Meta-features đã được tạo, giờ đây chúng ta có thể lắp ráp mô hình first level. "
   ]
  },
  {
   "cell_type": "markdown",
   "metadata": {
    "id": "HtAUjl9G1_2I"
   },
   "source": [
    "### Simple convex mix"
   ]
  },
  {
   "cell_type": "markdown",
   "metadata": {
    "id": "ux8GqWtB1_2I"
   },
   "source": [
    "Hãy bắt đầu với hỗn hợp lồi tuyến tính (linear convex mix) đơn giản:\n",
    "\n",
    "$$\n",
    "mix= \\alpha\\cdot\\text{linreg_prediction}+(1-\\alpha)\\cdot\\text{lgb_prediction}\n",
    "$$\n",
    "\n",
    "Chúng ta cần tìm một $\\alpha$ tối ưu. Điều này rất dễ, do tìm kiếm grid khá khả thi. Tiếp theo, hãy tìm $\\alpha$ tối ưu trong mảng `alphas_to_try`. Nhớ sử dụng train meta-features khi tìm $\\alpha$."
   ]
  },
  {
   "cell_type": "code",
   "execution_count": 19,
   "metadata": {
    "id": "qXN0qAVD1_2I",
    "outputId": "817ebd49-7c30-4c10-a026-de7d2e4801db"
   },
   "outputs": [
    {
     "name": "stdout",
     "output_type": "stream",
     "text": [
      "Best alpha: 0.762000; Corresponding r2 score on train: 0.627196\n"
     ]
    }
   ],
   "source": [
    "alphas_to_try = np.linspace(0, 1, 1001)\n",
    "\n",
    "best_alpha = -1\n",
    "r2_train_simple_mix = -1\n",
    "\n",
    "## Yêu cầu 5:\n",
    "## VIẾT CODE Ở ĐÂY:\n",
    "\n",
    "for current_alpha in alphas_to_try:\n",
    "    mix = current_alpha * X_train_level2[:,0] + (1 - current_alpha) * X_train_level2[:,1]\n",
    "    current_r2 = r2_score(y_train_level2, mix)\n",
    "    if(current_r2 > r2_train_simple_mix):\n",
    "        r2_train_simple_mix = current_r2\n",
    "        best_alpha = current_alpha\n",
    "\n",
    "print('Best alpha: %f; Corresponding r2 score on train: %f' % (best_alpha, r2_train_simple_mix))"
   ]
  },
  {
   "cell_type": "markdown",
   "metadata": {
    "id": "2zZg728f1_2J"
   },
   "source": [
    "Giờ hãy sử dụng $\\alpha$ đã tìm thấy để tính toán các dự đoán cho tập kiểm tra."
   ]
  },
  {
   "cell_type": "code",
   "execution_count": 21,
   "metadata": {
    "id": "gdNd-B941_2J",
    "outputId": "c8bdc2a0-9e61-4c5b-b4a0-2f603de6d512"
   },
   "outputs": [
    {
     "name": "stdout",
     "output_type": "stream",
     "text": [
      "Test R-squared for simple mix is 0.781210\n"
     ]
    }
   ],
   "source": [
    "## Yêu cầu 6:\n",
    "## VIẾT CODE Ở ĐÂY:\n",
    "\n",
    "test_preds = best_alpha * X_test_level2[:,0] + (1 - best_alpha) * X_test_level2[:,1]\n",
    "r2_test_simple_mix = r2_score(y_test, test_preds)\n",
    "\n",
    "print('Test R-squared for simple mix is %f' % r2_test_simple_mix)"
   ]
  },
  {
   "cell_type": "markdown",
   "metadata": {
    "id": "5tttO0B61_2J"
   },
   "source": [
    "### Stacking"
   ]
  },
  {
   "cell_type": "markdown",
   "metadata": {
    "id": "pLsPA_a11_2J"
   },
   "source": [
    "Bây giờ, chúng ta sẽ thử một kỹ thuật ensembling nâng cao hơn. Hãy khớp mô hình hồi quy tuyến tính với meta-features, sử dụng các tham số tương tự như với mô hình ở trên. "
   ]
  },
  {
   "cell_type": "code",
   "execution_count": 22,
   "metadata": {
    "id": "2-V_soxR1_2J",
    "outputId": "04f0171a-ba91-48a1-c218-09e426753115"
   },
   "outputs": [
    {
     "data": {
      "text/plain": [
       "LinearRegression()"
      ]
     },
     "execution_count": 22,
     "metadata": {},
     "output_type": "execute_result"
    }
   ],
   "source": [
    "lr.fit(X_train_level2, y_train_level2)"
   ]
  },
  {
   "cell_type": "markdown",
   "metadata": {
    "id": "OgFrQU7b1_2J"
   },
   "source": [
    "Tính R-squared tròn các tập huấn luyện và kiểm tra."
   ]
  },
  {
   "cell_type": "code",
   "execution_count": 23,
   "metadata": {
    "id": "zjUKr4Rf1_2J",
    "outputId": "8a684227-6efa-4c3f-ab88-c7b4f502e157"
   },
   "outputs": [
    {
     "name": "stdout",
     "output_type": "stream",
     "text": [
      "Train R-squared for stacking is 0.632092\n",
      "Test  R-squared for stacking is 0.771342\n"
     ]
    }
   ],
   "source": [
    "## Yêu cầu 7:\n",
    "## VIẾT CODE Ở ĐÂY:\n",
    "\n",
    "train_preds = lr.predict(X_train_level2)\n",
    "r2_train_stacking = r2_score(y_train_level2, train_preds)\n",
    "\n",
    "test_preds = lr.predict(X_test_level2)\n",
    "r2_test_stacking = r2_score(y_test, test_preds)\n",
    "\n",
    "print('Train R-squared for stacking is %f' % r2_train_stacking)\n",
    "print('Test  R-squared for stacking is %f' % r2_test_stacking)"
   ]
  },
  {
   "cell_type": "markdown",
   "metadata": {
    "id": "u1g2ZHqj1_2K"
   },
   "source": [
    "Điều thú vị là hệ số ở đây hóa ra lại thấp hơn so với phương pháp trước. Mặc dù mô hình rất đơn giản (chỉ có 3 tham số) và thực tế nó kết hợp các dự đoán môt cách tuyến tính, nhưng có vẻ như nó bị overfit. **Hãy kiểm tra và so sánh** các hệ số huấn luyện và kiểm tra cho 2 phương pháp này.\n",
    "\n",
    "Tất nhiên, trường hợp này không có nghĩa là simple mix luôn tốt hơn stacking."
   ]
  },
  {
   "cell_type": "code",
   "execution_count": 24,
   "metadata": {
    "id": "lxGuEcZY1_2K",
    "outputId": "db1f01e8-ee8d-438c-a7de-ef2dbadeb81e"
   },
   "outputs": [
    {
     "name": "stdout",
     "output_type": "stream",
     "text": [
      "Current answer for task best_alpha is: 0.762\n",
      "Current answer for task r2_train_simple_mix is: 0.6271958302095328\n",
      "Current answer for task r2_test_simple_mix is: 0.7812102964363928\n",
      "Current answer for task r2_train_stacking is: 0.6320922008073667\n",
      "Current answer for task r2_test_stacking is 0.7713418067296559\n"
     ]
    }
   ],
   "source": [
    "print('Current answer for task best_alpha is:',best_alpha)\n",
    "print('Current answer for task r2_train_simple_mix is:',r2_train_simple_mix)\n",
    "print('Current answer for task r2_test_simple_mix is:',r2_test_simple_mix)\n",
    "print('Current answer for task r2_train_stacking is:',r2_train_stacking)\n",
    "print('Current answer for task r2_test_stacking is',r2_test_stacking)"
   ]
  },
  {
   "cell_type": "code",
   "execution_count": null,
   "metadata": {
    "id": "c_fJEgH11_2K"
   },
   "outputs": [],
   "source": []
  }
 ],
 "metadata": {
  "colab": {
   "collapsed_sections": [],
   "name": "[VN]15_1.ipynb",
   "provenance": []
  },
  "kernelspec": {
   "display_name": "Python 3 (ipykernel)",
   "language": "python",
   "name": "python3"
  },
  "language_info": {
   "codemirror_mode": {
    "name": "ipython",
    "version": 3
   },
   "file_extension": ".py",
   "mimetype": "text/x-python",
   "name": "python",
   "nbconvert_exporter": "python",
   "pygments_lexer": "ipython3",
   "version": "3.9.13"
  }
 },
 "nbformat": 4,
 "nbformat_minor": 1
}
